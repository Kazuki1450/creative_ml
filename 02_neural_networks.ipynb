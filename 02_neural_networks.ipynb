{
 "cells": [
  {
   "attachments": {},
   "cell_type": "markdown",
   "metadata": {},
   "source": [
    "# Creative machine learning - Neural networks\n",
    "\n",
    "### Author: Philippe Esling (esling@ircam.fr)\n",
    "\n",
    "In this course we will cover\n",
    "1. A [quick introduction](#intro) on the principles of neural networks\n",
    "2. An implementation for a [single neuron](#neuron) in Numpy and JAX.\n",
    "3. An exercise on [multi-layer perceptron (MLP)](#mlp) through manual derivation.\n",
    "4. An introduction on [using Pytorch](#pytorch) for defining networks\n",
    "5. An exercise on [audio classification](#audio) using an MLP with Pytorch."
   ]
  },
  {
   "attachments": {},
   "cell_type": "markdown",
   "metadata": {},
   "source": [
    "<a id=\"intro\"></a>\n",
    "# Introducing neural networks"
   ]
  },
  {
   "attachments": {},
   "cell_type": "markdown",
   "metadata": {},
   "source": [
    "In this tutorial, we will cover more advanced models known as *neural networks*. The tutorial starts by performing a simple **single neuron** discrimination of two random distributions. We will exhibit the manual implementation using Numpy, and then simplify it with JAX. Then, we will study the typical **XOR problem** by using a more advanced 2-layer **perceptron**. Finally, we generalize the use of neural networks in order to perform classification on a given set of audio files, using the PyTorch library, which will provide simplified implementation."
   ]
  },
  {
   "attachments": {},
   "cell_type": "markdown",
   "metadata": {},
   "source": [
    "We are going to use relatively _low-level_ libraries to perform the first exercises (implementing your own neurons). To observe this idea in simple setups, we are going to use the `numpy` library and also initialize the homemade course library `cml` and style for future plotting and exercise. We also set the random generator to a fixed point with `rng = np.random.RandomState(1)`, to ensure reproducibility"
   ]
  },
  {
   "cell_type": "code",
   "execution_count": 1,
   "metadata": {},
   "outputs": [
    {
     "name": "stderr",
     "output_type": "stream",
     "text": [
      "2023-05-12 14:59:17.714462: I tensorflow/core/platform/cpu_feature_guard.cc:193] This TensorFlow binary is optimized with oneAPI Deep Neural Network Library (oneDNN) to use the following CPU instructions in performance-critical operations:  AVX2 AVX512F AVX512_VNNI FMA\n",
      "To enable them in other operations, rebuild TensorFlow with the appropriate compiler flags.\n",
      "2023-05-12 14:59:17.896400: I tensorflow/core/util/port.cc:104] oneDNN custom operations are on. You may see slightly different numerical results due to floating-point round-off errors from different computation orders. To turn them off, set the environment variable `TF_ENABLE_ONEDNN_OPTS=0`.\n",
      "2023-05-12 14:59:18.545319: W tensorflow/compiler/xla/stream_executor/platform/default/dso_loader.cc:64] Could not load dynamic library 'libnvinfer.so.7'; dlerror: libnvinfer.so.7: cannot open shared object file: No such file or directory\n",
      "2023-05-12 14:59:18.545389: W tensorflow/compiler/xla/stream_executor/platform/default/dso_loader.cc:64] Could not load dynamic library 'libnvinfer_plugin.so.7'; dlerror: libnvinfer_plugin.so.7: cannot open shared object file: No such file or directory\n",
      "2023-05-12 14:59:18.545393: W tensorflow/compiler/tf2tensorrt/utils/py_utils.cc:38] TF-TRT Warning: Cannot dlopen some TensorRT libraries. If you would like to use Nvidia GPU with TensorRT, please make sure the missing libraries mentioned above are installed properly.\n",
      "/usr/local/lib/python3.10/site-packages/tqdm/auto.py:21: TqdmWarning: IProgress not found. Please update jupyter and ipywidgets. See https://ipywidgets.readthedocs.io/en/stable/user_install.html\n",
      "  from .autonotebook import tqdm as notebook_tqdm\n",
      "No GPU/TPU found, falling back to CPU. (Set TF_CPP_MIN_LOG_LEVEL=0 and rerun for more info.)\n"
     ]
    },
    {
     "data": {
      "text/html": [
       "<div class=\"bk-root\">\n",
       "        <a href=\"https://bokeh.org\" target=\"_blank\" class=\"bk-logo bk-logo-small bk-logo-notebook\"></a>\n",
       "        <span id=\"1002\">Loading BokehJS ...</span>\n",
       "    </div>\n"
      ]
     },
     "metadata": {},
     "output_type": "display_data"
    },
    {
     "data": {
      "application/javascript": "(function(root) {\n  function now() {\n    return new Date();\n  }\n\n  const force = true;\n\n  if (typeof root._bokeh_onload_callbacks === \"undefined\" || force === true) {\n    root._bokeh_onload_callbacks = [];\n    root._bokeh_is_loading = undefined;\n  }\n\nconst JS_MIME_TYPE = 'application/javascript';\n  const HTML_MIME_TYPE = 'text/html';\n  const EXEC_MIME_TYPE = 'application/vnd.bokehjs_exec.v0+json';\n  const CLASS_NAME = 'output_bokeh rendered_html';\n\n  /**\n   * Render data to the DOM node\n   */\n  function render(props, node) {\n    const script = document.createElement(\"script\");\n    node.appendChild(script);\n  }\n\n  /**\n   * Handle when an output is cleared or removed\n   */\n  function handleClearOutput(event, handle) {\n    const cell = handle.cell;\n\n    const id = cell.output_area._bokeh_element_id;\n    const server_id = cell.output_area._bokeh_server_id;\n    // Clean up Bokeh references\n    if (id != null && id in Bokeh.index) {\n      Bokeh.index[id].model.document.clear();\n      delete Bokeh.index[id];\n    }\n\n    if (server_id !== undefined) {\n      // Clean up Bokeh references\n      const cmd_clean = \"from bokeh.io.state import curstate; print(curstate().uuid_to_server['\" + server_id + \"'].get_sessions()[0].document.roots[0]._id)\";\n      cell.notebook.kernel.execute(cmd_clean, {\n        iopub: {\n          output: function(msg) {\n            const id = msg.content.text.trim();\n            if (id in Bokeh.index) {\n              Bokeh.index[id].model.document.clear();\n              delete Bokeh.index[id];\n            }\n          }\n        }\n      });\n      // Destroy server and session\n      const cmd_destroy = \"import bokeh.io.notebook as ion; ion.destroy_server('\" + server_id + \"')\";\n      cell.notebook.kernel.execute(cmd_destroy);\n    }\n  }\n\n  /**\n   * Handle when a new output is added\n   */\n  function handleAddOutput(event, handle) {\n    const output_area = handle.output_area;\n    const output = handle.output;\n\n    // limit handleAddOutput to display_data with EXEC_MIME_TYPE content only\n    if ((output.output_type != \"display_data\") || (!Object.prototype.hasOwnProperty.call(output.data, EXEC_MIME_TYPE))) {\n      return\n    }\n\n    const toinsert = output_area.element.find(\".\" + CLASS_NAME.split(' ')[0]);\n\n    if (output.metadata[EXEC_MIME_TYPE][\"id\"] !== undefined) {\n      toinsert[toinsert.length - 1].firstChild.textContent = output.data[JS_MIME_TYPE];\n      // store reference to embed id on output_area\n      output_area._bokeh_element_id = output.metadata[EXEC_MIME_TYPE][\"id\"];\n    }\n    if (output.metadata[EXEC_MIME_TYPE][\"server_id\"] !== undefined) {\n      const bk_div = document.createElement(\"div\");\n      bk_div.innerHTML = output.data[HTML_MIME_TYPE];\n      const script_attrs = bk_div.children[0].attributes;\n      for (let i = 0; i < script_attrs.length; i++) {\n        toinsert[toinsert.length - 1].firstChild.setAttribute(script_attrs[i].name, script_attrs[i].value);\n        toinsert[toinsert.length - 1].firstChild.textContent = bk_div.children[0].textContent\n      }\n      // store reference to server id on output_area\n      output_area._bokeh_server_id = output.metadata[EXEC_MIME_TYPE][\"server_id\"];\n    }\n  }\n\n  function register_renderer(events, OutputArea) {\n\n    function append_mime(data, metadata, element) {\n      // create a DOM node to render to\n      const toinsert = this.create_output_subarea(\n        metadata,\n        CLASS_NAME,\n        EXEC_MIME_TYPE\n      );\n      this.keyboard_manager.register_events(toinsert);\n      // Render to node\n      const props = {data: data, metadata: metadata[EXEC_MIME_TYPE]};\n      render(props, toinsert[toinsert.length - 1]);\n      element.append(toinsert);\n      return toinsert\n    }\n\n    /* Handle when an output is cleared or removed */\n    events.on('clear_output.CodeCell', handleClearOutput);\n    events.on('delete.Cell', handleClearOutput);\n\n    /* Handle when a new output is added */\n    events.on('output_added.OutputArea', handleAddOutput);\n\n    /**\n     * Register the mime type and append_mime function with output_area\n     */\n    OutputArea.prototype.register_mime_type(EXEC_MIME_TYPE, append_mime, {\n      /* Is output safe? */\n      safe: true,\n      /* Index of renderer in `output_area.display_order` */\n      index: 0\n    });\n  }\n\n  // register the mime type if in Jupyter Notebook environment and previously unregistered\n  if (root.Jupyter !== undefined) {\n    const events = require('base/js/events');\n    const OutputArea = require('notebook/js/outputarea').OutputArea;\n\n    if (OutputArea.prototype.mime_types().indexOf(EXEC_MIME_TYPE) == -1) {\n      register_renderer(events, OutputArea);\n    }\n  }\n  if (typeof (root._bokeh_timeout) === \"undefined\" || force === true) {\n    root._bokeh_timeout = Date.now() + 5000;\n    root._bokeh_failed_load = false;\n  }\n\n  const NB_LOAD_WARNING = {'data': {'text/html':\n     \"<div style='background-color: #fdd'>\\n\"+\n     \"<p>\\n\"+\n     \"BokehJS does not appear to have successfully loaded. If loading BokehJS from CDN, this \\n\"+\n     \"may be due to a slow or bad network connection. Possible fixes:\\n\"+\n     \"</p>\\n\"+\n     \"<ul>\\n\"+\n     \"<li>re-rerun `output_notebook()` to attempt to load from CDN again, or</li>\\n\"+\n     \"<li>use INLINE resources instead, as so:</li>\\n\"+\n     \"</ul>\\n\"+\n     \"<code>\\n\"+\n     \"from bokeh.resources import INLINE\\n\"+\n     \"output_notebook(resources=INLINE)\\n\"+\n     \"</code>\\n\"+\n     \"</div>\"}};\n\n  function display_loaded() {\n    const el = document.getElementById(\"1002\");\n    if (el != null) {\n      el.textContent = \"BokehJS is loading...\";\n    }\n    if (root.Bokeh !== undefined) {\n      if (el != null) {\n        el.textContent = \"BokehJS \" + root.Bokeh.version + \" successfully loaded.\";\n      }\n    } else if (Date.now() < root._bokeh_timeout) {\n      setTimeout(display_loaded, 100)\n    }\n  }\n\n  function run_callbacks() {\n    try {\n      root._bokeh_onload_callbacks.forEach(function(callback) {\n        if (callback != null)\n          callback();\n      });\n    } finally {\n      delete root._bokeh_onload_callbacks\n    }\n    console.debug(\"Bokeh: all callbacks have finished\");\n  }\n\n  function load_libs(css_urls, js_urls, callback) {\n    if (css_urls == null) css_urls = [];\n    if (js_urls == null) js_urls = [];\n\n    root._bokeh_onload_callbacks.push(callback);\n    if (root._bokeh_is_loading > 0) {\n      console.debug(\"Bokeh: BokehJS is being loaded, scheduling callback at\", now());\n      return null;\n    }\n    if (js_urls == null || js_urls.length === 0) {\n      run_callbacks();\n      return null;\n    }\n    console.debug(\"Bokeh: BokehJS not loaded, scheduling load and callback at\", now());\n    root._bokeh_is_loading = css_urls.length + js_urls.length;\n\n    function on_load() {\n      root._bokeh_is_loading--;\n      if (root._bokeh_is_loading === 0) {\n        console.debug(\"Bokeh: all BokehJS libraries/stylesheets loaded\");\n        run_callbacks()\n      }\n    }\n\n    function on_error(url) {\n      console.error(\"failed to load \" + url);\n    }\n\n    for (let i = 0; i < css_urls.length; i++) {\n      const url = css_urls[i];\n      const element = document.createElement(\"link\");\n      element.onload = on_load;\n      element.onerror = on_error.bind(null, url);\n      element.rel = \"stylesheet\";\n      element.type = \"text/css\";\n      element.href = url;\n      console.debug(\"Bokeh: injecting link tag for BokehJS stylesheet: \", url);\n      document.body.appendChild(element);\n    }\n\n    for (let i = 0; i < js_urls.length; i++) {\n      const url = js_urls[i];\n      const element = document.createElement('script');\n      element.onload = on_load;\n      element.onerror = on_error.bind(null, url);\n      element.async = false;\n      element.src = url;\n      console.debug(\"Bokeh: injecting script tag for BokehJS library: \", url);\n      document.head.appendChild(element);\n    }\n  };\n\n  function inject_raw_css(css) {\n    const element = document.createElement(\"style\");\n    element.appendChild(document.createTextNode(css));\n    document.body.appendChild(element);\n  }\n\n  const js_urls = [\"https://cdn.bokeh.org/bokeh/release/bokeh-2.4.3.min.js\", \"https://cdn.bokeh.org/bokeh/release/bokeh-gl-2.4.3.min.js\", \"https://cdn.bokeh.org/bokeh/release/bokeh-widgets-2.4.3.min.js\", \"https://cdn.bokeh.org/bokeh/release/bokeh-tables-2.4.3.min.js\", \"https://cdn.bokeh.org/bokeh/release/bokeh-mathjax-2.4.3.min.js\", \"https://unpkg.com/@holoviz/panel@0.14.4/dist/panel.min.js\"];\n  const css_urls = [];\n\n  const inline_js = [    function(Bokeh) {\n      Bokeh.set_log_level(\"info\");\n    },\nfunction(Bokeh) {\n    }\n  ];\n\n  function run_inline_js() {\n    if (root.Bokeh !== undefined || force === true) {\n          for (let i = 0; i < inline_js.length; i++) {\n      inline_js[i].call(root, root.Bokeh);\n    }\nif (force === true) {\n        display_loaded();\n      }} else if (Date.now() < root._bokeh_timeout) {\n      setTimeout(run_inline_js, 100);\n    } else if (!root._bokeh_failed_load) {\n      console.log(\"Bokeh: BokehJS failed to load within specified timeout.\");\n      root._bokeh_failed_load = true;\n    } else if (force !== true) {\n      const cell = $(document.getElementById(\"1002\")).parents('.cell').data().cell;\n      cell.output_area.append_execute_result(NB_LOAD_WARNING)\n    }\n  }\n\n  if (root._bokeh_is_loading === 0) {\n    console.debug(\"Bokeh: BokehJS loaded, going straight to plotting\");\n    run_inline_js();\n  } else {\n    load_libs(css_urls, js_urls, function() {\n      console.debug(\"Bokeh: BokehJS plotting callback run at\", now());\n      run_inline_js();\n    });\n  }\n}(window));",
      "application/vnd.bokehjs_load.v0+json": ""
     },
     "metadata": {},
     "output_type": "display_data"
    },
    {
     "data": {
      "application/javascript": "(function(root) {\n  function now() {\n    return new Date();\n  }\n\n  var force = true;\n\n  if (typeof root._bokeh_onload_callbacks === \"undefined\" || force === true) {\n    root._bokeh_onload_callbacks = [];\n    root._bokeh_is_loading = undefined;\n  }\n\n  if (typeof (root._bokeh_timeout) === \"undefined\" || force === true) {\n    root._bokeh_timeout = Date.now() + 5000;\n    root._bokeh_failed_load = false;\n  }\n\n  function run_callbacks() {\n    try {\n      root._bokeh_onload_callbacks.forEach(function(callback) {\n        if (callback != null)\n          callback();\n      });\n    } finally {\n      delete root._bokeh_onload_callbacks\n    }\n    console.debug(\"Bokeh: all callbacks have finished\");\n  }\n\n  function load_libs(css_urls, js_urls, js_modules, callback) {\n    if (css_urls == null) css_urls = [];\n    if (js_urls == null) js_urls = [];\n    if (js_modules == null) js_modules = [];\n\n    root._bokeh_onload_callbacks.push(callback);\n    if (root._bokeh_is_loading > 0) {\n      console.debug(\"Bokeh: BokehJS is being loaded, scheduling callback at\", now());\n      return null;\n    }\n    if (js_urls.length === 0 && js_modules.length === 0) {\n      run_callbacks();\n      return null;\n    }\n    console.debug(\"Bokeh: BokehJS not loaded, scheduling load and callback at\", now());\n\n    function on_load() {\n      root._bokeh_is_loading--;\n      if (root._bokeh_is_loading === 0) {\n        console.debug(\"Bokeh: all BokehJS libraries/stylesheets loaded\");\n        run_callbacks()\n      }\n    }\n\n    function on_error() {\n      console.error(\"failed to load \" + url);\n    }\n\n    for (var i = 0; i < css_urls.length; i++) {\n      var url = css_urls[i];\n      const element = document.createElement(\"link\");\n      element.onload = on_load;\n      element.onerror = on_error;\n      element.rel = \"stylesheet\";\n      element.type = \"text/css\";\n      element.href = url;\n      console.debug(\"Bokeh: injecting link tag for BokehJS stylesheet: \", url);\n      document.body.appendChild(element);\n    }\n\n    var skip = [];\n    if (window.requirejs) {\n      window.requirejs.config({'packages': {}, 'paths': {'ace': '//cdnjs.cloudflare.com/ajax/libs/ace/1.4.7', 'gridstack': 'https://cdn.jsdelivr.net/npm/gridstack@4.2.5/dist/gridstack-h5', 'notyf': 'https://cdn.jsdelivr.net/npm/notyf@3/notyf.min'}, 'shim': {'ace/ext-language_tools': {'deps': ['ace/ace']}, 'ace/ext-modelist': {'deps': ['ace/ace']}, 'gridstack': {'exports': 'GridStack'}}});\n      require([\"ace/ace\"], function(ace) {\n\twindow.ace = ace\n\ton_load()\n      })\n      require([\"ace/ext-language_tools\"], function() {\n\ton_load()\n      })\n      require([\"ace/ext-modelist\"], function() {\n\ton_load()\n      })\n      require([\"gridstack\"], function(GridStack) {\n\twindow.GridStack = GridStack\n\ton_load()\n      })\n      require([\"notyf\"], function() {\n\ton_load()\n      })\n      root._bokeh_is_loading = css_urls.length + 5;\n    } else {\n      root._bokeh_is_loading = css_urls.length + js_urls.length + js_modules.length;\n    }    if (((window['ace'] !== undefined) && (!(window['ace'] instanceof HTMLElement))) || window.requirejs) {\n      var urls = ['https://cdnjs.cloudflare.com/ajax/libs/ace/1.4.11/ace.js', 'https://cdnjs.cloudflare.com/ajax/libs/ace/1.4.11/ext-language_tools.js', 'https://cdnjs.cloudflare.com/ajax/libs/ace/1.4.11/ext-modelist.js'];\n      for (var i = 0; i < urls.length; i++) {\n        skip.push(urls[i])\n      }\n    }    if (((window['GridStack'] !== undefined) && (!(window['GridStack'] instanceof HTMLElement))) || window.requirejs) {\n      var urls = ['https://cdn.holoviz.org/panel/0.14.4/dist/bundled/gridstack/gridstack@4.2.5/dist/gridstack-h5.js'];\n      for (var i = 0; i < urls.length; i++) {\n        skip.push(urls[i])\n      }\n    }    if (((window['Notyf'] !== undefined) && (!(window['Notyf'] instanceof HTMLElement))) || window.requirejs) {\n      var urls = ['https://cdn.holoviz.org/panel/0.14.4/dist/bundled/notificationarea/notyf@3/notyf.min.js'];\n      for (var i = 0; i < urls.length; i++) {\n        skip.push(urls[i])\n      }\n    }    for (var i = 0; i < js_urls.length; i++) {\n      var url = js_urls[i];\n      if (skip.indexOf(url) >= 0) {\n\tif (!window.requirejs) {\n\t  on_load();\n\t}\n\tcontinue;\n      }\n      var element = document.createElement('script');\n      element.onload = on_load;\n      element.onerror = on_error;\n      element.async = false;\n      element.src = url;\n      console.debug(\"Bokeh: injecting script tag for BokehJS library: \", url);\n      document.head.appendChild(element);\n    }\n    for (var i = 0; i < js_modules.length; i++) {\n      var url = js_modules[i];\n      if (skip.indexOf(url) >= 0) {\n\tif (!window.requirejs) {\n\t  on_load();\n\t}\n\tcontinue;\n      }\n      var element = document.createElement('script');\n      element.onload = on_load;\n      element.onerror = on_error;\n      element.async = false;\n      element.src = url;\n      element.type = \"module\";\n      console.debug(\"Bokeh: injecting script tag for BokehJS library: \", url);\n      document.head.appendChild(element);\n    }\n    if (!js_urls.length && !js_modules.length) {\n      on_load()\n    }\n  };\n\n  function inject_raw_css(css) {\n    const element = document.createElement(\"style\");\n    element.appendChild(document.createTextNode(css));\n    document.body.appendChild(element);\n  }\n\n  var js_urls = [\"https://cdnjs.cloudflare.com/ajax/libs/ace/1.4.11/ace.js\", \"https://cdnjs.cloudflare.com/ajax/libs/ace/1.4.11/ext-language_tools.js\", \"https://cdnjs.cloudflare.com/ajax/libs/ace/1.4.11/ext-modelist.js\", \"https://cdn.bokeh.org/bokeh/release/bokeh-2.4.3.min.js\", \"https://cdn.bokeh.org/bokeh/release/bokeh-gl-2.4.3.min.js\", \"https://cdn.bokeh.org/bokeh/release/bokeh-widgets-2.4.3.min.js\", \"https://cdn.bokeh.org/bokeh/release/bokeh-tables-2.4.3.min.js\", \"https://cdn.bokeh.org/bokeh/release/bokeh-mathjax-2.4.3.min.js\", \"https://unpkg.com/@holoviz/panel@0.14.4/dist/panel.min.js\"];\n  var js_modules = [];\n  var css_urls = [\"https://cdn.holoviz.org/panel/0.14.4/dist/css/alerts.css\", \"https://cdn.holoviz.org/panel/0.14.4/dist/css/card.css\", \"https://cdn.holoviz.org/panel/0.14.4/dist/css/dataframe.css\", \"https://cdn.holoviz.org/panel/0.14.4/dist/css/debugger.css\", \"https://cdn.holoviz.org/panel/0.14.4/dist/css/json.css\", \"https://cdn.holoviz.org/panel/0.14.4/dist/css/loading.css\", \"https://cdn.holoviz.org/panel/0.14.4/dist/css/markdown.css\", \"https://cdn.holoviz.org/panel/0.14.4/dist/css/widgets.css\"];\n  var inline_js = [    function(Bokeh) {\n      inject_raw_css(\"/*\\n ~ CML // Creative Machine Learning ~\\n mml.css : CSS styling information for Panel and Bokeh\\n \\n This file defines the main CSS styling information for the CML course\\n \\n Author               :  Philippe Esling\\n                        <esling@ircam.fr>\\n*/\\n\\nbody {\\n  display: flex;\\n  height: 100vh;\\n  margin: 0px;\\n  overflow-x: hidden;\\n  overflow-y: hidden;\\n}\\n\\n.bk-root .bk, .bk-root .bk:before, .bk-root .bk:after {\\n  font-family: \\\"Josefin Sans\\\";\\n}\\n\\nimg {\\n  max-width: 100%;\\n}\\n\\n#container {\\n  padding:0px;\\n  height:100vh;\\n  width: 100vw;\\n  max-width: 100vw;\\n}\\n\\n#sidebar .mdc-list {\\n  padding-left: 5px;\\n  padding-right: 5px;\\n}\\n\\n.mdc-drawer-app-content {\\n  flex: auto;\\n  position: relative;\\n  overflow: hidden;\\n}\\n\\n.mdc-drawer {\\n  background: #FAFAFA; /* GRAY 50 */\\n}\\n\\n.mdc-drawer-app-content {\\n  margin-left: 0 !important;\\n}\\n\\n.title-bar {\\n  display: contents;\\n  justify-content: center;\\n  align-content: center;\\n  width: 100%;\\n}\\n\\n.mdc-top-app-bar .bk-menu {\\n  color: black\\n}\\n\\n.app-header {\\n  display: contents;\\n  padding-left: 10px;\\n  font-size: 1.25em;\\n}\\n\\nimg.app-logo {\\n  padding-right: 10px;\\n  font-size: 28px;\\n  height: 30px;\\n  max-width: inherit;\\n  padding-top: 12px;\\n  padding-bottom: 6px;\\n}\\n\\n#app-title {\\n  padding-right: 12px;\\n  padding-left: 12px;\\n}\\n\\n.title {\\n  font-family: \\\"Josefin Sans\\\";\\n  color: #fff;\\n  text-decoration: none;\\n  text-decoration-line: none;\\n  text-decoration-style: initial;\\n  text-decoration-color: initial;\\n  font-weight: 400;\\n  font-size: 2em;\\n  line-height: 2em;\\n  white-space: nowrap;\\n}\\n\\n.main-content {\\n  overflow-y: scroll;\\n  overflow-x: auto;\\n}\\n\\n#header {\\n  position: absolute;\\n  z-index: 7;\\n}\\n\\n#header-items {\\n  width: 100%;\\n  margin-left:15px;\\n}\\n\\n.pn-busy-container {\\n  align-items: center;\\n  justify-content: center;\\n  display: flex;\\n}\\n\\n.mdc-drawer__content {\\n  overflow-x: hidden;\\n}\\n.mdc-drawer__content, .main-content {\\n  padding: 12px;\\n}\\n\\n.main-content {\\n  height: calc(100vh - 88px);\\n  max-height: calc(100vh - 88px);\\n  padding-right: 32px;\\n}\\n\\nbutton.mdc-button.mdc-card-button {\\n  color: transparent;\\n  height: 50px;\\n}\\n\\np.bk.mdc-button {\\n  display: none;\\n}\\n\\ndiv.bk.mdc-card {\\n  border-radius: 0px\\n}\\n\\n.mdc-card .bk.card-header {\\n  display: flex;\\n}\\n\\n.bk.mdc-card-title {\\n  font-family: \\\"Josefin Sans\\\";\\n  font-weight: bold;\\n  align-items: center;\\n  display: flex !important;\\n  position: relative !important;\\n}\\n\\n.bk.mdc-card-title:nth-child(2) {\\n  margin-left: -1.4em;\\n}\\n\\n.pn-modal {\\n  overflow-y: scroll;\\n  width: 100%;\\n  display: none;\\n  position: absolute;\\n  top: 0;\\n  left: 0;\\n}\\n\\n.pn-modal-content {\\n  font-family: \\\"Josefin Sans\\\";\\n  background-color: #0e0e0e;\\n  margin: auto;\\n  margin-top: 25px;\\n  margin-bottom: 25px;\\n  padding: 15px 20px 20px 20px;\\n  border: 1px solid #888;\\n  width: 80% !important;\\n}\\n\\n.pn-modal-close {\\n  position: absolute;\\n  right: 25px;\\n  z-index: 100;\\n}\\n\\n.pn-modal-close:hover,\\n.pn-modal-close:focus {\\n  color: #000;\\n  text-decoration: none;\\n  cursor: pointer;\\n}\\n\\n.custom_button_bokeh button.bk.bk-btn.bk-btn-default {\\n    font-size:48pt;\\n    background-color: #05b7ff;\\n    border-color: #05b7ff;\\n}\");\n    },    function(Bokeh) {\n      inject_raw_css(\"\\n    .bk.pn-loading.arc:before {\\n      background-image: url(\\\"data:image/svg+xml;base64,PHN2ZyB4bWxucz0iaHR0cDovL3d3dy53My5vcmcvMjAwMC9zdmciIHN0eWxlPSJtYXJnaW46IGF1dG87IGJhY2tncm91bmQ6IG5vbmU7IGRpc3BsYXk6IGJsb2NrOyBzaGFwZS1yZW5kZXJpbmc6IGF1dG87IiB2aWV3Qm94PSIwIDAgMTAwIDEwMCIgcHJlc2VydmVBc3BlY3RSYXRpbz0ieE1pZFlNaWQiPiAgPGNpcmNsZSBjeD0iNTAiIGN5PSI1MCIgZmlsbD0ibm9uZSIgc3Ryb2tlPSIjYzNjM2MzIiBzdHJva2Utd2lkdGg9IjEwIiByPSIzNSIgc3Ryb2tlLWRhc2hhcnJheT0iMTY0LjkzMzYxNDMxMzQ2NDE1IDU2Ljk3Nzg3MTQzNzgyMTM4Ij4gICAgPGFuaW1hdGVUcmFuc2Zvcm0gYXR0cmlidXRlTmFtZT0idHJhbnNmb3JtIiB0eXBlPSJyb3RhdGUiIHJlcGVhdENvdW50PSJpbmRlZmluaXRlIiBkdXI9IjFzIiB2YWx1ZXM9IjAgNTAgNTA7MzYwIDUwIDUwIiBrZXlUaW1lcz0iMDsxIj48L2FuaW1hdGVUcmFuc2Zvcm0+ICA8L2NpcmNsZT48L3N2Zz4=\\\");\\n      background-size: auto calc(min(50%, 400px));\\n    }\\n    \");\n    },    function(Bokeh) {\n      Bokeh.set_log_level(\"info\");\n    },\nfunction(Bokeh) {} // ensure no trailing comma for IE\n  ];\n\n  function run_inline_js() {\n    if ((root.Bokeh !== undefined) || (force === true)) {\n      for (var i = 0; i < inline_js.length; i++) {\n        inline_js[i].call(root, root.Bokeh);\n      }} else if (Date.now() < root._bokeh_timeout) {\n      setTimeout(run_inline_js, 100);\n    } else if (!root._bokeh_failed_load) {\n      console.log(\"Bokeh: BokehJS failed to load within specified timeout.\");\n      root._bokeh_failed_load = true;\n    }\n  }\n\n  if (root._bokeh_is_loading === 0) {\n    console.debug(\"Bokeh: BokehJS loaded, going straight to plotting\");\n    run_inline_js();\n  } else {\n    load_libs(css_urls, js_urls, js_modules, function() {\n      console.debug(\"Bokeh: BokehJS plotting callback run at\", now());\n      run_inline_js();\n    });\n  }\n}(window));",
      "application/vnd.holoviews_load.v0+json": ""
     },
     "metadata": {},
     "output_type": "display_data"
    },
    {
     "data": {
      "application/javascript": "\nif ((window.PyViz === undefined) || (window.PyViz instanceof HTMLElement)) {\n  window.PyViz = {comms: {}, comm_status:{}, kernels:{}, receivers: {}, plot_index: []}\n}\n\n\n    function JupyterCommManager() {\n    }\n\n    JupyterCommManager.prototype.register_target = function(plot_id, comm_id, msg_handler) {\n      if (window.comm_manager || ((window.Jupyter !== undefined) && (Jupyter.notebook.kernel != null))) {\n        var comm_manager = window.comm_manager || Jupyter.notebook.kernel.comm_manager;\n        comm_manager.register_target(comm_id, function(comm) {\n          comm.on_msg(msg_handler);\n        });\n      } else if ((plot_id in window.PyViz.kernels) && (window.PyViz.kernels[plot_id])) {\n        window.PyViz.kernels[plot_id].registerCommTarget(comm_id, function(comm) {\n          comm.onMsg = msg_handler;\n        });\n      } else if (typeof google != 'undefined' && google.colab.kernel != null) {\n        google.colab.kernel.comms.registerTarget(comm_id, (comm) => {\n          var messages = comm.messages[Symbol.asyncIterator]();\n          function processIteratorResult(result) {\n            var message = result.value;\n            console.log(message)\n            var content = {data: message.data, comm_id};\n            var buffers = []\n            for (var buffer of message.buffers || []) {\n              buffers.push(new DataView(buffer))\n            }\n            var metadata = message.metadata || {};\n            var msg = {content, buffers, metadata}\n            msg_handler(msg);\n            return messages.next().then(processIteratorResult);\n          }\n          return messages.next().then(processIteratorResult);\n        })\n      }\n    }\n\n    JupyterCommManager.prototype.get_client_comm = function(plot_id, comm_id, msg_handler) {\n      if (comm_id in window.PyViz.comms) {\n        return window.PyViz.comms[comm_id];\n      } else if (window.comm_manager || ((window.Jupyter !== undefined) && (Jupyter.notebook.kernel != null))) {\n        var comm_manager = window.comm_manager || Jupyter.notebook.kernel.comm_manager;\n        var comm = comm_manager.new_comm(comm_id, {}, {}, {}, comm_id);\n        if (msg_handler) {\n          comm.on_msg(msg_handler);\n        }\n      } else if ((plot_id in window.PyViz.kernels) && (window.PyViz.kernels[plot_id])) {\n        var comm = window.PyViz.kernels[plot_id].connectToComm(comm_id);\n        comm.open();\n        if (msg_handler) {\n          comm.onMsg = msg_handler;\n        }\n      } else if (typeof google != 'undefined' && google.colab.kernel != null) {\n        var comm_promise = google.colab.kernel.comms.open(comm_id)\n        comm_promise.then((comm) => {\n          window.PyViz.comms[comm_id] = comm;\n          if (msg_handler) {\n            var messages = comm.messages[Symbol.asyncIterator]();\n            function processIteratorResult(result) {\n              var message = result.value;\n              var content = {data: message.data};\n              var metadata = message.metadata || {comm_id};\n              var msg = {content, metadata}\n              msg_handler(msg);\n              return messages.next().then(processIteratorResult);\n            }\n            return messages.next().then(processIteratorResult);\n          }\n        }) \n        var sendClosure = (data, metadata, buffers, disposeOnDone) => {\n          return comm_promise.then((comm) => {\n            comm.send(data, metadata, buffers, disposeOnDone);\n          });\n        };\n        var comm = {\n          send: sendClosure\n        };\n      }\n      window.PyViz.comms[comm_id] = comm;\n      return comm;\n    }\n    window.PyViz.comm_manager = new JupyterCommManager();\n    \n\n\nvar JS_MIME_TYPE = 'application/javascript';\nvar HTML_MIME_TYPE = 'text/html';\nvar EXEC_MIME_TYPE = 'application/vnd.holoviews_exec.v0+json';\nvar CLASS_NAME = 'output';\n\n/**\n * Render data to the DOM node\n */\nfunction render(props, node) {\n  var div = document.createElement(\"div\");\n  var script = document.createElement(\"script\");\n  node.appendChild(div);\n  node.appendChild(script);\n}\n\n/**\n * Handle when a new output is added\n */\nfunction handle_add_output(event, handle) {\n  var output_area = handle.output_area;\n  var output = handle.output;\n  if ((output.data == undefined) || (!output.data.hasOwnProperty(EXEC_MIME_TYPE))) {\n    return\n  }\n  var id = output.metadata[EXEC_MIME_TYPE][\"id\"];\n  var toinsert = output_area.element.find(\".\" + CLASS_NAME.split(' ')[0]);\n  if (id !== undefined) {\n    var nchildren = toinsert.length;\n    var html_node = toinsert[nchildren-1].children[0];\n    html_node.innerHTML = output.data[HTML_MIME_TYPE];\n    var scripts = [];\n    var nodelist = html_node.querySelectorAll(\"script\");\n    for (var i in nodelist) {\n      if (nodelist.hasOwnProperty(i)) {\n        scripts.push(nodelist[i])\n      }\n    }\n\n    scripts.forEach( function (oldScript) {\n      var newScript = document.createElement(\"script\");\n      var attrs = [];\n      var nodemap = oldScript.attributes;\n      for (var j in nodemap) {\n        if (nodemap.hasOwnProperty(j)) {\n          attrs.push(nodemap[j])\n        }\n      }\n      attrs.forEach(function(attr) { newScript.setAttribute(attr.name, attr.value) });\n      newScript.appendChild(document.createTextNode(oldScript.innerHTML));\n      oldScript.parentNode.replaceChild(newScript, oldScript);\n    });\n    if (JS_MIME_TYPE in output.data) {\n      toinsert[nchildren-1].children[1].textContent = output.data[JS_MIME_TYPE];\n    }\n    output_area._hv_plot_id = id;\n    if ((window.Bokeh !== undefined) && (id in Bokeh.index)) {\n      window.PyViz.plot_index[id] = Bokeh.index[id];\n    } else {\n      window.PyViz.plot_index[id] = null;\n    }\n  } else if (output.metadata[EXEC_MIME_TYPE][\"server_id\"] !== undefined) {\n    var bk_div = document.createElement(\"div\");\n    bk_div.innerHTML = output.data[HTML_MIME_TYPE];\n    var script_attrs = bk_div.children[0].attributes;\n    for (var i = 0; i < script_attrs.length; i++) {\n      toinsert[toinsert.length - 1].childNodes[1].setAttribute(script_attrs[i].name, script_attrs[i].value);\n    }\n    // store reference to server id on output_area\n    output_area._bokeh_server_id = output.metadata[EXEC_MIME_TYPE][\"server_id\"];\n  }\n}\n\n/**\n * Handle when an output is cleared or removed\n */\nfunction handle_clear_output(event, handle) {\n  var id = handle.cell.output_area._hv_plot_id;\n  var server_id = handle.cell.output_area._bokeh_server_id;\n  if (((id === undefined) || !(id in PyViz.plot_index)) && (server_id !== undefined)) { return; }\n  var comm = window.PyViz.comm_manager.get_client_comm(\"hv-extension-comm\", \"hv-extension-comm\", function () {});\n  if (server_id !== null) {\n    comm.send({event_type: 'server_delete', 'id': server_id});\n    return;\n  } else if (comm !== null) {\n    comm.send({event_type: 'delete', 'id': id});\n  }\n  delete PyViz.plot_index[id];\n  if ((window.Bokeh !== undefined) & (id in window.Bokeh.index)) {\n    var doc = window.Bokeh.index[id].model.document\n    doc.clear();\n    const i = window.Bokeh.documents.indexOf(doc);\n    if (i > -1) {\n      window.Bokeh.documents.splice(i, 1);\n    }\n  }\n}\n\n/**\n * Handle kernel restart event\n */\nfunction handle_kernel_cleanup(event, handle) {\n  delete PyViz.comms[\"hv-extension-comm\"];\n  window.PyViz.plot_index = {}\n}\n\n/**\n * Handle update_display_data messages\n */\nfunction handle_update_output(event, handle) {\n  handle_clear_output(event, {cell: {output_area: handle.output_area}})\n  handle_add_output(event, handle)\n}\n\nfunction register_renderer(events, OutputArea) {\n  function append_mime(data, metadata, element) {\n    // create a DOM node to render to\n    var toinsert = this.create_output_subarea(\n    metadata,\n    CLASS_NAME,\n    EXEC_MIME_TYPE\n    );\n    this.keyboard_manager.register_events(toinsert);\n    // Render to node\n    var props = {data: data, metadata: metadata[EXEC_MIME_TYPE]};\n    render(props, toinsert[0]);\n    element.append(toinsert);\n    return toinsert\n  }\n\n  events.on('output_added.OutputArea', handle_add_output);\n  events.on('output_updated.OutputArea', handle_update_output);\n  events.on('clear_output.CodeCell', handle_clear_output);\n  events.on('delete.Cell', handle_clear_output);\n  events.on('kernel_ready.Kernel', handle_kernel_cleanup);\n\n  OutputArea.prototype.register_mime_type(EXEC_MIME_TYPE, append_mime, {\n    safe: true,\n    index: 0\n  });\n}\n\nif (window.Jupyter !== undefined) {\n  try {\n    var events = require('base/js/events');\n    var OutputArea = require('notebook/js/outputarea').OutputArea;\n    if (OutputArea.prototype.mime_types().indexOf(EXEC_MIME_TYPE) == -1) {\n      register_renderer(events, OutputArea);\n    }\n  } catch(err) {\n  }\n}\n",
      "application/vnd.holoviews_load.v0+json": ""
     },
     "metadata": {},
     "output_type": "display_data"
    },
    {
     "data": {
      "text/html": [
       "<style>.bk-root, .bk-root .bk:before, .bk-root .bk:after {\n",
       "  font-family: var(--jp-ui-font-size1);\n",
       "  font-size: var(--jp-ui-font-size1);\n",
       "  color: var(--jp-ui-font-color1);\n",
       "}\n",
       "</style>"
      ]
     },
     "metadata": {},
     "output_type": "display_data"
    }
   ],
   "source": [
    "# Base imports\n",
    "import time\n",
    "import numpy as np\n",
    "import matplotlib.pyplot as plt\n",
    "from cml.plot import initialize_bokeh\n",
    "from cml.panel import initialize_panel\n",
    "# from jupyterthemes.stylefx import set_nb_theme\n",
    "from bokeh.io import show\n",
    "initialize_bokeh()\n",
    "initialize_panel()\n",
    "# set_nb_theme(\"onedork\")\n",
    "rng = np.random.RandomState(1)"
   ]
  },
  {
   "attachments": {},
   "cell_type": "markdown",
   "metadata": {},
   "source": [
    "As usual, to simplify your work, we provide sets of functions that allows fast problem definition and plotting functionnalities (from our `cml` library).\n",
    "\n",
    "  |**File**|*Explanation*|\n",
    "  |-------:|:---------|\n",
    "  |`scatter_boundary`|Plots the decision boundary of a single neuron with 2-dimensional inputs|\n",
    "  |`scatter_classes`|Plots (bi-dimensionnal) input patterns|"
   ]
  },
  {
   "cell_type": "code",
   "execution_count": 2,
   "metadata": {},
   "outputs": [],
   "source": [
    "from cml.plot import scatter_classes, scatter_boundary, center_plot"
   ]
  },
  {
   "attachments": {},
   "cell_type": "markdown",
   "metadata": {},
   "source": [
    "Remember that a single neuron is only able to learn _linearly separable_ problems. To produce such classes of problems, we provide a script that draw a set of random 2-dimensional points, then choose a random line in this space that will act as the linear frontier between 2 classes (hence defining a linear 2-class problem). The variables that will be used by your code are the following.  \n",
    "\n",
    "```Python\n",
    "y_class       # classes of the observqtions \n",
    "x_inputs      # 2 x n final matrix of random input observations\n",
    "weights       # 2 x 1 vector of neuron weights\n",
    "bias          # 1 x 1 vector of bias\n",
    "```\n",
    "\n",
    "You can execute the code below to see our simple classification problem. (Note that running the same cell multiple times produces a different starting dataset). In order to have a well-defined classification problem, we can rely on the `make_blobs` function provided by `scikit-learn` in the `sklearn.datasets` package."
   ]
  },
  {
   "cell_type": "code",
   "execution_count": 22,
   "metadata": {},
   "outputs": [
    {
     "data": {},
     "metadata": {},
     "output_type": "display_data"
    },
    {
     "data": {
      "application/vnd.holoviews_exec.v0+json": "",
      "text/html": [
       "<div id='4616'>\n",
       "  <div class=\"bk-root\" id=\"ba479615-e960-4cea-a6e8-d26cfac97ce9\" data-root-id=\"4616\"></div>\n",
       "</div>\n",
       "<script type=\"application/javascript\">(function(root) {\n",
       "  function embed_document(root) {\n",
       "    var docs_json = {\"efd8b44c-9b3d-4cf0-b79c-a556f8e525ba\":{\"defs\":[{\"extends\":null,\"module\":null,\"name\":\"ReactiveHTML1\",\"overrides\":[],\"properties\":[]},{\"extends\":null,\"module\":null,\"name\":\"FlexBox1\",\"overrides\":[],\"properties\":[{\"default\":\"flex-start\",\"kind\":null,\"name\":\"align_content\"},{\"default\":\"flex-start\",\"kind\":null,\"name\":\"align_items\"},{\"default\":\"row\",\"kind\":null,\"name\":\"flex_direction\"},{\"default\":\"wrap\",\"kind\":null,\"name\":\"flex_wrap\"},{\"default\":\"flex-start\",\"kind\":null,\"name\":\"justify_content\"}]},{\"extends\":null,\"module\":null,\"name\":\"GridStack1\",\"overrides\":[],\"properties\":[{\"default\":\"warn\",\"kind\":null,\"name\":\"mode\"},{\"default\":null,\"kind\":null,\"name\":\"ncols\"},{\"default\":null,\"kind\":null,\"name\":\"nrows\"},{\"default\":true,\"kind\":null,\"name\":\"allow_resize\"},{\"default\":true,\"kind\":null,\"name\":\"allow_drag\"},{\"default\":[],\"kind\":null,\"name\":\"state\"}]},{\"extends\":null,\"module\":null,\"name\":\"click1\",\"overrides\":[],\"properties\":[{\"default\":\"\",\"kind\":null,\"name\":\"terminal_output\"},{\"default\":\"\",\"kind\":null,\"name\":\"debug_name\"},{\"default\":0,\"kind\":null,\"name\":\"clears\"}]},{\"extends\":null,\"module\":null,\"name\":\"NotificationAreaBase1\",\"overrides\":[],\"properties\":[{\"default\":\"bottom-right\",\"kind\":null,\"name\":\"position\"},{\"default\":0,\"kind\":null,\"name\":\"_clear\"}]},{\"extends\":null,\"module\":null,\"name\":\"NotificationArea1\",\"overrides\":[],\"properties\":[{\"default\":[],\"kind\":null,\"name\":\"notifications\"},{\"default\":\"bottom-right\",\"kind\":null,\"name\":\"position\"},{\"default\":0,\"kind\":null,\"name\":\"_clear\"},{\"default\":[{\"background\":\"#ffc107\",\"icon\":{\"className\":\"fas fa-exclamation-triangle\",\"color\":\"white\",\"tagName\":\"i\"},\"type\":\"warning\"},{\"background\":\"#007bff\",\"icon\":{\"className\":\"fas fa-info-circle\",\"color\":\"white\",\"tagName\":\"i\"},\"type\":\"info\"}],\"kind\":null,\"name\":\"types\"}]},{\"extends\":null,\"module\":null,\"name\":\"Notification\",\"overrides\":[],\"properties\":[{\"default\":null,\"kind\":null,\"name\":\"background\"},{\"default\":3000,\"kind\":null,\"name\":\"duration\"},{\"default\":null,\"kind\":null,\"name\":\"icon\"},{\"default\":\"\",\"kind\":null,\"name\":\"message\"},{\"default\":null,\"kind\":null,\"name\":\"notification_type\"},{\"default\":false,\"kind\":null,\"name\":\"_destroyed\"}]},{\"extends\":null,\"module\":null,\"name\":\"TemplateActions1\",\"overrides\":[],\"properties\":[{\"default\":0,\"kind\":null,\"name\":\"open_modal\"},{\"default\":0,\"kind\":null,\"name\":\"close_modal\"}]},{\"extends\":null,\"module\":null,\"name\":\"MaterialTemplateActions1\",\"overrides\":[],\"properties\":[{\"default\":0,\"kind\":null,\"name\":\"open_modal\"},{\"default\":0,\"kind\":null,\"name\":\"close_modal\"}]}],\"roots\":{\"references\":[{\"attributes\":{},\"id\":\"4586\",\"type\":\"SaveTool\"},{\"attributes\":{\"margin\":[5,5,5,5],\"name\":\"HSpacer00165\",\"sizing_mode\":\"stretch_width\"},\"id\":\"4617\",\"type\":\"Spacer\"},{\"attributes\":{\"axis\":{\"id\":\"4579\"},\"coordinates\":null,\"dimension\":1,\"grid_line_alpha\":0.15,\"grid_line_color\":\"#E0E0E0\",\"group\":null,\"ticker\":null},\"id\":\"4582\",\"type\":\"Grid\"},{\"attributes\":{\"background_fill_alpha\":0.2,\"background_fill_color\":\"darkgrey\",\"border_line_alpha\":0.8,\"border_line_color\":\"grey\",\"border_line_width\":3,\"coordinates\":null,\"group\":null,\"items\":[{\"id\":\"4615\"}],\"label_text_color\":\"white\"},\"id\":\"4614\",\"type\":\"Legend\"},{\"attributes\":{},\"id\":\"4587\",\"type\":\"ResetTool\"},{\"attributes\":{\"children\":[{\"id\":\"4617\"},{\"id\":\"4564\"},{\"id\":\"4638\"}],\"margin\":[0,0,0,0],\"name\":\"Row00169\"},\"id\":\"4616\",\"type\":\"Row\"},{\"attributes\":{\"fill_alpha\":{\"value\":0.2},\"fill_color\":{\"field\":\"color\"},\"hatch_alpha\":{\"value\":0.2},\"hatch_color\":{\"field\":\"color\"},\"line_alpha\":{\"value\":0.2},\"line_color\":{\"value\":\"white\"},\"size\":{\"value\":10},\"x\":{\"field\":\"x\"},\"y\":{\"field\":\"y\"}},\"id\":\"4601\",\"type\":\"Circle\"},{\"attributes\":{\"overlay\":{\"id\":\"4589\"}},\"id\":\"4585\",\"type\":\"BoxZoomTool\"},{\"attributes\":{\"client_comm_id\":\"9ef1d0c1bf144212b69041e84565084f\",\"comm_id\":\"e1313e0d749c419e91d1df6fe8696f2d\",\"plot_id\":\"4616\"},\"id\":\"4669\",\"type\":\"panel.models.comm_manager.CommManager\"},{\"attributes\":{},\"id\":\"4569\",\"type\":\"DataRange1d\"},{\"attributes\":{\"fill_alpha\":{\"value\":0.6},\"fill_color\":{\"field\":\"color\"},\"hatch_alpha\":{\"value\":0.6},\"hatch_color\":{\"field\":\"color\"},\"line_alpha\":{\"value\":0.6},\"line_color\":{\"value\":\"white\"},\"size\":{\"value\":10},\"x\":{\"field\":\"x\"},\"y\":{\"field\":\"y\"}},\"id\":\"4599\",\"type\":\"Circle\"},{\"attributes\":{},\"id\":\"4588\",\"type\":\"HelpTool\"},{\"attributes\":{},\"id\":\"4583\",\"type\":\"PanTool\"},{\"attributes\":{\"margin\":[5,5,5,5],\"name\":\"HSpacer00166\",\"sizing_mode\":\"stretch_width\"},\"id\":\"4638\",\"type\":\"Spacer\"},{\"attributes\":{\"axis_label\":\"x\",\"axis_label_standoff\":10,\"axis_label_text_color\":\"#FFFFFF\",\"axis_label_text_font\":\"Josefin Sans\",\"axis_label_text_font_size\":\"1.9em\",\"axis_label_text_font_style\":\"bold\",\"axis_line_alpha\":0.4,\"axis_line_color\":\"#E0E0E0\",\"coordinates\":null,\"formatter\":{\"id\":\"4609\"},\"group\":null,\"major_label_policy\":{\"id\":\"4610\"},\"major_label_text_color\":\"#E0E0E0\",\"major_label_text_font\":\"Josefin Sans\",\"major_label_text_font_size\":\"1.15em\",\"major_tick_line_alpha\":0.4,\"major_tick_line_color\":\"#E0E0E0\",\"minor_tick_line_alpha\":0.4,\"minor_tick_line_color\":\"#E0E0E0\",\"ticker\":{\"id\":\"4576\"}},\"id\":\"4575\",\"type\":\"LinearAxis\"},{\"attributes\":{\"source\":{\"id\":\"4597\"}},\"id\":\"4603\",\"type\":\"CDSView\"},{\"attributes\":{\"coordinates\":null,\"data_source\":{\"id\":\"4597\"},\"glyph\":{\"id\":\"4599\"},\"group\":null,\"hover_glyph\":null,\"muted_glyph\":{\"id\":\"4601\"},\"nonselection_glyph\":{\"id\":\"4600\"},\"view\":{\"id\":\"4603\"}},\"id\":\"4602\",\"type\":\"GlyphRenderer\"},{\"attributes\":{\"coordinates\":null,\"group\":null,\"text\":\"Observations\",\"text_color\":\"#E0E0E0\",\"text_font\":\"Josefin Sans\",\"text_font_size\":\"2.1em\"},\"id\":\"4565\",\"type\":\"Title\"},{\"attributes\":{\"fill_alpha\":{\"value\":0.1},\"fill_color\":{\"field\":\"color\"},\"hatch_alpha\":{\"value\":0.1},\"hatch_color\":{\"field\":\"color\"},\"line_alpha\":{\"value\":0.1},\"line_color\":{\"value\":\"white\"},\"size\":{\"value\":10},\"x\":{\"field\":\"x\"},\"y\":{\"field\":\"y\"}},\"id\":\"4600\",\"type\":\"Circle\"},{\"attributes\":{},\"id\":\"4576\",\"type\":\"BasicTicker\"},{\"attributes\":{},\"id\":\"4611\",\"type\":\"UnionRenderers\"},{\"attributes\":{\"tools\":[{\"id\":\"4583\"},{\"id\":\"4584\"},{\"id\":\"4585\"},{\"id\":\"4586\"},{\"id\":\"4587\"},{\"id\":\"4588\"}]},\"id\":\"4590\",\"type\":\"Toolbar\"},{\"attributes\":{\"background_fill_alpha\":0.9,\"background_fill_color\":\"#0f0f0f\",\"below\":[{\"id\":\"4575\"}],\"border_fill_alpha\":0.8,\"border_fill_color\":\"#111111\",\"center\":[{\"id\":\"4578\"},{\"id\":\"4582\"},{\"id\":\"4614\"}],\"height\":450,\"left\":[{\"id\":\"4579\"}],\"outline_line_alpha\":0.25,\"outline_line_color\":\"#E0E0E0\",\"outline_line_width\":3,\"renderers\":[{\"id\":\"4602\"}],\"right\":[{\"id\":\"4614\"}],\"title\":{\"id\":\"4565\"},\"toolbar\":{\"id\":\"4590\"},\"width\":700,\"x_range\":{\"id\":\"4567\"},\"x_scale\":{\"id\":\"4571\"},\"y_range\":{\"id\":\"4569\"},\"y_scale\":{\"id\":\"4573\"}},\"id\":\"4564\",\"subtype\":\"Figure\",\"type\":\"Plot\"},{\"attributes\":{},\"id\":\"4584\",\"type\":\"WheelZoomTool\"},{\"attributes\":{},\"id\":\"4580\",\"type\":\"BasicTicker\"},{\"attributes\":{\"axis_label\":\"y\",\"axis_label_standoff\":10,\"axis_label_text_color\":\"#FFFFFF\",\"axis_label_text_font\":\"Josefin Sans\",\"axis_label_text_font_size\":\"1.9em\",\"axis_label_text_font_style\":\"bold\",\"axis_line_alpha\":0.4,\"axis_line_color\":\"#E0E0E0\",\"coordinates\":null,\"formatter\":{\"id\":\"4606\"},\"group\":null,\"major_label_policy\":{\"id\":\"4607\"},\"major_label_text_color\":\"#E0E0E0\",\"major_label_text_font\":\"Josefin Sans\",\"major_label_text_font_size\":\"1.15em\",\"major_tick_line_alpha\":0.4,\"major_tick_line_color\":\"#E0E0E0\",\"minor_tick_line_alpha\":0.4,\"minor_tick_line_color\":\"#E0E0E0\",\"ticker\":{\"id\":\"4580\"}},\"id\":\"4579\",\"type\":\"LinearAxis\"},{\"attributes\":{\"data\":{\"color\":[\"firebrick\",\"midnightblue\",\"midnightblue\",\"firebrick\",\"firebrick\",\"firebrick\",\"firebrick\",\"firebrick\",\"midnightblue\",\"firebrick\",\"firebrick\",\"firebrick\",\"midnightblue\",\"firebrick\",\"midnightblue\",\"firebrick\",\"midnightblue\",\"midnightblue\",\"firebrick\",\"midnightblue\",\"firebrick\",\"firebrick\",\"firebrick\",\"firebrick\",\"firebrick\",\"firebrick\",\"midnightblue\",\"firebrick\",\"midnightblue\",\"midnightblue\",\"midnightblue\",\"midnightblue\",\"midnightblue\",\"midnightblue\",\"firebrick\",\"midnightblue\",\"midnightblue\",\"midnightblue\",\"firebrick\",\"midnightblue\",\"midnightblue\",\"firebrick\",\"midnightblue\",\"midnightblue\",\"firebrick\",\"firebrick\",\"firebrick\",\"midnightblue\",\"midnightblue\",\"firebrick\",\"firebrick\",\"midnightblue\",\"firebrick\",\"midnightblue\",\"midnightblue\",\"midnightblue\",\"firebrick\",\"firebrick\",\"midnightblue\",\"firebrick\",\"midnightblue\",\"midnightblue\",\"midnightblue\",\"firebrick\",\"firebrick\",\"firebrick\",\"firebrick\",\"firebrick\",\"firebrick\",\"firebrick\",\"firebrick\",\"firebrick\",\"firebrick\",\"firebrick\",\"midnightblue\",\"firebrick\",\"firebrick\",\"midnightblue\",\"firebrick\",\"midnightblue\",\"firebrick\",\"midnightblue\",\"midnightblue\",\"midnightblue\",\"firebrick\",\"midnightblue\",\"firebrick\",\"midnightblue\",\"firebrick\",\"firebrick\",\"firebrick\",\"firebrick\",\"midnightblue\",\"midnightblue\",\"firebrick\",\"midnightblue\",\"midnightblue\",\"midnightblue\",\"midnightblue\",\"firebrick\",\"firebrick\",\"firebrick\",\"midnightblue\",\"midnightblue\",\"midnightblue\",\"firebrick\",\"midnightblue\",\"firebrick\",\"firebrick\",\"midnightblue\",\"midnightblue\",\"midnightblue\",\"midnightblue\",\"midnightblue\",\"firebrick\",\"midnightblue\",\"firebrick\",\"midnightblue\",\"firebrick\",\"firebrick\",\"firebrick\",\"firebrick\",\"midnightblue\",\"midnightblue\",\"firebrick\",\"firebrick\",\"midnightblue\",\"midnightblue\",\"firebrick\",\"midnightblue\",\"midnightblue\",\"midnightblue\",\"firebrick\",\"firebrick\",\"firebrick\",\"midnightblue\",\"firebrick\",\"midnightblue\",\"firebrick\",\"midnightblue\",\"firebrick\",\"midnightblue\",\"midnightblue\",\"midnightblue\",\"midnightblue\",\"midnightblue\",\"firebrick\",\"midnightblue\",\"midnightblue\",\"midnightblue\",\"firebrick\",\"midnightblue\",\"midnightblue\",\"firebrick\",\"firebrick\",\"midnightblue\",\"firebrick\",\"midnightblue\",\"midnightblue\",\"firebrick\",\"firebrick\",\"firebrick\",\"midnightblue\",\"firebrick\",\"firebrick\",\"firebrick\",\"midnightblue\",\"midnightblue\",\"firebrick\",\"firebrick\",\"midnightblue\",\"midnightblue\",\"midnightblue\",\"firebrick\",\"firebrick\",\"midnightblue\",\"midnightblue\",\"firebrick\",\"firebrick\",\"firebrick\",\"midnightblue\",\"firebrick\",\"midnightblue\",\"midnightblue\",\"firebrick\",\"midnightblue\",\"midnightblue\",\"firebrick\",\"midnightblue\",\"firebrick\",\"firebrick\",\"midnightblue\",\"firebrick\",\"midnightblue\",\"firebrick\",\"midnightblue\",\"firebrick\",\"midnightblue\",\"midnightblue\",\"midnightblue\"],\"label\":[\"class 2\",\"class 1\",\"class 1\",\"class 2\",\"class 2\",\"class 2\",\"class 2\",\"class 2\",\"class 1\",\"class 2\",\"class 2\",\"class 2\",\"class 1\",\"class 2\",\"class 1\",\"class 2\",\"class 1\",\"class 1\",\"class 2\",\"class 1\",\"class 2\",\"class 2\",\"class 2\",\"class 2\",\"class 2\",\"class 2\",\"class 1\",\"class 2\",\"class 1\",\"class 1\",\"class 1\",\"class 1\",\"class 1\",\"class 1\",\"class 2\",\"class 1\",\"class 1\",\"class 1\",\"class 2\",\"class 1\",\"class 1\",\"class 2\",\"class 1\",\"class 1\",\"class 2\",\"class 2\",\"class 2\",\"class 1\",\"class 1\",\"class 2\",\"class 2\",\"class 1\",\"class 2\",\"class 1\",\"class 1\",\"class 1\",\"class 2\",\"class 2\",\"class 1\",\"class 2\",\"class 1\",\"class 1\",\"class 1\",\"class 2\",\"class 2\",\"class 2\",\"class 2\",\"class 2\",\"class 2\",\"class 2\",\"class 2\",\"class 2\",\"class 2\",\"class 2\",\"class 1\",\"class 2\",\"class 2\",\"class 1\",\"class 2\",\"class 1\",\"class 2\",\"class 1\",\"class 1\",\"class 1\",\"class 2\",\"class 1\",\"class 2\",\"class 1\",\"class 2\",\"class 2\",\"class 2\",\"class 2\",\"class 1\",\"class 1\",\"class 2\",\"class 1\",\"class 1\",\"class 1\",\"class 1\",\"class 2\",\"class 2\",\"class 2\",\"class 1\",\"class 1\",\"class 1\",\"class 2\",\"class 1\",\"class 2\",\"class 2\",\"class 1\",\"class 1\",\"class 1\",\"class 1\",\"class 1\",\"class 2\",\"class 1\",\"class 2\",\"class 1\",\"class 2\",\"class 2\",\"class 2\",\"class 2\",\"class 1\",\"class 1\",\"class 2\",\"class 2\",\"class 1\",\"class 1\",\"class 2\",\"class 1\",\"class 1\",\"class 1\",\"class 2\",\"class 2\",\"class 2\",\"class 1\",\"class 2\",\"class 1\",\"class 2\",\"class 1\",\"class 2\",\"class 1\",\"class 1\",\"class 1\",\"class 1\",\"class 1\",\"class 2\",\"class 1\",\"class 1\",\"class 1\",\"class 2\",\"class 1\",\"class 1\",\"class 2\",\"class 2\",\"class 1\",\"class 2\",\"class 1\",\"class 1\",\"class 2\",\"class 2\",\"class 2\",\"class 1\",\"class 2\",\"class 2\",\"class 2\",\"class 1\",\"class 1\",\"class 2\",\"class 2\",\"class 1\",\"class 1\",\"class 1\",\"class 2\",\"class 2\",\"class 1\",\"class 1\",\"class 2\",\"class 2\",\"class 2\",\"class 1\",\"class 2\",\"class 1\",\"class 1\",\"class 2\",\"class 1\",\"class 1\",\"class 2\",\"class 1\",\"class 2\",\"class 2\",\"class 1\",\"class 2\",\"class 1\",\"class 2\",\"class 1\",\"class 2\",\"class 1\",\"class 1\",\"class 1\"],\"x\":{\"__ndarray__\":\"FqlNxMTEBEBEVVfmAf4EwCnEkHWxIQXAOy3nyY2QC0DpxI96f7j4PwEH/a+yzgBA7NZ/ksU2A0BGg3tSSND0PzuRHKwGL/u/si/PsMN2BkCPnLN4E4z8P6FCRPdz7PY/+PwknQN3BcBSMaEntR8BQDYgpu+GTfi/igryx+yy8D+AWRb14M8DwEo0LmRPt+u/XeTsQ1Qm/j/kHhrkvKX6v3Eso4f60v0/X/FHu64RBUDaeySU3SYCQLx65PM9CAhAcPVbnr5H8j8Wdyd8JAwCQCnlJC5R+/e/NfImI82lAEBIrPOFib39v7K5bAgUKQPAOKuA+Tr867+kMO4n9DQFwHfxZotLQgLAymxtT0lJAcDiTv4VTETzP+7a0YvbpgXA5KBTVlbbAsCNxNB7s/j0v7MtXG931QFAjEj9Piu8/79AhhnaSpoAwDicl58jKv4/CDzI0pafAcAEqSf5a88BwKqKREaf3AFAs6IGNMxQAUDaGENBqcr9P5qxqqXeLQbA9A21UeLA+79D2vWCYR/yPzN+Ws0vKOA/bfEYotVM879sd/az5936P2FXkhydpQDA8971OkPh+r+TbmkH8wH7v//iPW1GtvY/ItFrdJlPBkA6+kCuear2vzWnkYair/o/MsORV78a8r/AGYD8l0IBwIgivhwZswXASf2uvciiAUDG2DjSHQn6P+xxgpUpYf0/k3R76ccNA0CgPtC1csIFQM3G7v389Pc/kRDSdFZC9D9RAhBZEZb1P+6MrFK5QwZAJZNGMryABEB3sNIW3J3zP6o8QlVCVvm/z4+31ZBr9z8Ogl2aNCr/PzS5m+GBFAbARxMU8lAzAkDY1/6HsEb5vzXAI1Rf/Pk/mZuiek9R7L/MNTL1SEcBwLf8Ifd+FfC/w+NLjGTCBkCVvSGCDn8AwO0qT5eZtgBA1FGt4uKKBMBewzKdmtL3P9WzUAPWYgNAxi8Ucc4gBEDC2wsHOgH/P49sVo2W/QTAV4cM8kurAMAM0oETT0T/PwzkA2Kv2PO/LVqFXBCXA8BEs6+Lf4UCwEAVNAkYbP2/o674ojD8BkAIKObz/Lz/Pzn7a69B1wVAV85+zOpYAMB3qIesAigCwG9hxgMwXf+/1LafWOVk9z/h7f7N61P/v0/aUfnGQe4/BRyx907/9j+pryY3MAsNwBPx6ijq8vi/N4cpjnnZBsC19uWL0lr5vyiksRGnTALAbBw+o9ZiBkAt4igOI3X4v/xyKpPbo/Q/gFJ6nvkFB8BDrRBtdh4LQKzwnnY+vfc/ZOC/1ImS+j/di5eZeQwCQCWJT0t4Vfe/CxSd7Xhj+r9xdjAJwh73P5wHmZ3TawFAJNigX2nT+7+Jp2QXgeUAwDxCtkJnxwRAw1R1lMVg+L+TtBZNyCEBwKSHMbaB9gDAzCEpN7BRCUBNvPSCw/r5P8HWM3PsJQFAg2jbM6NqAcD7i0zFO4n/Pz5RGoRbIQDAeFX1RcIaAUBQYBP9hKYAwAbF5xhMDgZAZsRcl/i9B8AuNWH+bOX3v/EV4TgX7um/0NVThvq9A8BIe+zzn6rtvyBsDE/5YwJA6ySLglid/r+64UX/+GEGwLXnSS38Pvy/OyLVyAXpB0BSzgIYrJcFwKtlyjF+FgTAyrTd12wDAECIjQucSR4IQCIo4ryjUv+/4vlbSGM9AEBAOXRvJ7fmv7BhE3A6B/2/OueOZNlbAUC7ubHQ8zL+P9GPmu6qfgFAC8Yw2jR//r8fmPfQ3BTmP7/psJiHlf4/oN7NvD/G+z8CyweR5DAEwLzGwvMx6fy/CvDUV/8h8z+VXrt/BNH8P+A25N+oKvu/aSNMuTi1AcDNsJkTxQn3v5L6rA+pGwFA6CDSQyEQB0DvbC+EWJX/vwCle173TAXAjYXYYolv+D/Jjncs+bLzP5wPHhjpyQBARJvqbSLf778I+1MOsDEDQHg5HnCb4fG/GE3E8SQX+7/pbSs5gST5P2ER3og3rgPAaYSk/jocBMAxYAJbKhLuP+sGNbdgk/i/bi+SJp9M5z9Zjy9TPhQKQE5oFfb1Xvm/67RrtnQRBEAGxdSuuQnyvxRHnd7gXf4/x4kfjC7E+b/JXTaa3Fj+P3LtUk8slALAPy1HSJ1/9L8TudLseYT1vw==\",\"dtype\":\"float64\",\"order\":\"little\",\"shape\":[200]},\"y\":{\"__ndarray__\":\"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\",\"dtype\":\"float64\",\"order\":\"little\",\"shape\":[200]}},\"selected\":{\"id\":\"4612\"},\"selection_policy\":{\"id\":\"4611\"}},\"id\":\"4597\",\"type\":\"ColumnDataSource\"},{\"attributes\":{\"axis\":{\"id\":\"4575\"},\"coordinates\":null,\"grid_line_alpha\":0.15,\"grid_line_color\":\"#E0E0E0\",\"group\":null,\"ticker\":null},\"id\":\"4578\",\"type\":\"Grid\"},{\"attributes\":{\"label\":{\"field\":\"label\"},\"renderers\":[{\"id\":\"4602\"}]},\"id\":\"4615\",\"type\":\"LegendItem\"},{\"attributes\":{},\"id\":\"4606\",\"type\":\"BasicTickFormatter\"},{\"attributes\":{\"bottom_units\":\"screen\",\"coordinates\":null,\"fill_alpha\":0.5,\"fill_color\":\"lightgrey\",\"group\":null,\"left_units\":\"screen\",\"level\":\"overlay\",\"line_alpha\":1.0,\"line_color\":\"black\",\"line_dash\":[4,4],\"line_width\":2,\"right_units\":\"screen\",\"syncable\":false,\"top_units\":\"screen\"},\"id\":\"4589\",\"type\":\"BoxAnnotation\"},{\"attributes\":{},\"id\":\"4567\",\"type\":\"DataRange1d\"},{\"attributes\":{},\"id\":\"4571\",\"type\":\"LinearScale\"},{\"attributes\":{},\"id\":\"4610\",\"type\":\"AllLabels\"},{\"attributes\":{},\"id\":\"4607\",\"type\":\"AllLabels\"},{\"attributes\":{},\"id\":\"4612\",\"type\":\"Selection\"},{\"attributes\":{},\"id\":\"4609\",\"type\":\"BasicTickFormatter\"},{\"attributes\":{},\"id\":\"4573\",\"type\":\"LinearScale\"}],\"root_ids\":[\"4616\",\"4669\"]},\"title\":\"Bokeh Application\",\"version\":\"2.4.3\"}};\n",
       "    var render_items = [{\"docid\":\"efd8b44c-9b3d-4cf0-b79c-a556f8e525ba\",\"root_ids\":[\"4616\"],\"roots\":{\"4616\":\"ba479615-e960-4cea-a6e8-d26cfac97ce9\"}}];\n",
       "    root.Bokeh.embed.embed_items_notebook(docs_json, render_items);\n",
       "    for (const render_item of render_items) {\n",
       "      for (const root_id of render_item.root_ids) {\n",
       "\tconst id_el = document.getElementById(root_id)\n",
       "\tif (id_el.children.length && (id_el.children[0].className === 'bk-root')) {\n",
       "\t  const root_el = id_el.children[0]\n",
       "\t  root_el.id = root_el.id + '-rendered'\n",
       "\t}\n",
       "      }\n",
       "    }\n",
       "  }\n",
       "  if (root.Bokeh !== undefined && root.Bokeh.Panel !== undefined) {\n",
       "    embed_document(root);\n",
       "  } else {\n",
       "    var attempts = 0;\n",
       "    var timer = setInterval(function(root) {\n",
       "      if (root.Bokeh !== undefined && root.Bokeh.Panel !== undefined) {\n",
       "        clearInterval(timer);\n",
       "        embed_document(root);\n",
       "      } else if (document.readyState == \"complete\") {\n",
       "        attempts++;\n",
       "        if (attempts > 200) {\n",
       "          clearInterval(timer);\n",
       "          console.log(\"Bokeh: ERROR: Unable to run BokehJS code because BokehJS library is missing\");\n",
       "        }\n",
       "      }\n",
       "    }, 25, root)\n",
       "  }\n",
       "})(window);</script>"
      ],
      "text/plain": [
       "Row\n",
       "    [0] HSpacer()\n",
       "    [1] Bokeh(Figure)\n",
       "    [2] HSpacer()"
      ]
     },
     "execution_count": 22,
     "metadata": {
      "application/vnd.holoviews_exec.v0+json": {
       "id": "4616"
      }
     },
     "output_type": "execute_result"
    }
   ],
   "source": [
    "import numpy as np\n",
    "from sklearn.datasets import make_blobs\n",
    "# Properties of the problem\n",
    "n_observations = 200\n",
    "noise = 0.2\n",
    "c1_center = [-2, -1]\n",
    "c2_center = [2, 1]\n",
    "# Create points\n",
    "x_coords, y_class = make_blobs(n_samples=n_observations, centers=[c1_center, c2_center], n_features=2, cluster_std=0.55)\n",
    "x_inputs = x_coords + (noise * np.random.randn(n_observations, 2))\n",
    "# Plot the corresponding pattern\n",
    "plot = center_plot(scatter_classes(x_inputs, y_class))\n",
    "plot"
   ]
  },
  {
   "attachments": {},
   "cell_type": "markdown",
   "metadata": {},
   "source": [
    "The previous example does not allow us to know the exact values (slope and bias) of our ground truth separation line. Hence, we can define a more complex separation problem (with points laying almost right on the separation fronteer), but with known values for our ground truth."
   ]
  },
  {
   "cell_type": "code",
   "execution_count": 23,
   "metadata": {},
   "outputs": [
    {
     "data": {},
     "metadata": {},
     "output_type": "display_data"
    },
    {
     "data": {
      "application/vnd.holoviews_exec.v0+json": "",
      "text/html": [
       "<div id='4772'>\n",
       "  <div class=\"bk-root\" id=\"689116a1-80cf-4c09-8a5d-2879c62ef179\" data-root-id=\"4772\"></div>\n",
       "</div>\n",
       "<script type=\"application/javascript\">(function(root) {\n",
       "  function embed_document(root) {\n",
       "    var docs_json = {\"5dadef65-b2fd-4d5b-8208-0fb74fe3ddcb\":{\"defs\":[{\"extends\":null,\"module\":null,\"name\":\"ReactiveHTML1\",\"overrides\":[],\"properties\":[]},{\"extends\":null,\"module\":null,\"name\":\"FlexBox1\",\"overrides\":[],\"properties\":[{\"default\":\"flex-start\",\"kind\":null,\"name\":\"align_content\"},{\"default\":\"flex-start\",\"kind\":null,\"name\":\"align_items\"},{\"default\":\"row\",\"kind\":null,\"name\":\"flex_direction\"},{\"default\":\"wrap\",\"kind\":null,\"name\":\"flex_wrap\"},{\"default\":\"flex-start\",\"kind\":null,\"name\":\"justify_content\"}]},{\"extends\":null,\"module\":null,\"name\":\"GridStack1\",\"overrides\":[],\"properties\":[{\"default\":\"warn\",\"kind\":null,\"name\":\"mode\"},{\"default\":null,\"kind\":null,\"name\":\"ncols\"},{\"default\":null,\"kind\":null,\"name\":\"nrows\"},{\"default\":true,\"kind\":null,\"name\":\"allow_resize\"},{\"default\":true,\"kind\":null,\"name\":\"allow_drag\"},{\"default\":[],\"kind\":null,\"name\":\"state\"}]},{\"extends\":null,\"module\":null,\"name\":\"click1\",\"overrides\":[],\"properties\":[{\"default\":\"\",\"kind\":null,\"name\":\"terminal_output\"},{\"default\":\"\",\"kind\":null,\"name\":\"debug_name\"},{\"default\":0,\"kind\":null,\"name\":\"clears\"}]},{\"extends\":null,\"module\":null,\"name\":\"NotificationAreaBase1\",\"overrides\":[],\"properties\":[{\"default\":\"bottom-right\",\"kind\":null,\"name\":\"position\"},{\"default\":0,\"kind\":null,\"name\":\"_clear\"}]},{\"extends\":null,\"module\":null,\"name\":\"NotificationArea1\",\"overrides\":[],\"properties\":[{\"default\":[],\"kind\":null,\"name\":\"notifications\"},{\"default\":\"bottom-right\",\"kind\":null,\"name\":\"position\"},{\"default\":0,\"kind\":null,\"name\":\"_clear\"},{\"default\":[{\"background\":\"#ffc107\",\"icon\":{\"className\":\"fas fa-exclamation-triangle\",\"color\":\"white\",\"tagName\":\"i\"},\"type\":\"warning\"},{\"background\":\"#007bff\",\"icon\":{\"className\":\"fas fa-info-circle\",\"color\":\"white\",\"tagName\":\"i\"},\"type\":\"info\"}],\"kind\":null,\"name\":\"types\"}]},{\"extends\":null,\"module\":null,\"name\":\"Notification\",\"overrides\":[],\"properties\":[{\"default\":null,\"kind\":null,\"name\":\"background\"},{\"default\":3000,\"kind\":null,\"name\":\"duration\"},{\"default\":null,\"kind\":null,\"name\":\"icon\"},{\"default\":\"\",\"kind\":null,\"name\":\"message\"},{\"default\":null,\"kind\":null,\"name\":\"notification_type\"},{\"default\":false,\"kind\":null,\"name\":\"_destroyed\"}]},{\"extends\":null,\"module\":null,\"name\":\"TemplateActions1\",\"overrides\":[],\"properties\":[{\"default\":0,\"kind\":null,\"name\":\"open_modal\"},{\"default\":0,\"kind\":null,\"name\":\"close_modal\"}]},{\"extends\":null,\"module\":null,\"name\":\"MaterialTemplateActions1\",\"overrides\":[],\"properties\":[{\"default\":0,\"kind\":null,\"name\":\"open_modal\"},{\"default\":0,\"kind\":null,\"name\":\"close_modal\"}]}],\"roots\":{\"references\":[{\"attributes\":{},\"id\":\"4762\",\"type\":\"BasicTickFormatter\"},{\"attributes\":{},\"id\":\"4768\",\"type\":\"Selection\"},{\"attributes\":{},\"id\":\"4732\",\"type\":\"BasicTicker\"},{\"attributes\":{},\"id\":\"4767\",\"type\":\"UnionRenderers\"},{\"attributes\":{},\"id\":\"4727\",\"type\":\"LinearScale\"},{\"attributes\":{},\"id\":\"4725\",\"type\":\"DataRange1d\"},{\"attributes\":{\"axis\":{\"id\":\"4731\"},\"coordinates\":null,\"grid_line_alpha\":0.15,\"grid_line_color\":\"#E0E0E0\",\"group\":null,\"ticker\":null},\"id\":\"4734\",\"type\":\"Grid\"},{\"attributes\":{\"axis_label\":\"x\",\"axis_label_standoff\":10,\"axis_label_text_color\":\"#FFFFFF\",\"axis_label_text_font\":\"Josefin Sans\",\"axis_label_text_font_size\":\"1.9em\",\"axis_label_text_font_style\":\"bold\",\"axis_line_alpha\":0.4,\"axis_line_color\":\"#E0E0E0\",\"coordinates\":null,\"formatter\":{\"id\":\"4765\"},\"group\":null,\"major_label_policy\":{\"id\":\"4766\"},\"major_label_text_color\":\"#E0E0E0\",\"major_label_text_font\":\"Josefin Sans\",\"major_label_text_font_size\":\"1.15em\",\"major_tick_line_alpha\":0.4,\"major_tick_line_color\":\"#E0E0E0\",\"minor_tick_line_alpha\":0.4,\"minor_tick_line_color\":\"#E0E0E0\",\"ticker\":{\"id\":\"4732\"}},\"id\":\"4731\",\"type\":\"LinearAxis\"},{\"attributes\":{\"axis_label\":\"y\",\"axis_label_standoff\":10,\"axis_label_text_color\":\"#FFFFFF\",\"axis_label_text_font\":\"Josefin Sans\",\"axis_label_text_font_size\":\"1.9em\",\"axis_label_text_font_style\":\"bold\",\"axis_line_alpha\":0.4,\"axis_line_color\":\"#E0E0E0\",\"coordinates\":null,\"formatter\":{\"id\":\"4762\"},\"group\":null,\"major_label_policy\":{\"id\":\"4763\"},\"major_label_text_color\":\"#E0E0E0\",\"major_label_text_font\":\"Josefin Sans\",\"major_label_text_font_size\":\"1.15em\",\"major_tick_line_alpha\":0.4,\"major_tick_line_color\":\"#E0E0E0\",\"minor_tick_line_alpha\":0.4,\"minor_tick_line_color\":\"#E0E0E0\",\"ticker\":{\"id\":\"4736\"}},\"id\":\"4735\",\"type\":\"LinearAxis\"},{\"attributes\":{\"fill_alpha\":{\"value\":0.2},\"fill_color\":{\"field\":\"color\"},\"hatch_alpha\":{\"value\":0.2},\"hatch_color\":{\"field\":\"color\"},\"line_alpha\":{\"value\":0.2},\"line_color\":{\"value\":\"white\"},\"size\":{\"value\":10},\"x\":{\"field\":\"x\"},\"y\":{\"field\":\"y\"}},\"id\":\"4757\",\"type\":\"Circle\"},{\"attributes\":{\"bottom_units\":\"screen\",\"coordinates\":null,\"fill_alpha\":0.5,\"fill_color\":\"lightgrey\",\"group\":null,\"left_units\":\"screen\",\"level\":\"overlay\",\"line_alpha\":1.0,\"line_color\":\"black\",\"line_dash\":[4,4],\"line_width\":2,\"right_units\":\"screen\",\"syncable\":false,\"top_units\":\"screen\"},\"id\":\"4745\",\"type\":\"BoxAnnotation\"},{\"attributes\":{\"tools\":[{\"id\":\"4739\"},{\"id\":\"4740\"},{\"id\":\"4741\"},{\"id\":\"4742\"},{\"id\":\"4743\"},{\"id\":\"4744\"}]},\"id\":\"4746\",\"type\":\"Toolbar\"},{\"attributes\":{},\"id\":\"4744\",\"type\":\"HelpTool\"},{\"attributes\":{},\"id\":\"4765\",\"type\":\"BasicTickFormatter\"},{\"attributes\":{\"coordinates\":null,\"group\":null,\"text\":\"Observations\",\"text_color\":\"#E0E0E0\",\"text_font\":\"Josefin Sans\",\"text_font_size\":\"2.1em\"},\"id\":\"4721\",\"type\":\"Title\"},{\"attributes\":{},\"id\":\"4742\",\"type\":\"SaveTool\"},{\"attributes\":{\"coordinates\":null,\"data_source\":{\"id\":\"4753\"},\"glyph\":{\"id\":\"4755\"},\"group\":null,\"hover_glyph\":null,\"muted_glyph\":{\"id\":\"4757\"},\"nonselection_glyph\":{\"id\":\"4756\"},\"view\":{\"id\":\"4759\"}},\"id\":\"4758\",\"type\":\"GlyphRenderer\"},{\"attributes\":{\"overlay\":{\"id\":\"4745\"}},\"id\":\"4741\",\"type\":\"BoxZoomTool\"},{\"attributes\":{},\"id\":\"4743\",\"type\":\"ResetTool\"},{\"attributes\":{},\"id\":\"4739\",\"type\":\"PanTool\"},{\"attributes\":{},\"id\":\"4763\",\"type\":\"AllLabels\"},{\"attributes\":{},\"id\":\"4740\",\"type\":\"WheelZoomTool\"},{\"attributes\":{\"fill_alpha\":{\"value\":0.6},\"fill_color\":{\"field\":\"color\"},\"hatch_alpha\":{\"value\":0.6},\"hatch_color\":{\"field\":\"color\"},\"line_alpha\":{\"value\":0.6},\"line_color\":{\"value\":\"white\"},\"size\":{\"value\":10},\"x\":{\"field\":\"x\"},\"y\":{\"field\":\"y\"}},\"id\":\"4755\",\"type\":\"Circle\"},{\"attributes\":{\"children\":[{\"id\":\"4773\"},{\"id\":\"4720\"},{\"id\":\"4794\"}],\"margin\":[0,0,0,0],\"name\":\"Row00176\"},\"id\":\"4772\",\"type\":\"Row\"},{\"attributes\":{\"margin\":[5,5,5,5],\"name\":\"HSpacer00173\",\"sizing_mode\":\"stretch_width\"},\"id\":\"4794\",\"type\":\"Spacer\"},{\"attributes\":{\"margin\":[5,5,5,5],\"name\":\"HSpacer00172\",\"sizing_mode\":\"stretch_width\"},\"id\":\"4773\",\"type\":\"Spacer\"},{\"attributes\":{\"client_comm_id\":\"d781df85a1fc4216ad2b24eb379efb1d\",\"comm_id\":\"1452e105440d40a48d325b746292e2ee\",\"plot_id\":\"4772\"},\"id\":\"4825\",\"type\":\"panel.models.comm_manager.CommManager\"},{\"attributes\":{\"axis\":{\"id\":\"4735\"},\"coordinates\":null,\"dimension\":1,\"grid_line_alpha\":0.15,\"grid_line_color\":\"#E0E0E0\",\"group\":null,\"ticker\":null},\"id\":\"4738\",\"type\":\"Grid\"},{\"attributes\":{\"background_fill_alpha\":0.9,\"background_fill_color\":\"#0f0f0f\",\"below\":[{\"id\":\"4731\"}],\"border_fill_alpha\":0.8,\"border_fill_color\":\"#111111\",\"center\":[{\"id\":\"4734\"},{\"id\":\"4738\"},{\"id\":\"4770\"}],\"height\":450,\"left\":[{\"id\":\"4735\"}],\"outline_line_alpha\":0.25,\"outline_line_color\":\"#E0E0E0\",\"outline_line_width\":3,\"renderers\":[{\"id\":\"4758\"}],\"right\":[{\"id\":\"4770\"}],\"title\":{\"id\":\"4721\"},\"toolbar\":{\"id\":\"4746\"},\"width\":700,\"x_range\":{\"id\":\"4723\"},\"x_scale\":{\"id\":\"4727\"},\"y_range\":{\"id\":\"4725\"},\"y_scale\":{\"id\":\"4729\"}},\"id\":\"4720\",\"subtype\":\"Figure\",\"type\":\"Plot\"},{\"attributes\":{},\"id\":\"4736\",\"type\":\"BasicTicker\"},{\"attributes\":{},\"id\":\"4723\",\"type\":\"DataRange1d\"},{\"attributes\":{\"background_fill_alpha\":0.2,\"background_fill_color\":\"darkgrey\",\"border_line_alpha\":0.8,\"border_line_color\":\"grey\",\"border_line_width\":3,\"coordinates\":null,\"group\":null,\"items\":[{\"id\":\"4771\"}],\"label_text_color\":\"white\"},\"id\":\"4770\",\"type\":\"Legend\"},{\"attributes\":{},\"id\":\"4766\",\"type\":\"AllLabels\"},{\"attributes\":{},\"id\":\"4729\",\"type\":\"LinearScale\"},{\"attributes\":{\"fill_alpha\":{\"value\":0.1},\"fill_color\":{\"field\":\"color\"},\"hatch_alpha\":{\"value\":0.1},\"hatch_color\":{\"field\":\"color\"},\"line_alpha\":{\"value\":0.1},\"line_color\":{\"value\":\"white\"},\"size\":{\"value\":10},\"x\":{\"field\":\"x\"},\"y\":{\"field\":\"y\"}},\"id\":\"4756\",\"type\":\"Circle\"},{\"attributes\":{\"data\":{\"color\":[\"firebrick\",\"firebrick\",\"firebrick\",\"firebrick\",\"firebrick\",\"firebrick\",\"firebrick\",\"midnightblue\",\"firebrick\",\"firebrick\",\"firebrick\",\"midnightblue\",\"midnightblue\",\"midnightblue\",\"firebrick\",\"firebrick\",\"firebrick\",\"firebrick\",\"firebrick\",\"firebrick\",\"firebrick\",\"firebrick\",\"firebrick\",\"firebrick\",\"firebrick\",\"midnightblue\",\"firebrick\",\"firebrick\",\"firebrick\",\"firebrick\",\"firebrick\",\"firebrick\",\"firebrick\",\"firebrick\",\"firebrick\",\"firebrick\",\"firebrick\",\"firebrick\",\"firebrick\",\"firebrick\",\"firebrick\",\"firebrick\",\"firebrick\",\"midnightblue\",\"midnightblue\",\"firebrick\",\"firebrick\",\"firebrick\",\"firebrick\",\"firebrick\",\"firebrick\",\"firebrick\",\"firebrick\",\"firebrick\",\"firebrick\",\"firebrick\",\"firebrick\",\"firebrick\",\"firebrick\",\"midnightblue\",\"midnightblue\",\"midnightblue\",\"firebrick\",\"firebrick\",\"firebrick\",\"firebrick\",\"firebrick\",\"firebrick\",\"firebrick\",\"firebrick\",\"firebrick\",\"firebrick\",\"firebrick\",\"midnightblue\",\"firebrick\",\"firebrick\",\"firebrick\",\"firebrick\",\"firebrick\",\"firebrick\",\"firebrick\",\"firebrick\",\"firebrick\",\"midnightblue\",\"firebrick\",\"midnightblue\",\"firebrick\",\"midnightblue\",\"firebrick\",\"midnightblue\",\"firebrick\",\"midnightblue\",\"firebrick\",\"firebrick\",\"firebrick\",\"firebrick\",\"firebrick\",\"firebrick\",\"midnightblue\",\"midnightblue\"],\"label\":[\"class 2\",\"class 2\",\"class 2\",\"class 2\",\"class 2\",\"class 2\",\"class 2\",\"class 1\",\"class 2\",\"class 2\",\"class 2\",\"class 1\",\"class 1\",\"class 1\",\"class 2\",\"class 2\",\"class 2\",\"class 2\",\"class 2\",\"class 2\",\"class 2\",\"class 2\",\"class 2\",\"class 2\",\"class 2\",\"class 1\",\"class 2\",\"class 2\",\"class 2\",\"class 2\",\"class 2\",\"class 2\",\"class 2\",\"class 2\",\"class 2\",\"class 2\",\"class 2\",\"class 2\",\"class 2\",\"class 2\",\"class 2\",\"class 2\",\"class 2\",\"class 1\",\"class 1\",\"class 2\",\"class 2\",\"class 2\",\"class 2\",\"class 2\",\"class 2\",\"class 2\",\"class 2\",\"class 2\",\"class 2\",\"class 2\",\"class 2\",\"class 2\",\"class 2\",\"class 1\",\"class 1\",\"class 1\",\"class 2\",\"class 2\",\"class 2\",\"class 2\",\"class 2\",\"class 2\",\"class 2\",\"class 2\",\"class 2\",\"class 2\",\"class 2\",\"class 1\",\"class 2\",\"class 2\",\"class 2\",\"class 2\",\"class 2\",\"class 2\",\"class 2\",\"class 2\",\"class 2\",\"class 1\",\"class 2\",\"class 1\",\"class 2\",\"class 1\",\"class 2\",\"class 1\",\"class 2\",\"class 1\",\"class 2\",\"class 2\",\"class 2\",\"class 2\",\"class 2\",\"class 2\",\"class 1\",\"class 1\"],\"x\":{\"__ndarray__\":\"MIGZshUNs78CpokDmi/oPxyOqZFc1es/RszpVHBZ778gg95lFTG7vxjK5IXgosg/KCE9zGWD2D9Q9iY4xg7uPwgm+MgcodA/qLfm8JS46D/sXwNGOU7eP1SOKPI5yeQ/VgmoSKaG6D8senriKWrgPyhAOHtN4u2/yNzwFojk0r+oUhY8JmPEv7j2rg3Df9o/pJGzyjwu1z8MZ9sdR83TP3RUyJf3Z+e/KLVnF+VKwT8AnZXav1eWP8yUVcf8WOa/cNg1AQt7wz98ghpbB7/nPyAwRU4eHOO/2C3THSNE3j/o09ye+OnFv+BArIAPd8K/rDAc7gcI2z8uNwQRN5Div1gShNG93sq/gL3o1EiUl7/gKcndfO7bv0JY/ER/F+M/AsYj/pTk7r+47ZCSOK/fP3j4iXiapcQ/dAz7Fm3X3r9ocr4bj7HVP1wzQLGMw9u/XKKeK1144T/493koq/nfP4xdwT7E4d8/AIgi2Nm+gD9MdqB6O6bUv7Rdc7ex+9G/7K8nMX4d0r8AnY3AbB3aP67Sel57cu2/4FaX6s5Pur+A0xZMsGzPv3h8zrLZCd2/YFsgsZjZ0r+wtZbxjHXPv4BWGZ3u74E/Nsh1Nnm26L8Av34Fa6PPv1AUAM4BG+M/7l+oCFYE5z9868BsDmTjP6CZTBf3adO/wiNcZfGC4b+6hcbBwb/uvxD4D6YJJNo/kIKJM61Ox7/EeehIucvhv+CtPWMvk9q/UJ1hLTNixr+A8hnLVqmfvyiE/Y8aHMU/+Jw/4/gMyr9MbFIE+CHoP8jxv840n9I/Yn5KIfYY4z849b9BG2Hbv7Qn9QHpV+4/hI26bPQr3b94Gzf9/9Xmv5yXwrC589m/IMQ7g8PHtL/gmM9fad+hvxYIU7F1NuE/hAn3fGwJ6b900BQYuUTjPzbKLtDPPu2/2r3xo84R5T9AvMVd+YeeP/znOKPY2dk/+oiA9bYJ4D8yagHnWSXvP1RPPzDYIuS/ELPFUcMZ27/kNdxc0bDSv8j1zjV1NcW/gI0StkWe0L+QEqh6RybOv8pa7QPsr+I/9NTJnRpa7z8=\",\"dtype\":\"float64\",\"order\":\"little\",\"shape\":[100]},\"y\":{\"__ndarray__\":\"EssHWEuk7z+aAEAkZBvqP6rylpyR9e4/iOBWAf7v3T/Q/1S/QzfDvyBhFPYUFLo/nMQBE0Q51D8w6uCa1WHGP3SpdyipFNQ/JMXst3sZ2j80fn6UqS/WP+h7AJxtJc2/hMd437N92r+kyX3v/5LTv+j8DNzFW82/zEH6YwFS3r/I0tjqS1Xqv3C+ffNn+rY/gMF5cOFkuD+UKjP4Zd3sP8TwW/UHHNA/7FfttHYD5L9GqEYdUP7lv1DOxqgo3d0/8P7ndUQQ4j9AlwNr0yauv9w5JVLO1eS/DDZ2cbJF5D9YgyNIxnfKv4CNIqE2Z9E/mKEjt9ZCyD8A0J3Ge8Kuv06t0ktYaOW/uOaLxtK1xT+8XpTrmr3tP1gva+l6iNs/YCkPyW69rr9UmB0VzCbsPxhKwc67eN6/LvbgjK285T+8Evx+kXXcP+SAB0JDxta/PBIcN3Ik4z8YuTtc2tLRv5iXhQXULsS/KGAAIqzf7z9O74bHoOXlvwQnlQsJjNs/RCEyxlxQ1z9U62CieDnlP/DkPhyQn+E/EJuqpr/SuT/Et3yohu7ZP9zu6txI3eg/PKLotcCs7T9oD475OQjSPxiqGiBxL94/5iSGSHBD6z9aiP8r3O3uP7D54t39kMq/gMshddOaij92qcsQwN3nv3gXzRjc880/mEwpBbm+wr+INJpDFxLvv7CZFy3wG8m/7Lzpumbi678QpEJcrc/nP/SI/OBdgOG/cEzH3pFrzb+IN5vHUHjQP7QhoKDFZOQ/gOS2HI3+sb/4NoynYYfCPwD+LZr613K/aG7uNuwozD8uZHQmbC3pv2A42WnEr+w/Np7BNxiC7j/Qp6Fvota1v5oloJZ4D+c/ZI2rrt1/4L/2mMKZYd3tv7xvtuIABdK/9KJjxF4J5T+iylcG08Tmv3rz2HRFhea/jOfHcFQR3L8oNus3WrHmP7jqwF/6/de//hl967X16D+ATF22HuuAv2A6eZyJdMK/3MpOYg+B6z+y175BCQvvv+ykkWef8+Q/lDcks3f54z+AHeTimUnoP1RrZJXacte/RNYIBABB0z8=\",\"dtype\":\"float64\",\"order\":\"little\",\"shape\":[100]}},\"selected\":{\"id\":\"4768\"},\"selection_policy\":{\"id\":\"4767\"}},\"id\":\"4753\",\"type\":\"ColumnDataSource\"},{\"attributes\":{\"label\":{\"field\":\"label\"},\"renderers\":[{\"id\":\"4758\"}]},\"id\":\"4771\",\"type\":\"LegendItem\"},{\"attributes\":{\"source\":{\"id\":\"4753\"}},\"id\":\"4759\",\"type\":\"CDSView\"}],\"root_ids\":[\"4772\",\"4825\"]},\"title\":\"Bokeh Application\",\"version\":\"2.4.3\"}};\n",
       "    var render_items = [{\"docid\":\"5dadef65-b2fd-4d5b-8208-0fb74fe3ddcb\",\"root_ids\":[\"4772\"],\"roots\":{\"4772\":\"689116a1-80cf-4c09-8a5d-2879c62ef179\"}}];\n",
       "    root.Bokeh.embed.embed_items_notebook(docs_json, render_items);\n",
       "    for (const render_item of render_items) {\n",
       "      for (const root_id of render_item.root_ids) {\n",
       "\tconst id_el = document.getElementById(root_id)\n",
       "\tif (id_el.children.length && (id_el.children[0].className === 'bk-root')) {\n",
       "\t  const root_el = id_el.children[0]\n",
       "\t  root_el.id = root_el.id + '-rendered'\n",
       "\t}\n",
       "      }\n",
       "    }\n",
       "  }\n",
       "  if (root.Bokeh !== undefined && root.Bokeh.Panel !== undefined) {\n",
       "    embed_document(root);\n",
       "  } else {\n",
       "    var attempts = 0;\n",
       "    var timer = setInterval(function(root) {\n",
       "      if (root.Bokeh !== undefined && root.Bokeh.Panel !== undefined) {\n",
       "        clearInterval(timer);\n",
       "        embed_document(root);\n",
       "      } else if (document.readyState == \"complete\") {\n",
       "        attempts++;\n",
       "        if (attempts > 200) {\n",
       "          clearInterval(timer);\n",
       "          console.log(\"Bokeh: ERROR: Unable to run BokehJS code because BokehJS library is missing\");\n",
       "        }\n",
       "      }\n",
       "    }, 25, root)\n",
       "  }\n",
       "})(window);</script>"
      ],
      "text/plain": [
       "Row\n",
       "    [0] HSpacer()\n",
       "    [1] Bokeh(Figure)\n",
       "    [2] HSpacer()"
      ]
     },
     "execution_count": 23,
     "metadata": {
      "application/vnd.holoviews_exec.v0+json": {
       "id": "4772"
      }
     },
     "output_type": "execute_result"
    }
   ],
   "source": [
    "# Number of points to generate\n",
    "n_observations = 100;\n",
    "# Generate 2-dimensional random points\n",
    "x_inputs = np.random.rand(int(n_observations), 2) * 2 - 1;\n",
    "# Slope of separating line\n",
    "sep_slope = np.log(np.random.rand() * 10);\n",
    "sep_bias = np.random.rand() * 2 - 1;\n",
    "# Create the indexes for a two-class problem\n",
    "y_class = (x_inputs[:, 1] - x_inputs[:, 0] * sep_slope - sep_bias > 0) * 1;\n",
    "# Plot the corresponding pattern\n",
    "plot = center_plot(scatter_classes(x_inputs, y_class))\n",
    "plot"
   ]
  },
  {
   "attachments": {},
   "cell_type": "markdown",
   "metadata": {},
   "source": [
    "<a id=\"neuron\"></a>\n",
    "## Single neuron\n",
    "\n",
    "For the first parts of the tutorial, we will perform the simplest classification model possible in a neural network setting, a single neuron. We briefly recall here that; given an input vector $ \\mathbf{x} \\in \\mathbb{R}^{n} $, a single neuron computes the function  \n",
    "\n",
    "$$\n",
    "\\begin{equation}\n",
    "\\bar{y}=\\phi\\left(\\sum_{i = 1}^{n}w_{i}.x_{i} + b\\right)\n",
    "\\label{eq1}\n",
    "\\end{equation}\n",
    "$$\n",
    "\n",
    "with $ \\mathbf{w} \\in \\mathbb{R}^{n} $ a weight vector, $ b $ a bias and $ \\phi\\left( \\cdot \\right) $ an *activation function*. Therefore, if we consider the *threshold* activation function ($ \\mathbb{I}_{0}\\left(x\\right)=1 $ if $ x \\geq 0$), a single neuron simply performs an *affine transform* and then a *linear* discrimination of the space. \n",
    "\n",
    "***\n",
    "\n",
    "<div class=\"alert alert-success\" markdown=\"1\" style=\"color:white; background-color: #410819; border-color: #cb2e47\">\n",
    "\n",
    "> **Important note**\n",
    "> The following implementation tries to remain as close as possible to the original neuron model by McCulloch & Pitts, notably by using the _threshold activation_ function. Although this leads to a very simple implementation (akin to using an _identity_ activation, note that it is not to be used afterwards.\n",
    "\n",
    "</div>\n",
    "\n",
    "***\n",
    "\n",
    "As we will see later on, a **neural network** will simply be composed of _layers_ of these neurons, which produce successive computations\n",
    "\n",
    "<img src=\"images/02_feedforward_nn.png\" align=\"center\"/>\n",
    "\n",
    "Geometrically, a single neuron computes an hyperplane that separates the space. In order to learn, we have to adjust the weights and know \"how much wrong we are\". To do so, we consider that we know the desired output $ y_{j} $ of a system for a given example $ \\mathbf{x}_{j} $ (eg. a predicted value for a regression system, a class value for a classification system). Therefore, we define the MSE loss function $ \\mathcal{L}_{\\mathcal{D}} $ over a whole dataset as\n",
    "\n",
    "$$\n",
    "\\begin{equation}\n",
    "\\mathcal{L}_{\\mathcal{D}}=\\sum_{j=1}^{|\\mathcal{D}|}\\left\\Vert \\bar{y}_{j}-y_{j}\\right\\Vert ^{2}\n",
    "\\label{eq2}\n",
    "\\end{equation}\n",
    "$$\n",
    "\n",
    "with $|\\mathcal{D}|$ being the size of our dataset. In order to know how to change the weights based on the value of the errors, we need to now \"how to change it to make it better\". Therefore, we should compute the sets of derivatives of the error given each parameter\n",
    "\n",
    "$$\n",
    "\\begin{equation}\n",
    "\\Delta\\bar{\\mathbf{w}}=\\left(\\frac{\\delta\\mathcal{L}_{\\mathcal{D}}}{\\delta w_{1}},\\ldots,\\frac{\\delta\\mathcal{L}_{\\mathcal{D}}}{\\delta w_{n}}\\right)\n",
    "\\label{eq3}\n",
    "\\end{equation}\n",
    "$$ \n",
    "\n",
    "***\n",
    "\n",
    "<div class=\"alert alert-success\" markdown=\"1\" style=\"color:white; background-color: #192841; border-color: #779ecb\">\n",
    "\n",
    "> ### Exercise (course)\n",
    ">   1. Perform the derivatives of the output given a single neuron\n",
    ">   2. Perform the derivatives for the bias as well\n",
    "\n",
    "</div>\n",
    "\n",
    "***"
   ]
  },
  {
   "attachments": {},
   "cell_type": "markdown",
   "metadata": {},
   "source": [
    "### Training your own neuron\n",
    "\n",
    "We will start by training a single neuron to learn how to perform this discrimination with a linear problem (so that a single neuron is enough to solve it). "
   ]
  },
  {
   "cell_type": "code",
   "execution_count": 24,
   "metadata": {},
   "outputs": [],
   "source": [
    "# Learning rate\n",
    "eta = 1e-2;\n",
    "# Weight decay\n",
    "lambda_r = 0.01\n",
    "# Number of epochs\n",
    "n_epochs = 50\n",
    "# Initialize the weights\n",
    "weights = np.random.randn(1, 2);\n",
    "bias = np.random.randn(1, 1);\n",
    "# Save the weight history for plotting\n",
    "weights_history = np.zeros((n_epochs + 1, 2));\n",
    "bias_history = np.zeros((n_epochs + 1, 1));"
   ]
  },
  {
   "attachments": {},
   "cell_type": "markdown",
   "metadata": {},
   "source": [
    "Now you need to update the following code loop to ensure that your neuron learns to separate between the classes \n",
    "***\n",
    "\n",
    "<div class=\"alert alert-success\" markdown=\"1\" style=\"color:white; background-color: #192841; border-color: #779ecb\">\n",
    "\n",
    "> ### Exercise (course)\n",
    ">   1. Update the loop so that it computes the forward propagation error\n",
    ">   2. Update the loop to perform learning (based on back-propagation)\n",
    ">   3. Run the learning procedure, which should produce a result similar to that displayed on the website\n",
    ">   4. Perform multiple re-runs by **tweaking the hyperparameters** (learning rate, weight decay)\n",
    ">   5. What observations can you make on the learning process?\n",
    ">   6. (Optional) Change the input patterns, and confirm your observations.\n",
    ">   6. (Optional) Incorporate the bias in the weights to obtain a **vectorized** code.\n",
    "\n",
    "</div>\n",
    "\n",
    "***"
   ]
  },
  {
   "cell_type": "code",
   "execution_count": 25,
   "metadata": {},
   "outputs": [
    {
     "name": "stdout",
     "output_type": "stream",
     "text": [
      "(1, 100) (100, 2)\n",
      "(1, 100) (100, 2)\n",
      "(1, 100) (100, 2)\n",
      "(1, 100) (100, 2)\n",
      "(1, 100) (100, 2)\n",
      "(1, 100) (100, 2)\n",
      "(1, 100) (100, 2)\n",
      "(1, 100) (100, 2)\n",
      "(1, 100) (100, 2)\n",
      "(1, 100) (100, 2)\n",
      "(1, 100) (100, 2)\n",
      "(1, 100) (100, 2)\n",
      "(1, 100) (100, 2)\n",
      "(1, 100) (100, 2)\n",
      "(1, 100) (100, 2)\n",
      "(1, 100) (100, 2)\n",
      "(1, 100) (100, 2)\n",
      "(1, 100) (100, 2)\n"
     ]
    },
    {
     "data": {},
     "metadata": {},
     "output_type": "display_data"
    },
    {
     "data": {
      "application/vnd.holoviews_exec.v0+json": "",
      "text/html": [
       "<div id='5044'>\n",
       "  <div class=\"bk-root\" id=\"73e67939-cbe2-4b21-bd0b-207855bf35ba\" data-root-id=\"5044\"></div>\n",
       "</div>\n",
       "<script type=\"application/javascript\">(function(root) {\n",
       "  function embed_document(root) {\n",
       "    var docs_json = {\"5a1a8aa2-2589-4707-877d-06f047f067b6\":{\"defs\":[{\"extends\":null,\"module\":null,\"name\":\"ReactiveHTML1\",\"overrides\":[],\"properties\":[]},{\"extends\":null,\"module\":null,\"name\":\"FlexBox1\",\"overrides\":[],\"properties\":[{\"default\":\"flex-start\",\"kind\":null,\"name\":\"align_content\"},{\"default\":\"flex-start\",\"kind\":null,\"name\":\"align_items\"},{\"default\":\"row\",\"kind\":null,\"name\":\"flex_direction\"},{\"default\":\"wrap\",\"kind\":null,\"name\":\"flex_wrap\"},{\"default\":\"flex-start\",\"kind\":null,\"name\":\"justify_content\"}]},{\"extends\":null,\"module\":null,\"name\":\"GridStack1\",\"overrides\":[],\"properties\":[{\"default\":\"warn\",\"kind\":null,\"name\":\"mode\"},{\"default\":null,\"kind\":null,\"name\":\"ncols\"},{\"default\":null,\"kind\":null,\"name\":\"nrows\"},{\"default\":true,\"kind\":null,\"name\":\"allow_resize\"},{\"default\":true,\"kind\":null,\"name\":\"allow_drag\"},{\"default\":[],\"kind\":null,\"name\":\"state\"}]},{\"extends\":null,\"module\":null,\"name\":\"click1\",\"overrides\":[],\"properties\":[{\"default\":\"\",\"kind\":null,\"name\":\"terminal_output\"},{\"default\":\"\",\"kind\":null,\"name\":\"debug_name\"},{\"default\":0,\"kind\":null,\"name\":\"clears\"}]},{\"extends\":null,\"module\":null,\"name\":\"NotificationAreaBase1\",\"overrides\":[],\"properties\":[{\"default\":\"bottom-right\",\"kind\":null,\"name\":\"position\"},{\"default\":0,\"kind\":null,\"name\":\"_clear\"}]},{\"extends\":null,\"module\":null,\"name\":\"NotificationArea1\",\"overrides\":[],\"properties\":[{\"default\":[],\"kind\":null,\"name\":\"notifications\"},{\"default\":\"bottom-right\",\"kind\":null,\"name\":\"position\"},{\"default\":0,\"kind\":null,\"name\":\"_clear\"},{\"default\":[{\"background\":\"#ffc107\",\"icon\":{\"className\":\"fas fa-exclamation-triangle\",\"color\":\"white\",\"tagName\":\"i\"},\"type\":\"warning\"},{\"background\":\"#007bff\",\"icon\":{\"className\":\"fas fa-info-circle\",\"color\":\"white\",\"tagName\":\"i\"},\"type\":\"info\"}],\"kind\":null,\"name\":\"types\"}]},{\"extends\":null,\"module\":null,\"name\":\"Notification\",\"overrides\":[],\"properties\":[{\"default\":null,\"kind\":null,\"name\":\"background\"},{\"default\":3000,\"kind\":null,\"name\":\"duration\"},{\"default\":null,\"kind\":null,\"name\":\"icon\"},{\"default\":\"\",\"kind\":null,\"name\":\"message\"},{\"default\":null,\"kind\":null,\"name\":\"notification_type\"},{\"default\":false,\"kind\":null,\"name\":\"_destroyed\"}]},{\"extends\":null,\"module\":null,\"name\":\"TemplateActions1\",\"overrides\":[],\"properties\":[{\"default\":0,\"kind\":null,\"name\":\"open_modal\"},{\"default\":0,\"kind\":null,\"name\":\"close_modal\"}]},{\"extends\":null,\"module\":null,\"name\":\"MaterialTemplateActions1\",\"overrides\":[],\"properties\":[{\"default\":0,\"kind\":null,\"name\":\"open_modal\"},{\"default\":0,\"kind\":null,\"name\":\"close_modal\"}]}],\"roots\":{\"references\":[{\"attributes\":{\"margin\":[5,5,5,5],\"name\":\"HSpacer00180\",\"sizing_mode\":\"stretch_width\"},\"id\":\"5142\",\"type\":\"Spacer\"},{\"attributes\":{\"coordinates\":null,\"data_source\":{\"id\":\"5032\"},\"glyph\":{\"id\":\"5033\"},\"group\":null,\"hover_glyph\":null,\"muted_glyph\":{\"id\":\"5035\"},\"nonselection_glyph\":{\"id\":\"5034\"},\"view\":{\"id\":\"5037\"}},\"id\":\"5036\",\"type\":\"GlyphRenderer\"},{\"attributes\":{},\"id\":\"5059\",\"type\":\"UnionRenderers\"},{\"attributes\":{\"line_color\":\"#0C0786\",\"line_dash\":[6],\"line_width\":4,\"x\":{\"field\":\"x\"},\"y\":{\"field\":\"y\"}},\"id\":\"4931\",\"type\":\"Line\"},{\"attributes\":{\"data\":{\"x\":{\"__ndarray__\":\"RszpVHBZ77/01MmdGlrvPw==\",\"dtype\":\"float64\",\"order\":\"little\",\"shape\":[2]},\"y\":{\"__ndarray__\":\"qEx4m1G5oz+KWntAbbz6vw==\",\"dtype\":\"float64\",\"order\":\"little\",\"shape\":[2]}},\"selected\":{\"id\":\"5066\"},\"selection_policy\":{\"id\":\"5065\"}},\"id\":\"4960\",\"type\":\"ColumnDataSource\"},{\"attributes\":{\"margin\":[5,5,5,5],\"name\":\"HSpacer00179\",\"sizing_mode\":\"stretch_width\"},\"id\":\"5045\",\"type\":\"Spacer\"},{\"attributes\":{},\"id\":\"5089\",\"type\":\"UnionRenderers\"},{\"attributes\":{\"children\":[{\"id\":\"5045\"},{\"id\":\"4876\"},{\"id\":\"5142\"}],\"margin\":[0,0,0,0],\"name\":\"Row00183\"},\"id\":\"5044\",\"type\":\"Row\"},{\"attributes\":{},\"id\":\"5090\",\"type\":\"Selection\"},{\"attributes\":{},\"id\":\"4899\",\"type\":\"ResetTool\"},{\"attributes\":{\"line_alpha\":0.1,\"line_color\":\"#EFF821\",\"line_dash\":[6],\"line_width\":4,\"x\":{\"field\":\"x\"},\"y\":{\"field\":\"y\"}},\"id\":\"5040\",\"type\":\"Line\"},{\"attributes\":{},\"id\":\"5071\",\"type\":\"UnionRenderers\"},{\"attributes\":{},\"id\":\"4888\",\"type\":\"BasicTicker\"},{\"attributes\":{\"axis_label\":\"y\",\"axis_label_standoff\":10,\"axis_label_text_color\":\"#FFFFFF\",\"axis_label_text_font\":\"Josefin Sans\",\"axis_label_text_font_size\":\"1.9em\",\"axis_label_text_font_style\":\"bold\",\"axis_line_alpha\":0.4,\"axis_line_color\":\"#E0E0E0\",\"coordinates\":null,\"formatter\":{\"id\":\"4918\"},\"group\":null,\"major_label_policy\":{\"id\":\"4919\"},\"major_label_text_color\":\"#E0E0E0\",\"major_label_text_font\":\"Josefin Sans\",\"major_label_text_font_size\":\"1.15em\",\"major_tick_line_alpha\":0.4,\"major_tick_line_color\":\"#E0E0E0\",\"minor_tick_line_alpha\":0.4,\"minor_tick_line_color\":\"#E0E0E0\",\"ticker\":{\"id\":\"4892\"}},\"id\":\"4891\",\"type\":\"LinearAxis\"},{\"attributes\":{\"axis_label\":\"x\",\"axis_label_standoff\":10,\"axis_label_text_color\":\"#FFFFFF\",\"axis_label_text_font\":\"Josefin Sans\",\"axis_label_text_font_size\":\"1.9em\",\"axis_label_text_font_style\":\"bold\",\"axis_line_alpha\":0.4,\"axis_line_color\":\"#E0E0E0\",\"coordinates\":null,\"formatter\":{\"id\":\"4921\"},\"group\":null,\"major_label_policy\":{\"id\":\"4922\"},\"major_label_text_color\":\"#E0E0E0\",\"major_label_text_font\":\"Josefin Sans\",\"major_label_text_font_size\":\"1.15em\",\"major_tick_line_alpha\":0.4,\"major_tick_line_color\":\"#E0E0E0\",\"minor_tick_line_alpha\":0.4,\"minor_tick_line_color\":\"#E0E0E0\",\"ticker\":{\"id\":\"4888\"}},\"id\":\"4887\",\"type\":\"LinearAxis\"},{\"attributes\":{},\"id\":\"5063\",\"type\":\"UnionRenderers\"},{\"attributes\":{},\"id\":\"5072\",\"type\":\"Selection\"},{\"attributes\":{},\"id\":\"4885\",\"type\":\"LinearScale\"},{\"attributes\":{\"end\":0.9797490197949217,\"start\":-0.9796678217375152},\"id\":\"4928\",\"type\":\"Range1d\"},{\"attributes\":{\"axis\":{\"id\":\"4887\"},\"coordinates\":null,\"grid_line_alpha\":0.15,\"grid_line_color\":\"#E0E0E0\",\"group\":null,\"ticker\":null},\"id\":\"4890\",\"type\":\"Grid\"},{\"attributes\":{\"line_color\":\"#2D0494\",\"line_dash\":[6],\"line_width\":4,\"x\":{\"field\":\"x\"},\"y\":{\"field\":\"y\"}},\"id\":\"4937\",\"type\":\"Line\"},{\"attributes\":{\"axis\":{\"id\":\"4891\"},\"coordinates\":null,\"dimension\":1,\"grid_line_alpha\":0.15,\"grid_line_color\":\"#E0E0E0\",\"group\":null,\"ticker\":null},\"id\":\"4894\",\"type\":\"Grid\"},{\"attributes\":{},\"id\":\"5091\",\"type\":\"UnionRenderers\"},{\"attributes\":{},\"id\":\"4892\",\"type\":\"BasicTicker\"},{\"attributes\":{},\"id\":\"4900\",\"type\":\"HelpTool\"},{\"attributes\":{},\"id\":\"5065\",\"type\":\"UnionRenderers\"},{\"attributes\":{},\"id\":\"5092\",\"type\":\"Selection\"},{\"attributes\":{},\"id\":\"4896\",\"type\":\"WheelZoomTool\"},{\"attributes\":{},\"id\":\"5066\",\"type\":\"Selection\"},{\"attributes\":{},\"id\":\"5073\",\"type\":\"UnionRenderers\"},{\"attributes\":{},\"id\":\"5074\",\"type\":\"Selection\"},{\"attributes\":{\"end\":0.9960537590113789,\"start\":-0.9709583587988542},\"id\":\"4929\",\"type\":\"Range1d\"},{\"attributes\":{\"line_alpha\":0.2,\"line_color\":\"#AD2692\",\"line_dash\":[6],\"line_width\":4,\"x\":{\"field\":\"x\"},\"y\":{\"field\":\"y\"}},\"id\":\"4975\",\"type\":\"Line\"},{\"attributes\":{\"line_alpha\":0.1,\"line_color\":\"#45039E\",\"line_dash\":[6],\"line_width\":4,\"x\":{\"field\":\"x\"},\"y\":{\"field\":\"y\"}},\"id\":\"4944\",\"type\":\"Line\"},{\"attributes\":{\"source\":{\"id\":\"5032\"}},\"id\":\"5037\",\"type\":\"CDSView\"},{\"attributes\":{\"coordinates\":null,\"data_source\":{\"id\":\"4960\"},\"glyph\":{\"id\":\"4961\"},\"group\":null,\"hover_glyph\":null,\"muted_glyph\":{\"id\":\"4963\"},\"nonselection_glyph\":{\"id\":\"4962\"},\"view\":{\"id\":\"4965\"}},\"id\":\"4964\",\"type\":\"GlyphRenderer\"},{\"attributes\":{},\"id\":\"5075\",\"type\":\"UnionRenderers\"},{\"attributes\":{},\"id\":\"5076\",\"type\":\"Selection\"},{\"attributes\":{\"source\":{\"id\":\"4960\"}},\"id\":\"4965\",\"type\":\"CDSView\"},{\"attributes\":{},\"id\":\"4898\",\"type\":\"SaveTool\"},{\"attributes\":{\"overlay\":{\"id\":\"4901\"}},\"id\":\"4897\",\"type\":\"BoxZoomTool\"},{\"attributes\":{},\"id\":\"4895\",\"type\":\"PanTool\"},{\"attributes\":{\"coordinates\":null,\"data_source\":{\"id\":\"4930\"},\"glyph\":{\"id\":\"4931\"},\"group\":null,\"hover_glyph\":null,\"muted_glyph\":{\"id\":\"4933\"},\"nonselection_glyph\":{\"id\":\"4932\"},\"view\":{\"id\":\"4935\"}},\"id\":\"4934\",\"type\":\"GlyphRenderer\"},{\"attributes\":{\"line_alpha\":0.2,\"line_color\":\"#9B179E\",\"line_dash\":[6],\"line_width\":4,\"x\":{\"field\":\"x\"},\"y\":{\"field\":\"y\"}},\"id\":\"4969\",\"type\":\"Line\"},{\"attributes\":{\"line_alpha\":0.1,\"line_color\":\"#2D0494\",\"line_dash\":[6],\"line_width\":4,\"x\":{\"field\":\"x\"},\"y\":{\"field\":\"y\"}},\"id\":\"4938\",\"type\":\"Line\"},{\"attributes\":{\"line_alpha\":0.1,\"line_color\":\"#7200A8\",\"line_dash\":[6],\"line_width\":4,\"x\":{\"field\":\"x\"},\"y\":{\"field\":\"y\"}},\"id\":\"4956\",\"type\":\"Line\"},{\"attributes\":{\"line_color\":\"#F8DF24\",\"line_dash\":[6],\"line_width\":4,\"x\":{\"field\":\"x\"},\"y\":{\"field\":\"y\"}},\"id\":\"5033\",\"type\":\"Line\"},{\"attributes\":{\"line_alpha\":0.1,\"line_color\":\"#0C0786\",\"line_dash\":[6],\"line_width\":4,\"x\":{\"field\":\"x\"},\"y\":{\"field\":\"y\"}},\"id\":\"4932\",\"type\":\"Line\"},{\"attributes\":{},\"id\":\"5077\",\"type\":\"UnionRenderers\"},{\"attributes\":{\"coordinates\":null,\"group\":null,\"text\":\"Observations\",\"text_color\":\"#E0E0E0\",\"text_font\":\"Josefin Sans\",\"text_font_size\":\"2.1em\"},\"id\":\"4877\",\"type\":\"Title\"},{\"attributes\":{\"line_color\":\"#45039E\",\"line_dash\":[6],\"line_width\":4,\"x\":{\"field\":\"x\"},\"y\":{\"field\":\"y\"}},\"id\":\"4943\",\"type\":\"Line\"},{\"attributes\":{},\"id\":\"5078\",\"type\":\"Selection\"},{\"attributes\":{},\"id\":\"5070\",\"type\":\"Selection\"},{\"attributes\":{\"data\":{\"x\":{\"__ndarray__\":\"RszpVHBZ77/01MmdGlrvPw==\",\"dtype\":\"float64\",\"order\":\"little\",\"shape\":[2]},\"y\":{\"__ndarray__\":\"zoaequz98D9lKl/g6JcUwA==\",\"dtype\":\"float64\",\"order\":\"little\",\"shape\":[2]}},\"selected\":{\"id\":\"5060\"},\"selection_policy\":{\"id\":\"5059\"}},\"id\":\"4942\",\"type\":\"ColumnDataSource\"},{\"attributes\":{\"background_fill_alpha\":0.2,\"background_fill_color\":\"darkgrey\",\"border_line_alpha\":0.8,\"border_line_color\":\"grey\",\"border_line_width\":3,\"coordinates\":null,\"group\":null,\"items\":[{\"id\":\"4927\"}],\"label_text_color\":\"white\"},\"id\":\"4926\",\"type\":\"Legend\"},{\"attributes\":{\"fill_alpha\":{\"value\":0.2},\"fill_color\":{\"field\":\"color\"},\"hatch_alpha\":{\"value\":0.2},\"hatch_color\":{\"field\":\"color\"},\"line_alpha\":{\"value\":0.2},\"line_color\":{\"value\":\"white\"},\"size\":{\"value\":10},\"x\":{\"field\":\"x\"},\"y\":{\"field\":\"y\"}},\"id\":\"4913\",\"type\":\"Circle\"},{\"attributes\":{\"line_alpha\":0.2,\"line_color\":\"#0C0786\",\"line_dash\":[6],\"line_width\":4,\"x\":{\"field\":\"x\"},\"y\":{\"field\":\"y\"}},\"id\":\"4933\",\"type\":\"Line\"},{\"attributes\":{\"background_fill_alpha\":0.9,\"background_fill_color\":\"#0f0f0f\",\"below\":[{\"id\":\"4887\"}],\"border_fill_alpha\":0.8,\"border_fill_color\":\"#111111\",\"center\":[{\"id\":\"4890\"},{\"id\":\"4894\"},{\"id\":\"4926\"}],\"height\":450,\"left\":[{\"id\":\"4891\"}],\"outline_line_alpha\":0.25,\"outline_line_color\":\"#E0E0E0\",\"outline_line_width\":3,\"renderers\":[{\"id\":\"4914\"},{\"id\":\"4934\"},{\"id\":\"4940\"},{\"id\":\"4946\"},{\"id\":\"4952\"},{\"id\":\"4958\"},{\"id\":\"4964\"},{\"id\":\"4970\"},{\"id\":\"4976\"},{\"id\":\"4982\"},{\"id\":\"4988\"},{\"id\":\"4994\"},{\"id\":\"5000\"},{\"id\":\"5006\"},{\"id\":\"5012\"},{\"id\":\"5018\"},{\"id\":\"5024\"},{\"id\":\"5030\"},{\"id\":\"5036\"},{\"id\":\"5042\"}],\"right\":[{\"id\":\"4926\"}],\"title\":{\"id\":\"4877\"},\"toolbar\":{\"id\":\"4902\"},\"width\":700,\"x_range\":{\"id\":\"4928\"},\"x_scale\":{\"id\":\"4883\"},\"y_range\":{\"id\":\"4929\"},\"y_scale\":{\"id\":\"4885\"}},\"id\":\"4876\",\"subtype\":\"Figure\",\"type\":\"Plot\"},{\"attributes\":{},\"id\":\"5061\",\"type\":\"UnionRenderers\"},{\"attributes\":{\"source\":{\"id\":\"4909\"}},\"id\":\"4915\",\"type\":\"CDSView\"},{\"attributes\":{},\"id\":\"4923\",\"type\":\"UnionRenderers\"},{\"attributes\":{\"data\":{\"x\":{\"__ndarray__\":\"RszpVHBZ77/01MmdGlrvPw==\",\"dtype\":\"float64\",\"order\":\"little\",\"shape\":[2]},\"y\":{\"__ndarray__\":\"qSPAqd9yBcBQr460oC7nPw==\",\"dtype\":\"float64\",\"order\":\"little\",\"shape\":[2]}},\"selected\":{\"id\":\"5092\"},\"selection_policy\":{\"id\":\"5091\"}},\"id\":\"5038\",\"type\":\"ColumnDataSource\"},{\"attributes\":{\"data\":{\"x\":{\"__ndarray__\":\"RszpVHBZ77/01MmdGlrvPw==\",\"dtype\":\"float64\",\"order\":\"little\",\"shape\":[2]},\"y\":{\"__ndarray__\":\"FyqwJXi1AUCpQSRsgRMZwA==\",\"dtype\":\"float64\",\"order\":\"little\",\"shape\":[2]}},\"selected\":{\"id\":\"5058\"},\"selection_policy\":{\"id\":\"5057\"}},\"id\":\"4936\",\"type\":\"ColumnDataSource\"},{\"attributes\":{},\"id\":\"5079\",\"type\":\"UnionRenderers\"},{\"attributes\":{\"label\":{\"field\":\"label\"},\"renderers\":[{\"id\":\"4914\"}]},\"id\":\"4927\",\"type\":\"LegendItem\"},{\"attributes\":{\"source\":{\"id\":\"4930\"}},\"id\":\"4935\",\"type\":\"CDSView\"},{\"attributes\":{},\"id\":\"5080\",\"type\":\"Selection\"},{\"attributes\":{\"source\":{\"id\":\"5038\"}},\"id\":\"5043\",\"type\":\"CDSView\"},{\"attributes\":{},\"id\":\"4919\",\"type\":\"AllLabels\"},{\"attributes\":{\"data\":{\"x\":{\"__ndarray__\":\"RszpVHBZ77/01MmdGlrvPw==\",\"dtype\":\"float64\",\"order\":\"little\",\"shape\":[2]},\"y\":{\"__ndarray__\":\"ESfErZcXDUBzuTvwcJQcwA==\",\"dtype\":\"float64\",\"order\":\"little\",\"shape\":[2]}},\"selected\":{\"id\":\"5056\"},\"selection_policy\":{\"id\":\"5055\"}},\"id\":\"4930\",\"type\":\"ColumnDataSource\"},{\"attributes\":{},\"id\":\"5058\",\"type\":\"Selection\"},{\"attributes\":{\"line_color\":\"#EFF821\",\"line_dash\":[6],\"line_width\":4,\"x\":{\"field\":\"x\"},\"y\":{\"field\":\"y\"}},\"id\":\"5039\",\"type\":\"Line\"},{\"attributes\":{},\"id\":\"5055\",\"type\":\"UnionRenderers\"},{\"attributes\":{},\"id\":\"5069\",\"type\":\"UnionRenderers\"},{\"attributes\":{\"fill_alpha\":{\"value\":0.1},\"fill_color\":{\"field\":\"color\"},\"hatch_alpha\":{\"value\":0.1},\"hatch_color\":{\"field\":\"color\"},\"line_alpha\":{\"value\":0.1},\"line_color\":{\"value\":\"white\"},\"size\":{\"value\":10},\"x\":{\"field\":\"x\"},\"y\":{\"field\":\"y\"}},\"id\":\"4912\",\"type\":\"Circle\"},{\"attributes\":{},\"id\":\"5068\",\"type\":\"Selection\"},{\"attributes\":{},\"id\":\"5081\",\"type\":\"UnionRenderers\"},{\"attributes\":{\"line_alpha\":0.2,\"line_color\":\"#EFF821\",\"line_dash\":[6],\"line_width\":4,\"x\":{\"field\":\"x\"},\"y\":{\"field\":\"y\"}},\"id\":\"5041\",\"type\":\"Line\"},{\"attributes\":{},\"id\":\"5082\",\"type\":\"Selection\"},{\"attributes\":{},\"id\":\"5064\",\"type\":\"Selection\"},{\"attributes\":{},\"id\":\"4922\",\"type\":\"AllLabels\"},{\"attributes\":{\"coordinates\":null,\"data_source\":{\"id\":\"4909\"},\"glyph\":{\"id\":\"4911\"},\"group\":null,\"hover_glyph\":null,\"muted_glyph\":{\"id\":\"4913\"},\"nonselection_glyph\":{\"id\":\"4912\"},\"view\":{\"id\":\"4915\"}},\"id\":\"4914\",\"type\":\"GlyphRenderer\"},{\"attributes\":{\"line_alpha\":0.1,\"line_color\":\"#8607A6\",\"line_dash\":[6],\"line_width\":4,\"x\":{\"field\":\"x\"},\"y\":{\"field\":\"y\"}},\"id\":\"4962\",\"type\":\"Line\"},{\"attributes\":{\"data\":{\"x\":{\"__ndarray__\":\"RszpVHBZ77/01MmdGlrvPw==\",\"dtype\":\"float64\",\"order\":\"little\",\"shape\":[2]},\"y\":{\"__ndarray__\":\"0lA0PeVA4b/HCxn/BB/wvw==\",\"dtype\":\"float64\",\"order\":\"little\",\"shape\":[2]}},\"selected\":{\"id\":\"5068\"},\"selection_policy\":{\"id\":\"5067\"}},\"id\":\"4966\",\"type\":\"ColumnDataSource\"},{\"attributes\":{\"line_color\":\"#AD2692\",\"line_dash\":[6],\"line_width\":4,\"x\":{\"field\":\"x\"},\"y\":{\"field\":\"y\"}},\"id\":\"4973\",\"type\":\"Line\"},{\"attributes\":{},\"id\":\"5083\",\"type\":\"UnionRenderers\"},{\"attributes\":{\"line_alpha\":0.2,\"line_color\":\"#FCC726\",\"line_dash\":[6],\"line_width\":4,\"x\":{\"field\":\"x\"},\"y\":{\"field\":\"y\"}},\"id\":\"5029\",\"type\":\"Line\"},{\"attributes\":{\"line_alpha\":0.2,\"line_color\":\"#E26660\",\"line_dash\":[6],\"line_width\":4,\"x\":{\"field\":\"x\"},\"y\":{\"field\":\"y\"}},\"id\":\"4999\",\"type\":\"Line\"},{\"attributes\":{\"source\":{\"id\":\"5026\"}},\"id\":\"5031\",\"type\":\"CDSView\"},{\"attributes\":{\"data\":{\"x\":{\"__ndarray__\":\"RszpVHBZ77/01MmdGlrvPw==\",\"dtype\":\"float64\",\"order\":\"little\",\"shape\":[2]},\"y\":{\"__ndarray__\":\"HCSFu7V8CcAN3yLMQMXuvw==\",\"dtype\":\"float64\",\"order\":\"little\",\"shape\":[2]}},\"selected\":{\"id\":\"5076\"},\"selection_policy\":{\"id\":\"5075\"}},\"id\":\"4990\",\"type\":\"ColumnDataSource\"},{\"attributes\":{},\"id\":\"5056\",\"type\":\"Selection\"},{\"attributes\":{\"data\":{\"x\":{\"__ndarray__\":\"RszpVHBZ77/01MmdGlrvPw==\",\"dtype\":\"float64\",\"order\":\"little\",\"shape\":[2]},\"y\":{\"__ndarray__\":\"e8yHZr6+B8CFNdTxpivgPw==\",\"dtype\":\"float64\",\"order\":\"little\",\"shape\":[2]}},\"selected\":{\"id\":\"5088\"},\"selection_policy\":{\"id\":\"5087\"}},\"id\":\"5026\",\"type\":\"ColumnDataSource\"},{\"attributes\":{\"line_color\":\"#E26660\",\"line_dash\":[6],\"line_width\":4,\"x\":{\"field\":\"x\"},\"y\":{\"field\":\"y\"}},\"id\":\"4997\",\"type\":\"Line\"},{\"attributes\":{},\"id\":\"5084\",\"type\":\"Selection\"},{\"attributes\":{\"coordinates\":null,\"data_source\":{\"id\":\"5026\"},\"glyph\":{\"id\":\"5027\"},\"group\":null,\"hover_glyph\":null,\"muted_glyph\":{\"id\":\"5029\"},\"nonselection_glyph\":{\"id\":\"5028\"},\"view\":{\"id\":\"5031\"}},\"id\":\"5030\",\"type\":\"GlyphRenderer\"},{\"attributes\":{\"line_alpha\":0.1,\"line_color\":\"#CA4678\",\"line_dash\":[6],\"line_width\":4,\"x\":{\"field\":\"x\"},\"y\":{\"field\":\"y\"}},\"id\":\"4986\",\"type\":\"Line\"},{\"attributes\":{\"line_alpha\":0.1,\"line_color\":\"#FDB22F\",\"line_dash\":[6],\"line_width\":4,\"x\":{\"field\":\"x\"},\"y\":{\"field\":\"y\"}},\"id\":\"5022\",\"type\":\"Line\"},{\"attributes\":{},\"id\":\"4918\",\"type\":\"BasicTickFormatter\"},{\"attributes\":{\"line_alpha\":0.2,\"line_color\":\"#D7566C\",\"line_dash\":[6],\"line_width\":4,\"x\":{\"field\":\"x\"},\"y\":{\"field\":\"y\"}},\"id\":\"4993\",\"type\":\"Line\"},{\"attributes\":{\"coordinates\":null,\"data_source\":{\"id\":\"5020\"},\"glyph\":{\"id\":\"5021\"},\"group\":null,\"hover_glyph\":null,\"muted_glyph\":{\"id\":\"5023\"},\"nonselection_glyph\":{\"id\":\"5022\"},\"view\":{\"id\":\"5025\"}},\"id\":\"5024\",\"type\":\"GlyphRenderer\"},{\"attributes\":{\"source\":{\"id\":\"4984\"}},\"id\":\"4989\",\"type\":\"CDSView\"},{\"attributes\":{},\"id\":\"5062\",\"type\":\"Selection\"},{\"attributes\":{\"fill_alpha\":{\"value\":0.6},\"fill_color\":{\"field\":\"color\"},\"hatch_alpha\":{\"value\":0.6},\"hatch_color\":{\"field\":\"color\"},\"line_alpha\":{\"value\":0.6},\"line_color\":{\"value\":\"white\"},\"size\":{\"value\":10},\"x\":{\"field\":\"x\"},\"y\":{\"field\":\"y\"}},\"id\":\"4911\",\"type\":\"Circle\"},{\"attributes\":{\"coordinates\":null,\"data_source\":{\"id\":\"4984\"},\"glyph\":{\"id\":\"4985\"},\"group\":null,\"hover_glyph\":null,\"muted_glyph\":{\"id\":\"4987\"},\"nonselection_glyph\":{\"id\":\"4986\"},\"view\":{\"id\":\"4989\"}},\"id\":\"4988\",\"type\":\"GlyphRenderer\"},{\"attributes\":{\"source\":{\"id\":\"4936\"}},\"id\":\"4941\",\"type\":\"CDSView\"},{\"attributes\":{\"source\":{\"id\":\"5020\"}},\"id\":\"5025\",\"type\":\"CDSView\"},{\"attributes\":{\"line_alpha\":0.2,\"line_color\":\"#2D0494\",\"line_dash\":[6],\"line_width\":4,\"x\":{\"field\":\"x\"},\"y\":{\"field\":\"y\"}},\"id\":\"4939\",\"type\":\"Line\"},{\"attributes\":{\"data\":{\"x\":{\"__ndarray__\":\"RszpVHBZ77/01MmdGlrvPw==\",\"dtype\":\"float64\",\"order\":\"little\",\"shape\":[2]},\"y\":{\"__ndarray__\":\"rMWSj9otAcDIHEnni98AQA==\",\"dtype\":\"float64\",\"order\":\"little\",\"shape\":[2]}},\"selected\":{\"id\":\"5074\"},\"selection_policy\":{\"id\":\"5073\"}},\"id\":\"4984\",\"type\":\"ColumnDataSource\"},{\"attributes\":{\"data\":{\"x\":{\"__ndarray__\":\"RszpVHBZ77/01MmdGlrvPw==\",\"dtype\":\"float64\",\"order\":\"little\",\"shape\":[2]},\"y\":{\"__ndarray__\":\"avCebeGeA8ABUpRJ3UfxPw==\",\"dtype\":\"float64\",\"order\":\"little\",\"shape\":[2]}},\"selected\":{\"id\":\"5086\"},\"selection_policy\":{\"id\":\"5085\"}},\"id\":\"5020\",\"type\":\"ColumnDataSource\"},{\"attributes\":{\"line_alpha\":0.1,\"line_color\":\"#BC3685\",\"line_dash\":[6],\"line_width\":4,\"x\":{\"field\":\"x\"},\"y\":{\"field\":\"y\"}},\"id\":\"4980\",\"type\":\"Line\"},{\"attributes\":{\"line_alpha\":0.1,\"line_color\":\"#FCC726\",\"line_dash\":[6],\"line_width\":4,\"x\":{\"field\":\"x\"},\"y\":{\"field\":\"y\"}},\"id\":\"5028\",\"type\":\"Line\"},{\"attributes\":{\"line_color\":\"#FCC726\",\"line_dash\":[6],\"line_width\":4,\"x\":{\"field\":\"x\"},\"y\":{\"field\":\"y\"}},\"id\":\"5027\",\"type\":\"Line\"},{\"attributes\":{\"line_color\":\"#D7566C\",\"line_dash\":[6],\"line_width\":4,\"x\":{\"field\":\"x\"},\"y\":{\"field\":\"y\"}},\"id\":\"4991\",\"type\":\"Line\"},{\"attributes\":{\"data\":{\"x\":{\"__ndarray__\":\"RszpVHBZ77/01MmdGlrvPw==\",\"dtype\":\"float64\",\"order\":\"little\",\"shape\":[2]},\"y\":{\"__ndarray__\":\"vB2afnBSBcBFcXqG80TtPw==\",\"dtype\":\"float64\",\"order\":\"little\",\"shape\":[2]}},\"selected\":{\"id\":\"5090\"},\"selection_policy\":{\"id\":\"5089\"}},\"id\":\"5032\",\"type\":\"ColumnDataSource\"},{\"attributes\":{\"line_alpha\":0.1,\"line_color\":\"#FA9D3A\",\"line_dash\":[6],\"line_width\":4,\"x\":{\"field\":\"x\"},\"y\":{\"field\":\"y\"}},\"id\":\"5016\",\"type\":\"Line\"},{\"attributes\":{\"coordinates\":null,\"data_source\":{\"id\":\"4978\"},\"glyph\":{\"id\":\"4979\"},\"group\":null,\"hover_glyph\":null,\"muted_glyph\":{\"id\":\"4981\"},\"nonselection_glyph\":{\"id\":\"4980\"},\"view\":{\"id\":\"4983\"}},\"id\":\"4982\",\"type\":\"GlyphRenderer\"},{\"attributes\":{\"line_alpha\":0.2,\"line_color\":\"#F8DF24\",\"line_dash\":[6],\"line_width\":4,\"x\":{\"field\":\"x\"},\"y\":{\"field\":\"y\"}},\"id\":\"5035\",\"type\":\"Line\"},{\"attributes\":{\"source\":{\"id\":\"5014\"}},\"id\":\"5019\",\"type\":\"CDSView\"},{\"attributes\":{\"source\":{\"id\":\"4978\"}},\"id\":\"4983\",\"type\":\"CDSView\"},{\"attributes\":{\"line_alpha\":0.2,\"line_color\":\"#FDB22F\",\"line_dash\":[6],\"line_width\":4,\"x\":{\"field\":\"x\"},\"y\":{\"field\":\"y\"}},\"id\":\"5023\",\"type\":\"Line\"},{\"attributes\":{\"line_alpha\":0.2,\"line_color\":\"#CA4678\",\"line_dash\":[6],\"line_width\":4,\"x\":{\"field\":\"x\"},\"y\":{\"field\":\"y\"}},\"id\":\"4987\",\"type\":\"Line\"},{\"attributes\":{},\"id\":\"4921\",\"type\":\"BasicTickFormatter\"},{\"attributes\":{\"coordinates\":null,\"data_source\":{\"id\":\"5014\"},\"glyph\":{\"id\":\"5015\"},\"group\":null,\"hover_glyph\":null,\"muted_glyph\":{\"id\":\"5017\"},\"nonselection_glyph\":{\"id\":\"5016\"},\"view\":{\"id\":\"5019\"}},\"id\":\"5018\",\"type\":\"GlyphRenderer\"},{\"attributes\":{\"data\":{\"x\":{\"__ndarray__\":\"RszpVHBZ77/01MmdGlrvPw==\",\"dtype\":\"float64\",\"order\":\"little\",\"shape\":[2]},\"y\":{\"__ndarray__\":\"IIAePA4QCsBewdI67hS5vw==\",\"dtype\":\"float64\",\"order\":\"little\",\"shape\":[2]}},\"selected\":{\"id\":\"5072\"},\"selection_policy\":{\"id\":\"5071\"}},\"id\":\"4978\",\"type\":\"ColumnDataSource\"},{\"attributes\":{\"data\":{\"x\":{\"__ndarray__\":\"RszpVHBZ77/01MmdGlrvPw==\",\"dtype\":\"float64\",\"order\":\"little\",\"shape\":[2]},\"y\":{\"__ndarray__\":\"tfblVGwZB8CZ/wjj96baPw==\",\"dtype\":\"float64\",\"order\":\"little\",\"shape\":[2]}},\"selected\":{\"id\":\"5084\"},\"selection_policy\":{\"id\":\"5083\"}},\"id\":\"5014\",\"type\":\"ColumnDataSource\"},{\"attributes\":{\"source\":{\"id\":\"4966\"}},\"id\":\"4971\",\"type\":\"CDSView\"},{\"attributes\":{\"line_color\":\"#FDB22F\",\"line_dash\":[6],\"line_width\":4,\"x\":{\"field\":\"x\"},\"y\":{\"field\":\"y\"}},\"id\":\"5021\",\"type\":\"Line\"},{\"attributes\":{\"coordinates\":null,\"data_source\":{\"id\":\"4936\"},\"glyph\":{\"id\":\"4937\"},\"group\":null,\"hover_glyph\":null,\"muted_glyph\":{\"id\":\"4939\"},\"nonselection_glyph\":{\"id\":\"4938\"},\"view\":{\"id\":\"4941\"}},\"id\":\"4940\",\"type\":\"GlyphRenderer\"},{\"attributes\":{\"coordinates\":null,\"data_source\":{\"id\":\"4966\"},\"glyph\":{\"id\":\"4967\"},\"group\":null,\"hover_glyph\":null,\"muted_glyph\":{\"id\":\"4969\"},\"nonselection_glyph\":{\"id\":\"4968\"},\"view\":{\"id\":\"4971\"}},\"id\":\"4970\",\"type\":\"GlyphRenderer\"},{\"attributes\":{},\"id\":\"5060\",\"type\":\"Selection\"},{\"attributes\":{},\"id\":\"5067\",\"type\":\"UnionRenderers\"},{\"attributes\":{},\"id\":\"5085\",\"type\":\"UnionRenderers\"},{\"attributes\":{\"line_alpha\":0.1,\"line_color\":\"#F48A47\",\"line_dash\":[6],\"line_width\":4,\"x\":{\"field\":\"x\"},\"y\":{\"field\":\"y\"}},\"id\":\"5010\",\"type\":\"Line\"},{\"attributes\":{\"line_alpha\":0.1,\"line_color\":\"#9B179E\",\"line_dash\":[6],\"line_width\":4,\"x\":{\"field\":\"x\"},\"y\":{\"field\":\"y\"}},\"id\":\"4968\",\"type\":\"Line\"},{\"attributes\":{\"tools\":[{\"id\":\"4895\"},{\"id\":\"4896\"},{\"id\":\"4897\"},{\"id\":\"4898\"},{\"id\":\"4899\"},{\"id\":\"4900\"}]},\"id\":\"4902\",\"type\":\"Toolbar\"},{\"attributes\":{\"line_color\":\"#BC3685\",\"line_dash\":[6],\"line_width\":4,\"x\":{\"field\":\"x\"},\"y\":{\"field\":\"y\"}},\"id\":\"4979\",\"type\":\"Line\"},{\"attributes\":{\"source\":{\"id\":\"5008\"}},\"id\":\"5013\",\"type\":\"CDSView\"},{\"attributes\":{\"coordinates\":null,\"data_source\":{\"id\":\"5008\"},\"glyph\":{\"id\":\"5009\"},\"group\":null,\"hover_glyph\":null,\"muted_glyph\":{\"id\":\"5011\"},\"nonselection_glyph\":{\"id\":\"5010\"},\"view\":{\"id\":\"5013\"}},\"id\":\"5012\",\"type\":\"GlyphRenderer\"},{\"attributes\":{\"data\":{\"x\":{\"__ndarray__\":\"RszpVHBZ77/01MmdGlrvPw==\",\"dtype\":\"float64\",\"order\":\"little\",\"shape\":[2]},\"y\":{\"__ndarray__\":\"fOZqNR5Z7L9es+QBqoTCPw==\",\"dtype\":\"float64\",\"order\":\"little\",\"shape\":[2]}},\"selected\":{\"id\":\"5070\"},\"selection_policy\":{\"id\":\"5069\"}},\"id\":\"4972\",\"type\":\"ColumnDataSource\"},{\"attributes\":{},\"id\":\"5057\",\"type\":\"UnionRenderers\"},{\"attributes\":{\"line_alpha\":0.2,\"line_color\":\"#FA9D3A\",\"line_dash\":[6],\"line_width\":4,\"x\":{\"field\":\"x\"},\"y\":{\"field\":\"y\"}},\"id\":\"5017\",\"type\":\"Line\"},{\"attributes\":{\"line_alpha\":0.2,\"line_color\":\"#BC3685\",\"line_dash\":[6],\"line_width\":4,\"x\":{\"field\":\"x\"},\"y\":{\"field\":\"y\"}},\"id\":\"4981\",\"type\":\"Line\"},{\"attributes\":{},\"id\":\"5086\",\"type\":\"Selection\"},{\"attributes\":{\"line_color\":\"#FA9D3A\",\"line_dash\":[6],\"line_width\":4,\"x\":{\"field\":\"x\"},\"y\":{\"field\":\"y\"}},\"id\":\"5015\",\"type\":\"Line\"},{\"attributes\":{\"coordinates\":null,\"data_source\":{\"id\":\"4972\"},\"glyph\":{\"id\":\"4973\"},\"group\":null,\"hover_glyph\":null,\"muted_glyph\":{\"id\":\"4975\"},\"nonselection_glyph\":{\"id\":\"4974\"},\"view\":{\"id\":\"4977\"}},\"id\":\"4976\",\"type\":\"GlyphRenderer\"},{\"attributes\":{\"line_alpha\":0.1,\"line_color\":\"#EC7853\",\"line_dash\":[6],\"line_width\":4,\"x\":{\"field\":\"x\"},\"y\":{\"field\":\"y\"}},\"id\":\"5004\",\"type\":\"Line\"},{\"attributes\":{\"source\":{\"id\":\"4972\"}},\"id\":\"4977\",\"type\":\"CDSView\"},{\"attributes\":{\"data\":{\"x\":{\"__ndarray__\":\"RszpVHBZ77/01MmdGlrvPw==\",\"dtype\":\"float64\",\"order\":\"little\",\"shape\":[2]},\"y\":{\"__ndarray__\":\"reMu0yrXAsCuMKvq91nxPw==\",\"dtype\":\"float64\",\"order\":\"little\",\"shape\":[2]}},\"selected\":{\"id\":\"5082\"},\"selection_policy\":{\"id\":\"5081\"}},\"id\":\"5008\",\"type\":\"ColumnDataSource\"},{\"attributes\":{\"line_color\":\"#CA4678\",\"line_dash\":[6],\"line_width\":4,\"x\":{\"field\":\"x\"},\"y\":{\"field\":\"y\"}},\"id\":\"4985\",\"type\":\"Line\"},{\"attributes\":{\"data\":{\"color\":[\"firebrick\",\"firebrick\",\"firebrick\",\"firebrick\",\"firebrick\",\"firebrick\",\"firebrick\",\"midnightblue\",\"firebrick\",\"firebrick\",\"firebrick\",\"midnightblue\",\"midnightblue\",\"midnightblue\",\"firebrick\",\"firebrick\",\"firebrick\",\"firebrick\",\"firebrick\",\"firebrick\",\"firebrick\",\"firebrick\",\"firebrick\",\"firebrick\",\"firebrick\",\"midnightblue\",\"firebrick\",\"firebrick\",\"firebrick\",\"firebrick\",\"firebrick\",\"firebrick\",\"firebrick\",\"firebrick\",\"firebrick\",\"firebrick\",\"firebrick\",\"firebrick\",\"firebrick\",\"firebrick\",\"firebrick\",\"firebrick\",\"firebrick\",\"midnightblue\",\"midnightblue\",\"firebrick\",\"firebrick\",\"firebrick\",\"firebrick\",\"firebrick\",\"firebrick\",\"firebrick\",\"firebrick\",\"firebrick\",\"firebrick\",\"firebrick\",\"firebrick\",\"firebrick\",\"firebrick\",\"midnightblue\",\"midnightblue\",\"midnightblue\",\"firebrick\",\"firebrick\",\"firebrick\",\"firebrick\",\"firebrick\",\"firebrick\",\"firebrick\",\"firebrick\",\"firebrick\",\"firebrick\",\"firebrick\",\"midnightblue\",\"firebrick\",\"firebrick\",\"firebrick\",\"firebrick\",\"firebrick\",\"firebrick\",\"firebrick\",\"firebrick\",\"firebrick\",\"midnightblue\",\"firebrick\",\"midnightblue\",\"firebrick\",\"midnightblue\",\"firebrick\",\"midnightblue\",\"firebrick\",\"midnightblue\",\"firebrick\",\"firebrick\",\"firebrick\",\"firebrick\",\"firebrick\",\"firebrick\",\"midnightblue\",\"midnightblue\"],\"label\":[\"class 2\",\"class 2\",\"class 2\",\"class 2\",\"class 2\",\"class 2\",\"class 2\",\"class 1\",\"class 2\",\"class 2\",\"class 2\",\"class 1\",\"class 1\",\"class 1\",\"class 2\",\"class 2\",\"class 2\",\"class 2\",\"class 2\",\"class 2\",\"class 2\",\"class 2\",\"class 2\",\"class 2\",\"class 2\",\"class 1\",\"class 2\",\"class 2\",\"class 2\",\"class 2\",\"class 2\",\"class 2\",\"class 2\",\"class 2\",\"class 2\",\"class 2\",\"class 2\",\"class 2\",\"class 2\",\"class 2\",\"class 2\",\"class 2\",\"class 2\",\"class 1\",\"class 1\",\"class 2\",\"class 2\",\"class 2\",\"class 2\",\"class 2\",\"class 2\",\"class 2\",\"class 2\",\"class 2\",\"class 2\",\"class 2\",\"class 2\",\"class 2\",\"class 2\",\"class 1\",\"class 1\",\"class 1\",\"class 2\",\"class 2\",\"class 2\",\"class 2\",\"class 2\",\"class 2\",\"class 2\",\"class 2\",\"class 2\",\"class 2\",\"class 2\",\"class 1\",\"class 2\",\"class 2\",\"class 2\",\"class 2\",\"class 2\",\"class 2\",\"class 2\",\"class 2\",\"class 2\",\"class 1\",\"class 2\",\"class 1\",\"class 2\",\"class 1\",\"class 2\",\"class 1\",\"class 2\",\"class 1\",\"class 2\",\"class 2\",\"class 2\",\"class 2\",\"class 2\",\"class 2\",\"class 1\",\"class 1\"],\"x\":{\"__ndarray__\":\"MIGZshUNs78CpokDmi/oPxyOqZFc1es/RszpVHBZ778gg95lFTG7vxjK5IXgosg/KCE9zGWD2D9Q9iY4xg7uPwgm+MgcodA/qLfm8JS46D/sXwNGOU7eP1SOKPI5yeQ/VgmoSKaG6D8senriKWrgPyhAOHtN4u2/yNzwFojk0r+oUhY8JmPEv7j2rg3Df9o/pJGzyjwu1z8MZ9sdR83TP3RUyJf3Z+e/KLVnF+VKwT8AnZXav1eWP8yUVcf8WOa/cNg1AQt7wz98ghpbB7/nPyAwRU4eHOO/2C3THSNE3j/o09ye+OnFv+BArIAPd8K/rDAc7gcI2z8uNwQRN5Div1gShNG93sq/gL3o1EiUl7/gKcndfO7bv0JY/ER/F+M/AsYj/pTk7r+47ZCSOK/fP3j4iXiapcQ/dAz7Fm3X3r9ocr4bj7HVP1wzQLGMw9u/XKKeK1144T/493koq/nfP4xdwT7E4d8/AIgi2Nm+gD9MdqB6O6bUv7Rdc7ex+9G/7K8nMX4d0r8AnY3AbB3aP67Sel57cu2/4FaX6s5Pur+A0xZMsGzPv3h8zrLZCd2/YFsgsZjZ0r+wtZbxjHXPv4BWGZ3u74E/Nsh1Nnm26L8Av34Fa6PPv1AUAM4BG+M/7l+oCFYE5z9868BsDmTjP6CZTBf3adO/wiNcZfGC4b+6hcbBwb/uvxD4D6YJJNo/kIKJM61Ox7/EeehIucvhv+CtPWMvk9q/UJ1hLTNixr+A8hnLVqmfvyiE/Y8aHMU/+Jw/4/gMyr9MbFIE+CHoP8jxv840n9I/Yn5KIfYY4z849b9BG2Hbv7Qn9QHpV+4/hI26bPQr3b94Gzf9/9Xmv5yXwrC589m/IMQ7g8PHtL/gmM9fad+hvxYIU7F1NuE/hAn3fGwJ6b900BQYuUTjPzbKLtDPPu2/2r3xo84R5T9AvMVd+YeeP/znOKPY2dk/+oiA9bYJ4D8yagHnWSXvP1RPPzDYIuS/ELPFUcMZ27/kNdxc0bDSv8j1zjV1NcW/gI0StkWe0L+QEqh6RybOv8pa7QPsr+I/9NTJnRpa7z8=\",\"dtype\":\"float64\",\"order\":\"little\",\"shape\":[100]},\"y\":{\"__ndarray__\":\"EssHWEuk7z+aAEAkZBvqP6rylpyR9e4/iOBWAf7v3T/Q/1S/QzfDvyBhFPYUFLo/nMQBE0Q51D8w6uCa1WHGP3SpdyipFNQ/JMXst3sZ2j80fn6UqS/WP+h7AJxtJc2/hMd437N92r+kyX3v/5LTv+j8DNzFW82/zEH6YwFS3r/I0tjqS1Xqv3C+ffNn+rY/gMF5cOFkuD+UKjP4Zd3sP8TwW/UHHNA/7FfttHYD5L9GqEYdUP7lv1DOxqgo3d0/8P7ndUQQ4j9AlwNr0yauv9w5JVLO1eS/DDZ2cbJF5D9YgyNIxnfKv4CNIqE2Z9E/mKEjt9ZCyD8A0J3Ge8Kuv06t0ktYaOW/uOaLxtK1xT+8XpTrmr3tP1gva+l6iNs/YCkPyW69rr9UmB0VzCbsPxhKwc67eN6/LvbgjK285T+8Evx+kXXcP+SAB0JDxta/PBIcN3Ik4z8YuTtc2tLRv5iXhQXULsS/KGAAIqzf7z9O74bHoOXlvwQnlQsJjNs/RCEyxlxQ1z9U62CieDnlP/DkPhyQn+E/EJuqpr/SuT/Et3yohu7ZP9zu6txI3eg/PKLotcCs7T9oD475OQjSPxiqGiBxL94/5iSGSHBD6z9aiP8r3O3uP7D54t39kMq/gMshddOaij92qcsQwN3nv3gXzRjc880/mEwpBbm+wr+INJpDFxLvv7CZFy3wG8m/7Lzpumbi678QpEJcrc/nP/SI/OBdgOG/cEzH3pFrzb+IN5vHUHjQP7QhoKDFZOQ/gOS2HI3+sb/4NoynYYfCPwD+LZr613K/aG7uNuwozD8uZHQmbC3pv2A42WnEr+w/Np7BNxiC7j/Qp6Fvota1v5oloJZ4D+c/ZI2rrt1/4L/2mMKZYd3tv7xvtuIABdK/9KJjxF4J5T+iylcG08Tmv3rz2HRFhea/jOfHcFQR3L8oNus3WrHmP7jqwF/6/de//hl967X16D+ATF22HuuAv2A6eZyJdMK/3MpOYg+B6z+y175BCQvvv+ykkWef8+Q/lDcks3f54z+AHeTimUnoP1RrZJXacte/RNYIBABB0z8=\",\"dtype\":\"float64\",\"order\":\"little\",\"shape\":[100]}},\"selected\":{\"id\":\"4924\"},\"selection_policy\":{\"id\":\"4923\"}},\"id\":\"4909\",\"type\":\"ColumnDataSource\"},{\"attributes\":{\"line_alpha\":0.1,\"line_color\":\"#AD2692\",\"line_dash\":[6],\"line_width\":4,\"x\":{\"field\":\"x\"},\"y\":{\"field\":\"y\"}},\"id\":\"4974\",\"type\":\"Line\"},{\"attributes\":{\"source\":{\"id\":\"5002\"}},\"id\":\"5007\",\"type\":\"CDSView\"},{\"attributes\":{},\"id\":\"4883\",\"type\":\"LinearScale\"},{\"attributes\":{\"coordinates\":null,\"data_source\":{\"id\":\"5002\"},\"glyph\":{\"id\":\"5003\"},\"group\":null,\"hover_glyph\":null,\"muted_glyph\":{\"id\":\"5005\"},\"nonselection_glyph\":{\"id\":\"5004\"},\"view\":{\"id\":\"5007\"}},\"id\":\"5006\",\"type\":\"GlyphRenderer\"},{\"attributes\":{\"line_alpha\":0.2,\"line_color\":\"#45039E\",\"line_dash\":[6],\"line_width\":4,\"x\":{\"field\":\"x\"},\"y\":{\"field\":\"y\"}},\"id\":\"4945\",\"type\":\"Line\"},{\"attributes\":{\"line_alpha\":0.2,\"line_color\":\"#F48A47\",\"line_dash\":[6],\"line_width\":4,\"x\":{\"field\":\"x\"},\"y\":{\"field\":\"y\"}},\"id\":\"5011\",\"type\":\"Line\"},{\"attributes\":{\"bottom_units\":\"screen\",\"coordinates\":null,\"fill_alpha\":0.5,\"fill_color\":\"lightgrey\",\"group\":null,\"left_units\":\"screen\",\"level\":\"overlay\",\"line_alpha\":1.0,\"line_color\":\"black\",\"line_dash\":[4,4],\"line_width\":2,\"right_units\":\"screen\",\"syncable\":false,\"top_units\":\"screen\"},\"id\":\"4901\",\"type\":\"BoxAnnotation\"},{\"attributes\":{\"data\":{\"x\":{\"__ndarray__\":\"RszpVHBZ77/01MmdGlrvPw==\",\"dtype\":\"float64\",\"order\":\"little\",\"shape\":[2]},\"y\":{\"__ndarray__\":\"rfjblMpHBsCF4OSaZJXaPw==\",\"dtype\":\"float64\",\"order\":\"little\",\"shape\":[2]}},\"selected\":{\"id\":\"5080\"},\"selection_policy\":{\"id\":\"5079\"}},\"id\":\"5002\",\"type\":\"ColumnDataSource\"},{\"attributes\":{\"coordinates\":null,\"data_source\":{\"id\":\"4942\"},\"glyph\":{\"id\":\"4943\"},\"group\":null,\"hover_glyph\":null,\"muted_glyph\":{\"id\":\"4945\"},\"nonselection_glyph\":{\"id\":\"4944\"},\"view\":{\"id\":\"4947\"}},\"id\":\"4946\",\"type\":\"GlyphRenderer\"},{\"attributes\":{\"line_alpha\":0.1,\"line_color\":\"#F8DF24\",\"line_dash\":[6],\"line_width\":4,\"x\":{\"field\":\"x\"},\"y\":{\"field\":\"y\"}},\"id\":\"5034\",\"type\":\"Line\"},{\"attributes\":{\"line_color\":\"#F48A47\",\"line_dash\":[6],\"line_width\":4,\"x\":{\"field\":\"x\"},\"y\":{\"field\":\"y\"}},\"id\":\"5009\",\"type\":\"Line\"},{\"attributes\":{\"source\":{\"id\":\"4942\"}},\"id\":\"4947\",\"type\":\"CDSView\"},{\"attributes\":{\"line_alpha\":0.1,\"line_color\":\"#E26660\",\"line_dash\":[6],\"line_width\":4,\"x\":{\"field\":\"x\"},\"y\":{\"field\":\"y\"}},\"id\":\"4998\",\"type\":\"Line\"},{\"attributes\":{\"line_alpha\":0.2,\"line_color\":\"#5C00A5\",\"line_dash\":[6],\"line_width\":4,\"x\":{\"field\":\"x\"},\"y\":{\"field\":\"y\"}},\"id\":\"4951\",\"type\":\"Line\"},{\"attributes\":{},\"id\":\"4924\",\"type\":\"Selection\"},{\"attributes\":{\"coordinates\":null,\"data_source\":{\"id\":\"5038\"},\"glyph\":{\"id\":\"5039\"},\"group\":null,\"hover_glyph\":null,\"muted_glyph\":{\"id\":\"5041\"},\"nonselection_glyph\":{\"id\":\"5040\"},\"view\":{\"id\":\"5043\"}},\"id\":\"5042\",\"type\":\"GlyphRenderer\"},{\"attributes\":{\"line_color\":\"#5C00A5\",\"line_dash\":[6],\"line_width\":4,\"x\":{\"field\":\"x\"},\"y\":{\"field\":\"y\"}},\"id\":\"4949\",\"type\":\"Line\"},{\"attributes\":{\"source\":{\"id\":\"4996\"}},\"id\":\"5001\",\"type\":\"CDSView\"},{\"attributes\":{\"line_color\":\"#7200A8\",\"line_dash\":[6],\"line_width\":4,\"x\":{\"field\":\"x\"},\"y\":{\"field\":\"y\"}},\"id\":\"4955\",\"type\":\"Line\"},{\"attributes\":{\"coordinates\":null,\"data_source\":{\"id\":\"4996\"},\"glyph\":{\"id\":\"4997\"},\"group\":null,\"hover_glyph\":null,\"muted_glyph\":{\"id\":\"4999\"},\"nonselection_glyph\":{\"id\":\"4998\"},\"view\":{\"id\":\"5001\"}},\"id\":\"5000\",\"type\":\"GlyphRenderer\"},{\"attributes\":{\"data\":{\"x\":{\"__ndarray__\":\"RszpVHBZ77/01MmdGlrvPw==\",\"dtype\":\"float64\",\"order\":\"little\",\"shape\":[2]},\"y\":{\"__ndarray__\":\"+mTq3XnT3z81DeVG8oYOwA==\",\"dtype\":\"float64\",\"order\":\"little\",\"shape\":[2]}},\"selected\":{\"id\":\"5062\"},\"selection_policy\":{\"id\":\"5061\"}},\"id\":\"4948\",\"type\":\"ColumnDataSource\"},{\"attributes\":{},\"id\":\"5087\",\"type\":\"UnionRenderers\"},{\"attributes\":{\"line_alpha\":0.2,\"line_color\":\"#EC7853\",\"line_dash\":[6],\"line_width\":4,\"x\":{\"field\":\"x\"},\"y\":{\"field\":\"y\"}},\"id\":\"5005\",\"type\":\"Line\"},{\"attributes\":{\"line_alpha\":0.2,\"line_color\":\"#7200A8\",\"line_dash\":[6],\"line_width\":4,\"x\":{\"field\":\"x\"},\"y\":{\"field\":\"y\"}},\"id\":\"4957\",\"type\":\"Line\"},{\"attributes\":{\"data\":{\"x\":{\"__ndarray__\":\"RszpVHBZ77/01MmdGlrvPw==\",\"dtype\":\"float64\",\"order\":\"little\",\"shape\":[2]},\"y\":{\"__ndarray__\":\"5v77dMBfAcDDEnH67DrrPw==\",\"dtype\":\"float64\",\"order\":\"little\",\"shape\":[2]}},\"selected\":{\"id\":\"5078\"},\"selection_policy\":{\"id\":\"5077\"}},\"id\":\"4996\",\"type\":\"ColumnDataSource\"},{\"attributes\":{\"coordinates\":null,\"data_source\":{\"id\":\"4948\"},\"glyph\":{\"id\":\"4949\"},\"group\":null,\"hover_glyph\":null,\"muted_glyph\":{\"id\":\"4951\"},\"nonselection_glyph\":{\"id\":\"4950\"},\"view\":{\"id\":\"4953\"}},\"id\":\"4952\",\"type\":\"GlyphRenderer\"},{\"attributes\":{\"line_color\":\"#EC7853\",\"line_dash\":[6],\"line_width\":4,\"x\":{\"field\":\"x\"},\"y\":{\"field\":\"y\"}},\"id\":\"5003\",\"type\":\"Line\"},{\"attributes\":{\"source\":{\"id\":\"4948\"}},\"id\":\"4953\",\"type\":\"CDSView\"},{\"attributes\":{},\"id\":\"5088\",\"type\":\"Selection\"},{\"attributes\":{\"line_alpha\":0.1,\"line_color\":\"#D7566C\",\"line_dash\":[6],\"line_width\":4,\"x\":{\"field\":\"x\"},\"y\":{\"field\":\"y\"}},\"id\":\"4992\",\"type\":\"Line\"},{\"attributes\":{\"client_comm_id\":\"27b590d5fa174b39a388fb908cd37943\",\"comm_id\":\"b0c12d046e2444f590c4ca280692ed0d\",\"plot_id\":\"5044\"},\"id\":\"5287\",\"type\":\"panel.models.comm_manager.CommManager\"},{\"attributes\":{\"source\":{\"id\":\"4990\"}},\"id\":\"4995\",\"type\":\"CDSView\"},{\"attributes\":{\"line_alpha\":0.1,\"line_color\":\"#5C00A5\",\"line_dash\":[6],\"line_width\":4,\"x\":{\"field\":\"x\"},\"y\":{\"field\":\"y\"}},\"id\":\"4950\",\"type\":\"Line\"},{\"attributes\":{\"line_color\":\"#9B179E\",\"line_dash\":[6],\"line_width\":4,\"x\":{\"field\":\"x\"},\"y\":{\"field\":\"y\"}},\"id\":\"4967\",\"type\":\"Line\"},{\"attributes\":{\"coordinates\":null,\"data_source\":{\"id\":\"4990\"},\"glyph\":{\"id\":\"4991\"},\"group\":null,\"hover_glyph\":null,\"muted_glyph\":{\"id\":\"4993\"},\"nonselection_glyph\":{\"id\":\"4992\"},\"view\":{\"id\":\"4995\"}},\"id\":\"4994\",\"type\":\"GlyphRenderer\"},{\"attributes\":{\"data\":{\"x\":{\"__ndarray__\":\"RszpVHBZ77/01MmdGlrvPw==\",\"dtype\":\"float64\",\"order\":\"little\",\"shape\":[2]},\"y\":{\"__ndarray__\":\"FVG+W76Izz9nYMGtmTAFwA==\",\"dtype\":\"float64\",\"order\":\"little\",\"shape\":[2]}},\"selected\":{\"id\":\"5064\"},\"selection_policy\":{\"id\":\"5063\"}},\"id\":\"4954\",\"type\":\"ColumnDataSource\"},{\"attributes\":{\"line_color\":\"#8607A6\",\"line_dash\":[6],\"line_width\":4,\"x\":{\"field\":\"x\"},\"y\":{\"field\":\"y\"}},\"id\":\"4961\",\"type\":\"Line\"},{\"attributes\":{\"coordinates\":null,\"data_source\":{\"id\":\"4954\"},\"glyph\":{\"id\":\"4955\"},\"group\":null,\"hover_glyph\":null,\"muted_glyph\":{\"id\":\"4957\"},\"nonselection_glyph\":{\"id\":\"4956\"},\"view\":{\"id\":\"4959\"}},\"id\":\"4958\",\"type\":\"GlyphRenderer\"},{\"attributes\":{\"source\":{\"id\":\"4954\"}},\"id\":\"4959\",\"type\":\"CDSView\"},{\"attributes\":{\"line_alpha\":0.2,\"line_color\":\"#8607A6\",\"line_dash\":[6],\"line_width\":4,\"x\":{\"field\":\"x\"},\"y\":{\"field\":\"y\"}},\"id\":\"4963\",\"type\":\"Line\"}],\"root_ids\":[\"5044\",\"5287\"]},\"title\":\"Bokeh Application\",\"version\":\"2.4.3\"}};\n",
       "    var render_items = [{\"docid\":\"5a1a8aa2-2589-4707-877d-06f047f067b6\",\"root_ids\":[\"5044\"],\"roots\":{\"5044\":\"73e67939-cbe2-4b21-bd0b-207855bf35ba\"}}];\n",
       "    root.Bokeh.embed.embed_items_notebook(docs_json, render_items);\n",
       "    for (const render_item of render_items) {\n",
       "      for (const root_id of render_item.root_ids) {\n",
       "\tconst id_el = document.getElementById(root_id)\n",
       "\tif (id_el.children.length && (id_el.children[0].className === 'bk-root')) {\n",
       "\t  const root_el = id_el.children[0]\n",
       "\t  root_el.id = root_el.id + '-rendered'\n",
       "\t}\n",
       "      }\n",
       "    }\n",
       "  }\n",
       "  if (root.Bokeh !== undefined && root.Bokeh.Panel !== undefined) {\n",
       "    embed_document(root);\n",
       "  } else {\n",
       "    var attempts = 0;\n",
       "    var timer = setInterval(function(root) {\n",
       "      if (root.Bokeh !== undefined && root.Bokeh.Panel !== undefined) {\n",
       "        clearInterval(timer);\n",
       "        embed_document(root);\n",
       "      } else if (document.readyState == \"complete\") {\n",
       "        attempts++;\n",
       "        if (attempts > 200) {\n",
       "          clearInterval(timer);\n",
       "          console.log(\"Bokeh: ERROR: Unable to run BokehJS code because BokehJS library is missing\");\n",
       "        }\n",
       "      }\n",
       "    }, 25, root)\n",
       "  }\n",
       "})(window);</script>"
      ],
      "text/plain": [
       "Row\n",
       "    [0] HSpacer()\n",
       "    [1] Bokeh(Figure)\n",
       "    [2] HSpacer()"
      ]
     },
     "execution_count": 25,
     "metadata": {
      "application/vnd.holoviews_exec.v0+json": {
       "id": "5044"
      }
     },
     "output_type": "execute_result"
    }
   ],
   "source": [
    "verbose = False\n",
    "weights_history[0] = weights\n",
    "bias_history[0] = bias\n",
    "# Update loop\n",
    "for i in range(n_epochs):\n",
    "    \n",
    "    ######################\n",
    "    # YOUR CODE GOES HERE\n",
    "    ######################\n",
    "    \n",
    "    \n",
    "    ######################\n",
    "    # Solution  \n",
    "    y_bar = np.dot(weights, x_inputs.T) + bias > 0\n",
    "    if np.sum(np.abs(y_bar - y_class)) == 0:\n",
    "        break\n",
    "    error = y_class - y_bar\n",
    "    print(error.shape, x_inputs.shape)\n",
    "    weights = weights + eta * (np.dot(error, x_inputs))\n",
    "    bias = bias + eta * (np.sum(error))\n",
    "    ######################\n",
    "    \n",
    "    weights_history[i + 1] = weights\n",
    "    bias_history[i + 1] = bias\n",
    "    \n",
    "    if (verbose):\n",
    "        print('%2d. error = %f, weights = %f, %f, %f' % (i, np.sum(np.abs(error)) / n_observations, bias[0, 0], weights[0, 0], weights[0, 1]))\n",
    "plot = center_plot(scatter_boundary(x_inputs, y_class, weights_history, bias_history, i + 1))\n",
    "plot"
   ]
  },
  {
   "attachments": {},
   "cell_type": "markdown",
   "metadata": {},
   "source": [
    "### Neuron implementation in `JAX`\n",
    "\n",
    "As seen in the previous course, the `NumPy` implementation requires us to perform manual differentiation of our loss function to understand how to update the parameters. However, the recent [`JAX`](https://github.com/google/jax) library provides **automatic differentiation** on top of the `NumPy` library. If you have not yet completed the set of [tutorials](https://jax.readthedocs.io/en/latest/), we strongly encourage you to do so. We will introduce a few more functions compared to last time, but we try to keep the implementation as simple as possible on purpose."
   ]
  },
  {
   "cell_type": "code",
   "execution_count": 7,
   "metadata": {},
   "outputs": [],
   "source": [
    "import jax.numpy as jnp\n",
    "from jax import grad, jit, random\n",
    "key = random.PRNGKey(42)"
   ]
  },
  {
   "attachments": {},
   "cell_type": "markdown",
   "metadata": {},
   "source": [
    "We keep our previousmy generated dataset but we will rely on `jnp.ndarray` instead of `np.ndarray`, by simply casting the arrays to JAX-compliant ones."
   ]
  },
  {
   "cell_type": "code",
   "execution_count": 8,
   "metadata": {},
   "outputs": [],
   "source": [
    "x_jax = jnp.asarray(x_inputs)\n",
    "y_jax = jnp.asarray(y_class)"
   ]
  },
  {
   "attachments": {},
   "cell_type": "markdown",
   "metadata": {},
   "source": [
    "We will also keep the same hyperparameters as previously (see `eta`, `lambda_r` and `n_epochs` above) and randomly initialize our parameters "
   ]
  },
  {
   "cell_type": "code",
   "execution_count": 9,
   "metadata": {},
   "outputs": [],
   "source": [
    "eta = 0.01\n",
    "# Perform key splitting\n",
    "key_w, key_b, key = random.split(key, 3)\n",
    "# Initialize the weights\n",
    "weights = random.normal(key_w, (1, 2));\n",
    "bias = random.normal(key_b, (1, 1));\n",
    "# Save the weight history for plotting\n",
    "weights_history = jnp.zeros((n_epochs + 1, 2));\n",
    "bias_history = jnp.zeros((n_epochs + 1, 1));\n",
    "# Record the first \n",
    "weights_history = weights_history.at[0].set(weights[0])\n",
    "bias_history = bias_history.at[0].set(bias[0])"
   ]
  },
  {
   "attachments": {},
   "cell_type": "markdown",
   "metadata": {},
   "source": [
    "As we discussed earlier, the original model by McCulloch & Pitts has several issues regarding its use for numerical optimization (as it was originally observed from a neuroscience point of view)\n",
    "\n",
    "***\n",
    "\n",
    "<div class=\"alert alert-success\" markdown=\"1\" style=\"color:white; background-color: #410819; border-color: #cb2e47\">\n",
    "\n",
    "> **Changes from the `NumPy` implementation**\n",
    ">   1. (Smoothness) Our _activation function_ will change from _identity_ to sigmoid, i.e. $ \\phi(\\mathbf{x}) = \\frac{1}{1 + e^{-\\mathbf{x}}} $\n",
    ">   2. (Outliers) Our _loss function_ will change from $ L_{1} $ to $ L_{2} $ (MSE - Mean Squared Error)\n",
    "\n",
    "</div>\n",
    "\n",
    "***\n",
    "\n",
    "As discussed in the previous course, for using the very handy `grad` function provided by `JAX`, we need to define the whole forward function that we want to derive given our parameters. Hence this function also needs to **contain the forward pass**. This is summarized in the following function"
   ]
  },
  {
   "cell_type": "code",
   "execution_count": 10,
   "metadata": {},
   "outputs": [],
   "source": [
    "import jax\n",
    "# Single neuron full function\n",
    "def loss_function(x, y, w, b):\n",
    "    # Forward pass\n",
    "    y_bar = jax.nn.sigmoid(jnp.dot(w, x.T) + b)\n",
    "    # Error computation\n",
    "    error = jnp.sum((y_bar - y) ** 2)\n",
    "    return error\n",
    "# Gradient of the loss\n",
    "grad_loss_function = jit(grad(loss_function, argnums=[2, 3]))"
   ]
  },
  {
   "attachments": {},
   "cell_type": "markdown",
   "metadata": {},
   "source": [
    "Finally, we can now define the main training loop, which is almost exactly similar to the previously defined one minus the gradient computation operations. "
   ]
  },
  {
   "cell_type": "code",
   "execution_count": 11,
   "metadata": {},
   "outputs": [
    {
     "data": {},
     "metadata": {},
     "output_type": "display_data"
    },
    {
     "data": {
      "application/vnd.holoviews_exec.v0+json": "",
      "text/html": [
       "<div id='3138'>\n",
       "  <div class=\"bk-root\" id=\"8e0c35ad-1e1b-476c-aa1b-ac50ac3c5c70\" data-root-id=\"3138\"></div>\n",
       "</div>\n",
       "<script type=\"application/javascript\">(function(root) {\n",
       "  function embed_document(root) {\n",
       "    var docs_json = {\"bc78eec4-641f-4915-9651-2460d2412e04\":{\"defs\":[{\"extends\":null,\"module\":null,\"name\":\"ReactiveHTML1\",\"overrides\":[],\"properties\":[]},{\"extends\":null,\"module\":null,\"name\":\"FlexBox1\",\"overrides\":[],\"properties\":[{\"default\":\"flex-start\",\"kind\":null,\"name\":\"align_content\"},{\"default\":\"flex-start\",\"kind\":null,\"name\":\"align_items\"},{\"default\":\"row\",\"kind\":null,\"name\":\"flex_direction\"},{\"default\":\"wrap\",\"kind\":null,\"name\":\"flex_wrap\"},{\"default\":\"flex-start\",\"kind\":null,\"name\":\"justify_content\"}]},{\"extends\":null,\"module\":null,\"name\":\"GridStack1\",\"overrides\":[],\"properties\":[{\"default\":\"warn\",\"kind\":null,\"name\":\"mode\"},{\"default\":null,\"kind\":null,\"name\":\"ncols\"},{\"default\":null,\"kind\":null,\"name\":\"nrows\"},{\"default\":true,\"kind\":null,\"name\":\"allow_resize\"},{\"default\":true,\"kind\":null,\"name\":\"allow_drag\"},{\"default\":[],\"kind\":null,\"name\":\"state\"}]},{\"extends\":null,\"module\":null,\"name\":\"click1\",\"overrides\":[],\"properties\":[{\"default\":\"\",\"kind\":null,\"name\":\"terminal_output\"},{\"default\":\"\",\"kind\":null,\"name\":\"debug_name\"},{\"default\":0,\"kind\":null,\"name\":\"clears\"}]},{\"extends\":null,\"module\":null,\"name\":\"NotificationAreaBase1\",\"overrides\":[],\"properties\":[{\"default\":\"bottom-right\",\"kind\":null,\"name\":\"position\"},{\"default\":0,\"kind\":null,\"name\":\"_clear\"}]},{\"extends\":null,\"module\":null,\"name\":\"NotificationArea1\",\"overrides\":[],\"properties\":[{\"default\":[],\"kind\":null,\"name\":\"notifications\"},{\"default\":\"bottom-right\",\"kind\":null,\"name\":\"position\"},{\"default\":0,\"kind\":null,\"name\":\"_clear\"},{\"default\":[{\"background\":\"#ffc107\",\"icon\":{\"className\":\"fas fa-exclamation-triangle\",\"color\":\"white\",\"tagName\":\"i\"},\"type\":\"warning\"},{\"background\":\"#007bff\",\"icon\":{\"className\":\"fas fa-info-circle\",\"color\":\"white\",\"tagName\":\"i\"},\"type\":\"info\"}],\"kind\":null,\"name\":\"types\"}]},{\"extends\":null,\"module\":null,\"name\":\"Notification\",\"overrides\":[],\"properties\":[{\"default\":null,\"kind\":null,\"name\":\"background\"},{\"default\":3000,\"kind\":null,\"name\":\"duration\"},{\"default\":null,\"kind\":null,\"name\":\"icon\"},{\"default\":\"\",\"kind\":null,\"name\":\"message\"},{\"default\":null,\"kind\":null,\"name\":\"notification_type\"},{\"default\":false,\"kind\":null,\"name\":\"_destroyed\"}]},{\"extends\":null,\"module\":null,\"name\":\"TemplateActions1\",\"overrides\":[],\"properties\":[{\"default\":0,\"kind\":null,\"name\":\"open_modal\"},{\"default\":0,\"kind\":null,\"name\":\"close_modal\"}]},{\"extends\":null,\"module\":null,\"name\":\"MaterialTemplateActions1\",\"overrides\":[],\"properties\":[{\"default\":0,\"kind\":null,\"name\":\"open_modal\"},{\"default\":0,\"kind\":null,\"name\":\"close_modal\"}]}],\"roots\":{\"references\":[{\"attributes\":{\"data\":{\"x\":{\"__ndarray__\":\"oIqVXHBz77+U24wJB/nvPw==\",\"dtype\":\"float64\",\"order\":\"little\",\"shape\":[2]},\"y\":{\"__ndarray__\":\"ouxZnLOSFcC7fMreRNEbQA==\",\"dtype\":\"float64\",\"order\":\"little\",\"shape\":[2]}},\"selected\":{\"id\":\"3216\"},\"selection_policy\":{\"id\":\"3215\"}},\"id\":\"3036\",\"type\":\"ColumnDataSource\"},{\"attributes\":{},\"id\":\"3229\",\"type\":\"UnionRenderers\"},{\"attributes\":{\"line_color\":\"#F0804D\",\"line_dash\":[6],\"line_width\":4,\"x\":{\"field\":\"x\"},\"y\":{\"field\":\"y\"}},\"id\":\"3043\",\"type\":\"Line\"},{\"attributes\":{\"line_color\":\"#ED7952\",\"line_dash\":[6],\"line_width\":4,\"x\":{\"field\":\"x\"},\"y\":{\"field\":\"y\"}},\"id\":\"3037\",\"type\":\"Line\"},{\"attributes\":{\"line_alpha\":0.2,\"line_color\":\"#ED7952\",\"line_dash\":[6],\"line_width\":4,\"x\":{\"field\":\"x\"},\"y\":{\"field\":\"y\"}},\"id\":\"3039\",\"type\":\"Line\"},{\"attributes\":{},\"id\":\"3230\",\"type\":\"Selection\"},{\"attributes\":{\"line_alpha\":0.2,\"line_color\":\"#F0804D\",\"line_dash\":[6],\"line_width\":4,\"x\":{\"field\":\"x\"},\"y\":{\"field\":\"y\"}},\"id\":\"3045\",\"type\":\"Line\"},{\"attributes\":{},\"id\":\"3153\",\"type\":\"UnionRenderers\"},{\"attributes\":{\"coordinates\":null,\"data_source\":{\"id\":\"3036\"},\"glyph\":{\"id\":\"3037\"},\"group\":null,\"hover_glyph\":null,\"muted_glyph\":{\"id\":\"3039\"},\"nonselection_glyph\":{\"id\":\"3038\"},\"view\":{\"id\":\"3041\"}},\"id\":\"3040\",\"type\":\"GlyphRenderer\"},{\"attributes\":{\"source\":{\"id\":\"3036\"}},\"id\":\"3041\",\"type\":\"CDSView\"},{\"attributes\":{},\"id\":\"3191\",\"type\":\"UnionRenderers\"},{\"attributes\":{},\"id\":\"3248\",\"type\":\"Selection\"},{\"attributes\":{},\"id\":\"3154\",\"type\":\"Selection\"},{\"attributes\":{\"line_alpha\":0.1,\"line_color\":\"#ED7952\",\"line_dash\":[6],\"line_width\":4,\"x\":{\"field\":\"x\"},\"y\":{\"field\":\"y\"}},\"id\":\"3038\",\"type\":\"Line\"},{\"attributes\":{\"fill_alpha\":{\"value\":0.6},\"fill_color\":{\"field\":\"color\"},\"hatch_alpha\":{\"value\":0.6},\"hatch_color\":{\"field\":\"color\"},\"line_alpha\":{\"value\":0.6},\"line_color\":{\"value\":\"white\"},\"size\":{\"value\":10},\"x\":{\"field\":\"x\"},\"y\":{\"field\":\"y\"}},\"id\":\"2819\",\"type\":\"Circle\"},{\"attributes\":{\"line_color\":\"#F38748\",\"line_dash\":[6],\"line_width\":4,\"x\":{\"field\":\"x\"},\"y\":{\"field\":\"y\"}},\"id\":\"3049\",\"type\":\"Line\"},{\"attributes\":{},\"id\":\"3192\",\"type\":\"Selection\"},{\"attributes\":{\"data\":{\"x\":{\"__ndarray__\":\"oIqVXHBz77+U24wJB/nvPw==\",\"dtype\":\"float64\",\"order\":\"little\",\"shape\":[2]},\"y\":{\"__ndarray__\":\"dSexf0tsFMD4PCJZvlUaQA==\",\"dtype\":\"float64\",\"order\":\"little\",\"shape\":[2]}},\"selected\":{\"id\":\"3218\"},\"selection_policy\":{\"id\":\"3217\"}},\"id\":\"3042\",\"type\":\"ColumnDataSource\"},{\"attributes\":{\"line_alpha\":0.2,\"line_color\":\"#F38748\",\"line_dash\":[6],\"line_width\":4,\"x\":{\"field\":\"x\"},\"y\":{\"field\":\"y\"}},\"id\":\"3051\",\"type\":\"Line\"},{\"attributes\":{\"coordinates\":null,\"data_source\":{\"id\":\"3042\"},\"glyph\":{\"id\":\"3043\"},\"group\":null,\"hover_glyph\":null,\"muted_glyph\":{\"id\":\"3045\"},\"nonselection_glyph\":{\"id\":\"3044\"},\"view\":{\"id\":\"3047\"}},\"id\":\"3046\",\"type\":\"GlyphRenderer\"},{\"attributes\":{\"source\":{\"id\":\"3042\"}},\"id\":\"3047\",\"type\":\"CDSView\"},{\"attributes\":{},\"id\":\"2832\",\"type\":\"Selection\"},{\"attributes\":{\"line_alpha\":0.1,\"line_color\":\"#F0804D\",\"line_dash\":[6],\"line_width\":4,\"x\":{\"field\":\"x\"},\"y\":{\"field\":\"y\"}},\"id\":\"3044\",\"type\":\"Line\"},{\"attributes\":{\"line_color\":\"#F68E44\",\"line_dash\":[6],\"line_width\":4,\"x\":{\"field\":\"x\"},\"y\":{\"field\":\"y\"}},\"id\":\"3055\",\"type\":\"Line\"},{\"attributes\":{},\"id\":\"2831\",\"type\":\"UnionRenderers\"},{\"attributes\":{\"data\":{\"x\":{\"__ndarray__\":\"oIqVXHBz77+U24wJB/nvPw==\",\"dtype\":\"float64\",\"order\":\"little\",\"shape\":[2]},\"y\":{\"__ndarray__\":\"Qafr+bVtE8C9b/wAiw0ZQA==\",\"dtype\":\"float64\",\"order\":\"little\",\"shape\":[2]}},\"selected\":{\"id\":\"3220\"},\"selection_policy\":{\"id\":\"3219\"}},\"id\":\"3048\",\"type\":\"ColumnDataSource\"},{\"attributes\":{\"line_alpha\":0.2,\"line_color\":\"#F68E44\",\"line_dash\":[6],\"line_width\":4,\"x\":{\"field\":\"x\"},\"y\":{\"field\":\"y\"}},\"id\":\"3057\",\"type\":\"Line\"},{\"attributes\":{},\"id\":\"3231\",\"type\":\"UnionRenderers\"},{\"attributes\":{\"coordinates\":null,\"data_source\":{\"id\":\"3048\"},\"glyph\":{\"id\":\"3049\"},\"group\":null,\"hover_glyph\":null,\"muted_glyph\":{\"id\":\"3051\"},\"nonselection_glyph\":{\"id\":\"3050\"},\"view\":{\"id\":\"3053\"}},\"id\":\"3052\",\"type\":\"GlyphRenderer\"},{\"attributes\":{\"source\":{\"id\":\"3048\"}},\"id\":\"3053\",\"type\":\"CDSView\"},{\"attributes\":{},\"id\":\"3232\",\"type\":\"Selection\"},{\"attributes\":{\"line_alpha\":0.1,\"line_color\":\"#F38748\",\"line_dash\":[6],\"line_width\":4,\"x\":{\"field\":\"x\"},\"y\":{\"field\":\"y\"}},\"id\":\"3050\",\"type\":\"Line\"},{\"attributes\":{},\"id\":\"3155\",\"type\":\"UnionRenderers\"},{\"attributes\":{\"line_color\":\"#F89540\",\"line_dash\":[6],\"line_width\":4,\"x\":{\"field\":\"x\"},\"y\":{\"field\":\"y\"}},\"id\":\"3061\",\"type\":\"Line\"},{\"attributes\":{\"data\":{\"x\":{\"__ndarray__\":\"oIqVXHBz77+U24wJB/nvPw==\",\"dtype\":\"float64\",\"order\":\"little\",\"shape\":[2]},\"y\":{\"__ndarray__\":\"XcpFB2uPEsDq6tfG+e4XQA==\",\"dtype\":\"float64\",\"order\":\"little\",\"shape\":[2]}},\"selected\":{\"id\":\"3222\"},\"selection_policy\":{\"id\":\"3221\"}},\"id\":\"3054\",\"type\":\"ColumnDataSource\"},{\"attributes\":{},\"id\":\"3193\",\"type\":\"UnionRenderers\"},{\"attributes\":{\"line_alpha\":0.2,\"line_color\":\"#F89540\",\"line_dash\":[6],\"line_width\":4,\"x\":{\"field\":\"x\"},\"y\":{\"field\":\"y\"}},\"id\":\"3063\",\"type\":\"Line\"},{\"attributes\":{},\"id\":\"3156\",\"type\":\"Selection\"},{\"attributes\":{\"coordinates\":null,\"data_source\":{\"id\":\"3054\"},\"glyph\":{\"id\":\"3055\"},\"group\":null,\"hover_glyph\":null,\"muted_glyph\":{\"id\":\"3057\"},\"nonselection_glyph\":{\"id\":\"3056\"},\"view\":{\"id\":\"3059\"}},\"id\":\"3058\",\"type\":\"GlyphRenderer\"},{\"attributes\":{\"source\":{\"id\":\"3054\"}},\"id\":\"3059\",\"type\":\"CDSView\"},{\"attributes\":{},\"id\":\"3194\",\"type\":\"Selection\"},{\"attributes\":{\"fill_alpha\":{\"value\":0.1},\"fill_color\":{\"field\":\"color\"},\"hatch_alpha\":{\"value\":0.1},\"hatch_color\":{\"field\":\"color\"},\"line_alpha\":{\"value\":0.1},\"line_color\":{\"value\":\"white\"},\"size\":{\"value\":10},\"x\":{\"field\":\"x\"},\"y\":{\"field\":\"y\"}},\"id\":\"2820\",\"type\":\"Circle\"},{\"attributes\":{\"line_alpha\":0.1,\"line_color\":\"#F68E44\",\"line_dash\":[6],\"line_width\":4,\"x\":{\"field\":\"x\"},\"y\":{\"field\":\"y\"}},\"id\":\"3056\",\"type\":\"Line\"},{\"attributes\":{\"line_color\":\"#FA9C3B\",\"line_dash\":[6],\"line_width\":4,\"x\":{\"field\":\"x\"},\"y\":{\"field\":\"y\"}},\"id\":\"3067\",\"type\":\"Line\"},{\"attributes\":{\"coordinates\":null,\"data_source\":{\"id\":\"2817\"},\"glyph\":{\"id\":\"2819\"},\"group\":null,\"hover_glyph\":null,\"muted_glyph\":{\"id\":\"2821\"},\"nonselection_glyph\":{\"id\":\"2820\"},\"view\":{\"id\":\"2823\"}},\"id\":\"2822\",\"type\":\"GlyphRenderer\"},{\"attributes\":{},\"id\":\"3247\",\"type\":\"UnionRenderers\"},{\"attributes\":{\"data\":{\"x\":{\"__ndarray__\":\"oIqVXHBz77+U24wJB/nvPw==\",\"dtype\":\"float64\",\"order\":\"little\",\"shape\":[2]},\"y\":{\"__ndarray__\":\"LGntRazLEcBSkZnbpfIWQA==\",\"dtype\":\"float64\",\"order\":\"little\",\"shape\":[2]}},\"selected\":{\"id\":\"3224\"},\"selection_policy\":{\"id\":\"3223\"}},\"id\":\"3060\",\"type\":\"ColumnDataSource\"},{\"attributes\":{\"line_alpha\":0.2,\"line_color\":\"#FA9C3B\",\"line_dash\":[6],\"line_width\":4,\"x\":{\"field\":\"x\"},\"y\":{\"field\":\"y\"}},\"id\":\"3069\",\"type\":\"Line\"},{\"attributes\":{},\"id\":\"3235\",\"type\":\"UnionRenderers\"},{\"attributes\":{\"coordinates\":null,\"data_source\":{\"id\":\"3060\"},\"glyph\":{\"id\":\"3061\"},\"group\":null,\"hover_glyph\":null,\"muted_glyph\":{\"id\":\"3063\"},\"nonselection_glyph\":{\"id\":\"3062\"},\"view\":{\"id\":\"3065\"}},\"id\":\"3064\",\"type\":\"GlyphRenderer\"},{\"attributes\":{\"source\":{\"id\":\"3060\"}},\"id\":\"3065\",\"type\":\"CDSView\"},{\"attributes\":{},\"id\":\"2830\",\"type\":\"AllLabels\"},{\"attributes\":{\"line_alpha\":0.1,\"line_color\":\"#F89540\",\"line_dash\":[6],\"line_width\":4,\"x\":{\"field\":\"x\"},\"y\":{\"field\":\"y\"}},\"id\":\"3062\",\"type\":\"Line\"},{\"attributes\":{\"line_color\":\"#FBA337\",\"line_dash\":[6],\"line_width\":4,\"x\":{\"field\":\"x\"},\"y\":{\"field\":\"y\"}},\"id\":\"3073\",\"type\":\"Line\"},{\"attributes\":{\"data\":{\"x\":{\"__ndarray__\":\"oIqVXHBz77+U24wJB/nvPw==\",\"dtype\":\"float64\",\"order\":\"little\",\"shape\":[2]},\"y\":{\"__ndarray__\":\"at7MyQQeEcCS03j/0RIWQA==\",\"dtype\":\"float64\",\"order\":\"little\",\"shape\":[2]}},\"selected\":{\"id\":\"3226\"},\"selection_policy\":{\"id\":\"3225\"}},\"id\":\"3066\",\"type\":\"ColumnDataSource\"},{\"attributes\":{},\"id\":\"2829\",\"type\":\"BasicTickFormatter\"},{\"attributes\":{\"line_alpha\":0.2,\"line_color\":\"#FBA337\",\"line_dash\":[6],\"line_width\":4,\"x\":{\"field\":\"x\"},\"y\":{\"field\":\"y\"}},\"id\":\"3075\",\"type\":\"Line\"},{\"attributes\":{\"coordinates\":null,\"data_source\":{\"id\":\"3066\"},\"glyph\":{\"id\":\"3067\"},\"group\":null,\"hover_glyph\":null,\"muted_glyph\":{\"id\":\"3069\"},\"nonselection_glyph\":{\"id\":\"3068\"},\"view\":{\"id\":\"3071\"}},\"id\":\"3070\",\"type\":\"GlyphRenderer\"},{\"attributes\":{},\"id\":\"3157\",\"type\":\"UnionRenderers\"},{\"attributes\":{\"source\":{\"id\":\"3066\"}},\"id\":\"3071\",\"type\":\"CDSView\"},{\"attributes\":{},\"id\":\"2827\",\"type\":\"AllLabels\"},{\"attributes\":{},\"id\":\"3195\",\"type\":\"UnionRenderers\"},{\"attributes\":{\"line_alpha\":0.1,\"line_color\":\"#FA9C3B\",\"line_dash\":[6],\"line_width\":4,\"x\":{\"field\":\"x\"},\"y\":{\"field\":\"y\"}},\"id\":\"3068\",\"type\":\"Line\"},{\"attributes\":{\"end\":0.9675639839543917,\"start\":-0.9926679801144713},\"id\":\"2837\",\"type\":\"Range1d\"},{\"attributes\":{},\"id\":\"3158\",\"type\":\"Selection\"},{\"attributes\":{\"line_color\":\"#FCAC32\",\"line_dash\":[6],\"line_width\":4,\"x\":{\"field\":\"x\"},\"y\":{\"field\":\"y\"}},\"id\":\"3079\",\"type\":\"Line\"},{\"attributes\":{},\"id\":\"2826\",\"type\":\"BasicTickFormatter\"},{\"attributes\":{\"data\":{\"x\":{\"__ndarray__\":\"oIqVXHBz77+U24wJB/nvPw==\",\"dtype\":\"float64\",\"order\":\"little\",\"shape\":[2]},\"y\":{\"__ndarray__\":\"tK0OhfGCEMAdTbkA+EoVQA==\",\"dtype\":\"float64\",\"order\":\"little\",\"shape\":[2]}},\"selected\":{\"id\":\"3228\"},\"selection_policy\":{\"id\":\"3227\"}},\"id\":\"3072\",\"type\":\"ColumnDataSource\"},{\"attributes\":{},\"id\":\"3196\",\"type\":\"Selection\"},{\"attributes\":{\"line_alpha\":0.2,\"line_color\":\"#FCAC32\",\"line_dash\":[6],\"line_width\":4,\"x\":{\"field\":\"x\"},\"y\":{\"field\":\"y\"}},\"id\":\"3081\",\"type\":\"Line\"},{\"attributes\":{\"coordinates\":null,\"data_source\":{\"id\":\"3072\"},\"glyph\":{\"id\":\"3073\"},\"group\":null,\"hover_glyph\":null,\"muted_glyph\":{\"id\":\"3075\"},\"nonselection_glyph\":{\"id\":\"3074\"},\"view\":{\"id\":\"3077\"}},\"id\":\"3076\",\"type\":\"GlyphRenderer\"},{\"attributes\":{\"source\":{\"id\":\"3072\"}},\"id\":\"3077\",\"type\":\"CDSView\"},{\"attributes\":{\"line_alpha\":0.1,\"line_color\":\"#FBA337\",\"line_dash\":[6],\"line_width\":4,\"x\":{\"field\":\"x\"},\"y\":{\"field\":\"y\"}},\"id\":\"3074\",\"type\":\"Line\"},{\"attributes\":{\"line_color\":\"#FDB32E\",\"line_dash\":[6],\"line_width\":4,\"x\":{\"field\":\"x\"},\"y\":{\"field\":\"y\"}},\"id\":\"3085\",\"type\":\"Line\"},{\"attributes\":{\"data\":{\"x\":{\"__ndarray__\":\"oIqVXHBz77+U24wJB/nvPw==\",\"dtype\":\"float64\",\"order\":\"little\",\"shape\":[2]},\"y\":{\"__ndarray__\":\"1i2uGUnvD8BdvrOjepcUQA==\",\"dtype\":\"float64\",\"order\":\"little\",\"shape\":[2]}},\"selected\":{\"id\":\"3230\"},\"selection_policy\":{\"id\":\"3229\"}},\"id\":\"3078\",\"type\":\"ColumnDataSource\"},{\"attributes\":{\"line_alpha\":0.2,\"line_color\":\"#FDB32E\",\"line_dash\":[6],\"line_width\":4,\"x\":{\"field\":\"x\"},\"y\":{\"field\":\"y\"}},\"id\":\"3087\",\"type\":\"Line\"},{\"attributes\":{\"coordinates\":null,\"data_source\":{\"id\":\"3078\"},\"glyph\":{\"id\":\"3079\"},\"group\":null,\"hover_glyph\":null,\"muted_glyph\":{\"id\":\"3081\"},\"nonselection_glyph\":{\"id\":\"3080\"},\"view\":{\"id\":\"3083\"}},\"id\":\"3082\",\"type\":\"GlyphRenderer\"},{\"attributes\":{\"source\":{\"id\":\"3078\"}},\"id\":\"3083\",\"type\":\"CDSView\"},{\"attributes\":{\"line_alpha\":0.1,\"line_color\":\"#FCAC32\",\"line_dash\":[6],\"line_width\":4,\"x\":{\"field\":\"x\"},\"y\":{\"field\":\"y\"}},\"id\":\"3080\",\"type\":\"Line\"},{\"attributes\":{\"line_color\":\"#FDBB2B\",\"line_dash\":[6],\"line_width\":4,\"x\":{\"field\":\"x\"},\"y\":{\"field\":\"y\"}},\"id\":\"3091\",\"type\":\"Line\"},{\"attributes\":{},\"id\":\"3159\",\"type\":\"UnionRenderers\"},{\"attributes\":{\"data\":{\"x\":{\"__ndarray__\":\"oIqVXHBz77+U24wJB/nvPw==\",\"dtype\":\"float64\",\"order\":\"little\",\"shape\":[2]},\"y\":{\"__ndarray__\":\"fTzXQbPzDsDckfjVbfUTQA==\",\"dtype\":\"float64\",\"order\":\"little\",\"shape\":[2]}},\"selected\":{\"id\":\"3232\"},\"selection_policy\":{\"id\":\"3231\"}},\"id\":\"3084\",\"type\":\"ColumnDataSource\"},{\"attributes\":{\"line_alpha\":0.2,\"line_color\":\"#FDBB2B\",\"line_dash\":[6],\"line_width\":4,\"x\":{\"field\":\"x\"},\"y\":{\"field\":\"y\"}},\"id\":\"3093\",\"type\":\"Line\"},{\"attributes\":{},\"id\":\"3197\",\"type\":\"UnionRenderers\"},{\"attributes\":{\"coordinates\":null,\"data_source\":{\"id\":\"3084\"},\"glyph\":{\"id\":\"3085\"},\"group\":null,\"hover_glyph\":null,\"muted_glyph\":{\"id\":\"3087\"},\"nonselection_glyph\":{\"id\":\"3086\"},\"view\":{\"id\":\"3089\"}},\"id\":\"3088\",\"type\":\"GlyphRenderer\"},{\"attributes\":{},\"id\":\"3160\",\"type\":\"Selection\"},{\"attributes\":{},\"id\":\"3233\",\"type\":\"UnionRenderers\"},{\"attributes\":{\"source\":{\"id\":\"3084\"}},\"id\":\"3089\",\"type\":\"CDSView\"},{\"attributes\":{},\"id\":\"3198\",\"type\":\"Selection\"},{\"attributes\":{\"line_alpha\":0.1,\"line_color\":\"#FDB32E\",\"line_dash\":[6],\"line_width\":4,\"x\":{\"field\":\"x\"},\"y\":{\"field\":\"y\"}},\"id\":\"3086\",\"type\":\"Line\"},{\"attributes\":{\"line_color\":\"#FDC328\",\"line_dash\":[6],\"line_width\":4,\"x\":{\"field\":\"x\"},\"y\":{\"field\":\"y\"}},\"id\":\"3097\",\"type\":\"Line\"},{\"attributes\":{\"data\":{\"x\":{\"__ndarray__\":\"oIqVXHBz77+U24wJB/nvPw==\",\"dtype\":\"float64\",\"order\":\"little\",\"shape\":[2]},\"y\":{\"__ndarray__\":\"ZHvFPm0PDsDG7wMKbmITQA==\",\"dtype\":\"float64\",\"order\":\"little\",\"shape\":[2]}},\"selected\":{\"id\":\"3234\"},\"selection_policy\":{\"id\":\"3233\"}},\"id\":\"3090\",\"type\":\"ColumnDataSource\"},{\"attributes\":{\"line_alpha\":0.2,\"line_color\":\"#FDC328\",\"line_dash\":[6],\"line_width\":4,\"x\":{\"field\":\"x\"},\"y\":{\"field\":\"y\"}},\"id\":\"3099\",\"type\":\"Line\"},{\"attributes\":{\"line_color\":\"#42039D\",\"line_dash\":[6],\"line_width\":4,\"x\":{\"field\":\"x\"},\"y\":{\"field\":\"y\"}},\"id\":\"2869\",\"type\":\"Line\"},{\"attributes\":{\"coordinates\":null,\"data_source\":{\"id\":\"3090\"},\"glyph\":{\"id\":\"3091\"},\"group\":null,\"hover_glyph\":null,\"muted_glyph\":{\"id\":\"3093\"},\"nonselection_glyph\":{\"id\":\"3092\"},\"view\":{\"id\":\"3095\"}},\"id\":\"3094\",\"type\":\"GlyphRenderer\"},{\"attributes\":{\"coordinates\":null,\"data_source\":{\"id\":\"2862\"},\"glyph\":{\"id\":\"2863\"},\"group\":null,\"hover_glyph\":null,\"muted_glyph\":{\"id\":\"2865\"},\"nonselection_glyph\":{\"id\":\"2864\"},\"view\":{\"id\":\"2867\"}},\"id\":\"2866\",\"type\":\"GlyphRenderer\"},{\"attributes\":{\"source\":{\"id\":\"3090\"}},\"id\":\"3095\",\"type\":\"CDSView\"},{\"attributes\":{\"background_fill_alpha\":0.2,\"background_fill_color\":\"darkgrey\",\"border_line_alpha\":0.8,\"border_line_color\":\"grey\",\"border_line_width\":3,\"coordinates\":null,\"group\":null,\"items\":[{\"id\":\"2835\"}],\"label_text_color\":\"white\"},\"id\":\"2834\",\"type\":\"Legend\"},{\"attributes\":{\"fill_alpha\":{\"value\":0.2},\"fill_color\":{\"field\":\"color\"},\"hatch_alpha\":{\"value\":0.2},\"hatch_color\":{\"field\":\"color\"},\"line_alpha\":{\"value\":0.2},\"line_color\":{\"value\":\"white\"},\"size\":{\"value\":10},\"x\":{\"field\":\"x\"},\"y\":{\"field\":\"y\"}},\"id\":\"2821\",\"type\":\"Circle\"},{\"attributes\":{\"line_alpha\":0.1,\"line_color\":\"#FDBB2B\",\"line_dash\":[6],\"line_width\":4,\"x\":{\"field\":\"x\"},\"y\":{\"field\":\"y\"}},\"id\":\"3092\",\"type\":\"Line\"},{\"attributes\":{\"line_color\":\"#FCCB25\",\"line_dash\":[6],\"line_width\":4,\"x\":{\"field\":\"x\"},\"y\":{\"field\":\"y\"}},\"id\":\"3103\",\"type\":\"Line\"},{\"attributes\":{\"source\":{\"id\":\"2817\"}},\"id\":\"2823\",\"type\":\"CDSView\"},{\"attributes\":{\"data\":{\"x\":{\"__ndarray__\":\"oIqVXHBz77+U24wJB/nvPw==\",\"dtype\":\"float64\",\"order\":\"little\",\"shape\":[2]},\"y\":{\"__ndarray__\":\"bKstwmg/DcDuNA6UgtwSQA==\",\"dtype\":\"float64\",\"order\":\"little\",\"shape\":[2]}},\"selected\":{\"id\":\"3236\"},\"selection_policy\":{\"id\":\"3235\"}},\"id\":\"3096\",\"type\":\"ColumnDataSource\"},{\"attributes\":{\"line_alpha\":0.2,\"line_color\":\"#FCCB25\",\"line_dash\":[6],\"line_width\":4,\"x\":{\"field\":\"x\"},\"y\":{\"field\":\"y\"}},\"id\":\"3105\",\"type\":\"Line\"},{\"attributes\":{\"source\":{\"id\":\"2838\"}},\"id\":\"2843\",\"type\":\"CDSView\"},{\"attributes\":{\"coordinates\":null,\"data_source\":{\"id\":\"3096\"},\"glyph\":{\"id\":\"3097\"},\"group\":null,\"hover_glyph\":null,\"muted_glyph\":{\"id\":\"3099\"},\"nonselection_glyph\":{\"id\":\"3098\"},\"view\":{\"id\":\"3101\"}},\"id\":\"3100\",\"type\":\"GlyphRenderer\"},{\"attributes\":{\"source\":{\"id\":\"3096\"}},\"id\":\"3101\",\"type\":\"CDSView\"},{\"attributes\":{},\"id\":\"3161\",\"type\":\"UnionRenderers\"},{\"attributes\":{\"line_alpha\":0.1,\"line_color\":\"#FDC328\",\"line_dash\":[6],\"line_width\":4,\"x\":{\"field\":\"x\"},\"y\":{\"field\":\"y\"}},\"id\":\"3098\",\"type\":\"Line\"},{\"attributes\":{},\"id\":\"3199\",\"type\":\"UnionRenderers\"},{\"attributes\":{\"line_color\":\"#FAD524\",\"line_dash\":[6],\"line_width\":4,\"x\":{\"field\":\"x\"},\"y\":{\"field\":\"y\"}},\"id\":\"3109\",\"type\":\"Line\"},{\"attributes\":{},\"id\":\"3162\",\"type\":\"Selection\"},{\"attributes\":{\"data\":{\"x\":{\"__ndarray__\":\"oIqVXHBz77+U24wJB/nvPw==\",\"dtype\":\"float64\",\"order\":\"little\",\"shape\":[2]},\"y\":{\"__ndarray__\":\"GevhVhqBDMDK1goFB2ISQA==\",\"dtype\":\"float64\",\"order\":\"little\",\"shape\":[2]}},\"selected\":{\"id\":\"3238\"},\"selection_policy\":{\"id\":\"3237\"}},\"id\":\"3102\",\"type\":\"ColumnDataSource\"},{\"attributes\":{\"line_alpha\":0.2,\"line_color\":\"#FAD524\",\"line_dash\":[6],\"line_width\":4,\"x\":{\"field\":\"x\"},\"y\":{\"field\":\"y\"}},\"id\":\"3111\",\"type\":\"Line\"},{\"attributes\":{},\"id\":\"3200\",\"type\":\"Selection\"},{\"attributes\":{\"coordinates\":null,\"data_source\":{\"id\":\"3102\"},\"glyph\":{\"id\":\"3103\"},\"group\":null,\"hover_glyph\":null,\"muted_glyph\":{\"id\":\"3105\"},\"nonselection_glyph\":{\"id\":\"3104\"},\"view\":{\"id\":\"3107\"}},\"id\":\"3106\",\"type\":\"GlyphRenderer\"},{\"attributes\":{\"source\":{\"id\":\"3102\"}},\"id\":\"3107\",\"type\":\"CDSView\"},{\"attributes\":{\"line_alpha\":0.1,\"line_color\":\"#FCCB25\",\"line_dash\":[6],\"line_width\":4,\"x\":{\"field\":\"x\"},\"y\":{\"field\":\"y\"}},\"id\":\"3104\",\"type\":\"Line\"},{\"attributes\":{\"line_color\":\"#F8DD24\",\"line_dash\":[6],\"line_width\":4,\"x\":{\"field\":\"x\"},\"y\":{\"field\":\"y\"}},\"id\":\"3115\",\"type\":\"Line\"},{\"attributes\":{\"data\":{\"x\":{\"__ndarray__\":\"oIqVXHBz77+U24wJB/nvPw==\",\"dtype\":\"float64\",\"order\":\"little\",\"shape\":[2]},\"y\":{\"__ndarray__\":\"2Srad1/SC8DcOuqImvERQA==\",\"dtype\":\"float64\",\"order\":\"little\",\"shape\":[2]}},\"selected\":{\"id\":\"3240\"},\"selection_policy\":{\"id\":\"3239\"}},\"id\":\"3108\",\"type\":\"ColumnDataSource\"},{\"attributes\":{\"line_alpha\":0.2,\"line_color\":\"#F8DD24\",\"line_dash\":[6],\"line_width\":4,\"x\":{\"field\":\"x\"},\"y\":{\"field\":\"y\"}},\"id\":\"3117\",\"type\":\"Line\"},{\"attributes\":{\"coordinates\":null,\"data_source\":{\"id\":\"3108\"},\"glyph\":{\"id\":\"3109\"},\"group\":null,\"hover_glyph\":null,\"muted_glyph\":{\"id\":\"3111\"},\"nonselection_glyph\":{\"id\":\"3110\"},\"view\":{\"id\":\"3113\"}},\"id\":\"3112\",\"type\":\"GlyphRenderer\"},{\"attributes\":{\"source\":{\"id\":\"3108\"}},\"id\":\"3113\",\"type\":\"CDSView\"},{\"attributes\":{\"line_alpha\":0.1,\"line_color\":\"#FAD524\",\"line_dash\":[6],\"line_width\":4,\"x\":{\"field\":\"x\"},\"y\":{\"field\":\"y\"}},\"id\":\"3110\",\"type\":\"Line\"},{\"attributes\":{\"line_color\":\"#F6E525\",\"line_dash\":[6],\"line_width\":4,\"x\":{\"field\":\"x\"},\"y\":{\"field\":\"y\"}},\"id\":\"3121\",\"type\":\"Line\"},{\"attributes\":{\"data\":{\"x\":{\"__ndarray__\":\"oIqVXHBz77+U24wJB/nvPw==\",\"dtype\":\"float64\",\"order\":\"little\",\"shape\":[2]},\"y\":{\"__ndarray__\":\"MLUnAWoxC8Ddu4ylEooRQA==\",\"dtype\":\"float64\",\"order\":\"little\",\"shape\":[2]}},\"selected\":{\"id\":\"3242\"},\"selection_policy\":{\"id\":\"3241\"}},\"id\":\"3114\",\"type\":\"ColumnDataSource\"},{\"attributes\":{},\"id\":\"3163\",\"type\":\"UnionRenderers\"},{\"attributes\":{\"line_alpha\":0.2,\"line_color\":\"#F6E525\",\"line_dash\":[6],\"line_width\":4,\"x\":{\"field\":\"x\"},\"y\":{\"field\":\"y\"}},\"id\":\"3123\",\"type\":\"Line\"},{\"attributes\":{\"coordinates\":null,\"data_source\":{\"id\":\"3114\"},\"glyph\":{\"id\":\"3115\"},\"group\":null,\"hover_glyph\":null,\"muted_glyph\":{\"id\":\"3117\"},\"nonselection_glyph\":{\"id\":\"3116\"},\"view\":{\"id\":\"3119\"}},\"id\":\"3118\",\"type\":\"GlyphRenderer\"},{\"attributes\":{},\"id\":\"3201\",\"type\":\"UnionRenderers\"},{\"attributes\":{\"source\":{\"id\":\"3114\"}},\"id\":\"3119\",\"type\":\"CDSView\"},{\"attributes\":{},\"id\":\"3164\",\"type\":\"Selection\"},{\"attributes\":{\"line_alpha\":0.1,\"line_color\":\"#F8DD24\",\"line_dash\":[6],\"line_width\":4,\"x\":{\"field\":\"x\"},\"y\":{\"field\":\"y\"}},\"id\":\"3116\",\"type\":\"Line\"},{\"attributes\":{},\"id\":\"3202\",\"type\":\"Selection\"},{\"attributes\":{\"line_color\":\"#F3EE26\",\"line_dash\":[6],\"line_width\":4,\"x\":{\"field\":\"x\"},\"y\":{\"field\":\"y\"}},\"id\":\"3127\",\"type\":\"Line\"},{\"attributes\":{\"data\":{\"x\":{\"__ndarray__\":\"oIqVXHBz77+U24wJB/nvPw==\",\"dtype\":\"float64\",\"order\":\"little\",\"shape\":[2]},\"y\":{\"__ndarray__\":\"PvrQgbCcCsDi4tcncSoRQA==\",\"dtype\":\"float64\",\"order\":\"little\",\"shape\":[2]}},\"selected\":{\"id\":\"3244\"},\"selection_policy\":{\"id\":\"3243\"}},\"id\":\"3120\",\"type\":\"ColumnDataSource\"},{\"attributes\":{\"line_alpha\":0.2,\"line_color\":\"#F3EE26\",\"line_dash\":[6],\"line_width\":4,\"x\":{\"field\":\"x\"},\"y\":{\"field\":\"y\"}},\"id\":\"3129\",\"type\":\"Line\"},{\"attributes\":{\"coordinates\":null,\"data_source\":{\"id\":\"3120\"},\"glyph\":{\"id\":\"3121\"},\"group\":null,\"hover_glyph\":null,\"muted_glyph\":{\"id\":\"3123\"},\"nonselection_glyph\":{\"id\":\"3122\"},\"view\":{\"id\":\"3125\"}},\"id\":\"3124\",\"type\":\"GlyphRenderer\"},{\"attributes\":{\"source\":{\"id\":\"3120\"}},\"id\":\"3125\",\"type\":\"CDSView\"},{\"attributes\":{\"line_alpha\":0.1,\"line_color\":\"#F6E525\",\"line_dash\":[6],\"line_width\":4,\"x\":{\"field\":\"x\"},\"y\":{\"field\":\"y\"}},\"id\":\"3122\",\"type\":\"Line\"},{\"attributes\":{\"line_color\":\"#EFF821\",\"line_dash\":[6],\"line_width\":4,\"x\":{\"field\":\"x\"},\"y\":{\"field\":\"y\"}},\"id\":\"3133\",\"type\":\"Line\"},{\"attributes\":{\"data\":{\"x\":{\"__ndarray__\":\"oIqVXHBz77+U24wJB/nvPw==\",\"dtype\":\"float64\",\"order\":\"little\",\"shape\":[2]},\"y\":{\"__ndarray__\":\"MlPwEuISCsCL825Z3NEQQA==\",\"dtype\":\"float64\",\"order\":\"little\",\"shape\":[2]}},\"selected\":{\"id\":\"3246\"},\"selection_policy\":{\"id\":\"3245\"}},\"id\":\"3126\",\"type\":\"ColumnDataSource\"},{\"attributes\":{\"line_alpha\":0.2,\"line_color\":\"#EFF821\",\"line_dash\":[6],\"line_width\":4,\"x\":{\"field\":\"x\"},\"y\":{\"field\":\"y\"}},\"id\":\"3135\",\"type\":\"Line\"},{\"attributes\":{\"coordinates\":null,\"data_source\":{\"id\":\"3126\"},\"glyph\":{\"id\":\"3127\"},\"group\":null,\"hover_glyph\":null,\"muted_glyph\":{\"id\":\"3129\"},\"nonselection_glyph\":{\"id\":\"3128\"},\"view\":{\"id\":\"3131\"}},\"id\":\"3130\",\"type\":\"GlyphRenderer\"},{\"attributes\":{\"source\":{\"id\":\"3126\"}},\"id\":\"3131\",\"type\":\"CDSView\"},{\"attributes\":{},\"id\":\"3238\",\"type\":\"Selection\"},{\"attributes\":{},\"id\":\"3165\",\"type\":\"UnionRenderers\"},{\"attributes\":{\"line_alpha\":0.1,\"line_color\":\"#F3EE26\",\"line_dash\":[6],\"line_width\":4,\"x\":{\"field\":\"x\"},\"y\":{\"field\":\"y\"}},\"id\":\"3128\",\"type\":\"Line\"},{\"attributes\":{},\"id\":\"3203\",\"type\":\"UnionRenderers\"},{\"attributes\":{\"data\":{\"x\":{\"__ndarray__\":\"oIqVXHBz77+U24wJB/nvPw==\",\"dtype\":\"float64\",\"order\":\"little\",\"shape\":[2]},\"y\":{\"__ndarray__\":\"mQUyRNySCcDU8diFmH8QQA==\",\"dtype\":\"float64\",\"order\":\"little\",\"shape\":[2]}},\"selected\":{\"id\":\"3248\"},\"selection_policy\":{\"id\":\"3247\"}},\"id\":\"3132\",\"type\":\"ColumnDataSource\"},{\"attributes\":{\"line_alpha\":0.2,\"line_color\":\"#0C0786\",\"line_dash\":[6],\"line_width\":4,\"x\":{\"field\":\"x\"},\"y\":{\"field\":\"y\"}},\"id\":\"2841\",\"type\":\"Line\"},{\"attributes\":{},\"id\":\"3166\",\"type\":\"Selection\"},{\"attributes\":{\"label\":{\"field\":\"label\"},\"renderers\":[{\"id\":\"2822\"}]},\"id\":\"2835\",\"type\":\"LegendItem\"},{\"attributes\":{\"coordinates\":null,\"data_source\":{\"id\":\"3132\"},\"glyph\":{\"id\":\"3133\"},\"group\":null,\"hover_glyph\":null,\"muted_glyph\":{\"id\":\"3135\"},\"nonselection_glyph\":{\"id\":\"3134\"},\"view\":{\"id\":\"3137\"}},\"id\":\"3136\",\"type\":\"GlyphRenderer\"},{\"attributes\":{\"data\":{\"x\":{\"__ndarray__\":\"oIqVXHBz77+U24wJB/nvPw==\",\"dtype\":\"float64\",\"order\":\"little\",\"shape\":[2]},\"y\":{\"__ndarray__\":\"yAfrX3as9D9ZJl3R92/xvw==\",\"dtype\":\"float64\",\"order\":\"little\",\"shape\":[2]}},\"selected\":{\"id\":\"3150\"},\"selection_policy\":{\"id\":\"3149\"}},\"id\":\"2838\",\"type\":\"ColumnDataSource\"},{\"attributes\":{},\"id\":\"3204\",\"type\":\"Selection\"},{\"attributes\":{\"source\":{\"id\":\"3132\"}},\"id\":\"3137\",\"type\":\"CDSView\"},{\"attributes\":{},\"id\":\"3237\",\"type\":\"UnionRenderers\"},{\"attributes\":{\"line_color\":\"#1B068C\",\"line_dash\":[6],\"line_width\":4,\"x\":{\"field\":\"x\"},\"y\":{\"field\":\"y\"}},\"id\":\"2845\",\"type\":\"Line\"},{\"attributes\":{\"line_alpha\":0.1,\"line_color\":\"#EFF821\",\"line_dash\":[6],\"line_width\":4,\"x\":{\"field\":\"x\"},\"y\":{\"field\":\"y\"}},\"id\":\"3134\",\"type\":\"Line\"},{\"attributes\":{\"coordinates\":null,\"data_source\":{\"id\":\"2838\"},\"glyph\":{\"id\":\"2839\"},\"group\":null,\"hover_glyph\":null,\"muted_glyph\":{\"id\":\"2841\"},\"nonselection_glyph\":{\"id\":\"2840\"},\"view\":{\"id\":\"2843\"}},\"id\":\"2842\",\"type\":\"GlyphRenderer\"},{\"attributes\":{\"line_alpha\":0.2,\"line_color\":\"#1B068C\",\"line_dash\":[6],\"line_width\":4,\"x\":{\"field\":\"x\"},\"y\":{\"field\":\"y\"}},\"id\":\"2847\",\"type\":\"Line\"},{\"attributes\":{\"line_alpha\":0.1,\"line_color\":\"#0C0786\",\"line_dash\":[6],\"line_width\":4,\"x\":{\"field\":\"x\"},\"y\":{\"field\":\"y\"}},\"id\":\"2840\",\"type\":\"Line\"},{\"attributes\":{\"line_color\":\"#250591\",\"line_dash\":[6],\"line_width\":4,\"x\":{\"field\":\"x\"},\"y\":{\"field\":\"y\"}},\"id\":\"2851\",\"type\":\"Line\"},{\"attributes\":{\"data\":{\"x\":{\"__ndarray__\":\"oIqVXHBz77+U24wJB/nvPw==\",\"dtype\":\"float64\",\"order\":\"little\",\"shape\":[2]},\"y\":{\"__ndarray__\":\"kE4F86GQ9j/jWopLmrH0vw==\",\"dtype\":\"float64\",\"order\":\"little\",\"shape\":[2]}},\"selected\":{\"id\":\"3152\"},\"selection_policy\":{\"id\":\"3151\"}},\"id\":\"2844\",\"type\":\"ColumnDataSource\"},{\"attributes\":{\"line_alpha\":0.2,\"line_color\":\"#250591\",\"line_dash\":[6],\"line_width\":4,\"x\":{\"field\":\"x\"},\"y\":{\"field\":\"y\"}},\"id\":\"2853\",\"type\":\"Line\"},{\"attributes\":{\"coordinates\":null,\"data_source\":{\"id\":\"2844\"},\"glyph\":{\"id\":\"2845\"},\"group\":null,\"hover_glyph\":null,\"muted_glyph\":{\"id\":\"2847\"},\"nonselection_glyph\":{\"id\":\"2846\"},\"view\":{\"id\":\"2849\"}},\"id\":\"2848\",\"type\":\"GlyphRenderer\"},{\"attributes\":{\"source\":{\"id\":\"2844\"}},\"id\":\"2849\",\"type\":\"CDSView\"},{\"attributes\":{},\"id\":\"3240\",\"type\":\"Selection\"},{\"attributes\":{},\"id\":\"3167\",\"type\":\"UnionRenderers\"},{\"attributes\":{\"line_alpha\":0.1,\"line_color\":\"#1B068C\",\"line_dash\":[6],\"line_width\":4,\"x\":{\"field\":\"x\"},\"y\":{\"field\":\"y\"}},\"id\":\"2846\",\"type\":\"Line\"},{\"attributes\":{\"line_alpha\":0.2,\"line_color\":\"#2F0495\",\"line_dash\":[6],\"line_width\":4,\"x\":{\"field\":\"x\"},\"y\":{\"field\":\"y\"}},\"id\":\"2859\",\"type\":\"Line\"},{\"attributes\":{\"line_color\":\"#4A02A0\",\"line_dash\":[6],\"line_width\":4,\"x\":{\"field\":\"x\"},\"y\":{\"field\":\"y\"}},\"id\":\"2875\",\"type\":\"Line\"},{\"attributes\":{},\"id\":\"3205\",\"type\":\"UnionRenderers\"},{\"attributes\":{\"data\":{\"x\":{\"__ndarray__\":\"oIqVXHBz77+U24wJB/nvPw==\",\"dtype\":\"float64\",\"order\":\"little\",\"shape\":[2]},\"y\":{\"__ndarray__\":\"55qvCNO3+D90DQ0g3Dv4vw==\",\"dtype\":\"float64\",\"order\":\"little\",\"shape\":[2]}},\"selected\":{\"id\":\"3154\"},\"selection_policy\":{\"id\":\"3153\"}},\"id\":\"2850\",\"type\":\"ColumnDataSource\"},{\"attributes\":{},\"id\":\"3168\",\"type\":\"Selection\"},{\"attributes\":{\"coordinates\":null,\"data_source\":{\"id\":\"2850\"},\"glyph\":{\"id\":\"2851\"},\"group\":null,\"hover_glyph\":null,\"muted_glyph\":{\"id\":\"2853\"},\"nonselection_glyph\":{\"id\":\"2852\"},\"view\":{\"id\":\"2855\"}},\"id\":\"2854\",\"type\":\"GlyphRenderer\"},{\"attributes\":{},\"id\":\"3206\",\"type\":\"Selection\"},{\"attributes\":{\"source\":{\"id\":\"2850\"}},\"id\":\"2855\",\"type\":\"CDSView\"},{\"attributes\":{\"line_alpha\":0.1,\"line_color\":\"#250591\",\"line_dash\":[6],\"line_width\":4,\"x\":{\"field\":\"x\"},\"y\":{\"field\":\"y\"}},\"id\":\"2852\",\"type\":\"Line\"},{\"attributes\":{\"line_alpha\":0.2,\"line_color\":\"#42039D\",\"line_dash\":[6],\"line_width\":4,\"x\":{\"field\":\"x\"},\"y\":{\"field\":\"y\"}},\"id\":\"2871\",\"type\":\"Line\"},{\"attributes\":{\"data\":{\"x\":{\"__ndarray__\":\"oIqVXHBz77+U24wJB/nvPw==\",\"dtype\":\"float64\",\"order\":\"little\",\"shape\":[2]},\"y\":{\"__ndarray__\":\"20FCUBMs+z/zo/4GoRr8vw==\",\"dtype\":\"float64\",\"order\":\"little\",\"shape\":[2]}},\"selected\":{\"id\":\"3156\"},\"selection_policy\":{\"id\":\"3155\"}},\"id\":\"2856\",\"type\":\"ColumnDataSource\"},{\"attributes\":{\"children\":[{\"id\":\"3139\"},{\"id\":\"2784\"},{\"id\":\"3360\"}],\"margin\":[0,0,0,0],\"name\":\"Row00127\"},\"id\":\"3138\",\"type\":\"Row\"},{\"attributes\":{\"line_color\":\"#380499\",\"line_dash\":[6],\"line_width\":4,\"x\":{\"field\":\"x\"},\"y\":{\"field\":\"y\"}},\"id\":\"2863\",\"type\":\"Line\"},{\"attributes\":{\"margin\":[5,5,5,5],\"name\":\"HSpacer00124\",\"sizing_mode\":\"stretch_width\"},\"id\":\"3360\",\"type\":\"Spacer\"},{\"attributes\":{\"line_alpha\":0.1,\"line_color\":\"#380499\",\"line_dash\":[6],\"line_width\":4,\"x\":{\"field\":\"x\"},\"y\":{\"field\":\"y\"}},\"id\":\"2864\",\"type\":\"Line\"},{\"attributes\":{\"margin\":[5,5,5,5],\"name\":\"HSpacer00123\",\"sizing_mode\":\"stretch_width\"},\"id\":\"3139\",\"type\":\"Spacer\"},{\"attributes\":{\"source\":{\"id\":\"2862\"}},\"id\":\"2867\",\"type\":\"CDSView\"},{\"attributes\":{\"line_alpha\":0.2,\"line_color\":\"#380499\",\"line_dash\":[6],\"line_width\":4,\"x\":{\"field\":\"x\"},\"y\":{\"field\":\"y\"}},\"id\":\"2865\",\"type\":\"Line\"},{\"attributes\":{\"data\":{\"x\":{\"__ndarray__\":\"oIqVXHBz77+U24wJB/nvPw==\",\"dtype\":\"float64\",\"order\":\"little\",\"shape\":[2]},\"y\":{\"__ndarray__\":\"E5/Bf/b5/T8kjgT92y4AwA==\",\"dtype\":\"float64\",\"order\":\"little\",\"shape\":[2]}},\"selected\":{\"id\":\"3158\"},\"selection_policy\":{\"id\":\"3157\"}},\"id\":\"2862\",\"type\":\"ColumnDataSource\"},{\"attributes\":{\"data\":{\"x\":{\"__ndarray__\":\"oIqVXHBz77+U24wJB/nvPw==\",\"dtype\":\"float64\",\"order\":\"little\",\"shape\":[2]},\"y\":{\"__ndarray__\":\"hwMSc8GYAEBYB5v/8IwCwA==\",\"dtype\":\"float64\",\"order\":\"little\",\"shape\":[2]}},\"selected\":{\"id\":\"3160\"},\"selection_policy\":{\"id\":\"3159\"}},\"id\":\"2868\",\"type\":\"ColumnDataSource\"},{\"attributes\":{},\"id\":\"3241\",\"type\":\"UnionRenderers\"},{\"attributes\":{\"line_alpha\":0.2,\"line_color\":\"#5201A3\",\"line_dash\":[6],\"line_width\":4,\"x\":{\"field\":\"x\"},\"y\":{\"field\":\"y\"}},\"id\":\"2883\",\"type\":\"Line\"},{\"attributes\":{},\"id\":\"3169\",\"type\":\"UnionRenderers\"},{\"attributes\":{},\"id\":\"3242\",\"type\":\"Selection\"},{\"attributes\":{\"coordinates\":null,\"data_source\":{\"id\":\"2868\"},\"glyph\":{\"id\":\"2869\"},\"group\":null,\"hover_glyph\":null,\"muted_glyph\":{\"id\":\"2871\"},\"nonselection_glyph\":{\"id\":\"2870\"},\"view\":{\"id\":\"2873\"}},\"id\":\"2872\",\"type\":\"GlyphRenderer\"},{\"attributes\":{\"source\":{\"id\":\"2868\"}},\"id\":\"2873\",\"type\":\"CDSView\"},{\"attributes\":{},\"id\":\"3207\",\"type\":\"UnionRenderers\"},{\"attributes\":{\"client_comm_id\":\"54b017b4c483425bb111855c950c6905\",\"comm_id\":\"ce5f421985be4a08a02e3b09d57d8d20\",\"plot_id\":\"3138\"},\"id\":\"3691\",\"type\":\"panel.models.comm_manager.CommManager\"},{\"attributes\":{\"line_alpha\":0.2,\"line_color\":\"#4A02A0\",\"line_dash\":[6],\"line_width\":4,\"x\":{\"field\":\"x\"},\"y\":{\"field\":\"y\"}},\"id\":\"2877\",\"type\":\"Line\"},{\"attributes\":{},\"id\":\"3170\",\"type\":\"Selection\"},{\"attributes\":{\"line_alpha\":0.1,\"line_color\":\"#42039D\",\"line_dash\":[6],\"line_width\":4,\"x\":{\"field\":\"x\"},\"y\":{\"field\":\"y\"}},\"id\":\"2870\",\"type\":\"Line\"},{\"attributes\":{\"data\":{\"x\":{\"__ndarray__\":\"oIqVXHBz77+U24wJB/nvPw==\",\"dtype\":\"float64\",\"order\":\"little\",\"shape\":[2]},\"y\":{\"__ndarray__\":\"B5OVDrpzAkCFOHE5JTUFwA==\",\"dtype\":\"float64\",\"order\":\"little\",\"shape\":[2]}},\"selected\":{\"id\":\"3162\"},\"selection_policy\":{\"id\":\"3161\"}},\"id\":\"2874\",\"type\":\"ColumnDataSource\"},{\"attributes\":{},\"id\":\"3208\",\"type\":\"Selection\"},{\"attributes\":{\"data\":{\"x\":{\"__ndarray__\":\"oIqVXHBz77+U24wJB/nvPw==\",\"dtype\":\"float64\",\"order\":\"little\",\"shape\":[2]},\"y\":{\"__ndarray__\":\"UnmWBgHrFsCIZKPNE40dQA==\",\"dtype\":\"float64\",\"order\":\"little\",\"shape\":[2]}},\"selected\":{\"id\":\"3214\"},\"selection_policy\":{\"id\":\"3213\"}},\"id\":\"3030\",\"type\":\"ColumnDataSource\"},{\"attributes\":{\"line_color\":\"#5201A3\",\"line_dash\":[6],\"line_width\":4,\"x\":{\"field\":\"x\"},\"y\":{\"field\":\"y\"}},\"id\":\"2881\",\"type\":\"Line\"},{\"attributes\":{\"coordinates\":null,\"data_source\":{\"id\":\"2874\"},\"glyph\":{\"id\":\"2875\"},\"group\":null,\"hover_glyph\":null,\"muted_glyph\":{\"id\":\"2877\"},\"nonselection_glyph\":{\"id\":\"2876\"},\"view\":{\"id\":\"2879\"}},\"id\":\"2878\",\"type\":\"GlyphRenderer\"},{\"attributes\":{\"source\":{\"id\":\"2874\"}},\"id\":\"2879\",\"type\":\"CDSView\"},{\"attributes\":{\"line_alpha\":0.1,\"line_color\":\"#4A02A0\",\"line_dash\":[6],\"line_width\":4,\"x\":{\"field\":\"x\"},\"y\":{\"field\":\"y\"}},\"id\":\"2876\",\"type\":\"Line\"},{\"attributes\":{\"line_color\":\"#5A00A5\",\"line_dash\":[6],\"line_width\":4,\"x\":{\"field\":\"x\"},\"y\":{\"field\":\"y\"}},\"id\":\"2887\",\"type\":\"Line\"},{\"attributes\":{\"data\":{\"x\":{\"__ndarray__\":\"oIqVXHBz77+U24wJB/nvPw==\",\"dtype\":\"float64\",\"order\":\"little\",\"shape\":[2]},\"y\":{\"__ndarray__\":\"GzTcdYSbBEDVbYdoWzkIwA==\",\"dtype\":\"float64\",\"order\":\"little\",\"shape\":[2]}},\"selected\":{\"id\":\"3164\"},\"selection_policy\":{\"id\":\"3163\"}},\"id\":\"2880\",\"type\":\"ColumnDataSource\"},{\"attributes\":{\"line_alpha\":0.2,\"line_color\":\"#5A00A5\",\"line_dash\":[6],\"line_width\":4,\"x\":{\"field\":\"x\"},\"y\":{\"field\":\"y\"}},\"id\":\"2889\",\"type\":\"Line\"},{\"attributes\":{\"coordinates\":null,\"data_source\":{\"id\":\"2880\"},\"glyph\":{\"id\":\"2881\"},\"group\":null,\"hover_glyph\":null,\"muted_glyph\":{\"id\":\"2883\"},\"nonselection_glyph\":{\"id\":\"2882\"},\"view\":{\"id\":\"2885\"}},\"id\":\"2884\",\"type\":\"GlyphRenderer\"},{\"attributes\":{\"line_alpha\":0.2,\"line_color\":\"#EA7356\",\"line_dash\":[6],\"line_width\":4,\"x\":{\"field\":\"x\"},\"y\":{\"field\":\"y\"}},\"id\":\"3033\",\"type\":\"Line\"},{\"attributes\":{\"source\":{\"id\":\"2880\"}},\"id\":\"2885\",\"type\":\"CDSView\"},{\"attributes\":{\"line_alpha\":0.1,\"line_color\":\"#5201A3\",\"line_dash\":[6],\"line_width\":4,\"x\":{\"field\":\"x\"},\"y\":{\"field\":\"y\"}},\"id\":\"2882\",\"type\":\"Line\"},{\"attributes\":{},\"id\":\"3171\",\"type\":\"UnionRenderers\"},{\"attributes\":{\"line_color\":\"#6200A6\",\"line_dash\":[6],\"line_width\":4,\"x\":{\"field\":\"x\"},\"y\":{\"field\":\"y\"}},\"id\":\"2893\",\"type\":\"Line\"},{\"attributes\":{\"data\":{\"x\":{\"__ndarray__\":\"oIqVXHBz77+U24wJB/nvPw==\",\"dtype\":\"float64\",\"order\":\"little\",\"shape\":[2]},\"y\":{\"__ndarray__\":\"1IVDPFgiB0C1cP4abrELwA==\",\"dtype\":\"float64\",\"order\":\"little\",\"shape\":[2]}},\"selected\":{\"id\":\"3166\"},\"selection_policy\":{\"id\":\"3165\"}},\"id\":\"2886\",\"type\":\"ColumnDataSource\"},{\"attributes\":{},\"id\":\"3209\",\"type\":\"UnionRenderers\"},{\"attributes\":{\"line_alpha\":0.2,\"line_color\":\"#6200A6\",\"line_dash\":[6],\"line_width\":4,\"x\":{\"field\":\"x\"},\"y\":{\"field\":\"y\"}},\"id\":\"2895\",\"type\":\"Line\"},{\"attributes\":{},\"id\":\"3172\",\"type\":\"Selection\"},{\"attributes\":{\"coordinates\":null,\"data_source\":{\"id\":\"2886\"},\"glyph\":{\"id\":\"2887\"},\"group\":null,\"hover_glyph\":null,\"muted_glyph\":{\"id\":\"2889\"},\"nonselection_glyph\":{\"id\":\"2888\"},\"view\":{\"id\":\"2891\"}},\"id\":\"2890\",\"type\":\"GlyphRenderer\"},{\"attributes\":{\"source\":{\"id\":\"2886\"}},\"id\":\"2891\",\"type\":\"CDSView\"},{\"attributes\":{},\"id\":\"3210\",\"type\":\"Selection\"},{\"attributes\":{\"line_alpha\":0.1,\"line_color\":\"#5A00A5\",\"line_dash\":[6],\"line_width\":4,\"x\":{\"field\":\"x\"},\"y\":{\"field\":\"y\"}},\"id\":\"2888\",\"type\":\"Line\"},{\"attributes\":{\"line_color\":\"#6C00A8\",\"line_dash\":[6],\"line_width\":4,\"x\":{\"field\":\"x\"},\"y\":{\"field\":\"y\"}},\"id\":\"2899\",\"type\":\"Line\"},{\"attributes\":{\"data\":{\"x\":{\"__ndarray__\":\"oIqVXHBz77+U24wJB/nvPw==\",\"dtype\":\"float64\",\"order\":\"little\",\"shape\":[2]},\"y\":{\"__ndarray__\":\"t/eynBMhCkBTL1cOyr0PwA==\",\"dtype\":\"float64\",\"order\":\"little\",\"shape\":[2]}},\"selected\":{\"id\":\"3168\"},\"selection_policy\":{\"id\":\"3167\"}},\"id\":\"2892\",\"type\":\"ColumnDataSource\"},{\"attributes\":{\"line_alpha\":0.2,\"line_color\":\"#6C00A8\",\"line_dash\":[6],\"line_width\":4,\"x\":{\"field\":\"x\"},\"y\":{\"field\":\"y\"}},\"id\":\"2901\",\"type\":\"Line\"},{\"attributes\":{\"coordinates\":null,\"data_source\":{\"id\":\"2892\"},\"glyph\":{\"id\":\"2893\"},\"group\":null,\"hover_glyph\":null,\"muted_glyph\":{\"id\":\"2895\"},\"nonselection_glyph\":{\"id\":\"2894\"},\"view\":{\"id\":\"2897\"}},\"id\":\"2896\",\"type\":\"GlyphRenderer\"},{\"attributes\":{\"source\":{\"id\":\"2892\"}},\"id\":\"2897\",\"type\":\"CDSView\"},{\"attributes\":{},\"id\":\"3211\",\"type\":\"UnionRenderers\"},{\"attributes\":{\"line_alpha\":0.1,\"line_color\":\"#6200A6\",\"line_dash\":[6],\"line_width\":4,\"x\":{\"field\":\"x\"},\"y\":{\"field\":\"y\"}},\"id\":\"2894\",\"type\":\"Line\"},{\"attributes\":{\"line_color\":\"#7300A8\",\"line_dash\":[6],\"line_width\":4,\"x\":{\"field\":\"x\"},\"y\":{\"field\":\"y\"}},\"id\":\"2905\",\"type\":\"Line\"},{\"attributes\":{},\"id\":\"3212\",\"type\":\"Selection\"},{\"attributes\":{\"data\":{\"x\":{\"__ndarray__\":\"oIqVXHBz77+U24wJB/nvPw==\",\"dtype\":\"float64\",\"order\":\"little\",\"shape\":[2]},\"y\":{\"__ndarray__\":\"jtTxUX+6DUDXrmx4zEUSwA==\",\"dtype\":\"float64\",\"order\":\"little\",\"shape\":[2]}},\"selected\":{\"id\":\"3170\"},\"selection_policy\":{\"id\":\"3169\"}},\"id\":\"2898\",\"type\":\"ColumnDataSource\"},{\"attributes\":{\"line_alpha\":0.2,\"line_color\":\"#7300A8\",\"line_dash\":[6],\"line_width\":4,\"x\":{\"field\":\"x\"},\"y\":{\"field\":\"y\"}},\"id\":\"2907\",\"type\":\"Line\"},{\"attributes\":{\"coordinates\":null,\"data_source\":{\"id\":\"2898\"},\"glyph\":{\"id\":\"2899\"},\"group\":null,\"hover_glyph\":null,\"muted_glyph\":{\"id\":\"2901\"},\"nonselection_glyph\":{\"id\":\"2900\"},\"view\":{\"id\":\"2903\"}},\"id\":\"2902\",\"type\":\"GlyphRenderer\"},{\"attributes\":{},\"id\":\"3173\",\"type\":\"UnionRenderers\"},{\"attributes\":{\"source\":{\"id\":\"2898\"}},\"id\":\"2903\",\"type\":\"CDSView\"},{\"attributes\":{\"line_alpha\":0.1,\"line_color\":\"#6C00A8\",\"line_dash\":[6],\"line_width\":4,\"x\":{\"field\":\"x\"},\"y\":{\"field\":\"y\"}},\"id\":\"2900\",\"type\":\"Line\"},{\"attributes\":{},\"id\":\"3174\",\"type\":\"Selection\"},{\"attributes\":{\"line_color\":\"#7B02A8\",\"line_dash\":[6],\"line_width\":4,\"x\":{\"field\":\"x\"},\"y\":{\"field\":\"y\"}},\"id\":\"2911\",\"type\":\"Line\"},{\"attributes\":{\"data\":{\"x\":{\"__ndarray__\":\"oIqVXHBz77+U24wJB/nvPw==\",\"dtype\":\"float64\",\"order\":\"little\",\"shape\":[2]},\"y\":{\"__ndarray__\":\"KmGpkVsQEUAfiZqr1y0VwA==\",\"dtype\":\"float64\",\"order\":\"little\",\"shape\":[2]}},\"selected\":{\"id\":\"3172\"},\"selection_policy\":{\"id\":\"3171\"}},\"id\":\"2904\",\"type\":\"ColumnDataSource\"},{\"attributes\":{\"line_alpha\":0.2,\"line_color\":\"#7B02A8\",\"line_dash\":[6],\"line_width\":4,\"x\":{\"field\":\"x\"},\"y\":{\"field\":\"y\"}},\"id\":\"2913\",\"type\":\"Line\"},{\"attributes\":{\"coordinates\":null,\"data_source\":{\"id\":\"2904\"},\"glyph\":{\"id\":\"2905\"},\"group\":null,\"hover_glyph\":null,\"muted_glyph\":{\"id\":\"2907\"},\"nonselection_glyph\":{\"id\":\"2906\"},\"view\":{\"id\":\"2909\"}},\"id\":\"2908\",\"type\":\"GlyphRenderer\"},{\"attributes\":{\"source\":{\"id\":\"2904\"}},\"id\":\"2909\",\"type\":\"CDSView\"},{\"attributes\":{\"line_alpha\":0.1,\"line_color\":\"#7300A8\",\"line_dash\":[6],\"line_width\":4,\"x\":{\"field\":\"x\"},\"y\":{\"field\":\"y\"}},\"id\":\"2906\",\"type\":\"Line\"},{\"attributes\":{\"line_color\":\"#8204A7\",\"line_dash\":[6],\"line_width\":4,\"x\":{\"field\":\"x\"},\"y\":{\"field\":\"y\"}},\"id\":\"2917\",\"type\":\"Line\"},{\"attributes\":{\"data\":{\"x\":{\"__ndarray__\":\"oIqVXHBz77+U24wJB/nvPw==\",\"dtype\":\"float64\",\"order\":\"little\",\"shape\":[2]},\"y\":{\"__ndarray__\":\"uBozyEbPE0DbfD2cTMcYwA==\",\"dtype\":\"float64\",\"order\":\"little\",\"shape\":[2]}},\"selected\":{\"id\":\"3174\"},\"selection_policy\":{\"id\":\"3173\"}},\"id\":\"2910\",\"type\":\"ColumnDataSource\"},{\"attributes\":{},\"id\":\"3213\",\"type\":\"UnionRenderers\"},{\"attributes\":{\"line_alpha\":0.2,\"line_color\":\"#8204A7\",\"line_dash\":[6],\"line_width\":4,\"x\":{\"field\":\"x\"},\"y\":{\"field\":\"y\"}},\"id\":\"2919\",\"type\":\"Line\"},{\"attributes\":{\"coordinates\":null,\"data_source\":{\"id\":\"2910\"},\"glyph\":{\"id\":\"2911\"},\"group\":null,\"hover_glyph\":null,\"muted_glyph\":{\"id\":\"2913\"},\"nonselection_glyph\":{\"id\":\"2912\"},\"view\":{\"id\":\"2915\"}},\"id\":\"2914\",\"type\":\"GlyphRenderer\"},{\"attributes\":{\"source\":{\"id\":\"2910\"}},\"id\":\"2915\",\"type\":\"CDSView\"},{\"attributes\":{},\"id\":\"3214\",\"type\":\"Selection\"},{\"attributes\":{\"line_alpha\":0.1,\"line_color\":\"#7B02A8\",\"line_dash\":[6],\"line_width\":4,\"x\":{\"field\":\"x\"},\"y\":{\"field\":\"y\"}},\"id\":\"2912\",\"type\":\"Line\"},{\"attributes\":{\"line_color\":\"#8908A5\",\"line_dash\":[6],\"line_width\":4,\"x\":{\"field\":\"x\"},\"y\":{\"field\":\"y\"}},\"id\":\"2923\",\"type\":\"Line\"},{\"attributes\":{},\"id\":\"3175\",\"type\":\"UnionRenderers\"},{\"attributes\":{\"data\":{\"x\":{\"__ndarray__\":\"oIqVXHBz77+U24wJB/nvPw==\",\"dtype\":\"float64\",\"order\":\"little\",\"shape\":[2]},\"y\":{\"__ndarray__\":\"Ix3n62lUF0BAfhIjZV0dwA==\",\"dtype\":\"float64\",\"order\":\"little\",\"shape\":[2]}},\"selected\":{\"id\":\"3176\"},\"selection_policy\":{\"id\":\"3175\"}},\"id\":\"2916\",\"type\":\"ColumnDataSource\"},{\"attributes\":{\"line_alpha\":0.2,\"line_color\":\"#8908A5\",\"line_dash\":[6],\"line_width\":4,\"x\":{\"field\":\"x\"},\"y\":{\"field\":\"y\"}},\"id\":\"2925\",\"type\":\"Line\"},{\"attributes\":{\"coordinates\":null,\"data_source\":{\"id\":\"2916\"},\"glyph\":{\"id\":\"2917\"},\"group\":null,\"hover_glyph\":null,\"muted_glyph\":{\"id\":\"2919\"},\"nonselection_glyph\":{\"id\":\"2918\"},\"view\":{\"id\":\"2921\"}},\"id\":\"2920\",\"type\":\"GlyphRenderer\"},{\"attributes\":{},\"id\":\"3176\",\"type\":\"Selection\"},{\"attributes\":{\"source\":{\"id\":\"2916\"}},\"id\":\"2921\",\"type\":\"CDSView\"},{\"attributes\":{},\"id\":\"3236\",\"type\":\"Selection\"},{\"attributes\":{\"line_alpha\":0.1,\"line_color\":\"#8204A7\",\"line_dash\":[6],\"line_width\":4,\"x\":{\"field\":\"x\"},\"y\":{\"field\":\"y\"}},\"id\":\"2918\",\"type\":\"Line\"},{\"attributes\":{\"line_color\":\"#920FA2\",\"line_dash\":[6],\"line_width\":4,\"x\":{\"field\":\"x\"},\"y\":{\"field\":\"y\"}},\"id\":\"2929\",\"type\":\"Line\"},{\"attributes\":{\"data\":{\"x\":{\"__ndarray__\":\"oIqVXHBz77+U24wJB/nvPw==\",\"dtype\":\"float64\",\"order\":\"little\",\"shape\":[2]},\"y\":{\"__ndarray__\":\"eAWxMj8AHEACzYzbHbYhwA==\",\"dtype\":\"float64\",\"order\":\"little\",\"shape\":[2]}},\"selected\":{\"id\":\"3178\"},\"selection_policy\":{\"id\":\"3177\"}},\"id\":\"2922\",\"type\":\"ColumnDataSource\"},{\"attributes\":{\"line_alpha\":0.2,\"line_color\":\"#920FA2\",\"line_dash\":[6],\"line_width\":4,\"x\":{\"field\":\"x\"},\"y\":{\"field\":\"y\"}},\"id\":\"2931\",\"type\":\"Line\"},{\"attributes\":{\"coordinates\":null,\"data_source\":{\"id\":\"2922\"},\"glyph\":{\"id\":\"2923\"},\"group\":null,\"hover_glyph\":null,\"muted_glyph\":{\"id\":\"2925\"},\"nonselection_glyph\":{\"id\":\"2924\"},\"view\":{\"id\":\"2927\"}},\"id\":\"2926\",\"type\":\"GlyphRenderer\"},{\"attributes\":{\"source\":{\"id\":\"2922\"}},\"id\":\"2927\",\"type\":\"CDSView\"},{\"attributes\":{},\"id\":\"3215\",\"type\":\"UnionRenderers\"},{\"attributes\":{\"line_alpha\":0.1,\"line_color\":\"#8908A5\",\"line_dash\":[6],\"line_width\":4,\"x\":{\"field\":\"x\"},\"y\":{\"field\":\"y\"}},\"id\":\"2924\",\"type\":\"Line\"},{\"attributes\":{\"line_color\":\"#99149F\",\"line_dash\":[6],\"line_width\":4,\"x\":{\"field\":\"x\"},\"y\":{\"field\":\"y\"}},\"id\":\"2935\",\"type\":\"Line\"},{\"attributes\":{\"data\":{\"x\":{\"__ndarray__\":\"oIqVXHBz77+U24wJB/nvPw==\",\"dtype\":\"float64\",\"order\":\"little\",\"shape\":[2]},\"y\":{\"__ndarray__\":\"pNe6uyY/IUA3WcQQJeglwA==\",\"dtype\":\"float64\",\"order\":\"little\",\"shape\":[2]}},\"selected\":{\"id\":\"3180\"},\"selection_policy\":{\"id\":\"3179\"}},\"id\":\"2928\",\"type\":\"ColumnDataSource\"},{\"attributes\":{},\"id\":\"3216\",\"type\":\"Selection\"},{\"attributes\":{\"line_alpha\":0.2,\"line_color\":\"#99149F\",\"line_dash\":[6],\"line_width\":4,\"x\":{\"field\":\"x\"},\"y\":{\"field\":\"y\"}},\"id\":\"2937\",\"type\":\"Line\"},{\"attributes\":{\"coordinates\":null,\"data_source\":{\"id\":\"2928\"},\"glyph\":{\"id\":\"2929\"},\"group\":null,\"hover_glyph\":null,\"muted_glyph\":{\"id\":\"2931\"},\"nonselection_glyph\":{\"id\":\"2930\"},\"view\":{\"id\":\"2933\"}},\"id\":\"2932\",\"type\":\"GlyphRenderer\"},{\"attributes\":{\"source\":{\"id\":\"2928\"}},\"id\":\"2933\",\"type\":\"CDSView\"},{\"attributes\":{},\"id\":\"3177\",\"type\":\"UnionRenderers\"},{\"attributes\":{},\"id\":\"3246\",\"type\":\"Selection\"},{\"attributes\":{\"line_alpha\":0.1,\"line_color\":\"#920FA2\",\"line_dash\":[6],\"line_width\":4,\"x\":{\"field\":\"x\"},\"y\":{\"field\":\"y\"}},\"id\":\"2930\",\"type\":\"Line\"},{\"attributes\":{\"line_color\":\"#9F1A9B\",\"line_dash\":[6],\"line_width\":4,\"x\":{\"field\":\"x\"},\"y\":{\"field\":\"y\"}},\"id\":\"2941\",\"type\":\"Line\"},{\"attributes\":{},\"id\":\"3178\",\"type\":\"Selection\"},{\"attributes\":{\"data\":{\"x\":{\"__ndarray__\":\"oIqVXHBz77+U24wJB/nvPw==\",\"dtype\":\"float64\",\"order\":\"little\",\"shape\":[2]},\"y\":{\"__ndarray__\":\"+zUI39MPJkAH9bp+Uh0swA==\",\"dtype\":\"float64\",\"order\":\"little\",\"shape\":[2]}},\"selected\":{\"id\":\"3182\"},\"selection_policy\":{\"id\":\"3181\"}},\"id\":\"2934\",\"type\":\"ColumnDataSource\"},{\"attributes\":{\"line_alpha\":0.2,\"line_color\":\"#9F1A9B\",\"line_dash\":[6],\"line_width\":4,\"x\":{\"field\":\"x\"},\"y\":{\"field\":\"y\"}},\"id\":\"2943\",\"type\":\"Line\"},{\"attributes\":{\"coordinates\":null,\"data_source\":{\"id\":\"2934\"},\"glyph\":{\"id\":\"2935\"},\"group\":null,\"hover_glyph\":null,\"muted_glyph\":{\"id\":\"2937\"},\"nonselection_glyph\":{\"id\":\"2936\"},\"view\":{\"id\":\"2939\"}},\"id\":\"2938\",\"type\":\"GlyphRenderer\"},{\"attributes\":{\"source\":{\"id\":\"2934\"}},\"id\":\"2939\",\"type\":\"CDSView\"},{\"attributes\":{\"line_alpha\":0.1,\"line_color\":\"#99149F\",\"line_dash\":[6],\"line_width\":4,\"x\":{\"field\":\"x\"},\"y\":{\"field\":\"y\"}},\"id\":\"2936\",\"type\":\"Line\"},{\"attributes\":{\"line_color\":\"#A51F97\",\"line_dash\":[6],\"line_width\":4,\"x\":{\"field\":\"x\"},\"y\":{\"field\":\"y\"}},\"id\":\"2947\",\"type\":\"Line\"},{\"attributes\":{\"data\":{\"x\":{\"__ndarray__\":\"oIqVXHBz77+U24wJB/nvPw==\",\"dtype\":\"float64\",\"order\":\"little\",\"shape\":[2]},\"y\":{\"__ndarray__\":\"9g3vDQTxLUCeF/WvuSAzwA==\",\"dtype\":\"float64\",\"order\":\"little\",\"shape\":[2]}},\"selected\":{\"id\":\"3184\"},\"selection_policy\":{\"id\":\"3183\"}},\"id\":\"2940\",\"type\":\"ColumnDataSource\"},{\"attributes\":{\"line_alpha\":0.2,\"line_color\":\"#A51F97\",\"line_dash\":[6],\"line_width\":4,\"x\":{\"field\":\"x\"},\"y\":{\"field\":\"y\"}},\"id\":\"2949\",\"type\":\"Line\"},{\"attributes\":{},\"id\":\"3217\",\"type\":\"UnionRenderers\"},{\"attributes\":{\"coordinates\":null,\"data_source\":{\"id\":\"2940\"},\"glyph\":{\"id\":\"2941\"},\"group\":null,\"hover_glyph\":null,\"muted_glyph\":{\"id\":\"2943\"},\"nonselection_glyph\":{\"id\":\"2942\"},\"view\":{\"id\":\"2945\"}},\"id\":\"2944\",\"type\":\"GlyphRenderer\"},{\"attributes\":{\"source\":{\"id\":\"2940\"}},\"id\":\"2945\",\"type\":\"CDSView\"},{\"attributes\":{},\"id\":\"3218\",\"type\":\"Selection\"},{\"attributes\":{\"line_alpha\":0.1,\"line_color\":\"#9F1A9B\",\"line_dash\":[6],\"line_width\":4,\"x\":{\"field\":\"x\"},\"y\":{\"field\":\"y\"}},\"id\":\"2942\",\"type\":\"Line\"},{\"attributes\":{\"line_color\":\"#AC2593\",\"line_dash\":[6],\"line_width\":4,\"x\":{\"field\":\"x\"},\"y\":{\"field\":\"y\"}},\"id\":\"2953\",\"type\":\"Line\"},{\"attributes\":{\"data\":{\"x\":{\"__ndarray__\":\"oIqVXHBz77+U24wJB/nvPw==\",\"dtype\":\"float64\",\"order\":\"little\",\"shape\":[2]},\"y\":{\"__ndarray__\":\"WIbmR6GVNkC7sIAaeOo8wA==\",\"dtype\":\"float64\",\"order\":\"little\",\"shape\":[2]}},\"selected\":{\"id\":\"3186\"},\"selection_policy\":{\"id\":\"3185\"}},\"id\":\"2946\",\"type\":\"ColumnDataSource\"},{\"attributes\":{},\"id\":\"3179\",\"type\":\"UnionRenderers\"},{\"attributes\":{\"line_alpha\":0.2,\"line_color\":\"#AC2593\",\"line_dash\":[6],\"line_width\":4,\"x\":{\"field\":\"x\"},\"y\":{\"field\":\"y\"}},\"id\":\"2955\",\"type\":\"Line\"},{\"attributes\":{},\"id\":\"3245\",\"type\":\"UnionRenderers\"},{\"attributes\":{\"coordinates\":null,\"data_source\":{\"id\":\"2946\"},\"glyph\":{\"id\":\"2947\"},\"group\":null,\"hover_glyph\":null,\"muted_glyph\":{\"id\":\"2949\"},\"nonselection_glyph\":{\"id\":\"2948\"},\"view\":{\"id\":\"2951\"}},\"id\":\"2950\",\"type\":\"GlyphRenderer\"},{\"attributes\":{\"source\":{\"id\":\"2946\"}},\"id\":\"2951\",\"type\":\"CDSView\"},{\"attributes\":{},\"id\":\"3180\",\"type\":\"Selection\"},{\"attributes\":{},\"id\":\"3244\",\"type\":\"Selection\"},{\"attributes\":{\"line_alpha\":0.1,\"line_color\":\"#A51F97\",\"line_dash\":[6],\"line_width\":4,\"x\":{\"field\":\"x\"},\"y\":{\"field\":\"y\"}},\"id\":\"2948\",\"type\":\"Line\"},{\"attributes\":{\"line_color\":\"#B22C8E\",\"line_dash\":[6],\"line_width\":4,\"x\":{\"field\":\"x\"},\"y\":{\"field\":\"y\"}},\"id\":\"2959\",\"type\":\"Line\"},{\"attributes\":{\"data\":{\"x\":{\"__ndarray__\":\"oIqVXHBz77+U24wJB/nvPw==\",\"dtype\":\"float64\",\"order\":\"little\",\"shape\":[2]},\"y\":{\"__ndarray__\":\"iUXjR6q+RUCHdS46BuNLwA==\",\"dtype\":\"float64\",\"order\":\"little\",\"shape\":[2]}},\"selected\":{\"id\":\"3188\"},\"selection_policy\":{\"id\":\"3187\"}},\"id\":\"2952\",\"type\":\"ColumnDataSource\"},{\"attributes\":{\"line_alpha\":0.2,\"line_color\":\"#B22C8E\",\"line_dash\":[6],\"line_width\":4,\"x\":{\"field\":\"x\"},\"y\":{\"field\":\"y\"}},\"id\":\"2961\",\"type\":\"Line\"},{\"attributes\":{\"coordinates\":null,\"data_source\":{\"id\":\"2952\"},\"glyph\":{\"id\":\"2953\"},\"group\":null,\"hover_glyph\":null,\"muted_glyph\":{\"id\":\"2955\"},\"nonselection_glyph\":{\"id\":\"2954\"},\"view\":{\"id\":\"2957\"}},\"id\":\"2956\",\"type\":\"GlyphRenderer\"},{\"attributes\":{\"source\":{\"id\":\"2952\"}},\"id\":\"2957\",\"type\":\"CDSView\"},{\"attributes\":{\"line_alpha\":0.1,\"line_color\":\"#AC2593\",\"line_dash\":[6],\"line_width\":4,\"x\":{\"field\":\"x\"},\"y\":{\"field\":\"y\"}},\"id\":\"2954\",\"type\":\"Line\"},{\"attributes\":{},\"id\":\"3219\",\"type\":\"UnionRenderers\"},{\"attributes\":{\"line_color\":\"#B83289\",\"line_dash\":[6],\"line_width\":4,\"x\":{\"field\":\"x\"},\"y\":{\"field\":\"y\"}},\"id\":\"2965\",\"type\":\"Line\"},{\"attributes\":{\"data\":{\"x\":{\"__ndarray__\":\"oIqVXHBz77+U24wJB/nvPw==\",\"dtype\":\"float64\",\"order\":\"little\",\"shape\":[2]},\"y\":{\"__ndarray__\":\"i9vyhaXtdUDv5JkTrSh8wA==\",\"dtype\":\"float64\",\"order\":\"little\",\"shape\":[2]}},\"selected\":{\"id\":\"3190\"},\"selection_policy\":{\"id\":\"3189\"}},\"id\":\"2958\",\"type\":\"ColumnDataSource\"},{\"attributes\":{\"line_alpha\":0.2,\"line_color\":\"#B83289\",\"line_dash\":[6],\"line_width\":4,\"x\":{\"field\":\"x\"},\"y\":{\"field\":\"y\"}},\"id\":\"2967\",\"type\":\"Line\"},{\"attributes\":{},\"id\":\"3220\",\"type\":\"Selection\"},{\"attributes\":{\"coordinates\":null,\"data_source\":{\"id\":\"2958\"},\"glyph\":{\"id\":\"2959\"},\"group\":null,\"hover_glyph\":null,\"muted_glyph\":{\"id\":\"2961\"},\"nonselection_glyph\":{\"id\":\"2960\"},\"view\":{\"id\":\"2963\"}},\"id\":\"2962\",\"type\":\"GlyphRenderer\"},{\"attributes\":{\"source\":{\"id\":\"2958\"}},\"id\":\"2963\",\"type\":\"CDSView\"},{\"attributes\":{},\"id\":\"3181\",\"type\":\"UnionRenderers\"},{\"attributes\":{\"line_alpha\":0.1,\"line_color\":\"#B22C8E\",\"line_dash\":[6],\"line_width\":4,\"x\":{\"field\":\"x\"},\"y\":{\"field\":\"y\"}},\"id\":\"2960\",\"type\":\"Line\"},{\"attributes\":{\"line_color\":\"#BD3784\",\"line_dash\":[6],\"line_width\":4,\"x\":{\"field\":\"x\"},\"y\":{\"field\":\"y\"}},\"id\":\"2971\",\"type\":\"Line\"},{\"attributes\":{\"data\":{\"x\":{\"__ndarray__\":\"oIqVXHBz77+U24wJB/nvPw==\",\"dtype\":\"float64\",\"order\":\"little\",\"shape\":[2]},\"y\":{\"__ndarray__\":\"Q4Y77ErKTsDL11ncJcpTQA==\",\"dtype\":\"float64\",\"order\":\"little\",\"shape\":[2]}},\"selected\":{\"id\":\"3192\"},\"selection_policy\":{\"id\":\"3191\"}},\"id\":\"2964\",\"type\":\"ColumnDataSource\"},{\"attributes\":{},\"id\":\"3182\",\"type\":\"Selection\"},{\"attributes\":{\"line_alpha\":0.2,\"line_color\":\"#BD3784\",\"line_dash\":[6],\"line_width\":4,\"x\":{\"field\":\"x\"},\"y\":{\"field\":\"y\"}},\"id\":\"2973\",\"type\":\"Line\"},{\"attributes\":{\"coordinates\":null,\"data_source\":{\"id\":\"2964\"},\"glyph\":{\"id\":\"2965\"},\"group\":null,\"hover_glyph\":null,\"muted_glyph\":{\"id\":\"2967\"},\"nonselection_glyph\":{\"id\":\"2966\"},\"view\":{\"id\":\"2969\"}},\"id\":\"2968\",\"type\":\"GlyphRenderer\"},{\"attributes\":{\"source\":{\"id\":\"2964\"}},\"id\":\"2969\",\"type\":\"CDSView\"},{\"attributes\":{\"line_alpha\":0.1,\"line_color\":\"#B83289\",\"line_dash\":[6],\"line_width\":4,\"x\":{\"field\":\"x\"},\"y\":{\"field\":\"y\"}},\"id\":\"2966\",\"type\":\"Line\"},{\"attributes\":{\"line_color\":\"#C23D80\",\"line_dash\":[6],\"line_width\":4,\"x\":{\"field\":\"x\"},\"y\":{\"field\":\"y\"}},\"id\":\"2977\",\"type\":\"Line\"},{\"attributes\":{},\"id\":\"3234\",\"type\":\"Selection\"},{\"attributes\":{\"data\":{\"x\":{\"__ndarray__\":\"oIqVXHBz77+U24wJB/nvPw==\",\"dtype\":\"float64\",\"order\":\"little\",\"shape\":[2]},\"y\":{\"__ndarray__\":\"+xGLh3QcPcCGbka2tLlCQA==\",\"dtype\":\"float64\",\"order\":\"little\",\"shape\":[2]}},\"selected\":{\"id\":\"3194\"},\"selection_policy\":{\"id\":\"3193\"}},\"id\":\"2970\",\"type\":\"ColumnDataSource\"},{\"attributes\":{\"line_alpha\":0.2,\"line_color\":\"#C23D80\",\"line_dash\":[6],\"line_width\":4,\"x\":{\"field\":\"x\"},\"y\":{\"field\":\"y\"}},\"id\":\"2979\",\"type\":\"Line\"},{\"attributes\":{\"coordinates\":null,\"data_source\":{\"id\":\"2970\"},\"glyph\":{\"id\":\"2971\"},\"group\":null,\"hover_glyph\":null,\"muted_glyph\":{\"id\":\"2973\"},\"nonselection_glyph\":{\"id\":\"2972\"},\"view\":{\"id\":\"2975\"}},\"id\":\"2974\",\"type\":\"GlyphRenderer\"},{\"attributes\":{},\"id\":\"3221\",\"type\":\"UnionRenderers\"},{\"attributes\":{\"source\":{\"id\":\"2970\"}},\"id\":\"2975\",\"type\":\"CDSView\"},{\"attributes\":{\"line_alpha\":0.1,\"line_color\":\"#BD3784\",\"line_dash\":[6],\"line_width\":4,\"x\":{\"field\":\"x\"},\"y\":{\"field\":\"y\"}},\"id\":\"2972\",\"type\":\"Line\"},{\"attributes\":{},\"id\":\"3222\",\"type\":\"Selection\"},{\"attributes\":{\"line_color\":\"#C7427B\",\"line_dash\":[6],\"line_width\":4,\"x\":{\"field\":\"x\"},\"y\":{\"field\":\"y\"}},\"id\":\"2983\",\"type\":\"Line\"},{\"attributes\":{\"data\":{\"x\":{\"__ndarray__\":\"oIqVXHBz77+U24wJB/nvPw==\",\"dtype\":\"float64\",\"order\":\"little\",\"shape\":[2]},\"y\":{\"__ndarray__\":\"epHGymNlM8CS808xzfc4QA==\",\"dtype\":\"float64\",\"order\":\"little\",\"shape\":[2]}},\"selected\":{\"id\":\"3196\"},\"selection_policy\":{\"id\":\"3195\"}},\"id\":\"2976\",\"type\":\"ColumnDataSource\"},{\"attributes\":{\"line_alpha\":0.2,\"line_color\":\"#C7427B\",\"line_dash\":[6],\"line_width\":4,\"x\":{\"field\":\"x\"},\"y\":{\"field\":\"y\"}},\"id\":\"2985\",\"type\":\"Line\"},{\"attributes\":{},\"id\":\"3183\",\"type\":\"UnionRenderers\"},{\"attributes\":{},\"id\":\"3239\",\"type\":\"UnionRenderers\"},{\"attributes\":{\"coordinates\":null,\"data_source\":{\"id\":\"2976\"},\"glyph\":{\"id\":\"2977\"},\"group\":null,\"hover_glyph\":null,\"muted_glyph\":{\"id\":\"2979\"},\"nonselection_glyph\":{\"id\":\"2978\"},\"view\":{\"id\":\"2981\"}},\"id\":\"2980\",\"type\":\"GlyphRenderer\"},{\"attributes\":{\"source\":{\"id\":\"2976\"}},\"id\":\"2981\",\"type\":\"CDSView\"},{\"attributes\":{},\"id\":\"3184\",\"type\":\"Selection\"},{\"attributes\":{\"line_alpha\":0.1,\"line_color\":\"#C23D80\",\"line_dash\":[6],\"line_width\":4,\"x\":{\"field\":\"x\"},\"y\":{\"field\":\"y\"}},\"id\":\"2978\",\"type\":\"Line\"},{\"attributes\":{\"line_color\":\"#CD4975\",\"line_dash\":[6],\"line_width\":4,\"x\":{\"field\":\"x\"},\"y\":{\"field\":\"y\"}},\"id\":\"2989\",\"type\":\"Line\"},{\"attributes\":{\"data\":{\"x\":{\"__ndarray__\":\"oIqVXHBz77+U24wJB/nvPw==\",\"dtype\":\"float64\",\"order\":\"little\",\"shape\":[2]},\"y\":{\"__ndarray__\":\"2kiKaztyLcBzck/uKfYyQA==\",\"dtype\":\"float64\",\"order\":\"little\",\"shape\":[2]}},\"selected\":{\"id\":\"3198\"},\"selection_policy\":{\"id\":\"3197\"}},\"id\":\"2982\",\"type\":\"ColumnDataSource\"},{\"attributes\":{\"line_alpha\":0.2,\"line_color\":\"#CD4975\",\"line_dash\":[6],\"line_width\":4,\"x\":{\"field\":\"x\"},\"y\":{\"field\":\"y\"}},\"id\":\"2991\",\"type\":\"Line\"},{\"attributes\":{\"coordinates\":null,\"data_source\":{\"id\":\"2982\"},\"glyph\":{\"id\":\"2983\"},\"group\":null,\"hover_glyph\":null,\"muted_glyph\":{\"id\":\"2985\"},\"nonselection_glyph\":{\"id\":\"2984\"},\"view\":{\"id\":\"2987\"}},\"id\":\"2986\",\"type\":\"GlyphRenderer\"},{\"attributes\":{\"source\":{\"id\":\"2982\"}},\"id\":\"2987\",\"type\":\"CDSView\"},{\"attributes\":{\"line_alpha\":0.1,\"line_color\":\"#C7427B\",\"line_dash\":[6],\"line_width\":4,\"x\":{\"field\":\"x\"},\"y\":{\"field\":\"y\"}},\"id\":\"2984\",\"type\":\"Line\"},{\"attributes\":{\"line_color\":\"#D14F71\",\"line_dash\":[6],\"line_width\":4,\"x\":{\"field\":\"x\"},\"y\":{\"field\":\"y\"}},\"id\":\"2995\",\"type\":\"Line\"},{\"attributes\":{},\"id\":\"3223\",\"type\":\"UnionRenderers\"},{\"attributes\":{\"data\":{\"x\":{\"__ndarray__\":\"oIqVXHBz77+U24wJB/nvPw==\",\"dtype\":\"float64\",\"order\":\"little\",\"shape\":[2]},\"y\":{\"__ndarray__\":\"pQARFrvzJ8CPQs5HvtsuQA==\",\"dtype\":\"float64\",\"order\":\"little\",\"shape\":[2]}},\"selected\":{\"id\":\"3200\"},\"selection_policy\":{\"id\":\"3199\"}},\"id\":\"2988\",\"type\":\"ColumnDataSource\"},{\"attributes\":{\"background_fill_alpha\":0.9,\"background_fill_color\":\"#0f0f0f\",\"below\":[{\"id\":\"2795\"}],\"border_fill_alpha\":0.8,\"border_fill_color\":\"#111111\",\"center\":[{\"id\":\"2798\"},{\"id\":\"2802\"},{\"id\":\"2834\"}],\"height\":450,\"left\":[{\"id\":\"2799\"}],\"outline_line_alpha\":0.25,\"outline_line_color\":\"#E0E0E0\",\"outline_line_width\":3,\"renderers\":[{\"id\":\"2822\"},{\"id\":\"2842\"},{\"id\":\"2848\"},{\"id\":\"2854\"},{\"id\":\"2860\"},{\"id\":\"2866\"},{\"id\":\"2872\"},{\"id\":\"2878\"},{\"id\":\"2884\"},{\"id\":\"2890\"},{\"id\":\"2896\"},{\"id\":\"2902\"},{\"id\":\"2908\"},{\"id\":\"2914\"},{\"id\":\"2920\"},{\"id\":\"2926\"},{\"id\":\"2932\"},{\"id\":\"2938\"},{\"id\":\"2944\"},{\"id\":\"2950\"},{\"id\":\"2956\"},{\"id\":\"2962\"},{\"id\":\"2968\"},{\"id\":\"2974\"},{\"id\":\"2980\"},{\"id\":\"2986\"},{\"id\":\"2992\"},{\"id\":\"2998\"},{\"id\":\"3004\"},{\"id\":\"3010\"},{\"id\":\"3016\"},{\"id\":\"3022\"},{\"id\":\"3028\"},{\"id\":\"3034\"},{\"id\":\"3040\"},{\"id\":\"3046\"},{\"id\":\"3052\"},{\"id\":\"3058\"},{\"id\":\"3064\"},{\"id\":\"3070\"},{\"id\":\"3076\"},{\"id\":\"3082\"},{\"id\":\"3088\"},{\"id\":\"3094\"},{\"id\":\"3100\"},{\"id\":\"3106\"},{\"id\":\"3112\"},{\"id\":\"3118\"},{\"id\":\"3124\"},{\"id\":\"3130\"},{\"id\":\"3136\"}],\"right\":[{\"id\":\"2834\"}],\"title\":{\"id\":\"2785\"},\"toolbar\":{\"id\":\"2810\"},\"width\":700,\"x_range\":{\"id\":\"2836\"},\"x_scale\":{\"id\":\"2791\"},\"y_range\":{\"id\":\"2837\"},\"y_scale\":{\"id\":\"2793\"}},\"id\":\"2784\",\"subtype\":\"Figure\",\"type\":\"Plot\"},{\"attributes\":{\"line_alpha\":0.2,\"line_color\":\"#D14F71\",\"line_dash\":[6],\"line_width\":4,\"x\":{\"field\":\"x\"},\"y\":{\"field\":\"y\"}},\"id\":\"2997\",\"type\":\"Line\"},{\"attributes\":{\"coordinates\":null,\"data_source\":{\"id\":\"2988\"},\"glyph\":{\"id\":\"2989\"},\"group\":null,\"hover_glyph\":null,\"muted_glyph\":{\"id\":\"2991\"},\"nonselection_glyph\":{\"id\":\"2990\"},\"view\":{\"id\":\"2993\"}},\"id\":\"2992\",\"type\":\"GlyphRenderer\"},{\"attributes\":{},\"id\":\"3224\",\"type\":\"Selection\"},{\"attributes\":{\"source\":{\"id\":\"2988\"}},\"id\":\"2993\",\"type\":\"CDSView\"},{\"attributes\":{},\"id\":\"3243\",\"type\":\"UnionRenderers\"},{\"attributes\":{\"data\":{\"color\":[\"firebrick\",\"midnightblue\",\"midnightblue\",\"firebrick\",\"midnightblue\",\"midnightblue\",\"firebrick\",\"firebrick\",\"midnightblue\",\"midnightblue\",\"midnightblue\",\"firebrick\",\"midnightblue\",\"midnightblue\",\"midnightblue\",\"firebrick\",\"firebrick\",\"firebrick\",\"firebrick\",\"firebrick\",\"midnightblue\",\"midnightblue\",\"firebrick\",\"midnightblue\",\"midnightblue\",\"midnightblue\",\"midnightblue\",\"midnightblue\",\"midnightblue\",\"firebrick\",\"firebrick\",\"midnightblue\",\"midnightblue\",\"midnightblue\",\"firebrick\",\"midnightblue\",\"midnightblue\",\"midnightblue\",\"firebrick\",\"firebrick\",\"firebrick\",\"midnightblue\",\"midnightblue\",\"firebrick\",\"firebrick\",\"midnightblue\",\"midnightblue\",\"firebrick\",\"midnightblue\",\"midnightblue\",\"firebrick\",\"midnightblue\",\"firebrick\",\"midnightblue\",\"midnightblue\",\"firebrick\",\"midnightblue\",\"firebrick\",\"midnightblue\",\"midnightblue\",\"firebrick\",\"firebrick\",\"midnightblue\",\"midnightblue\",\"firebrick\",\"midnightblue\",\"firebrick\",\"firebrick\",\"midnightblue\",\"midnightblue\",\"midnightblue\",\"firebrick\",\"midnightblue\",\"firebrick\",\"midnightblue\",\"firebrick\",\"midnightblue\",\"midnightblue\",\"midnightblue\",\"midnightblue\",\"firebrick\",\"midnightblue\",\"midnightblue\",\"midnightblue\",\"firebrick\",\"midnightblue\",\"midnightblue\",\"firebrick\",\"midnightblue\",\"firebrick\",\"midnightblue\",\"midnightblue\",\"midnightblue\",\"midnightblue\",\"firebrick\",\"midnightblue\",\"midnightblue\",\"firebrick\",\"midnightblue\",\"firebrick\"],\"label\":[\"class 2\",\"class 1\",\"class 1\",\"class 2\",\"class 1\",\"class 1\",\"class 2\",\"class 2\",\"class 1\",\"class 1\",\"class 1\",\"class 2\",\"class 1\",\"class 1\",\"class 1\",\"class 2\",\"class 2\",\"class 2\",\"class 2\",\"class 2\",\"class 1\",\"class 1\",\"class 2\",\"class 1\",\"class 1\",\"class 1\",\"class 1\",\"class 1\",\"class 1\",\"class 2\",\"class 2\",\"class 1\",\"class 1\",\"class 1\",\"class 2\",\"class 1\",\"class 1\",\"class 1\",\"class 2\",\"class 2\",\"class 2\",\"class 1\",\"class 1\",\"class 2\",\"class 2\",\"class 1\",\"class 1\",\"class 2\",\"class 1\",\"class 1\",\"class 2\",\"class 1\",\"class 2\",\"class 1\",\"class 1\",\"class 2\",\"class 1\",\"class 2\",\"class 1\",\"class 1\",\"class 2\",\"class 2\",\"class 1\",\"class 1\",\"class 2\",\"class 1\",\"class 2\",\"class 2\",\"class 1\",\"class 1\",\"class 1\",\"class 2\",\"class 1\",\"class 2\",\"class 1\",\"class 2\",\"class 1\",\"class 1\",\"class 1\",\"class 1\",\"class 2\",\"class 1\",\"class 1\",\"class 1\",\"class 2\",\"class 1\",\"class 1\",\"class 2\",\"class 1\",\"class 2\",\"class 1\",\"class 1\",\"class 1\",\"class 1\",\"class 2\",\"class 1\",\"class 1\",\"class 2\",\"class 1\",\"class 2\"],\"x\":{\"__ndarray__\":\"1nKywgJj778QHrVez0HMP4QHZh1ZqOo/+OP/IZGh1j8sfswUSb/oP550c9hYmOE/iMqLmzUe7b/s/LNcGvHQv64BfgK0iug/JHY9tqMj3z/A3Kj35jTWv0gQJ4xNc+C/zDJUmoDD0L+6LUBM32fkPzCgAKhyQcW/ME20hpd43786H5xQdVvqv5iVerbw4cI/GLBTHJzc5b/oWVRquBncv1AXXOc+udk/+OvRcSKs3T/4ydtH1pDRv3Z+f/gmke4/4F2kGX1Dpj+UOc9wYc7TPyzyV30D+O8/5LHYU07h5j9IPN4H1nzCP/rBQ58h0u6/wAlD32Nimb+I//PtTFbOPyxL8nWJhd4/dFFS1XJk6T9aLjJ9ikbov5ZlFxWVheg/AGQQIWkLbT/0er4Vf7nsP4hiSUSpLOm/EFMl4eDL6r/eJXHE6sXmv9hETGGnjcM/2NIBEITGyT8q0ReD+qfhvwB7vegzxJ6/CprTY9Rn4D+YxCYSqWzaP6ZDAmVS8OK/DBld6TU66z9gt2OQrCTMvxx7uvATv+q/4AaD4cKbvz/Scvr4Si7ovyA5ALPSWuY//iFs9jH95D9Ut5J548zsvxzOAGPh/NA/SMsVYNYa77/q1g5tRxvgP0RZllUvdeQ/IH3aeGAZvT9wBvlU7kvNv3C6gMdTquA/7qTV11PW4T/eNd+Yohriv9RwJZ325ug/oIqVXHBz77+Ik5pPZKXov5TbjAkH+e8/kFbRl+W7uT9gQaBxks7PP6CQbuuU0qS/uL9z+7X35D/Ada3YvRTMPxTmf0CIzOI/xLnte7VJ0L8OrChVf+DiP1h0tErtpsk/qomrEk2W4z+kD1ncJGnfP5R0urT4TNM/CABNFkO94L/C7XkVDFnmP0iqGSSqndw/Vgti68dl7L8orEXgP1XVP54FdDJAFOM/mDWvE5RUzb92Uf/Udy3tPwwpuMOaGt6/1raFlog55j+A0Tg/LY/uP3iTcFjTIMc/LlGEZ99t5j9kazxQjVjWv2SqShfCh+8/cvqdVfkE5j8wWBpVtEfSv/AO8ztghNM/ArY2lLVn7L8=\",\"dtype\":\"float64\",\"order\":\"little\",\"shape\":[100]},\"y\":{\"__ndarray__\":\"aBRMw7ru4j9Q2HY2AaPiPwYubpGQD+s/aNVb5vml7j+AbKYY9MfNv0S77/i+mu0/pCCPM1g46b9MHXXhugbhP/gss8zgGu2/hrm0idlh6j+mSyIHtI3uv9J8qZLR5uU/GOF6DLwr37+EqujsQ/rkv+Spfppu3Na/JD54j57y278wMFhyOnvdv/7je75I9u4/MOTDDdMuwb90ZVQxXxPrP8DlzcCM3eW/7qODmdhE4b8Ae5XCeySHv2DucmpV3eq/AArHIPj8l7/csmBhXi/gvwhZOWPSqdk/IEQ4246xqb/wlC9oXmvjv2Y8cu3zz+Y/so/WPhQd7D/A9v3tVByxv4RWOC/vV+s/sAUylMQ0wL/IDFDexsbbP5SheWcpBtg/QMqmvw2EoL8ANzRrU/ybP/DMj+YoGdu/oEA5V99eoz8yZm1LWM3rPwxDyDxmDeq/4OtENyQF1r8Ik3AUtsHfP4Kwp8Cyteo/ZILgCGXu0z8MwUVPCbfcPyB5uXZ3Q+0/rCNg7RZ14r/MWkr6iTDiv5KTbZNIjOq/ULHbwxXyyb9WMxtmMQPnv2CiF3Y0DsA/oMj9TF3W7r/y3DXGOe7gv5jWYFrtWeU/IDuthWrQ7L9iGPgZzG7mv/oZ41UAoOk/ToccjbG54j90YpZz1CjTvziFD+VVlNy/8kkTiZ6g6z80s+55tevYP847/Hy0j+A/4ErsF5ZmzD8+IKRw86jhPwyvUdbXheq/5EYdo1Io0r/UbWB/Y1XVP+hR4MbDs8g/UJ56DYm86j8CneivNuzjP1S/2car6di/sNuBx5ZKw78s1UWD9/vRP4hFdlgV28o/2DfanFAk1L/Q6PUyggCyP+RI7Kvsl+w/2BjMo+/D7794wEK/633ePwirWt4i4Ny/0IZ3cUOl2D8IlJTVS8LQvxgiOZWlSdQ/mNbTcbVfxD9QEauXcMnuPwCbVJ/088s/yMF6G/N25b9gPVrjYf6xv7AKyWMvcdc/fubxgndJ7b9Y59cvsUnHPwCZcsSlDOi/HKMzpweg0D/GorLjQEfnP8AuUfGjU6s/8NKk7G/b4b8=\",\"dtype\":\"float64\",\"order\":\"little\",\"shape\":[100]}},\"selected\":{\"id\":\"2832\"},\"selection_policy\":{\"id\":\"2831\"}},\"id\":\"2817\",\"type\":\"ColumnDataSource\"},{\"attributes\":{\"line_alpha\":0.1,\"line_color\":\"#CD4975\",\"line_dash\":[6],\"line_width\":4,\"x\":{\"field\":\"x\"},\"y\":{\"field\":\"y\"}},\"id\":\"2990\",\"type\":\"Line\"},{\"attributes\":{},\"id\":\"3185\",\"type\":\"UnionRenderers\"},{\"attributes\":{\"coordinates\":null,\"group\":null,\"text\":\"Observations\",\"text_color\":\"#E0E0E0\",\"text_font\":\"Josefin Sans\",\"text_font_size\":\"2.1em\"},\"id\":\"2785\",\"type\":\"Title\"},{\"attributes\":{\"line_color\":\"#D6556D\",\"line_dash\":[6],\"line_width\":4,\"x\":{\"field\":\"x\"},\"y\":{\"field\":\"y\"}},\"id\":\"3001\",\"type\":\"Line\"},{\"attributes\":{\"data\":{\"x\":{\"__ndarray__\":\"oIqVXHBz77+U24wJB/nvPw==\",\"dtype\":\"float64\",\"order\":\"little\",\"shape\":[2]},\"y\":{\"__ndarray__\":\"LPltP/RVJMDAQqWT0DQqQA==\",\"dtype\":\"float64\",\"order\":\"little\",\"shape\":[2]}},\"selected\":{\"id\":\"3202\"},\"selection_policy\":{\"id\":\"3201\"}},\"id\":\"2994\",\"type\":\"ColumnDataSource\"},{\"attributes\":{\"line_alpha\":0.2,\"line_color\":\"#D6556D\",\"line_dash\":[6],\"line_width\":4,\"x\":{\"field\":\"x\"},\"y\":{\"field\":\"y\"}},\"id\":\"3003\",\"type\":\"Line\"},{\"attributes\":{},\"id\":\"3186\",\"type\":\"Selection\"},{\"attributes\":{\"axis_label\":\"y\",\"axis_label_standoff\":10,\"axis_label_text_color\":\"#FFFFFF\",\"axis_label_text_font\":\"Josefin Sans\",\"axis_label_text_font_size\":\"1.9em\",\"axis_label_text_font_style\":\"bold\",\"axis_line_alpha\":0.4,\"axis_line_color\":\"#E0E0E0\",\"coordinates\":null,\"formatter\":{\"id\":\"2826\"},\"group\":null,\"major_label_policy\":{\"id\":\"2827\"},\"major_label_text_color\":\"#E0E0E0\",\"major_label_text_font\":\"Josefin Sans\",\"major_label_text_font_size\":\"1.15em\",\"major_tick_line_alpha\":0.4,\"major_tick_line_color\":\"#E0E0E0\",\"minor_tick_line_alpha\":0.4,\"minor_tick_line_color\":\"#E0E0E0\",\"ticker\":{\"id\":\"2800\"}},\"id\":\"2799\",\"type\":\"LinearAxis\"},{\"attributes\":{\"coordinates\":null,\"data_source\":{\"id\":\"2994\"},\"glyph\":{\"id\":\"2995\"},\"group\":null,\"hover_glyph\":null,\"muted_glyph\":{\"id\":\"2997\"},\"nonselection_glyph\":{\"id\":\"2996\"},\"view\":{\"id\":\"2999\"}},\"id\":\"2998\",\"type\":\"GlyphRenderer\"},{\"attributes\":{},\"id\":\"2796\",\"type\":\"BasicTicker\"},{\"attributes\":{\"source\":{\"id\":\"2994\"}},\"id\":\"2999\",\"type\":\"CDSView\"},{\"attributes\":{},\"id\":\"2793\",\"type\":\"LinearScale\"},{\"attributes\":{\"axis\":{\"id\":\"2795\"},\"coordinates\":null,\"grid_line_alpha\":0.15,\"grid_line_color\":\"#E0E0E0\",\"group\":null,\"ticker\":null},\"id\":\"2798\",\"type\":\"Grid\"},{\"attributes\":{\"line_alpha\":0.1,\"line_color\":\"#D14F71\",\"line_dash\":[6],\"line_width\":4,\"x\":{\"field\":\"x\"},\"y\":{\"field\":\"y\"}},\"id\":\"2996\",\"type\":\"Line\"},{\"attributes\":{},\"id\":\"2791\",\"type\":\"LinearScale\"},{\"attributes\":{\"line_color\":\"#DA5A68\",\"line_dash\":[6],\"line_width\":4,\"x\":{\"field\":\"x\"},\"y\":{\"field\":\"y\"}},\"id\":\"3007\",\"type\":\"Line\"},{\"attributes\":{\"axis_label\":\"x\",\"axis_label_standoff\":10,\"axis_label_text_color\":\"#FFFFFF\",\"axis_label_text_font\":\"Josefin Sans\",\"axis_label_text_font_size\":\"1.9em\",\"axis_label_text_font_style\":\"bold\",\"axis_line_alpha\":0.4,\"axis_line_color\":\"#E0E0E0\",\"coordinates\":null,\"formatter\":{\"id\":\"2829\"},\"group\":null,\"major_label_policy\":{\"id\":\"2830\"},\"major_label_text_color\":\"#E0E0E0\",\"major_label_text_font\":\"Josefin Sans\",\"major_label_text_font_size\":\"1.15em\",\"major_tick_line_alpha\":0.4,\"major_tick_line_color\":\"#E0E0E0\",\"minor_tick_line_alpha\":0.4,\"minor_tick_line_color\":\"#E0E0E0\",\"ticker\":{\"id\":\"2796\"}},\"id\":\"2795\",\"type\":\"LinearAxis\"},{\"attributes\":{\"data\":{\"x\":{\"__ndarray__\":\"oIqVXHBz77+U24wJB/nvPw==\",\"dtype\":\"float64\",\"order\":\"little\",\"shape\":[2]},\"y\":{\"__ndarray__\":\"BD7SsnzGIcCMm5CnRekmQA==\",\"dtype\":\"float64\",\"order\":\"little\",\"shape\":[2]}},\"selected\":{\"id\":\"3204\"},\"selection_policy\":{\"id\":\"3203\"}},\"id\":\"3000\",\"type\":\"ColumnDataSource\"},{\"attributes\":{},\"id\":\"2808\",\"type\":\"HelpTool\"},{\"attributes\":{\"line_alpha\":0.2,\"line_color\":\"#DA5A68\",\"line_dash\":[6],\"line_width\":4,\"x\":{\"field\":\"x\"},\"y\":{\"field\":\"y\"}},\"id\":\"3009\",\"type\":\"Line\"},{\"attributes\":{\"coordinates\":null,\"data_source\":{\"id\":\"3000\"},\"glyph\":{\"id\":\"3001\"},\"group\":null,\"hover_glyph\":null,\"muted_glyph\":{\"id\":\"3003\"},\"nonselection_glyph\":{\"id\":\"3002\"},\"view\":{\"id\":\"3005\"}},\"id\":\"3004\",\"type\":\"GlyphRenderer\"},{\"attributes\":{\"source\":{\"id\":\"3000\"}},\"id\":\"3005\",\"type\":\"CDSView\"},{\"attributes\":{},\"id\":\"3225\",\"type\":\"UnionRenderers\"},{\"attributes\":{},\"id\":\"3149\",\"type\":\"UnionRenderers\"},{\"attributes\":{\"axis\":{\"id\":\"2799\"},\"coordinates\":null,\"dimension\":1,\"grid_line_alpha\":0.15,\"grid_line_color\":\"#E0E0E0\",\"group\":null,\"ticker\":null},\"id\":\"2802\",\"type\":\"Grid\"},{\"attributes\":{\"line_alpha\":0.1,\"line_color\":\"#D6556D\",\"line_dash\":[6],\"line_width\":4,\"x\":{\"field\":\"x\"},\"y\":{\"field\":\"y\"}},\"id\":\"3002\",\"type\":\"Line\"},{\"attributes\":{},\"id\":\"2800\",\"type\":\"BasicTicker\"},{\"attributes\":{\"line_color\":\"#DE6064\",\"line_dash\":[6],\"line_width\":4,\"x\":{\"field\":\"x\"},\"y\":{\"field\":\"y\"}},\"id\":\"3013\",\"type\":\"Line\"},{\"attributes\":{},\"id\":\"3226\",\"type\":\"Selection\"},{\"attributes\":{\"data\":{\"x\":{\"__ndarray__\":\"oIqVXHBz77+U24wJB/nvPw==\",\"dtype\":\"float64\",\"order\":\"little\",\"shape\":[2]},\"y\":{\"__ndarray__\":\"QTmMZym8H8AgbPg9fHQkQA==\",\"dtype\":\"float64\",\"order\":\"little\",\"shape\":[2]}},\"selected\":{\"id\":\"3206\"},\"selection_policy\":{\"id\":\"3205\"}},\"id\":\"3006\",\"type\":\"ColumnDataSource\"},{\"attributes\":{\"line_alpha\":0.2,\"line_color\":\"#DE6064\",\"line_dash\":[6],\"line_width\":4,\"x\":{\"field\":\"x\"},\"y\":{\"field\":\"y\"}},\"id\":\"3015\",\"type\":\"Line\"},{\"attributes\":{},\"id\":\"2804\",\"type\":\"WheelZoomTool\"},{\"attributes\":{\"coordinates\":null,\"data_source\":{\"id\":\"3006\"},\"glyph\":{\"id\":\"3007\"},\"group\":null,\"hover_glyph\":null,\"muted_glyph\":{\"id\":\"3009\"},\"nonselection_glyph\":{\"id\":\"3008\"},\"view\":{\"id\":\"3011\"}},\"id\":\"3010\",\"type\":\"GlyphRenderer\"},{\"attributes\":{},\"id\":\"3187\",\"type\":\"UnionRenderers\"},{\"attributes\":{},\"id\":\"2803\",\"type\":\"PanTool\"},{\"attributes\":{},\"id\":\"3150\",\"type\":\"Selection\"},{\"attributes\":{\"source\":{\"id\":\"3006\"}},\"id\":\"3011\",\"type\":\"CDSView\"},{\"attributes\":{\"overlay\":{\"id\":\"2809\"}},\"id\":\"2805\",\"type\":\"BoxZoomTool\"},{\"attributes\":{},\"id\":\"2806\",\"type\":\"SaveTool\"},{\"attributes\":{\"line_alpha\":0.1,\"line_color\":\"#DA5A68\",\"line_dash\":[6],\"line_width\":4,\"x\":{\"field\":\"x\"},\"y\":{\"field\":\"y\"}},\"id\":\"3008\",\"type\":\"Line\"},{\"attributes\":{},\"id\":\"3188\",\"type\":\"Selection\"},{\"attributes\":{},\"id\":\"2807\",\"type\":\"ResetTool\"},{\"attributes\":{\"line_color\":\"#E3675F\",\"line_dash\":[6],\"line_width\":4,\"x\":{\"field\":\"x\"},\"y\":{\"field\":\"y\"}},\"id\":\"3019\",\"type\":\"Line\"},{\"attributes\":{\"data\":{\"x\":{\"__ndarray__\":\"oIqVXHBz77+U24wJB/nvPw==\",\"dtype\":\"float64\",\"order\":\"little\",\"shape\":[2]},\"y\":{\"__ndarray__\":\"vrGBbkPIHMCStyF0vI0iQA==\",\"dtype\":\"float64\",\"order\":\"little\",\"shape\":[2]}},\"selected\":{\"id\":\"3208\"},\"selection_policy\":{\"id\":\"3207\"}},\"id\":\"3012\",\"type\":\"ColumnDataSource\"},{\"attributes\":{\"line_alpha\":0.2,\"line_color\":\"#E3675F\",\"line_dash\":[6],\"line_width\":4,\"x\":{\"field\":\"x\"},\"y\":{\"field\":\"y\"}},\"id\":\"3021\",\"type\":\"Line\"},{\"attributes\":{\"coordinates\":null,\"data_source\":{\"id\":\"3012\"},\"glyph\":{\"id\":\"3013\"},\"group\":null,\"hover_glyph\":null,\"muted_glyph\":{\"id\":\"3015\"},\"nonselection_glyph\":{\"id\":\"3014\"},\"view\":{\"id\":\"3017\"}},\"id\":\"3016\",\"type\":\"GlyphRenderer\"},{\"attributes\":{\"source\":{\"id\":\"3012\"}},\"id\":\"3017\",\"type\":\"CDSView\"},{\"attributes\":{\"bottom_units\":\"screen\",\"coordinates\":null,\"fill_alpha\":0.5,\"fill_color\":\"lightgrey\",\"group\":null,\"left_units\":\"screen\",\"level\":\"overlay\",\"line_alpha\":1.0,\"line_color\":\"black\",\"line_dash\":[4,4],\"line_width\":2,\"right_units\":\"screen\",\"syncable\":false,\"top_units\":\"screen\"},\"id\":\"2809\",\"type\":\"BoxAnnotation\"},{\"attributes\":{\"line_alpha\":0.1,\"line_color\":\"#DE6064\",\"line_dash\":[6],\"line_width\":4,\"x\":{\"field\":\"x\"},\"y\":{\"field\":\"y\"}},\"id\":\"3014\",\"type\":\"Line\"},{\"attributes\":{\"tools\":[{\"id\":\"2803\"},{\"id\":\"2804\"},{\"id\":\"2805\"},{\"id\":\"2806\"},{\"id\":\"2807\"},{\"id\":\"2808\"}]},\"id\":\"2810\",\"type\":\"Toolbar\"},{\"attributes\":{\"line_color\":\"#E66D5A\",\"line_dash\":[6],\"line_width\":4,\"x\":{\"field\":\"x\"},\"y\":{\"field\":\"y\"}},\"id\":\"3025\",\"type\":\"Line\"},{\"attributes\":{\"data\":{\"x\":{\"__ndarray__\":\"oIqVXHBz77+U24wJB/nvPw==\",\"dtype\":\"float64\",\"order\":\"little\",\"shape\":[2]},\"y\":{\"__ndarray__\":\"xnMhvwZuGsA/Kbec0QkhQA==\",\"dtype\":\"float64\",\"order\":\"little\",\"shape\":[2]}},\"selected\":{\"id\":\"3210\"},\"selection_policy\":{\"id\":\"3209\"}},\"id\":\"3018\",\"type\":\"ColumnDataSource\"},{\"attributes\":{},\"id\":\"3227\",\"type\":\"UnionRenderers\"},{\"attributes\":{\"line_alpha\":0.2,\"line_color\":\"#E66D5A\",\"line_dash\":[6],\"line_width\":4,\"x\":{\"field\":\"x\"},\"y\":{\"field\":\"y\"}},\"id\":\"3027\",\"type\":\"Line\"},{\"attributes\":{\"coordinates\":null,\"data_source\":{\"id\":\"3018\"},\"glyph\":{\"id\":\"3019\"},\"group\":null,\"hover_glyph\":null,\"muted_glyph\":{\"id\":\"3021\"},\"nonselection_glyph\":{\"id\":\"3020\"},\"view\":{\"id\":\"3023\"}},\"id\":\"3022\",\"type\":\"GlyphRenderer\"},{\"attributes\":{\"source\":{\"id\":\"3018\"}},\"id\":\"3023\",\"type\":\"CDSView\"},{\"attributes\":{},\"id\":\"3228\",\"type\":\"Selection\"},{\"attributes\":{\"source\":{\"id\":\"2856\"}},\"id\":\"2861\",\"type\":\"CDSView\"},{\"attributes\":{},\"id\":\"3151\",\"type\":\"UnionRenderers\"},{\"attributes\":{\"line_alpha\":0.1,\"line_color\":\"#E3675F\",\"line_dash\":[6],\"line_width\":4,\"x\":{\"field\":\"x\"},\"y\":{\"field\":\"y\"}},\"id\":\"3020\",\"type\":\"Line\"},{\"attributes\":{\"coordinates\":null,\"data_source\":{\"id\":\"2856\"},\"glyph\":{\"id\":\"2857\"},\"group\":null,\"hover_glyph\":null,\"muted_glyph\":{\"id\":\"2859\"},\"nonselection_glyph\":{\"id\":\"2858\"},\"view\":{\"id\":\"2861\"}},\"id\":\"2860\",\"type\":\"GlyphRenderer\"},{\"attributes\":{\"line_color\":\"#EA7356\",\"line_dash\":[6],\"line_width\":4,\"x\":{\"field\":\"x\"},\"y\":{\"field\":\"y\"}},\"id\":\"3031\",\"type\":\"Line\"},{\"attributes\":{},\"id\":\"3189\",\"type\":\"UnionRenderers\"},{\"attributes\":{},\"id\":\"3152\",\"type\":\"Selection\"},{\"attributes\":{\"data\":{\"x\":{\"__ndarray__\":\"oIqVXHBz77+U24wJB/nvPw==\",\"dtype\":\"float64\",\"order\":\"little\",\"shape\":[2]},\"y\":{\"__ndarray__\":\"rM0WQfyCGMB0t/b85JofQA==\",\"dtype\":\"float64\",\"order\":\"little\",\"shape\":[2]}},\"selected\":{\"id\":\"3212\"},\"selection_policy\":{\"id\":\"3211\"}},\"id\":\"3024\",\"type\":\"ColumnDataSource\"},{\"attributes\":{\"line_alpha\":0.1,\"line_color\":\"#EA7356\",\"line_dash\":[6],\"line_width\":4,\"x\":{\"field\":\"x\"},\"y\":{\"field\":\"y\"}},\"id\":\"3032\",\"type\":\"Line\"},{\"attributes\":{\"line_color\":\"#2F0495\",\"line_dash\":[6],\"line_width\":4,\"x\":{\"field\":\"x\"},\"y\":{\"field\":\"y\"}},\"id\":\"2857\",\"type\":\"Line\"},{\"attributes\":{\"coordinates\":null,\"data_source\":{\"id\":\"3024\"},\"glyph\":{\"id\":\"3025\"},\"group\":null,\"hover_glyph\":null,\"muted_glyph\":{\"id\":\"3027\"},\"nonselection_glyph\":{\"id\":\"3026\"},\"view\":{\"id\":\"3029\"}},\"id\":\"3028\",\"type\":\"GlyphRenderer\"},{\"attributes\":{},\"id\":\"3190\",\"type\":\"Selection\"},{\"attributes\":{\"source\":{\"id\":\"3024\"}},\"id\":\"3029\",\"type\":\"CDSView\"},{\"attributes\":{\"line_alpha\":0.1,\"line_color\":\"#E66D5A\",\"line_dash\":[6],\"line_width\":4,\"x\":{\"field\":\"x\"},\"y\":{\"field\":\"y\"}},\"id\":\"3026\",\"type\":\"Line\"},{\"attributes\":{\"coordinates\":null,\"data_source\":{\"id\":\"3030\"},\"glyph\":{\"id\":\"3031\"},\"group\":null,\"hover_glyph\":null,\"muted_glyph\":{\"id\":\"3033\"},\"nonselection_glyph\":{\"id\":\"3032\"},\"view\":{\"id\":\"3035\"}},\"id\":\"3034\",\"type\":\"GlyphRenderer\"},{\"attributes\":{\"line_color\":\"#0C0786\",\"line_dash\":[6],\"line_width\":4,\"x\":{\"field\":\"x\"},\"y\":{\"field\":\"y\"}},\"id\":\"2839\",\"type\":\"Line\"},{\"attributes\":{\"line_alpha\":0.1,\"line_color\":\"#2F0495\",\"line_dash\":[6],\"line_width\":4,\"x\":{\"field\":\"x\"},\"y\":{\"field\":\"y\"}},\"id\":\"2858\",\"type\":\"Line\"},{\"attributes\":{\"source\":{\"id\":\"3030\"}},\"id\":\"3035\",\"type\":\"CDSView\"},{\"attributes\":{\"end\":0.9991488634612886,\"start\":-0.9828416641506301},\"id\":\"2836\",\"type\":\"Range1d\"}],\"root_ids\":[\"3138\",\"3691\"]},\"title\":\"Bokeh Application\",\"version\":\"2.4.3\"}};\n",
       "    var render_items = [{\"docid\":\"bc78eec4-641f-4915-9651-2460d2412e04\",\"root_ids\":[\"3138\"],\"roots\":{\"3138\":\"8e0c35ad-1e1b-476c-aa1b-ac50ac3c5c70\"}}];\n",
       "    root.Bokeh.embed.embed_items_notebook(docs_json, render_items);\n",
       "    for (const render_item of render_items) {\n",
       "      for (const root_id of render_item.root_ids) {\n",
       "\tconst id_el = document.getElementById(root_id)\n",
       "\tif (id_el.children.length && (id_el.children[0].className === 'bk-root')) {\n",
       "\t  const root_el = id_el.children[0]\n",
       "\t  root_el.id = root_el.id + '-rendered'\n",
       "\t}\n",
       "      }\n",
       "    }\n",
       "  }\n",
       "  if (root.Bokeh !== undefined && root.Bokeh.Panel !== undefined) {\n",
       "    embed_document(root);\n",
       "  } else {\n",
       "    var attempts = 0;\n",
       "    var timer = setInterval(function(root) {\n",
       "      if (root.Bokeh !== undefined && root.Bokeh.Panel !== undefined) {\n",
       "        clearInterval(timer);\n",
       "        embed_document(root);\n",
       "      } else if (document.readyState == \"complete\") {\n",
       "        attempts++;\n",
       "        if (attempts > 200) {\n",
       "          clearInterval(timer);\n",
       "          console.log(\"Bokeh: ERROR: Unable to run BokehJS code because BokehJS library is missing\");\n",
       "        }\n",
       "      }\n",
       "    }, 25, root)\n",
       "  }\n",
       "})(window);</script>"
      ],
      "text/plain": [
       "Row\n",
       "    [0] HSpacer()\n",
       "    [1] Bokeh(Figure)\n",
       "    [2] HSpacer()"
      ]
     },
     "execution_count": 11,
     "metadata": {
      "application/vnd.holoviews_exec.v0+json": {
       "id": "3138"
      }
     },
     "output_type": "execute_result"
    }
   ],
   "source": [
    "# Update loop\n",
    "for i in range(n_epochs):\n",
    "    \n",
    "    ######################\n",
    "    # YOUR CODE GOES HERE\n",
    "    ######################\n",
    "    \n",
    "    ######################\n",
    "    # Solution \n",
    "    gradients = grad_loss_function(x_jax, y_jax, weights, bias)\n",
    "    weights = weights - eta * gradients[0]\n",
    "    bias = bias - eta * gradients[1]\n",
    "    ######################\n",
    "    weights_history = weights_history.at[i + 1].set(weights[0])\n",
    "    bias_history = bias_history.at[i + 1].set(bias[0])\n",
    "    \n",
    "    if (verbose):\n",
    "        print('%2d. error = %f, weights = %f, %f, %f' % (i, np.sum(np.abs(error)) / n_observations, bias[0, 0], weights[0, 0], weights[0, 1]))\n",
    "plot = center_plot(\n",
    "    scatter_boundary(\n",
    "        np.array(x_inputs), \n",
    "        np.array(y_class), \n",
    "        np.array(weights_history), \n",
    "        np.array(bias_history), \n",
    "        i + 1)\n",
    "    )\n",
    "plot"
   ]
  },
  {
   "attachments": {},
   "cell_type": "markdown",
   "metadata": {
    "tags": []
   },
   "source": [
    "## Multi-layer networks\n",
    "\n",
    "In the following, we define the overall architecture of the exercise to fill. The goal is to define a more advanced problem \n",
    "\n",
    "### 2-layer XOR problem\n",
    "\n",
    "In most cases, classification problems are far from being linear. Therefore, we need more advanced methods to be able to compute non-linear class boundaries. The advantage of neural networks is that the same principle can be applied in a *layer-wise* fashion. This allows to further discriminate the space in sub-regions (as seen in the course). We will try to implement the 2-layer *perceptron* that can provide a solution to the infamous XOR problem. The idea is now to have the output of the first neurons to be connected to a set of other neurons. Therefore, if we take back our previous formulation, we have the same output for the first neuron(s) $y$, that we will now term as $y^{(1)}$. Then, we feed these outputs to a second layer of neurons, which gives\n",
    "\n",
    "\n",
    "$$\n",
    "\\begin{equation}\n",
    "y^{(2)}=\\sigma\\left(\\sum_{i = 1}^{n}w_{i}.y^{(1)}_{i} + b\\right)\n",
    "\\end{equation}\n",
    "$$  \n",
    "\n",
    "Finally, we will rely on the same loss $\\mathcal{L_{D}}$ as in the previous exercise, but the outputs used are $y^{(2)}$ instead of $y$. As in the previous case, we now need to compute the derivatives of the weights and biases for several layers . However, you should see that some form of generalization might be possible for any number of layer.  "
   ]
  },
  {
   "attachments": {},
   "cell_type": "markdown",
   "metadata": {},
   "source": [
    "***\n",
    "\n",
    "<div class=\"alert alert-success\" markdown=\"1\" style=\"color:white; background-color: #192841; border-color: #779ecb\">\n",
    "\n",
    "> ### Exercise (course)\n",
    ">   1. Perform the derivatives for the last layer specifically\n",
    ">   2. Define a generalized derivative for any previous layer\n",
    "\n",
    "</div>\n",
    "\n",
    "***"
   ]
  },
  {
   "attachments": {},
   "cell_type": "markdown",
   "metadata": {},
   "source": [
    "We can construct the prototypical set of XOR values by using the following code (note that this is the most simple case, but still this is typically a problem that cannot be solved by a _linear classifier_"
   ]
  },
  {
   "cell_type": "code",
   "execution_count": 27,
   "metadata": {},
   "outputs": [
    {
     "data": {},
     "metadata": {},
     "output_type": "display_data"
    },
    {
     "data": {
      "application/vnd.holoviews_exec.v0+json": "",
      "text/html": [
       "<div id='5580'>\n",
       "  <div class=\"bk-root\" id=\"5f44a905-c1c4-4021-b042-78e9fa17d96b\" data-root-id=\"5580\"></div>\n",
       "</div>\n",
       "<script type=\"application/javascript\">(function(root) {\n",
       "  function embed_document(root) {\n",
       "    var docs_json = {\"0a0a61bd-7590-4d14-a839-732f33f73727\":{\"defs\":[{\"extends\":null,\"module\":null,\"name\":\"ReactiveHTML1\",\"overrides\":[],\"properties\":[]},{\"extends\":null,\"module\":null,\"name\":\"FlexBox1\",\"overrides\":[],\"properties\":[{\"default\":\"flex-start\",\"kind\":null,\"name\":\"align_content\"},{\"default\":\"flex-start\",\"kind\":null,\"name\":\"align_items\"},{\"default\":\"row\",\"kind\":null,\"name\":\"flex_direction\"},{\"default\":\"wrap\",\"kind\":null,\"name\":\"flex_wrap\"},{\"default\":\"flex-start\",\"kind\":null,\"name\":\"justify_content\"}]},{\"extends\":null,\"module\":null,\"name\":\"GridStack1\",\"overrides\":[],\"properties\":[{\"default\":\"warn\",\"kind\":null,\"name\":\"mode\"},{\"default\":null,\"kind\":null,\"name\":\"ncols\"},{\"default\":null,\"kind\":null,\"name\":\"nrows\"},{\"default\":true,\"kind\":null,\"name\":\"allow_resize\"},{\"default\":true,\"kind\":null,\"name\":\"allow_drag\"},{\"default\":[],\"kind\":null,\"name\":\"state\"}]},{\"extends\":null,\"module\":null,\"name\":\"click1\",\"overrides\":[],\"properties\":[{\"default\":\"\",\"kind\":null,\"name\":\"terminal_output\"},{\"default\":\"\",\"kind\":null,\"name\":\"debug_name\"},{\"default\":0,\"kind\":null,\"name\":\"clears\"}]},{\"extends\":null,\"module\":null,\"name\":\"NotificationAreaBase1\",\"overrides\":[],\"properties\":[{\"default\":\"bottom-right\",\"kind\":null,\"name\":\"position\"},{\"default\":0,\"kind\":null,\"name\":\"_clear\"}]},{\"extends\":null,\"module\":null,\"name\":\"NotificationArea1\",\"overrides\":[],\"properties\":[{\"default\":[],\"kind\":null,\"name\":\"notifications\"},{\"default\":\"bottom-right\",\"kind\":null,\"name\":\"position\"},{\"default\":0,\"kind\":null,\"name\":\"_clear\"},{\"default\":[{\"background\":\"#ffc107\",\"icon\":{\"className\":\"fas fa-exclamation-triangle\",\"color\":\"white\",\"tagName\":\"i\"},\"type\":\"warning\"},{\"background\":\"#007bff\",\"icon\":{\"className\":\"fas fa-info-circle\",\"color\":\"white\",\"tagName\":\"i\"},\"type\":\"info\"}],\"kind\":null,\"name\":\"types\"}]},{\"extends\":null,\"module\":null,\"name\":\"Notification\",\"overrides\":[],\"properties\":[{\"default\":null,\"kind\":null,\"name\":\"background\"},{\"default\":3000,\"kind\":null,\"name\":\"duration\"},{\"default\":null,\"kind\":null,\"name\":\"icon\"},{\"default\":\"\",\"kind\":null,\"name\":\"message\"},{\"default\":null,\"kind\":null,\"name\":\"notification_type\"},{\"default\":false,\"kind\":null,\"name\":\"_destroyed\"}]},{\"extends\":null,\"module\":null,\"name\":\"TemplateActions1\",\"overrides\":[],\"properties\":[{\"default\":0,\"kind\":null,\"name\":\"open_modal\"},{\"default\":0,\"kind\":null,\"name\":\"close_modal\"}]},{\"extends\":null,\"module\":null,\"name\":\"MaterialTemplateActions1\",\"overrides\":[],\"properties\":[{\"default\":0,\"kind\":null,\"name\":\"open_modal\"},{\"default\":0,\"kind\":null,\"name\":\"close_modal\"}]}],\"roots\":{\"references\":[{\"attributes\":{\"coordinates\":null,\"group\":null,\"text\":\"XOR classification\",\"text_color\":\"#E0E0E0\",\"text_font\":\"Josefin Sans\",\"text_font_size\":\"2.1em\"},\"id\":\"5529\",\"type\":\"Title\"},{\"attributes\":{},\"id\":\"5548\",\"type\":\"WheelZoomTool\"},{\"attributes\":{\"axis\":{\"id\":\"5543\"},\"coordinates\":null,\"dimension\":1,\"grid_line_alpha\":0.15,\"grid_line_color\":\"#E0E0E0\",\"group\":null,\"ticker\":null},\"id\":\"5546\",\"type\":\"Grid\"},{\"attributes\":{},\"id\":\"5544\",\"type\":\"BasicTicker\"},{\"attributes\":{},\"id\":\"5575\",\"type\":\"UnionRenderers\"},{\"attributes\":{\"label\":{\"field\":\"label\"},\"renderers\":[{\"id\":\"5566\"}]},\"id\":\"5579\",\"type\":\"LegendItem\"},{\"attributes\":{},\"id\":\"5573\",\"type\":\"BasicTickFormatter\"},{\"attributes\":{},\"id\":\"5574\",\"type\":\"AllLabels\"},{\"attributes\":{},\"id\":\"5547\",\"type\":\"PanTool\"},{\"attributes\":{},\"id\":\"5571\",\"type\":\"AllLabels\"},{\"attributes\":{\"overlay\":{\"id\":\"5553\"}},\"id\":\"5549\",\"type\":\"BoxZoomTool\"},{\"attributes\":{\"children\":[{\"id\":\"5581\"},{\"id\":\"5528\"},{\"id\":\"5602\"}],\"margin\":[0,0,0,0],\"name\":\"Row00190\"},\"id\":\"5580\",\"type\":\"Row\"},{\"attributes\":{},\"id\":\"5550\",\"type\":\"SaveTool\"},{\"attributes\":{\"data\":{\"color\":[\"midnightblue\",\"firebrick\",\"firebrick\",\"midnightblue\"],\"label\":[\"class 1\",\"class 2\",\"class 2\",\"class 1\"],\"x\":[-1,-1,1,1],\"y\":[-1,1,-1,1]},\"selected\":{\"id\":\"5576\"},\"selection_policy\":{\"id\":\"5575\"}},\"id\":\"5561\",\"type\":\"ColumnDataSource\"},{\"attributes\":{\"bottom_units\":\"screen\",\"coordinates\":null,\"fill_alpha\":0.5,\"fill_color\":\"lightgrey\",\"group\":null,\"left_units\":\"screen\",\"level\":\"overlay\",\"line_alpha\":1.0,\"line_color\":\"black\",\"line_dash\":[4,4],\"line_width\":2,\"right_units\":\"screen\",\"syncable\":false,\"top_units\":\"screen\"},\"id\":\"5553\",\"type\":\"BoxAnnotation\"},{\"attributes\":{\"margin\":[5,5,5,5],\"name\":\"HSpacer00186\",\"sizing_mode\":\"stretch_width\"},\"id\":\"5581\",\"type\":\"Spacer\"},{\"attributes\":{\"source\":{\"id\":\"5561\"}},\"id\":\"5567\",\"type\":\"CDSView\"},{\"attributes\":{},\"id\":\"5535\",\"type\":\"LinearScale\"},{\"attributes\":{},\"id\":\"5537\",\"type\":\"LinearScale\"},{\"attributes\":{\"client_comm_id\":\"a4044e32b8ad437aa3f910d7a1d1f569\",\"comm_id\":\"095e8679544346ee881caa61774cda18\",\"plot_id\":\"5580\"},\"id\":\"5633\",\"type\":\"panel.models.comm_manager.CommManager\"},{\"attributes\":{\"fill_alpha\":{\"value\":0.2},\"fill_color\":{\"field\":\"color\"},\"hatch_alpha\":{\"value\":0.2},\"hatch_color\":{\"field\":\"color\"},\"line_alpha\":{\"value\":0.2},\"line_color\":{\"value\":\"white\"},\"size\":{\"value\":10},\"x\":{\"field\":\"x\"},\"y\":{\"field\":\"y\"}},\"id\":\"5565\",\"type\":\"Circle\"},{\"attributes\":{\"tools\":[{\"id\":\"5547\"},{\"id\":\"5548\"},{\"id\":\"5549\"},{\"id\":\"5550\"},{\"id\":\"5551\"},{\"id\":\"5552\"}]},\"id\":\"5554\",\"type\":\"Toolbar\"},{\"attributes\":{\"background_fill_alpha\":0.2,\"background_fill_color\":\"darkgrey\",\"border_line_alpha\":0.8,\"border_line_color\":\"grey\",\"border_line_width\":3,\"coordinates\":null,\"group\":null,\"items\":[{\"id\":\"5579\"}],\"label_text_color\":\"white\"},\"id\":\"5578\",\"type\":\"Legend\"},{\"attributes\":{},\"id\":\"5540\",\"type\":\"BasicTicker\"},{\"attributes\":{\"axis\":{\"id\":\"5539\"},\"coordinates\":null,\"grid_line_alpha\":0.15,\"grid_line_color\":\"#E0E0E0\",\"group\":null,\"ticker\":null},\"id\":\"5542\",\"type\":\"Grid\"},{\"attributes\":{},\"id\":\"5570\",\"type\":\"BasicTickFormatter\"},{\"attributes\":{},\"id\":\"5552\",\"type\":\"HelpTool\"},{\"attributes\":{\"coordinates\":null,\"data_source\":{\"id\":\"5561\"},\"glyph\":{\"id\":\"5563\"},\"group\":null,\"hover_glyph\":null,\"muted_glyph\":{\"id\":\"5565\"},\"nonselection_glyph\":{\"id\":\"5564\"},\"view\":{\"id\":\"5567\"}},\"id\":\"5566\",\"type\":\"GlyphRenderer\"},{\"attributes\":{},\"id\":\"5551\",\"type\":\"ResetTool\"},{\"attributes\":{\"fill_alpha\":{\"value\":0.6},\"fill_color\":{\"field\":\"color\"},\"hatch_alpha\":{\"value\":0.6},\"hatch_color\":{\"field\":\"color\"},\"line_alpha\":{\"value\":0.6},\"line_color\":{\"value\":\"white\"},\"size\":{\"value\":10},\"x\":{\"field\":\"x\"},\"y\":{\"field\":\"y\"}},\"id\":\"5563\",\"type\":\"Circle\"},{\"attributes\":{\"axis_label\":\"x\",\"axis_label_standoff\":10,\"axis_label_text_color\":\"#FFFFFF\",\"axis_label_text_font\":\"Josefin Sans\",\"axis_label_text_font_size\":\"1.9em\",\"axis_label_text_font_style\":\"bold\",\"axis_line_alpha\":0.4,\"axis_line_color\":\"#E0E0E0\",\"coordinates\":null,\"formatter\":{\"id\":\"5573\"},\"group\":null,\"major_label_policy\":{\"id\":\"5574\"},\"major_label_text_color\":\"#E0E0E0\",\"major_label_text_font\":\"Josefin Sans\",\"major_label_text_font_size\":\"1.15em\",\"major_tick_line_alpha\":0.4,\"major_tick_line_color\":\"#E0E0E0\",\"minor_tick_line_alpha\":0.4,\"minor_tick_line_color\":\"#E0E0E0\",\"ticker\":{\"id\":\"5540\"}},\"id\":\"5539\",\"type\":\"LinearAxis\"},{\"attributes\":{},\"id\":\"5576\",\"type\":\"Selection\"},{\"attributes\":{},\"id\":\"5531\",\"type\":\"DataRange1d\"},{\"attributes\":{\"axis_label\":\"y\",\"axis_label_standoff\":10,\"axis_label_text_color\":\"#FFFFFF\",\"axis_label_text_font\":\"Josefin Sans\",\"axis_label_text_font_size\":\"1.9em\",\"axis_label_text_font_style\":\"bold\",\"axis_line_alpha\":0.4,\"axis_line_color\":\"#E0E0E0\",\"coordinates\":null,\"formatter\":{\"id\":\"5570\"},\"group\":null,\"major_label_policy\":{\"id\":\"5571\"},\"major_label_text_color\":\"#E0E0E0\",\"major_label_text_font\":\"Josefin Sans\",\"major_label_text_font_size\":\"1.15em\",\"major_tick_line_alpha\":0.4,\"major_tick_line_color\":\"#E0E0E0\",\"minor_tick_line_alpha\":0.4,\"minor_tick_line_color\":\"#E0E0E0\",\"ticker\":{\"id\":\"5544\"}},\"id\":\"5543\",\"type\":\"LinearAxis\"},{\"attributes\":{\"fill_alpha\":{\"value\":0.1},\"fill_color\":{\"field\":\"color\"},\"hatch_alpha\":{\"value\":0.1},\"hatch_color\":{\"field\":\"color\"},\"line_alpha\":{\"value\":0.1},\"line_color\":{\"value\":\"white\"},\"size\":{\"value\":10},\"x\":{\"field\":\"x\"},\"y\":{\"field\":\"y\"}},\"id\":\"5564\",\"type\":\"Circle\"},{\"attributes\":{},\"id\":\"5533\",\"type\":\"DataRange1d\"},{\"attributes\":{\"margin\":[5,5,5,5],\"name\":\"HSpacer00187\",\"sizing_mode\":\"stretch_width\"},\"id\":\"5602\",\"type\":\"Spacer\"},{\"attributes\":{\"background_fill_alpha\":0.9,\"background_fill_color\":\"#0f0f0f\",\"below\":[{\"id\":\"5539\"}],\"border_fill_alpha\":0.8,\"border_fill_color\":\"#111111\",\"center\":[{\"id\":\"5542\"},{\"id\":\"5546\"},{\"id\":\"5578\"}],\"height\":450,\"left\":[{\"id\":\"5543\"}],\"outline_line_alpha\":0.25,\"outline_line_color\":\"#E0E0E0\",\"outline_line_width\":3,\"renderers\":[{\"id\":\"5566\"}],\"right\":[{\"id\":\"5578\"}],\"title\":{\"id\":\"5529\"},\"toolbar\":{\"id\":\"5554\"},\"width\":700,\"x_range\":{\"id\":\"5531\"},\"x_scale\":{\"id\":\"5535\"},\"y_range\":{\"id\":\"5533\"},\"y_scale\":{\"id\":\"5537\"}},\"id\":\"5528\",\"subtype\":\"Figure\",\"type\":\"Plot\"}],\"root_ids\":[\"5580\",\"5633\"]},\"title\":\"Bokeh Application\",\"version\":\"2.4.3\"}};\n",
       "    var render_items = [{\"docid\":\"0a0a61bd-7590-4d14-a839-732f33f73727\",\"root_ids\":[\"5580\"],\"roots\":{\"5580\":\"5f44a905-c1c4-4021-b042-78e9fa17d96b\"}}];\n",
       "    root.Bokeh.embed.embed_items_notebook(docs_json, render_items);\n",
       "    for (const render_item of render_items) {\n",
       "      for (const root_id of render_item.root_ids) {\n",
       "\tconst id_el = document.getElementById(root_id)\n",
       "\tif (id_el.children.length && (id_el.children[0].className === 'bk-root')) {\n",
       "\t  const root_el = id_el.children[0]\n",
       "\t  root_el.id = root_el.id + '-rendered'\n",
       "\t}\n",
       "      }\n",
       "    }\n",
       "  }\n",
       "  if (root.Bokeh !== undefined && root.Bokeh.Panel !== undefined) {\n",
       "    embed_document(root);\n",
       "  } else {\n",
       "    var attempts = 0;\n",
       "    var timer = setInterval(function(root) {\n",
       "      if (root.Bokeh !== undefined && root.Bokeh.Panel !== undefined) {\n",
       "        clearInterval(timer);\n",
       "        embed_document(root);\n",
       "      } else if (document.readyState == \"complete\") {\n",
       "        attempts++;\n",
       "        if (attempts > 200) {\n",
       "          clearInterval(timer);\n",
       "          console.log(\"Bokeh: ERROR: Unable to run BokehJS code because BokehJS library is missing\");\n",
       "        }\n",
       "      }\n",
       "    }, 25, root)\n",
       "  }\n",
       "})(window);</script>"
      ],
      "text/plain": [
       "Row\n",
       "    [0] HSpacer()\n",
       "    [1] Bokeh(Figure)\n",
       "    [2] HSpacer()"
      ]
     },
     "execution_count": 27,
     "metadata": {
      "application/vnd.holoviews_exec.v0+json": {
       "id": "5580"
      }
     },
     "output_type": "execute_result"
    }
   ],
   "source": [
    "# Input patterns\n",
    "x_inputs = np.array([[-1, -1],[-1,  1],[1, -1],[1,  1]])\n",
    "# Corresponding classes\n",
    "y_class = np.array([0, 1, 1, 0])                        \n",
    "# Initialize based on their sizes\n",
    "n_inputs = x_inputs.shape[0]\n",
    "n_outputs = 1\n",
    "# Plot the XOR problem\n",
    "plot = center_plot(scatter_classes(x_inputs, y_class, title = \"XOR classification\"))\n",
    "plot"
   ]
  },
  {
   "attachments": {},
   "cell_type": "markdown",
   "metadata": {
    "tags": []
   },
   "source": [
    "## Observing the problem interactively"
   ]
  },
  {
   "cell_type": "code",
   "execution_count": 28,
   "metadata": {},
   "outputs": [
    {
     "data": {},
     "metadata": {},
     "output_type": "display_data"
    },
    {
     "data": {
      "application/vnd.holoviews_exec.v0+json": "",
      "text/html": [
       "<div id='5736'>\n",
       "  <div class=\"bk-root\" id=\"b56601d6-12d6-44f9-b78b-9ecee0a53238\" data-root-id=\"5736\"></div>\n",
       "</div>\n",
       "<script type=\"application/javascript\">(function(root) {\n",
       "  function embed_document(root) {\n",
       "    var docs_json = {\"e065396b-c170-4289-829b-a273010ad602\":{\"defs\":[{\"extends\":null,\"module\":null,\"name\":\"ReactiveHTML1\",\"overrides\":[],\"properties\":[]},{\"extends\":null,\"module\":null,\"name\":\"FlexBox1\",\"overrides\":[],\"properties\":[{\"default\":\"flex-start\",\"kind\":null,\"name\":\"align_content\"},{\"default\":\"flex-start\",\"kind\":null,\"name\":\"align_items\"},{\"default\":\"row\",\"kind\":null,\"name\":\"flex_direction\"},{\"default\":\"wrap\",\"kind\":null,\"name\":\"flex_wrap\"},{\"default\":\"flex-start\",\"kind\":null,\"name\":\"justify_content\"}]},{\"extends\":null,\"module\":null,\"name\":\"GridStack1\",\"overrides\":[],\"properties\":[{\"default\":\"warn\",\"kind\":null,\"name\":\"mode\"},{\"default\":null,\"kind\":null,\"name\":\"ncols\"},{\"default\":null,\"kind\":null,\"name\":\"nrows\"},{\"default\":true,\"kind\":null,\"name\":\"allow_resize\"},{\"default\":true,\"kind\":null,\"name\":\"allow_drag\"},{\"default\":[],\"kind\":null,\"name\":\"state\"}]},{\"extends\":null,\"module\":null,\"name\":\"click1\",\"overrides\":[],\"properties\":[{\"default\":\"\",\"kind\":null,\"name\":\"terminal_output\"},{\"default\":\"\",\"kind\":null,\"name\":\"debug_name\"},{\"default\":0,\"kind\":null,\"name\":\"clears\"}]},{\"extends\":null,\"module\":null,\"name\":\"NotificationAreaBase1\",\"overrides\":[],\"properties\":[{\"default\":\"bottom-right\",\"kind\":null,\"name\":\"position\"},{\"default\":0,\"kind\":null,\"name\":\"_clear\"}]},{\"extends\":null,\"module\":null,\"name\":\"NotificationArea1\",\"overrides\":[],\"properties\":[{\"default\":[],\"kind\":null,\"name\":\"notifications\"},{\"default\":\"bottom-right\",\"kind\":null,\"name\":\"position\"},{\"default\":0,\"kind\":null,\"name\":\"_clear\"},{\"default\":[{\"background\":\"#ffc107\",\"icon\":{\"className\":\"fas fa-exclamation-triangle\",\"color\":\"white\",\"tagName\":\"i\"},\"type\":\"warning\"},{\"background\":\"#007bff\",\"icon\":{\"className\":\"fas fa-info-circle\",\"color\":\"white\",\"tagName\":\"i\"},\"type\":\"info\"}],\"kind\":null,\"name\":\"types\"}]},{\"extends\":null,\"module\":null,\"name\":\"Notification\",\"overrides\":[],\"properties\":[{\"default\":null,\"kind\":null,\"name\":\"background\"},{\"default\":3000,\"kind\":null,\"name\":\"duration\"},{\"default\":null,\"kind\":null,\"name\":\"icon\"},{\"default\":\"\",\"kind\":null,\"name\":\"message\"},{\"default\":null,\"kind\":null,\"name\":\"notification_type\"},{\"default\":false,\"kind\":null,\"name\":\"_destroyed\"}]},{\"extends\":null,\"module\":null,\"name\":\"TemplateActions1\",\"overrides\":[],\"properties\":[{\"default\":0,\"kind\":null,\"name\":\"open_modal\"},{\"default\":0,\"kind\":null,\"name\":\"close_modal\"}]},{\"extends\":null,\"module\":null,\"name\":\"MaterialTemplateActions1\",\"overrides\":[],\"properties\":[{\"default\":0,\"kind\":null,\"name\":\"open_modal\"},{\"default\":0,\"kind\":null,\"name\":\"close_modal\"}]}],\"roots\":{\"references\":[{\"attributes\":{},\"id\":\"5726\",\"type\":\"BasicTickFormatter\"},{\"attributes\":{\"background_fill_alpha\":0.2,\"background_fill_color\":\"darkgrey\",\"border_line_alpha\":0.8,\"border_line_color\":\"grey\",\"border_line_width\":3,\"coordinates\":null,\"group\":null,\"items\":[{\"id\":\"5735\"}],\"label_text_color\":\"white\"},\"id\":\"5734\",\"type\":\"Legend\"},{\"attributes\":{\"fill_alpha\":{\"value\":0.2},\"fill_color\":{\"field\":\"color\"},\"hatch_alpha\":{\"value\":0.2},\"hatch_color\":{\"field\":\"color\"},\"line_alpha\":{\"value\":0.2},\"line_color\":{\"value\":\"white\"},\"size\":{\"value\":10},\"x\":{\"field\":\"x\"},\"y\":{\"field\":\"y\"}},\"id\":\"5721\",\"type\":\"Circle\"},{\"attributes\":{\"children\":[{\"id\":\"5737\"},{\"id\":\"5766\"}],\"margin\":[0,0,0,0],\"name\":\"Column00218\"},\"id\":\"5736\",\"type\":\"Column\"},{\"attributes\":{},\"id\":\"5693\",\"type\":\"LinearScale\"},{\"attributes\":{\"source\":{\"id\":\"5717\"}},\"id\":\"5723\",\"type\":\"CDSView\"},{\"attributes\":{\"fill_alpha\":{\"value\":0.1},\"fill_color\":{\"field\":\"color\"},\"hatch_alpha\":{\"value\":0.1},\"hatch_color\":{\"field\":\"color\"},\"line_alpha\":{\"value\":0.1},\"line_color\":{\"value\":\"white\"},\"size\":{\"value\":10},\"x\":{\"field\":\"x\"},\"y\":{\"field\":\"y\"}},\"id\":\"5720\",\"type\":\"Circle\"},{\"attributes\":{\"children\":[{\"id\":\"5738\"},{\"id\":\"5745\"}],\"margin\":[0,0,0,0],\"name\":\"Row00215\"},\"id\":\"5737\",\"type\":\"Row\"},{\"attributes\":{\"fill_alpha\":{\"value\":0.6},\"fill_color\":{\"field\":\"color\"},\"hatch_alpha\":{\"value\":0.6},\"hatch_color\":{\"field\":\"color\"},\"line_alpha\":{\"value\":0.6},\"line_color\":{\"value\":\"white\"},\"size\":{\"value\":10},\"x\":{\"field\":\"x\"},\"y\":{\"field\":\"y\"}},\"id\":\"5719\",\"type\":\"Circle\"},{\"attributes\":{},\"id\":\"5696\",\"type\":\"BasicTicker\"},{\"attributes\":{},\"id\":\"5708\",\"type\":\"HelpTool\"},{\"attributes\":{\"children\":[{\"id\":\"5739\"},{\"id\":\"5740\"},{\"id\":\"5741\"},{\"id\":\"5742\"},{\"id\":\"5743\"},{\"id\":\"5744\"}],\"margin\":[5,5,5,5],\"min_width\":300,\"name\":\"Problem parameters\",\"width\":300},\"id\":\"5738\",\"type\":\"Column\"},{\"attributes\":{\"coordinates\":null,\"group\":null,\"text\":\"XOR classification\",\"text_color\":\"#E0E0E0\",\"text_font\":\"Josefin Sans\",\"text_font_size\":\"2.1em\"},\"id\":\"5685\",\"type\":\"Title\"},{\"attributes\":{\"overlay\":{\"id\":\"5709\"}},\"id\":\"5705\",\"type\":\"BoxZoomTool\"},{\"attributes\":{},\"id\":\"5731\",\"type\":\"UnionRenderers\"},{\"attributes\":{\"margin\":[5,10,5,10],\"name\":\"\",\"text\":\"<b>Problem parameters</b>\"},\"id\":\"5739\",\"type\":\"Div\"},{\"attributes\":{},\"id\":\"5691\",\"type\":\"LinearScale\"},{\"attributes\":{\"labels\":[\"Ground truth\"],\"margin\":[5,10,5,10]},\"id\":\"5742\",\"type\":\"CheckboxGroup\"},{\"attributes\":{\"labels\":[\"Error\"],\"margin\":[5,10,5,10]},\"id\":\"5743\",\"type\":\"CheckboxGroup\"},{\"attributes\":{},\"id\":\"5704\",\"type\":\"WheelZoomTool\"},{\"attributes\":{\"end\":1000,\"margin\":[5,10,5,10],\"start\":10,\"title\":\"Number observations\",\"value\":100},\"id\":\"5740\",\"type\":\"Slider\"},{\"attributes\":{\"args\":{\"bidirectional\":true,\"properties\":{\"readonly\":\"disabled\"},\"source\":{\"id\":\"5766\"},\"target\":{\"id\":\"5766\"}},\"code\":\"\\n    var value = source['readonly'];\\n    value = value;\\n    value = value;\\n    try {\\n      var property = target.properties['disabled'];\\n      if (property !== undefined) { property.validate(value); }\\n    } catch(err) {\\n      console.log('WARNING: Could not set disabled on target, raised error: ' + err);\\n      return;\\n    }\\n    try {\\n      target['disabled'] = value;\\n    } catch(err) {\\n      console.log(err)\\n    }\\n    \",\"tags\":[[140708974237040,[null,\"readonly\"],[null,\"disabled\"]]]},\"id\":\"5777\",\"type\":\"CustomJS\"},{\"attributes\":{\"axis_label\":\"$$\\\\color{white} x$$\",\"axis_label_standoff\":10,\"axis_label_text_color\":\"#FFFFFF\",\"axis_label_text_font\":\"Josefin Sans\",\"axis_label_text_font_size\":\"1.9em\",\"axis_label_text_font_style\":\"bold\",\"axis_line_alpha\":0.4,\"axis_line_color\":\"#E0E0E0\",\"coordinates\":null,\"formatter\":{\"id\":\"5729\"},\"group\":null,\"major_label_policy\":{\"id\":\"5730\"},\"major_label_text_color\":\"#E0E0E0\",\"major_label_text_font\":\"Josefin Sans\",\"major_label_text_font_size\":\"1.15em\",\"major_tick_line_alpha\":0.4,\"major_tick_line_color\":\"#E0E0E0\",\"minor_tick_line_alpha\":0.4,\"minor_tick_line_color\":\"#E0E0E0\",\"ticker\":{\"id\":\"5696\"}},\"id\":\"5695\",\"type\":\"LinearAxis\"},{\"attributes\":{\"end\":0.9,\"margin\":[5,10,5,10],\"start\":0.01,\"step\":0.1,\"title\":\"Dense factor\",\"value\":0.1},\"id\":\"5744\",\"type\":\"Slider\"},{\"attributes\":{\"end\":5.0,\"margin\":[5,10,5,10],\"start\":0.0,\"step\":0.1,\"title\":\"Noise level\",\"value\":0.1},\"id\":\"5741\",\"type\":\"Slider\"},{\"attributes\":{\"args\":{\"bidirectional\":true,\"properties\":{\"readonly\":\"disabled\"},\"source\":{\"id\":\"5766\"},\"target\":{\"id\":\"5766\"}},\"code\":\"\\n    var value = source['disabled'];\\n    value = value;\\n    value = value;\\n    try {\\n      var property = target.properties['readonly'];\\n      if (property !== undefined) { property.validate(value); }\\n    } catch(err) {\\n      console.log('WARNING: Could not set readonly on target, raised error: ' + err);\\n      return;\\n    }\\n    try {\\n      target['readonly'] = value;\\n    } catch(err) {\\n      console.log(err)\\n    }\\n    \",\"tags\":[[140708974237040,[null,\"readonly\"],[null,\"disabled\"]]]},\"id\":\"5778\",\"type\":\"CustomJS\"},{\"attributes\":{\"code\":\"    def generate_data(self):\\n        self.x, self.y = xor_separation(self.number_observations, self.dense_factor)\\n        super().generate_data()\",\"filename\":\"\",\"height\":60,\"js_property_callbacks\":{\"change:disabled\":[{\"id\":\"5778\"}],\"change:readonly\":[{\"id\":\"5777\"}]},\"language\":\"python\",\"margin\":[5,10,5,10],\"sizing_mode\":\"stretch_both\",\"theme\":\"chaos\"},\"id\":\"5766\",\"type\":\"panel.models.ace.AcePlot\"},{\"attributes\":{\"axis\":{\"id\":\"5695\"},\"coordinates\":null,\"grid_line_alpha\":0.15,\"grid_line_color\":\"#E0E0E0\",\"group\":null,\"ticker\":null},\"id\":\"5698\",\"type\":\"Grid\"},{\"attributes\":{\"children\":[{\"id\":\"5684\"}],\"margin\":[0,0,0,0],\"name\":\"Row00212\"},\"id\":\"5745\",\"type\":\"Row\"},{\"attributes\":{\"axis\":{\"id\":\"5699\"},\"coordinates\":null,\"dimension\":1,\"grid_line_alpha\":0.15,\"grid_line_color\":\"#E0E0E0\",\"group\":null,\"ticker\":null},\"id\":\"5702\",\"type\":\"Grid\"},{\"attributes\":{\"coordinates\":null,\"data_source\":{\"id\":\"5717\"},\"glyph\":{\"id\":\"5719\"},\"group\":null,\"hover_glyph\":null,\"muted_glyph\":{\"id\":\"5721\"},\"nonselection_glyph\":{\"id\":\"5720\"},\"view\":{\"id\":\"5723\"}},\"id\":\"5722\",\"type\":\"GlyphRenderer\"},{\"attributes\":{\"data\":{\"color\":[\"midnightblue\",\"midnightblue\",\"midnightblue\",\"midnightblue\",\"midnightblue\",\"midnightblue\",\"midnightblue\",\"midnightblue\",\"midnightblue\",\"midnightblue\",\"midnightblue\",\"midnightblue\",\"midnightblue\",\"midnightblue\",\"midnightblue\",\"midnightblue\",\"midnightblue\",\"midnightblue\",\"midnightblue\",\"midnightblue\",\"midnightblue\",\"midnightblue\",\"midnightblue\",\"midnightblue\",\"firebrick\",\"firebrick\",\"firebrick\",\"firebrick\",\"firebrick\",\"firebrick\",\"firebrick\",\"firebrick\",\"firebrick\",\"firebrick\",\"firebrick\",\"firebrick\",\"firebrick\",\"firebrick\",\"firebrick\",\"firebrick\",\"firebrick\",\"firebrick\",\"firebrick\",\"firebrick\",\"firebrick\",\"firebrick\",\"firebrick\",\"firebrick\",\"firebrick\",\"firebrick\",\"firebrick\",\"firebrick\",\"firebrick\",\"firebrick\",\"firebrick\",\"firebrick\",\"firebrick\",\"firebrick\",\"firebrick\",\"firebrick\",\"firebrick\",\"firebrick\",\"firebrick\",\"firebrick\",\"firebrick\",\"firebrick\",\"firebrick\",\"firebrick\",\"firebrick\",\"firebrick\",\"firebrick\",\"firebrick\",\"midnightblue\",\"midnightblue\",\"midnightblue\",\"midnightblue\",\"midnightblue\",\"midnightblue\",\"midnightblue\",\"midnightblue\",\"midnightblue\",\"midnightblue\",\"midnightblue\",\"midnightblue\",\"midnightblue\",\"midnightblue\",\"midnightblue\",\"midnightblue\",\"midnightblue\",\"midnightblue\",\"midnightblue\",\"midnightblue\",\"midnightblue\",\"midnightblue\",\"midnightblue\",\"midnightblue\"],\"label\":[\"class 1\",\"class 1\",\"class 1\",\"class 1\",\"class 1\",\"class 1\",\"class 1\",\"class 1\",\"class 1\",\"class 1\",\"class 1\",\"class 1\",\"class 1\",\"class 1\",\"class 1\",\"class 1\",\"class 1\",\"class 1\",\"class 1\",\"class 1\",\"class 1\",\"class 1\",\"class 1\",\"class 1\",\"class 2\",\"class 2\",\"class 2\",\"class 2\",\"class 2\",\"class 2\",\"class 2\",\"class 2\",\"class 2\",\"class 2\",\"class 2\",\"class 2\",\"class 2\",\"class 2\",\"class 2\",\"class 2\",\"class 2\",\"class 2\",\"class 2\",\"class 2\",\"class 2\",\"class 2\",\"class 2\",\"class 2\",\"class 2\",\"class 2\",\"class 2\",\"class 2\",\"class 2\",\"class 2\",\"class 2\",\"class 2\",\"class 2\",\"class 2\",\"class 2\",\"class 2\",\"class 2\",\"class 2\",\"class 2\",\"class 2\",\"class 2\",\"class 2\",\"class 2\",\"class 2\",\"class 2\",\"class 2\",\"class 2\",\"class 2\",\"class 1\",\"class 1\",\"class 1\",\"class 1\",\"class 1\",\"class 1\",\"class 1\",\"class 1\",\"class 1\",\"class 1\",\"class 1\",\"class 1\",\"class 1\",\"class 1\",\"class 1\",\"class 1\",\"class 1\",\"class 1\",\"class 1\",\"class 1\",\"class 1\",\"class 1\",\"class 1\",\"class 1\"],\"x\":{\"__ndarray__\":\"Eadsv+uUi79uW5O/vqZ3v13xj79ysIy/siiHv+qXer/s7nq/LSuBv1rder8QnWW/Pux3v9XGmL/yY42/MxuRv5jpXb/pdWm/qEGIv0X7i78Gr4C/POl5v+Wyhb/A84a/Q1Fuv8tOfb+ZWoS/TEGMv4Gwgb/ApXy/dsN5v4Qakb+hepG/hJiHv8SJVr8tR5O/yh+Wv7RCfr8ZFIG/9giBvzKRi7+Y6Y+/qG+Pv/w2d7+EJFq/WCaMv8YBhL948l+/dm+BP+rWbz+YCFo/EZxkP/EGkT9rW5Q/URyAP7JigT8fvoI/tsZ4P5LYdD9PWmI/8C+OP0N8ZD8ecZI/e/hRP5aFlj9RAGs/O8OFP8P3bz+QY4I/wTSLP09Zcz9lL4o/eoJxP9nchT/p2ok/7pBrP5DqYD9Gwok/rK85P+c0UT8EJ4s/adBeP4Hdjj97VJc/1hWIP9Y7gT9dnYs/Ls5rP4tDfT89T4E/KluSPxWFfD82wI0/z+p8P7JgdT+UXZc/\",\"dtype\":\"float32\",\"order\":\"little\",\"shape\":[96]},\"y\":{\"__ndarray__\":\"MIqNvxpZgr+MWYq/Ga1zv1yWir9f7Xe/QddKv7zuiL9ZuIe/ijtsvy85hL87FIy/m1F6vxyrX7+5nn+/yoKMvxVLeL9MT4G/GERxv7olgr9vy3+/GH9qvzQrcr8BBm+/zI2QP62iiz8C8Wc/3jWOPxcZhD9aHYc/qT6WP8GKcj95xYA/lEx3P9Kmbz/IyFE/JQp5P5+6kD+fB4w/LoJ3P4YJdz+yUos/gsKFP4fqWj9PNSQ/5HmVP3nuUj+uzU8/w49lv3uegb9tTHu/JJw6v/0mbb+8PYO/mSCAv3MNjL8+hHu/Wdh3v/Jldb/xk4y/NAyAvyLNX79mR2e/74CIv3zviL+anZe/z8F9v5Nzd7/kuGi/YFmDv6+Zbr+ohU2/YINMP4/4kD9HMII/vw1HP/cvhj/rcU8/Hgt7P3p2eD9Bd1g/cr9/P8IRij9STpw/ijJyP7eWeD8nbnY/zFxqPx00kT9ZZow/kvOFP3y1kD/WcWg/PjaSP6F5jD9PqoA/\",\"dtype\":\"float32\",\"order\":\"little\",\"shape\":[96]}},\"selected\":{\"id\":\"5732\"},\"selection_policy\":{\"id\":\"5731\"}},\"id\":\"5717\",\"type\":\"ColumnDataSource\"},{\"attributes\":{},\"id\":\"5700\",\"type\":\"BasicTicker\"},{\"attributes\":{\"client_comm_id\":\"611f49ccfa624e1ea0f59a37e3f9e1da\",\"comm_id\":\"edbb788599da42f6a70d8427e93d6992\",\"plot_id\":\"5736\"},\"id\":\"5799\",\"type\":\"panel.models.comm_manager.CommManager\"},{\"attributes\":{},\"id\":\"5730\",\"type\":\"AllLabels\"},{\"attributes\":{},\"id\":\"5706\",\"type\":\"SaveTool\"},{\"attributes\":{\"background_fill_alpha\":0.9,\"background_fill_color\":\"#0f0f0f\",\"below\":[{\"id\":\"5695\"}],\"border_fill_alpha\":0.8,\"border_fill_color\":\"#111111\",\"center\":[{\"id\":\"5698\"},{\"id\":\"5702\"},{\"id\":\"5734\"}],\"height\":450,\"left\":[{\"id\":\"5699\"}],\"outline_line_alpha\":0.25,\"outline_line_color\":\"#E0E0E0\",\"outline_line_width\":3,\"renderers\":[{\"id\":\"5722\"}],\"right\":[{\"id\":\"5734\"}],\"title\":{\"id\":\"5685\"},\"toolbar\":{\"id\":\"5710\"},\"width\":700,\"x_range\":{\"id\":\"5687\"},\"x_scale\":{\"id\":\"5691\"},\"y_range\":{\"id\":\"5689\"},\"y_scale\":{\"id\":\"5693\"}},\"id\":\"5684\",\"subtype\":\"Figure\",\"type\":\"Plot\"},{\"attributes\":{\"axis_label\":\"$$\\\\color{white} \\\\mathbf{y}$$\",\"axis_label_standoff\":10,\"axis_label_text_color\":\"#FFFFFF\",\"axis_label_text_font\":\"Josefin Sans\",\"axis_label_text_font_size\":\"1.9em\",\"axis_label_text_font_style\":\"bold\",\"axis_line_alpha\":0.4,\"axis_line_color\":\"#E0E0E0\",\"coordinates\":null,\"formatter\":{\"id\":\"5726\"},\"group\":null,\"major_label_policy\":{\"id\":\"5727\"},\"major_label_text_color\":\"#E0E0E0\",\"major_label_text_font\":\"Josefin Sans\",\"major_label_text_font_size\":\"1.15em\",\"major_tick_line_alpha\":0.4,\"major_tick_line_color\":\"#E0E0E0\",\"minor_tick_line_alpha\":0.4,\"minor_tick_line_color\":\"#E0E0E0\",\"ticker\":{\"id\":\"5700\"}},\"id\":\"5699\",\"type\":\"LinearAxis\"},{\"attributes\":{},\"id\":\"5689\",\"type\":\"DataRange1d\"},{\"attributes\":{\"label\":{\"field\":\"label\"},\"renderers\":[{\"id\":\"5722\"}]},\"id\":\"5735\",\"type\":\"LegendItem\"},{\"attributes\":{},\"id\":\"5727\",\"type\":\"AllLabels\"},{\"attributes\":{\"bottom_units\":\"screen\",\"coordinates\":null,\"fill_alpha\":0.5,\"fill_color\":\"lightgrey\",\"group\":null,\"left_units\":\"screen\",\"level\":\"overlay\",\"line_alpha\":1.0,\"line_color\":\"black\",\"line_dash\":[4,4],\"line_width\":2,\"right_units\":\"screen\",\"syncable\":false,\"top_units\":\"screen\"},\"id\":\"5709\",\"type\":\"BoxAnnotation\"},{\"attributes\":{},\"id\":\"5687\",\"type\":\"DataRange1d\"},{\"attributes\":{},\"id\":\"5703\",\"type\":\"PanTool\"},{\"attributes\":{\"tools\":[{\"id\":\"5703\"},{\"id\":\"5704\"},{\"id\":\"5705\"},{\"id\":\"5706\"},{\"id\":\"5707\"},{\"id\":\"5708\"}]},\"id\":\"5710\",\"type\":\"Toolbar\"},{\"attributes\":{},\"id\":\"5729\",\"type\":\"BasicTickFormatter\"},{\"attributes\":{},\"id\":\"5732\",\"type\":\"Selection\"},{\"attributes\":{},\"id\":\"5707\",\"type\":\"ResetTool\"}],\"root_ids\":[\"5736\",\"5799\"]},\"title\":\"Bokeh Application\",\"version\":\"2.4.3\"}};\n",
       "    var render_items = [{\"docid\":\"e065396b-c170-4289-829b-a273010ad602\",\"root_ids\":[\"5736\"],\"roots\":{\"5736\":\"b56601d6-12d6-44f9-b78b-9ecee0a53238\"}}];\n",
       "    root.Bokeh.embed.embed_items_notebook(docs_json, render_items);\n",
       "    for (const render_item of render_items) {\n",
       "      for (const root_id of render_item.root_ids) {\n",
       "\tconst id_el = document.getElementById(root_id)\n",
       "\tif (id_el.children.length && (id_el.children[0].className === 'bk-root')) {\n",
       "\t  const root_el = id_el.children[0]\n",
       "\t  root_el.id = root_el.id + '-rendered'\n",
       "\t}\n",
       "      }\n",
       "    }\n",
       "  }\n",
       "  if (root.Bokeh !== undefined && root.Bokeh.Panel !== undefined) {\n",
       "    embed_document(root);\n",
       "  } else {\n",
       "    var attempts = 0;\n",
       "    var timer = setInterval(function(root) {\n",
       "      if (root.Bokeh !== undefined && root.Bokeh.Panel !== undefined) {\n",
       "        clearInterval(timer);\n",
       "        embed_document(root);\n",
       "      } else if (document.readyState == \"complete\") {\n",
       "        attempts++;\n",
       "        if (attempts > 200) {\n",
       "          clearInterval(timer);\n",
       "          console.log(\"Bokeh: ERROR: Unable to run BokehJS code because BokehJS library is missing\");\n",
       "        }\n",
       "      }\n",
       "    }, 25, root)\n",
       "  }\n",
       "})(window);</script>"
      ],
      "text/plain": [
       "Column\n",
       "    [0] Row\n",
       "        [0] Param(ClassificationXOR, name='Problem parameters')\n",
       "        [1] ParamMethod(method, _pane=Bokeh)\n",
       "    [1] Ace(height=60, language='python', sizing_mode='stretch_both', theme='chaos', value='    def generate_data(sel...)"
      ]
     },
     "execution_count": 28,
     "metadata": {
      "application/vnd.holoviews_exec.v0+json": {
       "id": "5736"
      }
     },
     "output_type": "execute_result"
    }
   ],
   "source": [
    "from cml.tasks import ClassificationLinear, ClassificationXOR\n",
    "explorer = ClassificationXOR()\n",
    "explorer.render()"
   ]
  },
  {
   "attachments": {},
   "cell_type": "markdown",
   "metadata": {},
   "source": [
    "## Solving the problem with the `scikit-learn` library\n",
    "\n",
    "As a side note, and as discussed in the previous course, there is obviously a lot of libraries that can perform the training of such networks for you directly, without understanding what is exactly going on behind the scene. A quite extensive library is `scikit-learn`, which contains already coded models and learning procedure, that will allow us to _learn_ the parameters of this unknown function.\n",
    "\n",
    "Here we will use a `MLPClassifier` model to perfom classification on standardized features that we rescale through the `LinearRegression` and that this polynomial should be of degree 2. "
   ]
  },
  {
   "cell_type": "code",
   "execution_count": 29,
   "metadata": {},
   "outputs": [],
   "source": [
    "from sklearn.neural_network import MLPClassifier\n",
    "from sklearn.preprocessing import StandardScaler\n",
    "from sklearn.pipeline import make_pipeline\n",
    "# Create the MLP classifier\n",
    "classifier = MLPClassifier(alpha=1, max_iter=1000)\n",
    "# Standardize the input features\n",
    "clf = make_pipeline(StandardScaler(), classifier)"
   ]
  },
  {
   "attachments": {},
   "cell_type": "markdown",
   "metadata": {},
   "source": [
    "Now based on this model definition, training it can be performed with a single line of code"
   ]
  },
  {
   "cell_type": "code",
   "execution_count": 30,
   "metadata": {},
   "outputs": [],
   "source": [
    "from cml.data import xor_separation\n",
    "# Generate a XOR dataset\n",
    "x_inputs, y_classes = xor_separation(500, 0.1)\n",
    "# Train the MLP model\n",
    "clf.fit(x_inputs, y_classes);"
   ]
  },
  {
   "attachments": {},
   "cell_type": "markdown",
   "metadata": {
    "tags": []
   },
   "source": [
    "## Multi-layer implementation\n",
    "\n",
    "In this exercise, we will implement the XOR classification resolution using NumPy and JAX. This classification problem cannot be solved with a simple linear classifier. Hence, we will need to use at least a 2-layer network. The minimal set of variables that will be used by your code should be the following.\n",
    "\n",
    "```Python\n",
    "x_inputs          # 2 x n matrix of random points\n",
    "y_class           # classes of the patterns \n",
    "n_hidden          # Number of hidden units\n",
    "eta               # Learning rate parameter\n",
    "momentum          # Momentum parameter (bonus)\n",
    "weights1          # 1st layer weights\n",
    "weights2          # 2nd layer weights\n",
    "mse_limit         # Sum-squared error limit\n",
    "```"
   ]
  },
  {
   "cell_type": "code",
   "execution_count": 31,
   "metadata": {},
   "outputs": [],
   "source": [
    "# Number of hidden units\n",
    "n_hidden = 2\n",
    "# Learning rate parameter\n",
    "eta = 0.005\n",
    "# Momentum parameter\n",
    "momentum = 0.1\n",
    "# Sum-squared error limit\n",
    "mse_limit = 0.002"
   ]
  },
  {
   "attachments": {},
   "cell_type": "markdown",
   "metadata": {
    "tags": []
   },
   "source": [
    "## Exercise 1 - 2-layers XOR classification\n",
    "\n",
    "<div class=\"alert alert-success\" markdown=\"1\" style=\"color:white; background-color: #013220; border-color: #03C03C\">\n",
    "\n",
    "> To complete this exercise, you will need to have a basic understanding of NumPy and JAX. You can use the resources provided in the previous exercises to learn more about these libraries.\n",
    "\n",
    "We help you out by first defining the XOR classification problem to solve (and outlining some basic properties)\n",
    "\n",
    "</div>"
   ]
  },
  {
   "cell_type": "code",
   "execution_count": 32,
   "metadata": {},
   "outputs": [],
   "source": [
    "from cml.data import xor_separation\n",
    "# Definition of our data properties\n",
    "n_observations = 500\n",
    "noise_factor = 0.1\n",
    "# Properties of our problem\n",
    "n_input = 2\n",
    "n_output = 1\n",
    "# Generate a XOR dataset\n",
    "x_inputs, y_classes = xor_separation(n_observations, noise_factor)"
   ]
  },
  {
   "attachments": {},
   "cell_type": "markdown",
   "metadata": {},
   "source": [
    "We also show some potential implementation of the **initialization scheme**. Note that you can later try to replace this naive implementation by some more refined functions"
   ]
  },
  {
   "cell_type": "code",
   "execution_count": 33,
   "metadata": {},
   "outputs": [],
   "source": [
    "# 1st layer weights\n",
    "weights1 = (np.random.randn(n_hidden, n_input) * 0.01)\n",
    "# 2nd layer weights\n",
    "weights2 = (np.random.randn(n_output, n_hidden) * 0.01)\n",
    "# 1st layer biases\n",
    "bias1 = (np.random.randn(n_hidden, 1) * 0.01)\n",
    "# 2nd layer biases\n",
    "bias2 = (np.random.randn(n_output, 1) * 0.01)"
   ]
  },
  {
   "attachments": {},
   "cell_type": "markdown",
   "metadata": {},
   "source": [
    "***\n",
    "\n",
    "<div class=\"alert alert-success\" markdown=\"1\" style=\"color:white; background-color: #013220; border-color: #03C03C\">\n",
    "\n",
    "> ### Question 1.1 - Implement 2-layer XOR classification with NumPy\n",
    "\n",
    "> 1. Update the forward propagation and error computation\n",
    "> 2. Update the back-propagation part to learn the weights of both layers.\n",
    "> 3. Run the learning and check your network results\n",
    "  \n",
    "*For optional questions, please look at the end of this exercise's code boxes for more information*\n",
    "\n",
    "</div>\n",
    "\n",
    "***"
   ]
  },
  {
   "cell_type": "code",
   "execution_count": 34,
   "metadata": {},
   "outputs": [
    {
     "data": {
      "text/plain": [
       "((2, 2), (496, 2), (2, 1))"
      ]
     },
     "execution_count": 34,
     "metadata": {},
     "output_type": "execute_result"
    }
   ],
   "source": [
    "weights1.shape, x_inputs.shape, bias1.shape"
   ]
  },
  {
   "cell_type": "code",
   "execution_count": 74,
   "metadata": {},
   "outputs": [
    {
     "name": "stdout",
     "output_type": "stream",
     "text": [
      "Acc: 1.00\r"
     ]
    },
    {
     "data": {
      "image/png": "[encoded data removed]",
      "text/plain": [
       "<Figure size 640x480 with 1 Axes>"
      ]
     },
     "metadata": {},
     "output_type": "display_data"
    }
   ],
   "source": [
    "# 1st layer weights\n",
    "weights1 = (np.random.randn(n_hidden, n_input) * 0.01)\n",
    "# 2nd layer weights\n",
    "weights2 = (np.random.randn(n_output, n_hidden) * 0.01)\n",
    "# 1st layer biases\n",
    "bias1 = (np.random.randn(n_hidden, 1) * 0.01)\n",
    "# 2nd layer biases\n",
    "bias2 = (np.random.randn(n_output, 1) * 0.01)\n",
    "\n",
    "######################\n",
    "# YOUR CODE GOES HERE\n",
    "######################\n",
    "\n",
    "# Function for computing the Sigmoid activation\n",
    "def sigmoid(x):\n",
    "    return 1 / (1 + np.exp(-x))\n",
    "# Derivative\n",
    "def dsigmoid(a):\n",
    "    return a * (1.0 - a)\n",
    "\n",
    "\n",
    "for i in range(5000):\n",
    "    \n",
    "    # forward\n",
    "    # (n_hidden,n_input)*(n_input,N)+(n_hidden,1)->(n_hidden, N)\n",
    "    o_1 = np.dot(weights1, x_inputs.T) + bias1\n",
    "    y_1 = sigmoid(o_1)\n",
    "    # (n_output,n_hidden)*(n_hidden,N)+(n_output,1)->(n_output, N)\n",
    "    o_2 = np.dot(weights2, y_1) + bias2\n",
    "    y_2 = sigmoid(o_2)\n",
    "\n",
    "    # loss\n",
    "    loss = (y_classes - y_2)**2 / 2\n",
    "    if loss.sum() < mse_limit:\n",
    "        break\n",
    "    dloss = y_2 - y_classes  # derivative of mse\n",
    "\n",
    "    # evaluate\n",
    "    if i % 100 == 0:\n",
    "        acc_array = ((y_classes==0) & (y_2<0.5) | (y_classes==1) & (y_2>=0.5)).reshape(-1)\n",
    "        print(f\"Acc: {acc_array.sum() / len(acc_array):.2f}\", end=\"\\r\")\n",
    "\n",
    "    # backprop\n",
    "    # (n_output, N)\n",
    "    delta2 = dloss * dsigmoid(y_2)\n",
    "    # (n_output, n_hidden)\n",
    "    weights2 = weights2 - eta * np.dot(delta2, y_1.T)\n",
    "    bias2 = bias2 - eta * np.sum(delta2)\n",
    "    # (2, N)\n",
    "    delta1 = np.dot(weights.T, delta2) * dsigmoid(y_1)\n",
    "    # (2, 1)\n",
    "    bias1 = bias1 - eta * np.sum(delta1, axis=-1, keepdims=True)\n",
    "    weights1 = weights1 - eta * np.dot(delta1, x_inputs)\n",
    "\n",
    "\n",
    "    # shape check\n",
    "    # assert y_1.shape == (2, 496)\n",
    "    # assert y_2.shape == (1, 496)\n",
    "\n",
    "    # assert delta2.shape == (1, 496)\n",
    "    # assert weights2.shape == (1, 2)\n",
    "    # assert bias2.shape == (1, 1)\n",
    "\n",
    "    # assert delta1.shape == (2, 496)\n",
    "    # assert weights1.shape == (2, 2)\n",
    "    # assert bias1.shape == (2, 1)\n",
    "\n",
    "\n",
    "\n",
    "plt.scatter(x_inputs[y_2.reshape(-1)>=0.5, 0], x_inputs[y_2.reshape(-1)>=0.5, 1])\n",
    "plt.scatter(x_inputs[y_2.reshape(-1)<0.5, 0], x_inputs[y_2.reshape(-1)<0.5, 1])\n",
    "plt.show()"
   ]
  },
  {
   "attachments": {},
   "cell_type": "markdown",
   "metadata": {},
   "source": [
    "***\n",
    "\n",
    "<div class=\"alert alert-success\" markdown=\"1\" style=\"color:white; background-color: #013220; border-color: #03C03C\">\n",
    "\n",
    "> ### Question 1.2 - Implement XOR classification with JAX\n",
    "\n",
    "> 1. Perform the same implementation as previously with JAX\n",
    "> 2. Implement gradient descent to optimize the weights and bias.\n",
    "\n",
    "</div>\n",
    "\n",
    "***"
   ]
  },
  {
   "cell_type": "code",
   "execution_count": 106,
   "metadata": {},
   "outputs": [
    {
     "name": "stdout",
     "output_type": "stream",
     "text": [
      "Acc: 1.00\r"
     ]
    },
    {
     "data": {
      "text/plain": [
       "<matplotlib.collections.PathCollection at 0x7ff8f55b2950>"
      ]
     },
     "execution_count": 106,
     "metadata": {},
     "output_type": "execute_result"
    },
    {
     "data": {
      "image/png": "[encoded data removed]",
      "text/plain": [
       "<Figure size 640x480 with 1 Axes>"
      ]
     },
     "metadata": {},
     "output_type": "display_data"
    }
   ],
   "source": [
    "\n",
    "######################\n",
    "# YOUR CODE GOES HERE\n",
    "######################\n",
    "\n",
    "# dataset prep\n",
    "from cml.data import xor_separation\n",
    "x_inputs, y_classes = xor_separation(500, 0.1)\n",
    "\n",
    "\n",
    "# weight init\n",
    "import jax.numpy as jnp\n",
    "from jax import grad, jit, random\n",
    "key = random.PRNGKey(42)\n",
    "x_jax = jnp.asarray(x_inputs)\n",
    "y_jax = jnp.asarray(y_classes)\n",
    "eta = 0.01\n",
    "n_input = 2\n",
    "n_hidden = 2\n",
    "n_output = 1\n",
    "# Perform key splitting\n",
    "key_w_1, key_b_1, key_w_2, key_b_2, key = random.split(key, 5)\n",
    "# Initialize the weights\n",
    "weights1 = random.normal(key_w_1, (n_hidden, n_input))\n",
    "bias1 = random.normal(key_b_1, (n_hidden, 1))\n",
    "weights2 = random.normal(key_w_2, (n_output, n_hidden))\n",
    "bias2 = random.normal(key_b_2, (n_output, 1))\n",
    "\n",
    "\n",
    "import jax\n",
    "\n",
    "def forward(x, w1, b1, w2, b2):\n",
    "    y_hidden = jax.nn.sigmoid(jnp.dot(w1, x.T) + b1)\n",
    "    y_out = jax.nn.sigmoid(jnp.dot(w2, y_hidden) + b2)\n",
    "    return y_out\n",
    "\n",
    "def loss_function(x, y, w1, b1, w2, b2):\n",
    "    # print(x.shape, y.shape, w1.shape, b1.shape, w2.shape, b2.shape)\n",
    "    # Forward pass\n",
    "    y_out = forward(x, w1, b1, w2, b2)\n",
    "    # Error computation\n",
    "    error = jnp.sum((y_out - y) ** 2)\n",
    "    return error\n",
    "# Gradient of the loss\n",
    "grad_loss_function = jit(grad(loss_function, argnums=[2, 3, 4, 5]))\n",
    "\n",
    "# Update loop\n",
    "for i in range(5000):\n",
    "    gradients = grad_loss_function(x_jax, y_jax, weights1, bias1, weights2, bias2)\n",
    "    weights1 = weights1 - eta * gradients[0]\n",
    "    bias1 = bias1 - eta * gradients[1]\n",
    "    weights2 = weights2 - eta * gradients[2]\n",
    "    bias2 = bias2 - eta * gradients[3]\n",
    "    if i % 10 == 0:\n",
    "        y_hidden = jax.nn.sigmoid(jnp.dot(weights1, x_inputs.T) + bias1)\n",
    "        y_out = forward(x_inputs, weights1, bias1, weights2, bias2)\n",
    "        acc_array = ((y_classes==0) & (y_out<0.5) | (y_classes==1) & (y_out>=0.5)).reshape(-1)\n",
    "        print(f\"Acc: {acc_array.sum() / len(acc_array):.2f}\", end=\"\\r\")\n",
    "\n",
    "\n",
    "\n",
    "\n",
    "plt.scatter(x_inputs[y_out.reshape(-1)>=0.5, 0], x_inputs[y_out.reshape(-1)>=0.5, 1])\n",
    "plt.scatter(x_inputs[y_out.reshape(-1)<0.5, 0], x_inputs[y_out.reshape(-1)<0.5, 1])"
   ]
  },
  {
   "attachments": {},
   "cell_type": "markdown",
   "metadata": {},
   "source": [
    "***\n",
    "\n",
    "<div class=\"alert alert-success\" markdown=\"1\" style=\"color:white; background-color: #013220; border-color: #03C03C\">\n",
    "\n",
    "> ### Question 1.3 - Understanding properties of our implementation\n",
    "\n",
    "> 4. Perform multiple re-runs of the learning procedure (re-launching with different initializations)\n",
    ">     1. What observations can you make on the learning process?\n",
    ">     2. What happens if you initialize all weights to zeros?\n",
    ">     3. Change your initialization and regularization scheme\n",
    "\n",
    "</div>\n",
    "\n",
    "***"
   ]
  },
  {
   "cell_type": "code",
   "execution_count": 109,
   "metadata": {},
   "outputs": [
    {
     "name": "stdout",
     "output_type": "stream",
     "text": [
      "initialize with xavier\n"
     ]
    },
    {
     "data": {
      "image/png": "[encoded data removed]",
      "text/plain": [
       "<Figure size 640x480 with 1 Axes>"
      ]
     },
     "metadata": {},
     "output_type": "display_data"
    },
    {
     "name": "stdout",
     "output_type": "stream",
     "text": [
      "initialize with 0\n"
     ]
    },
    {
     "data": {
      "image/png": "[encoded data removed]",
      "text/plain": [
       "<Figure size 640x480 with 1 Axes>"
      ]
     },
     "metadata": {},
     "output_type": "display_data"
    }
   ],
   "source": [
    "\n",
    "######################\n",
    "# YOUR CODE GOES HERE\n",
    "######################\n",
    "\"\"\"\n",
    "1. When eta is too big(lke 1), it becomes impossible to train.\n",
    "2. Impossible to train(see the output below).\n",
    "3. Builds a Glorot normal initializer appropriate for using with sigmoid)\n",
    "\"\"\"\n",
    "\n",
    "############ initialize with xavier ############\n",
    "\n",
    "# dataset prep\n",
    "from cml.data import xor_separation\n",
    "x_inputs, y_classes = xor_separation(500, 0.1)\n",
    "\n",
    "\n",
    "# weight init\n",
    "import jax\n",
    "import jax.numpy as jnp\n",
    "from jax import grad, jit, random\n",
    "key = random.PRNGKey(42)\n",
    "initializer = jax.nn.initializers.glorot_normal()\n",
    "x_jax = jnp.asarray(x_inputs)\n",
    "y_jax = jnp.asarray(y_classes)\n",
    "eta = 0.01\n",
    "n_input = 2\n",
    "n_hidden = 2\n",
    "n_output = 1\n",
    "# Perform key splitting\n",
    "key_w_1, key_b_1, key_w_2, key_b_2, key = random.split(key, 5)\n",
    "# Initialize the weights\n",
    "weights1 = initializer(key_w_1, (n_hidden, n_input))\n",
    "bias1 = initializer(key_b_1, (n_hidden, 1))\n",
    "weights2 = initializer(key_w_2, (n_output, n_hidden))\n",
    "bias2 = initializer(key_b_2, (n_output, 1))\n",
    "\n",
    "\n",
    "import jax\n",
    "\n",
    "def forward(x, w1, b1, w2, b2):\n",
    "    y_hidden = jax.nn.sigmoid(jnp.dot(w1, x.T) + b1)\n",
    "    y_out = jax.nn.sigmoid(jnp.dot(w2, y_hidden) + b2)\n",
    "    return y_out\n",
    "\n",
    "def loss_function(x, y, w1, b1, w2, b2):\n",
    "    # print(x.shape, y.shape, w1.shape, b1.shape, w2.shape, b2.shape)\n",
    "    # Forward pass\n",
    "    y_out = forward(x, w1, b1, w2, b2)\n",
    "    # Error computation\n",
    "    error = jnp.sum((y_out - y) ** 2)\n",
    "    return error\n",
    "# Gradient of the loss\n",
    "grad_loss_function = jit(grad(loss_function, argnums=[2, 3, 4, 5]))\n",
    "\n",
    "# Update loop\n",
    "for i in range(5000):\n",
    "    gradients = grad_loss_function(x_jax, y_jax, weights1, bias1, weights2, bias2)\n",
    "    weights1 = weights1 - eta * gradients[0]\n",
    "    bias1 = bias1 - eta * gradients[1]\n",
    "    weights2 = weights2 - eta * gradients[2]\n",
    "    bias2 = bias2 - eta * gradients[3]\n",
    "    if i % 10 == 0:\n",
    "        y_hidden = jax.nn.sigmoid(jnp.dot(weights1, x_inputs.T) + bias1)\n",
    "        y_out = forward(x_inputs, weights1, bias1, weights2, bias2)\n",
    "        acc_array = ((y_classes==0) & (y_out<0.5) | (y_classes==1) & (y_out>=0.5)).reshape(-1)\n",
    "        print(f\"Acc: {acc_array.sum() / len(acc_array):.2f}\", end=\"\\r\")\n",
    "\n",
    "\n",
    "print(\"initialize with xavier\")\n",
    "plt.scatter(x_inputs[y_out.reshape(-1)>=0.5, 0], x_inputs[y_out.reshape(-1)>=0.5, 1])\n",
    "plt.scatter(x_inputs[y_out.reshape(-1)<0.5, 0], x_inputs[y_out.reshape(-1)<0.5, 1])\n",
    "plt.show()\n",
    "\n",
    "\n",
    "############ initialize with 0 ############\n",
    "\n",
    "\n",
    "\n",
    "# dataset prep\n",
    "from cml.data import xor_separation\n",
    "x_inputs, y_classes = xor_separation(500, 0.1)\n",
    "\n",
    "\n",
    "# weight init\n",
    "import jax.numpy as jnp\n",
    "from jax import grad, jit, random\n",
    "key = random.PRNGKey(42)\n",
    "x_jax = jnp.asarray(x_inputs)\n",
    "y_jax = jnp.asarray(y_classes)\n",
    "eta = 0.01\n",
    "n_input = 2\n",
    "n_hidden = 2\n",
    "n_output = 1\n",
    "# Perform key splitting\n",
    "key_w_1, key_b_1, key_w_2, key_b_2, key = random.split(key, 5)\n",
    "# Initialize the weights\n",
    "weights1 = random.normal(key_w_1, (n_hidden, n_input))\n",
    "weights1 = jnp.zeros_like(weights1)\n",
    "bias1 = random.normal(key_b_1, (n_hidden, 1))\n",
    "bias1 = jnp.zeros_like(bias1)\n",
    "weights2 = random.normal(key_w_2, (n_output, n_hidden))\n",
    "weights2 = jnp.zeros_like(weights2)\n",
    "bias2 = random.normal(key_b_2, (n_output, 1))\n",
    "bias2 = jnp.zeros_like(bias2)\n",
    "\n",
    "\n",
    "import jax\n",
    "\n",
    "def forward(x, w1, b1, w2, b2):\n",
    "    y_hidden = jax.nn.sigmoid(jnp.dot(w1, x.T) + b1)\n",
    "    y_out = jax.nn.sigmoid(jnp.dot(w2, y_hidden) + b2)\n",
    "    return y_out\n",
    "\n",
    "def loss_function(x, y, w1, b1, w2, b2):\n",
    "    # print(x.shape, y.shape, w1.shape, b1.shape, w2.shape, b2.shape)\n",
    "    # Forward pass\n",
    "    y_out = forward(x, w1, b1, w2, b2)\n",
    "    # Error computation\n",
    "    error = jnp.sum((y_out - y) ** 2)\n",
    "    return error\n",
    "# Gradient of the loss\n",
    "grad_loss_function = jit(grad(loss_function, argnums=[2, 3, 4, 5]))\n",
    "\n",
    "# Update loop\n",
    "for i in range(5000):\n",
    "    gradients = grad_loss_function(x_jax, y_jax, weights1, bias1, weights2, bias2)\n",
    "    weights1 = weights1 - eta * gradients[0]\n",
    "    bias1 = bias1 - eta * gradients[1]\n",
    "    weights2 = weights2 - eta * gradients[2]\n",
    "    bias2 = bias2 - eta * gradients[3]\n",
    "    if i % 10 == 0:\n",
    "        y_hidden = jax.nn.sigmoid(jnp.dot(weights1, x_inputs.T) + bias1)\n",
    "        y_out = forward(x_inputs, weights1, bias1, weights2, bias2)\n",
    "        acc_array = ((y_classes==0) & (y_out<0.5) | (y_classes==1) & (y_out>=0.5)).reshape(-1)\n",
    "        print(f\"Acc: {acc_array.sum() / len(acc_array):.2f}\", end=\"\\r\")\n",
    "\n",
    "\n",
    "print(\"initialize with 0\")\n",
    "plt.scatter(x_inputs[y_out.reshape(-1)>=0.5, 0], x_inputs[y_out.reshape(-1)>=0.5, 1])\n",
    "plt.scatter(x_inputs[y_out.reshape(-1)<0.5, 0], x_inputs[y_out.reshape(-1)<0.5, 1])\n",
    "plt.show()"
   ]
  },
  {
   "attachments": {},
   "cell_type": "markdown",
   "metadata": {},
   "source": [
    "***\n",
    "\n",
    "<div class=\"alert alert-success\" markdown=\"1\" style=\"color:white; background-color: #192841; border-color: #779ecb\">\n",
    "\n",
    "> ### Going further\n",
    "\n",
    "> The following set of questions are optionnal addendum to your previous code that allow to understand more in-depth properties about _regularization_ both for neural networks and optimization in general.\n",
    "\n",
    "> 1. (Optional) Implement the *weight decay* constraint in your network.\n",
    "> 2. (Optional) Add the *momentum* to the learning procedure.\n",
    "\n",
    "> *Weight decay* constraint\n",
    "> As nothing constrains the weights in the network, we can note that usually all weights vector given a multiplicative factor might be equivalent, which can stall the learning (and lead to exploding weights). The *weight decay* allows to regularize the learning by penalizing weights with a too wide amplitude. The idea is to add this constraint as a term to the final loss (which leads to an indirect \"pressure\" on the learning process. Therefore, the final loss will be defined as\n",
    "> $$\n",
    "\\begin{equation}\n",
    "\\mathcal{L}_{final}=\\mathcal{L_D} + \\lambda \\sum_{l} \\sum_{i} \\sum_{j} \\left( W_{ij}^{l} \\right)^{2}\n",
    "\\end{equation}\n",
    "$$\n",
    "> where the parameter $\\lambda$ controls the relative importance of the two terms.\n",
    "\n",
    "> *Momentum* in learning\n",
    "> Usually, in complex problems, the gradient can be very noisy and, therefore, the learning might oscillate widely. In order to reduce this problem, we can *smooth* the different gradient updates by retaining the values of the gradient at each iteration and then performing an update based on the latest gradient $\\delta_{i}^{t}$ and the gradient at the previous iteration $\\delta_{i}^{t-1}$. Therefore, a gradient update is applied as\n",
    "> $$\n",
    "\\begin{equation}\n",
    "\\delta_{final}^{t} = \\delta_{i}^{t} + m.\\delta_{i}^{t-1}\n",
    "\\end{equation}\n",
    "$$\n",
    "> with $m$ the momentum parameter, which control the amount of gradient smoothing.\n",
    "\n",
    "</div>\n",
    "\n",
    "***"
   ]
  },
  {
   "cell_type": "code",
   "execution_count": null,
   "metadata": {},
   "outputs": [],
   "source": [
    "\n",
    "######################\n",
    "# YOUR CODE GOES HERE\n",
    "######################\n"
   ]
  },
  {
   "attachments": {},
   "cell_type": "markdown",
   "metadata": {},
   "source": [
    "## (Optional) 3-layer audio classification\n",
    "\n",
    "Once again, note that the following paragraph and subsequent questions are _optional_ but should be a quite simple extension of our previous work on 2-layer networks. If you struggle with the data import mechanisms, you can look down at the PyTorch section (with a **mandatory exercise**) that will provide base code for this aspect. \n",
    "\n",
    "Finally, we will attack a complete audio classification problem and try to perform neural network learning on a set of audio files. The data structure will be the same as the one used for parts 1 and 2. As discussed during the courses, even though a 2-layer neural network can provide non-linear boundaries, it can not perform \"holes\" inside those regions. In order to obtain an improved classification, we will now rely on a 3-layer neural network. The modification to the code of section 3.2 should be minimal, as the back-propagation will be similar for the new layer as one of the two others. We do not develop the math here as it is simply a re-application of the previous rules with an additional layer (which derivatives you should have generalized in the previous exercise).  \n",
    "\n",
    "However, up until now, we only performed *binary classification* problems, but this time we need to obtain a decision rule for multiple classes. Therefore, we cannot rely on simply computing the distance between desired patterns and the obtained binary value. The idea here is to rely on the *softmax regression*, by considering classes as a vector of probabilities. The desired answers will therefore be considered as a set of *probabilities*, where the desired class is $1$ and the others are $0$ (called *one-hot* representation). Then, the cost function will rely on the softmax formulation\n",
    "\n",
    "$$\n",
    "\\begin{equation}\n",
    "\\mathcal{L_D}(\\theta) = - \\frac{1}{m} \\left[ \\sum_{i=1}^{m} \\sum_{j=1}^{k} 1\\left\\{y^{(i)} = j\\right\\} \\log \\frac{e^{\\theta_{j}^{T} x^{(i)}}}{\\sum_{l=1}^{k} e^{ \\theta_{l}^{T} x^{(i)} }}  \\right]\n",
    "\\end{equation}\n",
    "$$\n",
    "\n",
    "Therefore, we compute the output of the softmax by taking \n",
    "\n",
    "$$\n",
    "\\begin{equation}\n",
    "p(y^{(i)} = j | x^{(i)}; \\theta) = \\frac{e^{\\theta_{j}^{T} x^{(i)}}}{\\sum_{l=1}^{k} e^{ \\theta_{l}^{T} x^{(i)}} }\n",
    "\\end{equation}\n",
    "$$\n",
    "\n",
    "By taking derivatives, we can show that the gradient of the softmax layer is\n",
    "\n",
    "$$\n",
    "\\begin{equation}\n",
    "\\nabla_{\\theta_{j}} \\mathcal{L_D}(\\theta) = - \\frac{1}{m} \\sum_{i=1}^{m}{ \\left[ x^{(i)} \\left( 1\\{ y^{(i)} = j\\}  - p(y^{(i)} = j \\mid x^{(i)}, \\theta) \\right) \\right]}\n",
    "\\end{equation}\n",
    "$$"
   ]
  },
  {
   "attachments": {},
   "cell_type": "markdown",
   "metadata": {},
   "source": [
    "### Sweet activation functions\n",
    "\n",
    "As discussed in the course, the interest of stacking layers is that there is an _activation function_, which allows non-linear interactions between the dimensions (and avoids to only compute a single huge affine transform). Although the `sigmoid` function has been historically the most used, there has been some large developments since. Notably the `ReLU` (Rectified Linear Unit) is one of the major difference in modern networks (we will see more about that in a later course)"
   ]
  },
  {
   "cell_type": "code",
   "execution_count": 29,
   "metadata": {},
   "outputs": [],
   "source": [
    "# Function for computing the Sigmoid activation\n",
    "def sigmoid(x):\n",
    "    return 1 / (1 + np.exp(-x))\n",
    "# Derivative\n",
    "def dsigmoid(a):\n",
    "    return a * (1.0 - a)\n",
    "# Function for computing the ReLU activation\n",
    "def relu(x):\n",
    "    return np.maximum(0, x)\n",
    "# Derivative\n",
    "def drelu(x):\n",
    "    if (x < 0):\n",
    "        return 0\n",
    "    return 1\n",
    "# Function for computing the Tanh activation\n",
    "def tanh(x):\n",
    "    return np.tanh(x);\n",
    "# Derivative\n",
    "def dtanh(x): \n",
    "    return np.cosh(x) ^ -2"
   ]
  },
  {
   "attachments": {},
   "cell_type": "markdown",
   "metadata": {},
   "source": [
    "Here, we plot some simple examples of what these activation functions look like. You can try to rely on these functions in your previous training code and witness the differences in training.\n"
   ]
  },
  {
   "cell_type": "code",
   "execution_count": 23,
   "metadata": {},
   "outputs": [
    {
     "data": {},
     "metadata": {},
     "output_type": "display_data"
    },
    {
     "data": {
      "application/vnd.holoviews_exec.v0+json": "",
      "text/html": [
       "<div id='4210'>\n",
       "  <div class=\"bk-root\" id=\"9d0d059d-3d72-4cc5-aadf-97f393bc9b0b\" data-root-id=\"4210\"></div>\n",
       "</div>\n",
       "<script type=\"application/javascript\">(function(root) {\n",
       "  function embed_document(root) {\n",
       "    var docs_json = {\"c6b166bf-d91b-4d39-bc41-f9de9c5a081a\":{\"defs\":[{\"extends\":null,\"module\":null,\"name\":\"ReactiveHTML1\",\"overrides\":[],\"properties\":[]},{\"extends\":null,\"module\":null,\"name\":\"FlexBox1\",\"overrides\":[],\"properties\":[{\"default\":\"flex-start\",\"kind\":null,\"name\":\"align_content\"},{\"default\":\"flex-start\",\"kind\":null,\"name\":\"align_items\"},{\"default\":\"row\",\"kind\":null,\"name\":\"flex_direction\"},{\"default\":\"wrap\",\"kind\":null,\"name\":\"flex_wrap\"},{\"default\":\"flex-start\",\"kind\":null,\"name\":\"justify_content\"}]},{\"extends\":null,\"module\":null,\"name\":\"GridStack1\",\"overrides\":[],\"properties\":[{\"default\":\"warn\",\"kind\":null,\"name\":\"mode\"},{\"default\":null,\"kind\":null,\"name\":\"ncols\"},{\"default\":null,\"kind\":null,\"name\":\"nrows\"},{\"default\":true,\"kind\":null,\"name\":\"allow_resize\"},{\"default\":true,\"kind\":null,\"name\":\"allow_drag\"},{\"default\":[],\"kind\":null,\"name\":\"state\"}]},{\"extends\":null,\"module\":null,\"name\":\"click1\",\"overrides\":[],\"properties\":[{\"default\":\"\",\"kind\":null,\"name\":\"terminal_output\"},{\"default\":\"\",\"kind\":null,\"name\":\"debug_name\"},{\"default\":0,\"kind\":null,\"name\":\"clears\"}]},{\"extends\":null,\"module\":null,\"name\":\"NotificationAreaBase1\",\"overrides\":[],\"properties\":[{\"default\":\"bottom-right\",\"kind\":null,\"name\":\"position\"},{\"default\":0,\"kind\":null,\"name\":\"_clear\"}]},{\"extends\":null,\"module\":null,\"name\":\"NotificationArea1\",\"overrides\":[],\"properties\":[{\"default\":[],\"kind\":null,\"name\":\"notifications\"},{\"default\":\"bottom-right\",\"kind\":null,\"name\":\"position\"},{\"default\":0,\"kind\":null,\"name\":\"_clear\"},{\"default\":[{\"background\":\"#ffc107\",\"icon\":{\"className\":\"fas fa-exclamation-triangle\",\"color\":\"white\",\"tagName\":\"i\"},\"type\":\"warning\"},{\"background\":\"#007bff\",\"icon\":{\"className\":\"fas fa-info-circle\",\"color\":\"white\",\"tagName\":\"i\"},\"type\":\"info\"}],\"kind\":null,\"name\":\"types\"}]},{\"extends\":null,\"module\":null,\"name\":\"Notification\",\"overrides\":[],\"properties\":[{\"default\":null,\"kind\":null,\"name\":\"background\"},{\"default\":3000,\"kind\":null,\"name\":\"duration\"},{\"default\":null,\"kind\":null,\"name\":\"icon\"},{\"default\":\"\",\"kind\":null,\"name\":\"message\"},{\"default\":null,\"kind\":null,\"name\":\"notification_type\"},{\"default\":false,\"kind\":null,\"name\":\"_destroyed\"}]},{\"extends\":null,\"module\":null,\"name\":\"TemplateActions1\",\"overrides\":[],\"properties\":[{\"default\":0,\"kind\":null,\"name\":\"open_modal\"},{\"default\":0,\"kind\":null,\"name\":\"close_modal\"}]},{\"extends\":null,\"module\":null,\"name\":\"MaterialTemplateActions1\",\"overrides\":[],\"properties\":[{\"default\":0,\"kind\":null,\"name\":\"open_modal\"},{\"default\":0,\"kind\":null,\"name\":\"close_modal\"}]}],\"roots\":{\"references\":[{\"attributes\":{},\"id\":\"4153\",\"type\":\"HelpTool\"},{\"attributes\":{},\"id\":\"4095\",\"type\":\"DataRange1d\"},{\"attributes\":{},\"id\":\"4145\",\"type\":\"BasicTicker\"},{\"attributes\":{\"children\":[{\"id\":\"4211\"},{\"id\":\"4209\"},{\"id\":\"4272\"}],\"margin\":[0,0,0,0],\"name\":\"Row00190\"},\"id\":\"4210\",\"type\":\"Row\"},{\"attributes\":{},\"id\":\"4228\",\"type\":\"BasicTickFormatter\"},{\"attributes\":{},\"id\":\"4093\",\"type\":\"DataRange1d\"},{\"attributes\":{\"data\":{\"x\":{\"__ndarray__\":\"AAAAAAAAFMBDYt7OkJgTwIbEvJ0hMRPAyiabbLLJEsANiXk7Q2ISwFDrVwrU+hHAk0022WSTEcDXrxSo9SsRwBoS83aGxBDAXXTRRRddEMBArV8pUOsPwMdxHMdxHA/ATjbZZJNNDsDU+pUCtX4NwFq/UqDWrwzA4YMPPvjgC8BoSMzbGRILwO4MiXk7QwrAdNFFF110CcD7lQK1fqUIwIFav1Kg1gfACB988MEHB8CO4ziO4zgGwBWo9SsFagXAm2yyySabBMAiMW9nSMwDwKj1KwVq/QLAL7rooosuAsC1fqVArV8BwDxDYt7OkADAhA8++OCD/7+SmLczJOb9v54hMW9nSPy/qqqqqqqq+r+4MyTm7Qz5v8S8nSExb/e/0kUXXXTR9b/ezpCYtzP0v+xXCtT6lfK/+OCDDz748L8I1PqVArXuvyjm7QyJeeu/QPjggw8+6L9YCtT6lQLlv3Acx3Ecx+G/IF100UUX3b9QgVq/UqDWv4ClQK1fKdC/YJNNNtlkw78Ab2dIzNupvwBvZ0jM26k/YJNNNtlkwz+ApUCtXynQP1CBWr9SoNY/EF100UUX3T9wHMdxHMfhP1gK1PqVAuU/QPjggw8+6D8g5u0MiXnrPwjU+pUCte4/+OCDDz748D/sVwrU+pXyP9zOkJi3M/Q/0EUXXXTR9T/EvJ0hMW/3P7gzJObtDPk/rKqqqqqq+j+cITFvZ0j8P5CYtzMk5v0/hA8++OCD/z88Q2LezpAAQLR+pUCtXwFALrrooosuAkCo9SsFav0CQCIxb2dIzANAmmyyySabBEAUqPUrBWoFQI7jOI7jOAZACB988MEHB0CAWr9SoNYHQPyVArV+pQhAdNFFF110CUDsDIl5O0MKQGhIzNsZEgtA4IMPPvjgC0Bcv1Kg1q8MQNT6lQK1fg1ATDbZZJNNDkDIcRzHcRwPQECtXylQ6w9AXHTRRRddEEAaEvN2hsQQQNavFKj1KxFAlE022WSTEUBQ61cK1PoRQAyJeTtDYhJAyiabbLLJEkCGxLydITETQERi3s6QmBNAAAAAAAAAFEA=\",\"dtype\":\"float64\",\"order\":\"little\",\"shape\":[100]},\"y\":{\"__ndarray__\":\"jo9jffZpez8zICEkXk5+P3YuqyAfwIA/p+JVusaDgj8N8g/shXaEP/byi48qnYY/0BjB9/n8iD/WZNY4u5uLP6vI/AXCf44/EJSHDf3XkD/6lO+Q+ZmSP06i3332iZQ/VzdyJ3Kslj8nJDSWTwaZPwVPZcvcnJs/Nz7K0Nh1nj/SLj+0vMugP2FCABM4hKI/cEoQV/dnpD/TN0jn1HqmPztu44ftwKg/IjxyKqA+qz9GueiGjPitP6x4HxzIebA/Bir+B2Easj+U/wqnteCzPwKDQzN/z7U/d+J5foXptz/t5tFglzG6PykCu3GBqrw/UGnG7AJXvz+DDaxX4BzBP1E7QSabqsI/LnfnpNJVxD9YIjhZgR/GPxsQCKdxCMg/578cdjMRyj/8P9qtETrMP6bqzeUHg84/wifXXdx10D+UG9WmsrnRP5JJRzBzDNM/B5ki3VNt1D+dUU4YU9vVP7IneGw4Vdc/QWJr05bZ2D+hWanP0GbaPzYfqEoe+9s/yqt2F5SU3T+jHszeLDHfP6/wmZBpZ+A/G6pE9LU14T9l8KvacALiPy9TK5iXzOI/3U5KljST4z8n7MPJY1XkPzLX2HNWEuU/fbNuEVbJ5T81W9xnxnnmPzZylawmI+c/H2wU0RHF5z9XhYwGPl/oPwBwiZR78eg/BtB4IrN76T/6+z2W4/3pP2n3sakfeOo/NSLGVovq6j8ssW82WVXrP5/8FOrHuOs/1jJnoh8V7D+6n8jRr2rsPyHD5RPNuew/scMwUM8C7T+gj5cZEEbtPw2gHkvpg+0/vjoA37O87T/qEHz8xvDtP2t0kTd3IO4/PtxY/RVM7j8byYEn8XPuP4R8i7FSmO4/WPuOioC57j/b+89+vNfuPxMNvDRE8+4/Dq55OVEM7z+I1aQZGSPvP95eToPNN+8/Rm7EbpxK7z/tAhFMsFvvP1iDeDMwa+8/YMOTF0B57z/eDOj3AIbvP22mHBORke8/nfsgGAyc7z800MFVi6XvPzjAT+glru8/dqgW5fC17z9GU32D/7zvP8C9t0Njw+8/4jgFEyzJ7z8=\",\"dtype\":\"float64\",\"order\":\"little\",\"shape\":[100]}},\"selected\":{\"id\":\"4234\"},\"selection_policy\":{\"id\":\"4233\"}},\"id\":\"4123\",\"type\":\"ColumnDataSource\"},{\"attributes\":{\"children\":[{\"id\":\"4090\"},{\"id\":\"4129\"},{\"id\":\"4168\"}]},\"id\":\"4208\",\"type\":\"Row\"},{\"attributes\":{},\"id\":\"4216\",\"type\":\"BasicTickFormatter\"},{\"attributes\":{\"source\":{\"id\":\"4201\"}},\"id\":\"4206\",\"type\":\"CDSView\"},{\"attributes\":{},\"id\":\"4229\",\"type\":\"AllLabels\"},{\"attributes\":{\"coordinates\":null,\"group\":null,\"text\":\"Sigmoid\",\"text_color\":\"#E0E0E0\",\"text_font\":\"Josefin Sans\",\"text_font_size\":\"2.1em\"},\"id\":\"4091\",\"type\":\"Title\"},{\"attributes\":{\"axis_label_standoff\":10,\"axis_label_text_color\":\"#FFFFFF\",\"axis_label_text_font\":\"Josefin Sans\",\"axis_label_text_font_size\":\"1.9em\",\"axis_label_text_font_style\":\"bold\",\"axis_line_alpha\":0.4,\"axis_line_color\":\"#E0E0E0\",\"coordinates\":null,\"formatter\":{\"id\":\"4216\"},\"group\":null,\"major_label_policy\":{\"id\":\"4217\"},\"major_label_text_color\":\"#E0E0E0\",\"major_label_text_font\":\"Josefin Sans\",\"major_label_text_font_size\":\"1.15em\",\"major_tick_line_alpha\":0.4,\"major_tick_line_color\":\"#E0E0E0\",\"minor_tick_line_alpha\":0.4,\"minor_tick_line_color\":\"#E0E0E0\",\"ticker\":{\"id\":\"4106\"}},\"id\":\"4105\",\"type\":\"LinearAxis\"},{\"attributes\":{},\"id\":\"4217\",\"type\":\"AllLabels\"},{\"attributes\":{\"style\":{\"font-size\":\"250%\"},\"text\":\"Different activation functions\"},\"id\":\"4207\",\"type\":\"Div\"},{\"attributes\":{\"axis_label_standoff\":10,\"axis_label_text_color\":\"#FFFFFF\",\"axis_label_text_font\":\"Josefin Sans\",\"axis_label_text_font_size\":\"1.9em\",\"axis_label_text_font_style\":\"bold\",\"axis_line_alpha\":0.4,\"axis_line_color\":\"#E0E0E0\",\"coordinates\":null,\"formatter\":{\"id\":\"4231\"},\"group\":null,\"major_label_policy\":{\"id\":\"4232\"},\"major_label_text_color\":\"#E0E0E0\",\"major_label_text_font\":\"Josefin Sans\",\"major_label_text_font_size\":\"1.15em\",\"major_tick_line_alpha\":0.4,\"major_tick_line_color\":\"#E0E0E0\",\"minor_tick_line_alpha\":0.4,\"minor_tick_line_color\":\"#E0E0E0\",\"ticker\":{\"id\":\"4180\"}},\"id\":\"4179\",\"type\":\"LinearAxis\"},{\"attributes\":{},\"id\":\"4231\",\"type\":\"BasicTickFormatter\"},{\"attributes\":{},\"id\":\"4097\",\"type\":\"LinearScale\"},{\"attributes\":{},\"id\":\"4219\",\"type\":\"BasicTickFormatter\"},{\"attributes\":{\"line_alpha\":0.2,\"line_color\":\"yellow\",\"line_width\":4,\"x\":{\"field\":\"x\"},\"y\":{\"field\":\"y\"}},\"id\":\"4204\",\"type\":\"Line\"},{\"attributes\":{},\"id\":\"4239\",\"type\":\"UnionRenderers\"},{\"attributes\":{\"line_alpha\":0.1,\"line_color\":\"yellow\",\"line_width\":4,\"x\":{\"field\":\"x\"},\"y\":{\"field\":\"y\"}},\"id\":\"4203\",\"type\":\"Line\"},{\"attributes\":{},\"id\":\"4232\",\"type\":\"AllLabels\"},{\"attributes\":{\"line_alpha\":0.1,\"line_color\":\"orange\",\"line_width\":4,\"x\":{\"field\":\"x\"},\"y\":{\"field\":\"y\"}},\"id\":\"4164\",\"type\":\"Line\"},{\"attributes\":{},\"id\":\"4220\",\"type\":\"AllLabels\"},{\"attributes\":{},\"id\":\"4240\",\"type\":\"Selection\"},{\"attributes\":{},\"id\":\"4190\",\"type\":\"SaveTool\"},{\"attributes\":{},\"id\":\"4192\",\"type\":\"HelpTool\"},{\"attributes\":{\"axis\":{\"id\":\"4144\"},\"coordinates\":null,\"dimension\":1,\"grid_line_alpha\":0.15,\"grid_line_color\":\"#E0E0E0\",\"group\":null,\"ticker\":null},\"id\":\"4147\",\"type\":\"Grid\"},{\"attributes\":{\"children\":[{\"id\":\"4207\"},{\"id\":\"4208\"}]},\"id\":\"4209\",\"type\":\"Column\"},{\"attributes\":{},\"id\":\"4191\",\"type\":\"ResetTool\"},{\"attributes\":{\"overlay\":{\"id\":\"4193\"}},\"id\":\"4189\",\"type\":\"BoxZoomTool\"},{\"attributes\":{\"margin\":[5,5,5,5],\"name\":\"HSpacer00187\",\"sizing_mode\":\"stretch_width\"},\"id\":\"4272\",\"type\":\"Spacer\"},{\"attributes\":{\"overlay\":{\"id\":\"4154\"}},\"id\":\"4150\",\"type\":\"BoxZoomTool\"},{\"attributes\":{},\"id\":\"4233\",\"type\":\"UnionRenderers\"},{\"attributes\":{\"bottom_units\":\"screen\",\"coordinates\":null,\"fill_alpha\":0.5,\"fill_color\":\"lightgrey\",\"group\":null,\"left_units\":\"screen\",\"level\":\"overlay\",\"line_alpha\":1.0,\"line_color\":\"black\",\"line_dash\":[4,4],\"line_width\":2,\"right_units\":\"screen\",\"syncable\":false,\"top_units\":\"screen\"},\"id\":\"4193\",\"type\":\"BoxAnnotation\"},{\"attributes\":{},\"id\":\"4187\",\"type\":\"PanTool\"},{\"attributes\":{},\"id\":\"4234\",\"type\":\"Selection\"},{\"attributes\":{\"line_alpha\":0.1,\"line_color\":\"red\",\"line_width\":4,\"x\":{\"field\":\"x\"},\"y\":{\"field\":\"y\"}},\"id\":\"4125\",\"type\":\"Line\"},{\"attributes\":{},\"id\":\"4180\",\"type\":\"BasicTicker\"},{\"attributes\":{},\"id\":\"4171\",\"type\":\"DataRange1d\"},{\"attributes\":{\"data\":{\"x\":{\"__ndarray__\":\"AAAAAAAAFMBDYt7OkJgTwIbEvJ0hMRPAyiabbLLJEsANiXk7Q2ISwFDrVwrU+hHAk0022WSTEcDXrxSo9SsRwBoS83aGxBDAXXTRRRddEMBArV8pUOsPwMdxHMdxHA/ATjbZZJNNDsDU+pUCtX4NwFq/UqDWrwzA4YMPPvjgC8BoSMzbGRILwO4MiXk7QwrAdNFFF110CcD7lQK1fqUIwIFav1Kg1gfACB988MEHB8CO4ziO4zgGwBWo9SsFagXAm2yyySabBMAiMW9nSMwDwKj1KwVq/QLAL7rooosuAsC1fqVArV8BwDxDYt7OkADAhA8++OCD/7+SmLczJOb9v54hMW9nSPy/qqqqqqqq+r+4MyTm7Qz5v8S8nSExb/e/0kUXXXTR9b/ezpCYtzP0v+xXCtT6lfK/+OCDDz748L8I1PqVArXuvyjm7QyJeeu/QPjggw8+6L9YCtT6lQLlv3Acx3Ecx+G/IF100UUX3b9QgVq/UqDWv4ClQK1fKdC/YJNNNtlkw78Ab2dIzNupvwBvZ0jM26k/YJNNNtlkwz+ApUCtXynQP1CBWr9SoNY/EF100UUX3T9wHMdxHMfhP1gK1PqVAuU/QPjggw8+6D8g5u0MiXnrPwjU+pUCte4/+OCDDz748D/sVwrU+pXyP9zOkJi3M/Q/0EUXXXTR9T/EvJ0hMW/3P7gzJObtDPk/rKqqqqqq+j+cITFvZ0j8P5CYtzMk5v0/hA8++OCD/z88Q2LezpAAQLR+pUCtXwFALrrooosuAkCo9SsFav0CQCIxb2dIzANAmmyyySabBEAUqPUrBWoFQI7jOI7jOAZACB988MEHB0CAWr9SoNYHQPyVArV+pQhAdNFFF110CUDsDIl5O0MKQGhIzNsZEgtA4IMPPvjgC0Bcv1Kg1q8MQNT6lQK1fg1ATDbZZJNNDkDIcRzHcRwPQECtXylQ6w9AXHTRRRddEEAaEvN2hsQQQNavFKj1KxFAlE022WSTEUBQ61cK1PoRQAyJeTtDYhJAyiabbLLJEkCGxLydITETQERi3s6QmBNAAAAAAAAAFEA=\",\"dtype\":\"float64\",\"order\":\"little\",\"shape\":[100]},\"y\":{\"__ndarray__\":\"AAAAAAAAAAAAAAAAAAAAAAAAAAAAAAAAAAAAAAAAAAAAAAAAAAAAAAAAAAAAAAAAAAAAAAAAAAAAAAAAAAAAAAAAAAAAAAAAAAAAAAAAAAAAAAAAAAAAAAAAAAAAAAAAAAAAAAAAAAAAAAAAAAAAAAAAAAAAAAAAAAAAAAAAAAAAAAAAAAAAAAAAAAAAAAAAAAAAAAAAAAAAAAAAAAAAAAAAAAAAAAAAAAAAAAAAAAAAAAAAAAAAAAAAAAAAAAAAAAAAAAAAAAAAAAAAAAAAAAAAAAAAAAAAAAAAAAAAAAAAAAAAAAAAAAAAAAAAAAAAAAAAAAAAAAAAAAAAAAAAAAAAAAAAAAAAAAAAAAAAAAAAAAAAAAAAAAAAAAAAAAAAAAAAAAAAAAAAAAAAAAAAAAAAAAAAAAAAAAAAAAAAAAAAAAAAAAAAAAAAAAAAAAAAAAAAAAAAAAAAAAAAAAAAAAAAAAAAAAAAAAAAAAAAAAAAAAAAAAAAAAAAAAAAAAAAAAAAAAAAAAAAAAAAAAAAAABvZ0jM26k/YJNNNtlkwz+ApUCtXynQP1CBWr9SoNY/EF100UUX3T9wHMdxHMfhP1gK1PqVAuU/QPjggw8+6D8g5u0MiXnrPwjU+pUCte4/+OCDDz748D/sVwrU+pXyP9zOkJi3M/Q/0EUXXXTR9T/EvJ0hMW/3P7gzJObtDPk/rKqqqqqq+j+cITFvZ0j8P5CYtzMk5v0/hA8++OCD/z88Q2LezpAAQLR+pUCtXwFALrrooosuAkCo9SsFav0CQCIxb2dIzANAmmyyySabBEAUqPUrBWoFQI7jOI7jOAZACB988MEHB0CAWr9SoNYHQPyVArV+pQhAdNFFF110CUDsDIl5O0MKQGhIzNsZEgtA4IMPPvjgC0Bcv1Kg1q8MQNT6lQK1fg1ATDbZZJNNDkDIcRzHcRwPQECtXylQ6w9AXHTRRRddEEAaEvN2hsQQQNavFKj1KxFAlE022WSTEUBQ61cK1PoRQAyJeTtDYhJAyiabbLLJEkCGxLydITETQERi3s6QmBNAAAAAAAAAFEA=\",\"dtype\":\"float64\",\"order\":\"little\",\"shape\":[100]}},\"selected\":{\"id\":\"4240\"},\"selection_policy\":{\"id\":\"4239\"}},\"id\":\"4201\",\"type\":\"ColumnDataSource\"},{\"attributes\":{\"bottom_units\":\"screen\",\"coordinates\":null,\"fill_alpha\":0.5,\"fill_color\":\"lightgrey\",\"group\":null,\"left_units\":\"screen\",\"level\":\"overlay\",\"line_alpha\":1.0,\"line_color\":\"black\",\"line_dash\":[4,4],\"line_width\":2,\"right_units\":\"screen\",\"syncable\":false,\"top_units\":\"screen\"},\"id\":\"4154\",\"type\":\"BoxAnnotation\"},{\"attributes\":{\"coordinates\":null,\"group\":null,\"text\":\"Tanh\",\"text_color\":\"#E0E0E0\",\"text_font\":\"Josefin Sans\",\"text_font_size\":\"2.1em\"},\"id\":\"4130\",\"type\":\"Title\"},{\"attributes\":{\"line_alpha\":0.2,\"line_color\":\"orange\",\"line_width\":4,\"x\":{\"field\":\"x\"},\"y\":{\"field\":\"y\"}},\"id\":\"4165\",\"type\":\"Line\"},{\"attributes\":{},\"id\":\"4132\",\"type\":\"DataRange1d\"},{\"attributes\":{\"background_fill_alpha\":0.9,\"background_fill_color\":\"#0f0f0f\",\"below\":[{\"id\":\"4101\"}],\"border_fill_alpha\":0.8,\"border_fill_color\":\"#111111\",\"center\":[{\"id\":\"4104\"},{\"id\":\"4108\"}],\"height\":250,\"left\":[{\"id\":\"4105\"}],\"outline_line_alpha\":0.25,\"outline_line_color\":\"#E0E0E0\",\"outline_line_width\":3,\"renderers\":[{\"id\":\"4127\"}],\"title\":{\"id\":\"4091\"},\"toolbar\":{\"id\":\"4116\"},\"width\":400,\"x_range\":{\"id\":\"4093\"},\"x_scale\":{\"id\":\"4097\"},\"y_range\":{\"id\":\"4095\"},\"y_scale\":{\"id\":\"4099\"}},\"id\":\"4090\",\"subtype\":\"Figure\",\"type\":\"Plot\"},{\"attributes\":{\"tools\":[{\"id\":\"4109\"},{\"id\":\"4110\"},{\"id\":\"4111\"},{\"id\":\"4112\"},{\"id\":\"4113\"},{\"id\":\"4114\"}]},\"id\":\"4116\",\"type\":\"Toolbar\"},{\"attributes\":{},\"id\":\"4110\",\"type\":\"WheelZoomTool\"},{\"attributes\":{},\"id\":\"4109\",\"type\":\"PanTool\"},{\"attributes\":{\"axis\":{\"id\":\"4179\"},\"coordinates\":null,\"grid_line_alpha\":0.15,\"grid_line_color\":\"#E0E0E0\",\"group\":null,\"ticker\":null},\"id\":\"4182\",\"type\":\"Grid\"},{\"attributes\":{\"overlay\":{\"id\":\"4115\"}},\"id\":\"4111\",\"type\":\"BoxZoomTool\"},{\"attributes\":{},\"id\":\"4112\",\"type\":\"SaveTool\"},{\"attributes\":{\"axis_label_standoff\":10,\"axis_label_text_color\":\"#FFFFFF\",\"axis_label_text_font\":\"Josefin Sans\",\"axis_label_text_font_size\":\"1.9em\",\"axis_label_text_font_style\":\"bold\",\"axis_line_alpha\":0.4,\"axis_line_color\":\"#E0E0E0\",\"coordinates\":null,\"formatter\":{\"id\":\"4228\"},\"group\":null,\"major_label_policy\":{\"id\":\"4229\"},\"major_label_text_color\":\"#E0E0E0\",\"major_label_text_font\":\"Josefin Sans\",\"major_label_text_font_size\":\"1.15em\",\"major_tick_line_alpha\":0.4,\"major_tick_line_color\":\"#E0E0E0\",\"minor_tick_line_alpha\":0.4,\"minor_tick_line_color\":\"#E0E0E0\",\"ticker\":{\"id\":\"4184\"}},\"id\":\"4183\",\"type\":\"LinearAxis\"},{\"attributes\":{},\"id\":\"4113\",\"type\":\"ResetTool\"},{\"attributes\":{},\"id\":\"4222\",\"type\":\"BasicTickFormatter\"},{\"attributes\":{},\"id\":\"4175\",\"type\":\"LinearScale\"},{\"attributes\":{},\"id\":\"4141\",\"type\":\"BasicTicker\"},{\"attributes\":{},\"id\":\"4102\",\"type\":\"BasicTicker\"},{\"attributes\":{},\"id\":\"4138\",\"type\":\"LinearScale\"},{\"attributes\":{},\"id\":\"4223\",\"type\":\"AllLabels\"},{\"attributes\":{},\"id\":\"4149\",\"type\":\"WheelZoomTool\"},{\"attributes\":{},\"id\":\"4152\",\"type\":\"ResetTool\"},{\"attributes\":{\"line_color\":\"orange\",\"line_width\":4,\"x\":{\"field\":\"x\"},\"y\":{\"field\":\"y\"}},\"id\":\"4163\",\"type\":\"Line\"},{\"attributes\":{},\"id\":\"4225\",\"type\":\"BasicTickFormatter\"},{\"attributes\":{},\"id\":\"4136\",\"type\":\"LinearScale\"},{\"attributes\":{\"coordinates\":null,\"data_source\":{\"id\":\"4162\"},\"glyph\":{\"id\":\"4163\"},\"group\":null,\"hover_glyph\":null,\"muted_glyph\":{\"id\":\"4165\"},\"nonselection_glyph\":{\"id\":\"4164\"},\"view\":{\"id\":\"4167\"}},\"id\":\"4166\",\"type\":\"GlyphRenderer\"},{\"attributes\":{},\"id\":\"4226\",\"type\":\"AllLabels\"},{\"attributes\":{\"axis\":{\"id\":\"4140\"},\"coordinates\":null,\"grid_line_alpha\":0.15,\"grid_line_color\":\"#E0E0E0\",\"group\":null,\"ticker\":null},\"id\":\"4143\",\"type\":\"Grid\"},{\"attributes\":{},\"id\":\"4134\",\"type\":\"DataRange1d\"},{\"attributes\":{\"line_color\":\"red\",\"line_width\":4,\"x\":{\"field\":\"x\"},\"y\":{\"field\":\"y\"}},\"id\":\"4124\",\"type\":\"Line\"},{\"attributes\":{},\"id\":\"4177\",\"type\":\"LinearScale\"},{\"attributes\":{},\"id\":\"4236\",\"type\":\"UnionRenderers\"},{\"attributes\":{\"background_fill_alpha\":0.9,\"background_fill_color\":\"#0f0f0f\",\"below\":[{\"id\":\"4140\"}],\"border_fill_alpha\":0.8,\"border_fill_color\":\"#111111\",\"center\":[{\"id\":\"4143\"},{\"id\":\"4147\"}],\"height\":250,\"left\":[{\"id\":\"4144\"}],\"outline_line_alpha\":0.25,\"outline_line_color\":\"#E0E0E0\",\"outline_line_width\":3,\"renderers\":[{\"id\":\"4166\"}],\"title\":{\"id\":\"4130\"},\"toolbar\":{\"id\":\"4155\"},\"width\":400,\"x_range\":{\"id\":\"4132\"},\"x_scale\":{\"id\":\"4136\"},\"y_range\":{\"id\":\"4134\"},\"y_scale\":{\"id\":\"4138\"}},\"id\":\"4129\",\"subtype\":\"Figure\",\"type\":\"Plot\"},{\"attributes\":{\"source\":{\"id\":\"4123\"}},\"id\":\"4128\",\"type\":\"CDSView\"},{\"attributes\":{},\"id\":\"4237\",\"type\":\"Selection\"},{\"attributes\":{\"line_alpha\":0.2,\"line_color\":\"red\",\"line_width\":4,\"x\":{\"field\":\"x\"},\"y\":{\"field\":\"y\"}},\"id\":\"4126\",\"type\":\"Line\"},{\"attributes\":{\"line_color\":\"yellow\",\"line_width\":4,\"x\":{\"field\":\"x\"},\"y\":{\"field\":\"y\"}},\"id\":\"4202\",\"type\":\"Line\"},{\"attributes\":{\"coordinates\":null,\"group\":null,\"text\":\"ReLU\",\"text_color\":\"#E0E0E0\",\"text_font\":\"Josefin Sans\",\"text_font_size\":\"2.1em\"},\"id\":\"4169\",\"type\":\"Title\"},{\"attributes\":{\"data\":{\"x\":{\"__ndarray__\":\"AAAAAAAAFMBDYt7OkJgTwIbEvJ0hMRPAyiabbLLJEsANiXk7Q2ISwFDrVwrU+hHAk0022WSTEcDXrxSo9SsRwBoS83aGxBDAXXTRRRddEMBArV8pUOsPwMdxHMdxHA/ATjbZZJNNDsDU+pUCtX4NwFq/UqDWrwzA4YMPPvjgC8BoSMzbGRILwO4MiXk7QwrAdNFFF110CcD7lQK1fqUIwIFav1Kg1gfACB988MEHB8CO4ziO4zgGwBWo9SsFagXAm2yyySabBMAiMW9nSMwDwKj1KwVq/QLAL7rooosuAsC1fqVArV8BwDxDYt7OkADAhA8++OCD/7+SmLczJOb9v54hMW9nSPy/qqqqqqqq+r+4MyTm7Qz5v8S8nSExb/e/0kUXXXTR9b/ezpCYtzP0v+xXCtT6lfK/+OCDDz748L8I1PqVArXuvyjm7QyJeeu/QPjggw8+6L9YCtT6lQLlv3Acx3Ecx+G/IF100UUX3b9QgVq/UqDWv4ClQK1fKdC/YJNNNtlkw78Ab2dIzNupvwBvZ0jM26k/YJNNNtlkwz+ApUCtXynQP1CBWr9SoNY/EF100UUX3T9wHMdxHMfhP1gK1PqVAuU/QPjggw8+6D8g5u0MiXnrPwjU+pUCte4/+OCDDz748D/sVwrU+pXyP9zOkJi3M/Q/0EUXXXTR9T/EvJ0hMW/3P7gzJObtDPk/rKqqqqqq+j+cITFvZ0j8P5CYtzMk5v0/hA8++OCD/z88Q2LezpAAQLR+pUCtXwFALrrooosuAkCo9SsFav0CQCIxb2dIzANAmmyyySabBEAUqPUrBWoFQI7jOI7jOAZACB988MEHB0CAWr9SoNYHQPyVArV+pQhAdNFFF110CUDsDIl5O0MKQGhIzNsZEgtA4IMPPvjgC0Bcv1Kg1q8MQNT6lQK1fg1ATDbZZJNNDkDIcRzHcRwPQECtXylQ6w9AXHTRRRddEEAaEvN2hsQQQNavFKj1KxFAlE022WSTEUBQ61cK1PoRQAyJeTtDYhJAyiabbLLJEkCGxLydITETQERi3s6QmBNAAAAAAAAAFEA=\",\"dtype\":\"float64\",\"order\":\"little\",\"shape\":[100]},\"y\":{\"__ndarray__\":\"Ed9olkH/779xHDX2Fv/vv2PTXMvi/u+/tykv86L+779nyqrQVP7vv5RqJTH1/e+/ANXYKoD9778+DPrz8Pzvv+R3srBB/O+/seP1NWv7778B7b6+ZPrvvzRIspAj+e+/GFCDjJr377/6GqylufXvv5SfGjxt8++/g1tUUZ3w7782/jqRLO3vvwpKByX36O+/kLQ0RdHj778FKfN8hd3vv2dPQ4/S1e+/GGkq62jM77+jbX6Z58Dvv1i8zYvYsu+/1CEZMayh779DqukytIzvv2zAbjwdc++/qVLVrudT779zlYUr3y3vv8N/uOiQ/+6/fDIb2kDH7r+tmFja3YLuv0cK+Tj1L+6/zv7GYKbL7b/XD/S8l1LtvzWhkZzuwOy/ljVLlkwS7L8lhcTR1UHrvy50/oZESuq/sMhCwQ4m6b89c/imo8/nv3hPlK3EQea/JYsBmPx35L/eJkVXMW/iv9AYbbpGJuC/sE3YDH49279KKI4ofLrVvzdYpvc6p8+/IIThpDM/w7+rNaLaLNapv6s1otos1qk/IIThpDM/wz83WKb3OqfPP0oojih8utU/o03YDH492z/QGG26RibgP94mRVcxb+I/JYsBmPx35D9zT5StxEHmPz1z+Kajz+c/sMhCwQ4m6T8udP6GRErqPySFxNHVQes/lTVLlkwS7D81oZGc7sDsP9cP9LyXUu0/z/7GYKbL7T9GCvk49S/uP62YWNrdgu4/fDIb2kDH7j/Df7jokP/uP3OVhSvfLe8/qVLVrudT7z9swG48HXPvP0Oq6TK0jO8/1CEZMayh7z9YvM2L2LLvP6NtfpnnwO8/GGkq62jM7z9nT0OP0tXvPwUp83yF3e8/kLQ0RdHj7z8KSgcl9+jvPzb+OpEs7e8/g1tUUZ3w7z+Unxo8bfPvP/oarKW59e8/GFCDjJr37z80SLKQI/nvPwHtvr5k+u8/seP1NWv77z/kd7KwQfzvPz4M+vPw/O8/ANXYKoD97z+UaiUx9f3vP2fKqtBU/u8/tykv86L+7z9j01zL4v7vP3EcNfYW/+8/Ed9olkH/7z8=\",\"dtype\":\"float64\",\"order\":\"little\",\"shape\":[100]}},\"selected\":{\"id\":\"4237\"},\"selection_policy\":{\"id\":\"4236\"}},\"id\":\"4162\",\"type\":\"ColumnDataSource\"},{\"attributes\":{},\"id\":\"4151\",\"type\":\"SaveTool\"},{\"attributes\":{},\"id\":\"4184\",\"type\":\"BasicTicker\"},{\"attributes\":{\"axis\":{\"id\":\"4183\"},\"coordinates\":null,\"dimension\":1,\"grid_line_alpha\":0.15,\"grid_line_color\":\"#E0E0E0\",\"group\":null,\"ticker\":null},\"id\":\"4186\",\"type\":\"Grid\"},{\"attributes\":{},\"id\":\"4106\",\"type\":\"BasicTicker\"},{\"attributes\":{\"bottom_units\":\"screen\",\"coordinates\":null,\"fill_alpha\":0.5,\"fill_color\":\"lightgrey\",\"group\":null,\"left_units\":\"screen\",\"level\":\"overlay\",\"line_alpha\":1.0,\"line_color\":\"black\",\"line_dash\":[4,4],\"line_width\":2,\"right_units\":\"screen\",\"syncable\":false,\"top_units\":\"screen\"},\"id\":\"4115\",\"type\":\"BoxAnnotation\"},{\"attributes\":{\"tools\":[{\"id\":\"4148\"},{\"id\":\"4149\"},{\"id\":\"4150\"},{\"id\":\"4151\"},{\"id\":\"4152\"},{\"id\":\"4153\"}]},\"id\":\"4155\",\"type\":\"Toolbar\"},{\"attributes\":{\"background_fill_alpha\":0.9,\"background_fill_color\":\"#0f0f0f\",\"below\":[{\"id\":\"4179\"}],\"border_fill_alpha\":0.8,\"border_fill_color\":\"#111111\",\"center\":[{\"id\":\"4182\"},{\"id\":\"4186\"}],\"height\":250,\"left\":[{\"id\":\"4183\"}],\"outline_line_alpha\":0.25,\"outline_line_color\":\"#E0E0E0\",\"outline_line_width\":3,\"renderers\":[{\"id\":\"4205\"}],\"title\":{\"id\":\"4169\"},\"toolbar\":{\"id\":\"4194\"},\"width\":400,\"x_range\":{\"id\":\"4171\"},\"x_scale\":{\"id\":\"4175\"},\"y_range\":{\"id\":\"4173\"},\"y_scale\":{\"id\":\"4177\"}},\"id\":\"4168\",\"subtype\":\"Figure\",\"type\":\"Plot\"},{\"attributes\":{\"axis\":{\"id\":\"4105\"},\"coordinates\":null,\"dimension\":1,\"grid_line_alpha\":0.15,\"grid_line_color\":\"#E0E0E0\",\"group\":null,\"ticker\":null},\"id\":\"4108\",\"type\":\"Grid\"},{\"attributes\":{},\"id\":\"4188\",\"type\":\"WheelZoomTool\"},{\"attributes\":{\"source\":{\"id\":\"4162\"}},\"id\":\"4167\",\"type\":\"CDSView\"},{\"attributes\":{\"axis_label_standoff\":10,\"axis_label_text_color\":\"#FFFFFF\",\"axis_label_text_font\":\"Josefin Sans\",\"axis_label_text_font_size\":\"1.9em\",\"axis_label_text_font_style\":\"bold\",\"axis_line_alpha\":0.4,\"axis_line_color\":\"#E0E0E0\",\"coordinates\":null,\"formatter\":{\"id\":\"4225\"},\"group\":null,\"major_label_policy\":{\"id\":\"4226\"},\"major_label_text_color\":\"#E0E0E0\",\"major_label_text_font\":\"Josefin Sans\",\"major_label_text_font_size\":\"1.15em\",\"major_tick_line_alpha\":0.4,\"major_tick_line_color\":\"#E0E0E0\",\"minor_tick_line_alpha\":0.4,\"minor_tick_line_color\":\"#E0E0E0\",\"ticker\":{\"id\":\"4141\"}},\"id\":\"4140\",\"type\":\"LinearAxis\"},{\"attributes\":{\"tools\":[{\"id\":\"4187\"},{\"id\":\"4188\"},{\"id\":\"4189\"},{\"id\":\"4190\"},{\"id\":\"4191\"},{\"id\":\"4192\"}]},\"id\":\"4194\",\"type\":\"Toolbar\"},{\"attributes\":{},\"id\":\"4099\",\"type\":\"LinearScale\"},{\"attributes\":{\"axis_label_standoff\":10,\"axis_label_text_color\":\"#FFFFFF\",\"axis_label_text_font\":\"Josefin Sans\",\"axis_label_text_font_size\":\"1.9em\",\"axis_label_text_font_style\":\"bold\",\"axis_line_alpha\":0.4,\"axis_line_color\":\"#E0E0E0\",\"coordinates\":null,\"formatter\":{\"id\":\"4219\"},\"group\":null,\"major_label_policy\":{\"id\":\"4220\"},\"major_label_text_color\":\"#E0E0E0\",\"major_label_text_font\":\"Josefin Sans\",\"major_label_text_font_size\":\"1.15em\",\"major_tick_line_alpha\":0.4,\"major_tick_line_color\":\"#E0E0E0\",\"minor_tick_line_alpha\":0.4,\"minor_tick_line_color\":\"#E0E0E0\",\"ticker\":{\"id\":\"4102\"}},\"id\":\"4101\",\"type\":\"LinearAxis\"},{\"attributes\":{\"axis_label_standoff\":10,\"axis_label_text_color\":\"#FFFFFF\",\"axis_label_text_font\":\"Josefin Sans\",\"axis_label_text_font_size\":\"1.9em\",\"axis_label_text_font_style\":\"bold\",\"axis_line_alpha\":0.4,\"axis_line_color\":\"#E0E0E0\",\"coordinates\":null,\"formatter\":{\"id\":\"4222\"},\"group\":null,\"major_label_policy\":{\"id\":\"4223\"},\"major_label_text_color\":\"#E0E0E0\",\"major_label_text_font\":\"Josefin Sans\",\"major_label_text_font_size\":\"1.15em\",\"major_tick_line_alpha\":0.4,\"major_tick_line_color\":\"#E0E0E0\",\"minor_tick_line_alpha\":0.4,\"minor_tick_line_color\":\"#E0E0E0\",\"ticker\":{\"id\":\"4145\"}},\"id\":\"4144\",\"type\":\"LinearAxis\"},{\"attributes\":{\"client_comm_id\":\"400ac8e23f2e4acfb1875b46ea760e99\",\"comm_id\":\"b3a2ab33f97f433e8825b36c625b8d7b\",\"plot_id\":\"4210\"},\"id\":\"4363\",\"type\":\"panel.models.comm_manager.CommManager\"},{\"attributes\":{},\"id\":\"4114\",\"type\":\"HelpTool\"},{\"attributes\":{\"coordinates\":null,\"data_source\":{\"id\":\"4201\"},\"glyph\":{\"id\":\"4202\"},\"group\":null,\"hover_glyph\":null,\"muted_glyph\":{\"id\":\"4204\"},\"nonselection_glyph\":{\"id\":\"4203\"},\"view\":{\"id\":\"4206\"}},\"id\":\"4205\",\"type\":\"GlyphRenderer\"},{\"attributes\":{\"coordinates\":null,\"data_source\":{\"id\":\"4123\"},\"glyph\":{\"id\":\"4124\"},\"group\":null,\"hover_glyph\":null,\"muted_glyph\":{\"id\":\"4126\"},\"nonselection_glyph\":{\"id\":\"4125\"},\"view\":{\"id\":\"4128\"}},\"id\":\"4127\",\"type\":\"GlyphRenderer\"},{\"attributes\":{},\"id\":\"4148\",\"type\":\"PanTool\"},{\"attributes\":{\"margin\":[5,5,5,5],\"name\":\"HSpacer00186\",\"sizing_mode\":\"stretch_width\"},\"id\":\"4211\",\"type\":\"Spacer\"},{\"attributes\":{\"axis\":{\"id\":\"4101\"},\"coordinates\":null,\"grid_line_alpha\":0.15,\"grid_line_color\":\"#E0E0E0\",\"group\":null,\"ticker\":null},\"id\":\"4104\",\"type\":\"Grid\"},{\"attributes\":{},\"id\":\"4173\",\"type\":\"DataRange1d\"}],\"root_ids\":[\"4210\",\"4363\"]},\"title\":\"Bokeh Application\",\"version\":\"2.4.3\"}};\n",
       "    var render_items = [{\"docid\":\"c6b166bf-d91b-4d39-bc41-f9de9c5a081a\",\"root_ids\":[\"4210\"],\"roots\":{\"4210\":\"9d0d059d-3d72-4cc5-aadf-97f393bc9b0b\"}}];\n",
       "    root.Bokeh.embed.embed_items_notebook(docs_json, render_items);\n",
       "    for (const render_item of render_items) {\n",
       "      for (const root_id of render_item.root_ids) {\n",
       "\tconst id_el = document.getElementById(root_id)\n",
       "\tif (id_el.children.length && (id_el.children[0].className === 'bk-root')) {\n",
       "\t  const root_el = id_el.children[0]\n",
       "\t  root_el.id = root_el.id + '-rendered'\n",
       "\t}\n",
       "      }\n",
       "    }\n",
       "  }\n",
       "  if (root.Bokeh !== undefined && root.Bokeh.Panel !== undefined) {\n",
       "    embed_document(root);\n",
       "  } else {\n",
       "    var attempts = 0;\n",
       "    var timer = setInterval(function(root) {\n",
       "      if (root.Bokeh !== undefined && root.Bokeh.Panel !== undefined) {\n",
       "        clearInterval(timer);\n",
       "        embed_document(root);\n",
       "      } else if (document.readyState == \"complete\") {\n",
       "        attempts++;\n",
       "        if (attempts > 200) {\n",
       "          clearInterval(timer);\n",
       "          console.log(\"Bokeh: ERROR: Unable to run BokehJS code because BokehJS library is missing\");\n",
       "        }\n",
       "      }\n",
       "    }, 25, root)\n",
       "  }\n",
       "})(window);</script>"
      ],
      "text/plain": [
       "Row\n",
       "    [0] HSpacer()\n",
       "    [1] Bokeh(Column)\n",
       "    [2] HSpacer()"
      ]
     },
     "execution_count": 23,
     "metadata": {
      "application/vnd.holoviews_exec.v0+json": {
       "id": "4210"
      }
     },
     "output_type": "execute_result"
    }
   ],
   "source": [
    "from bokeh.models import Div\n",
    "from bokeh.layouts import column, row\n",
    "from cml.plot import cml_figure\n",
    "# Functions to\n",
    "funcs = [('Sigmoid',sigmoid,'red'), ('Tanh',tanh,'orange'), ('ReLU',relu,'yellow')]\n",
    "# Generating the x axis\n",
    "x = np.linspace(-5, 5, 100)\n",
    "plots = []\n",
    "for (name, func, color) in funcs:\n",
    "    cur_plot = cml_figure(plot_width=400, plot_height=250, title=name)\n",
    "    cur_plot.line(x, func(x), color=color, line_width=4)\n",
    "    plots.append(cur_plot)\n",
    "plot = center_plot(column(Div(text = \"Different activation functions\", style={'font-size': '250%'}), row(*plots)))\n",
    "plot"
   ]
  },
  {
   "attachments": {},
   "cell_type": "markdown",
   "metadata": {},
   "source": [
    "## Coding the whole network from scratch\n",
    "\n",
    "You should now have all the tools necessary to apply neural networks from scratch to a more complex problem. In the following exercise, we simply removed any guideline code, and you need to code all the procedure for training a NN and **apply it to audio data**. You will use the spectral features discussed in the previous exercise as an input.\n",
    "\n",
    "***\n",
    "\n",
    "<div class=\"alert alert-success\" markdown=\"1\" style=\"color:white; background-color: #192841; border-color: #779ecb\">\n",
    "\n",
    "> ### Going further **(optional exercise) **\n",
    "\n",
    ">  1. Based on the previous neural network, upgrade the code to a 3-layer neural network\n",
    ">  2. Implement the *softmax regression* on top of your 3-layer network\n",
    ">  3. Use the provided code to perform classification on a pre-defined set of features\n",
    ">  4. As previously, change the set of features to assess their different accuracies\n",
    ">  5. Evaluate the neural network accuracy for all features combinations\n",
    ">  6. What happens if the learning rate is too large ? What is this phenomenon ?\n",
    ">  7. Perform a more advanced visualization of the learning process.\n",
    "  \n",
    "\n",
    "</div>\n",
    "\n",
    "***"
   ]
  },
  {
   "cell_type": "code",
   "execution_count": null,
   "metadata": {},
   "outputs": [],
   "source": [
    "\n",
    "######################\n",
    "# YOUR CODE GOES HERE\n",
    "######################\n"
   ]
  },
  {
   "attachments": {},
   "cell_type": "markdown",
   "metadata": {},
   "source": [
    "# Using `Pytorch` to enjoy life\n",
    "\n",
    "Up to now, we have been writing every operations by ourselves (in order to better understand the mathematics behind NN). However, there exists of course some simplifying libraries that provide large simplifications to this question.\n",
    "\n",
    "One of the most powerful and complete library of this sort is `Pytorch`, which has been developed for several years (even prior to the recent boom of deep learning). `Pytorch` provides a large set of pre-coded layers, but also **computational graphs** and **autograd**, which are very powerful paradigms allowing to define complex operators and automatically taking derivatives.\n",
    "\n",
    "## An (extremely) fast and dirty introduction to `Pytorch`\n",
    "\n",
    "PyTorch is a popular open-source deep learning framework based on the Torch library. It is primarily developed by Facebook AI research team, and it provides a simple and efficient way to build deep learning models. In this extremely short crash course, we will cover the basics of PyTorch, including:\n",
    "\n",
    "* Tensors\n",
    "* Automatic differentiation\n",
    "* Neural networks\n",
    "* Training a neural network on a dataset\n",
    "\n",
    "For a complete tutorial on PyTorch, please check out the [official PyTorch documentation](https://pytorch.org/tutorials/). This tutorial covers a wide range of topics, including the basics of PyTorch, building and training neural networks, working with data and dataloaders, and deploying models to production."
   ]
  },
  {
   "attachments": {},
   "cell_type": "markdown",
   "metadata": {},
   "source": [
    "### Tensors\n",
    "At its core, PyTorch is all about tensors. A tensor is a generalization of vectors and matrices to an arbitrary number of dimensions. A scalar is a 0-dimensional tensor, a vector is a 1-dimensional tensor, and a matrix is a 2-dimensional tensor.\n",
    "\n",
    "#### Creating Tensors\n",
    "We can create a PyTorch tensor from a Python list or a NumPy array using the `torch.tensor()` function, but also tensors of a specific size and/or with all zeros or all ones using the `torch.zeros()` and `torch.ones()` functions"
   ]
  },
  {
   "cell_type": "code",
   "execution_count": 60,
   "metadata": {},
   "outputs": [
    {
     "name": "stdout",
     "output_type": "stream",
     "text": [
      "tensor([1, 2, 3, 4])\n",
      "tensor([[1, 2],\n",
      "        [3, 4]])\n",
      "tensor([[0., 0., 0.],\n",
      "        [0., 0., 0.]])\n",
      "tensor([[1., 1.],\n",
      "        [1., 1.],\n",
      "        [1., 1.]])\n"
     ]
    }
   ],
   "source": [
    "import torch\n",
    "import numpy as np\n",
    "# create a tensor from a Python list\n",
    "x = torch.tensor([1, 2, 3, 4])\n",
    "print(x)\n",
    "# create a tensor from a NumPy array\n",
    "y = torch.tensor(np.array([[1, 2], [3, 4]]))\n",
    "print(y)\n",
    "# create a 2x3 tensor of zeros\n",
    "z = torch.zeros((2, 3))\n",
    "print(z)\n",
    "# create a 3x2 tensor of ones\n",
    "w = torch.ones((3, 2))\n",
    "print(w)"
   ]
  },
  {
   "attachments": {},
   "cell_type": "markdown",
   "metadata": {},
   "source": [
    "#### Tensor operations\n",
    "\n",
    "PyTorch tensors support a wide range of operations, including arithmetic operations like addition, subtraction, multiplication, and division, as well as more advanced operations like matrix multiplication, element-wise multiplication, and concatenation."
   ]
  },
  {
   "cell_type": "code",
   "execution_count": 61,
   "metadata": {},
   "outputs": [
    {
     "name": "stdout",
     "output_type": "stream",
     "text": [
      "tensor([ 6,  8, 10, 12])\n",
      "tensor([ 5, 12, 21, 32])\n",
      "tensor([[19, 22],\n",
      "        [43, 50]])\n",
      "tensor([[1, 2, 5, 6],\n",
      "        [3, 4, 7, 8]])\n"
     ]
    }
   ],
   "source": [
    "# create two tensors\n",
    "x = torch.tensor([1, 2, 3, 4])\n",
    "y = torch.tensor([5, 6, 7, 8])\n",
    "# add the two tensors\n",
    "z = x + y\n",
    "print(z)\n",
    "# element-wise multiplication\n",
    "w = x * y\n",
    "print(w)\n",
    "# matrix multiplication\n",
    "a = torch.tensor([[1, 2], [3, 4]])\n",
    "b = torch.tensor([[5, 6], [7, 8]])\n",
    "c = torch.matmul(a, b)\n",
    "print(c)\n",
    "# concatenation\n",
    "d = torch.cat((a, b), dim=1)\n",
    "print(d)"
   ]
  },
  {
   "attachments": {},
   "cell_type": "markdown",
   "metadata": {},
   "source": [
    "### Automatic differentiation\n",
    "\n",
    "The core of PyTorch is the autograd package. It provides automatic differentiation for all operations on Tensors.\n",
    "\n",
    "PyTorch's autograd package provides automatic differentiation for all operations on Tensors. It is a define-by-run framework, which means that your backpropagation is defined by how your code is run, and that every single iteration can be different.\n",
    "\n",
    "To compute gradients, the `requires_grad` property of Tensors needs to `True` (which is the case by default). This tells PyTorch to track all operations on the Tensor. You can then call `.backward()` on a Tensor to compute the gradients with respect to that Tensor."
   ]
  },
  {
   "cell_type": "code",
   "execution_count": 62,
   "metadata": {},
   "outputs": [
    {
     "name": "stdout",
     "output_type": "stream",
     "text": [
      "tensor(11.)\n"
     ]
    }
   ],
   "source": [
    "import torch\n",
    "\n",
    "x = torch.tensor(2.0, requires_grad=True)\n",
    "y = 2*x**2 + 3*x - 1\n",
    "y.backward()\n",
    "\n",
    "print(x.grad)"
   ]
  },
  {
   "attachments": {},
   "cell_type": "markdown",
   "metadata": {},
   "source": [
    "## Defining our network\n",
    "\n",
    "When building neural networks we frequently think of arranging the computation into layers, some of which have learnable parameters which will be optimized during learning. In `PyTorch`, the `nn` package provides higher-level abstractions over raw computational graphs that are useful for building neural networks. The `nn` package defines a set of `Modules`, which are roughly equivalent to neural network layers. A `Module` receives input `Tensors` and computes output `Tensors`, but may also hold internal state such as `Tensors` containing learnable parameters. The nn package also defines a set of useful loss functions that are commonly used when training neural networks.\n",
    "\n",
    "In the following example, we use the `nn` package to show how easy it is to instantiate our previous three-layers network"
   ]
  },
  {
   "cell_type": "code",
   "execution_count": 30,
   "metadata": {},
   "outputs": [],
   "source": [
    "import torch\n",
    "# Define the input dimensions\n",
    "in_size = 1000\n",
    "# Number of neurons in a layer\n",
    "hidden_size = 100\n",
    "# Output (target) dimension\n",
    "output_size = 10\n",
    "# Use the nn package to define our model and loss function.\n",
    "model = torch.nn.Sequential(\n",
    "    torch.nn.Linear(in_size, hidden_size),\n",
    "    torch.nn.Sigmoid(),\n",
    "    torch.nn.Linear(hidden_size, hidden_size),\n",
    "    torch.nn.Tanh(),\n",
    "    torch.nn.Linear(hidden_size, output_size),\n",
    "    torch.nn.Softmax(dim=1)\n",
    ")"
   ]
  },
  {
   "attachments": {},
   "cell_type": "markdown",
   "metadata": {},
   "source": [
    "### Optimizing the network\n",
    "\n",
    "Up to this point we have updated the weights of our models by manually performing the gradient descent algorithm (changing the parameters vectors). Although this is not a huge burden for simple optimization algorithms like stochastic gradient descent, in practice we often train neural networks using more sophisticated optimizers like AdaGrad, RMSProp or Adam (that we will see later in this course)\n",
    "\n",
    "The `optim` package in PyTorch abstracts the idea of an optimization algorithm and provides implementations of commonly used optimization algorithms, and greatly simplfies the training loop associated with training a neural network.\n",
    "\n",
    "For the sake of presentation we will use random inputs $\\mathbf{x}$ that should be matched with random outputs $\\mathbf{y}$"
   ]
  },
  {
   "cell_type": "code",
   "execution_count": 31,
   "metadata": {},
   "outputs": [],
   "source": [
    "batch_size = 64\n",
    "# Create random Tensors to hold inputs and outputs\n",
    "x = torch.randn(batch_size, in_size)\n",
    "y = torch.randn(batch_size, output_size)"
   ]
  },
  {
   "attachments": {},
   "cell_type": "markdown",
   "metadata": {},
   "source": [
    "In the following example we optimize the model using the Adam algorithm provided by the `optim` package, based on a `MSE` loss."
   ]
  },
  {
   "cell_type": "code",
   "execution_count": 32,
   "metadata": {},
   "outputs": [
    {
     "name": "stdout",
     "output_type": "stream",
     "text": [
      "tensor(641.4479, grad_fn=<MseLossBackward0>)\n"
     ]
    }
   ],
   "source": [
    "# Learning rate\n",
    "learning_rate = 1e-4\n",
    "# Loss function that we will use\n",
    "loss_fn = torch.nn.MSELoss(reduction='sum')\n",
    "# Optimizer to fit the weights of the network\n",
    "optimizer = torch.optim.SGD(model.parameters(), lr=learning_rate)\n",
    "for t in range(500):\n",
    "    # Forward pass: compute predicted y by passing x to the model.\n",
    "    y_pred = model(x)\n",
    "    # Compute the loss.\n",
    "    loss = loss_fn(y_pred, y)\n",
    "    # Before the backward pass, zero all of the network gradients\n",
    "    optimizer.zero_grad()\n",
    "    # Backward pass: compute gradient of the loss with respect to parameters\n",
    "    loss.backward()\n",
    "    # Calling the step function to update the parameters\n",
    "    optimizer.step()\n",
    "print(loss)\n",
    "    "
   ]
  },
  {
   "attachments": {},
   "cell_type": "markdown",
   "metadata": {},
   "source": [
    "## Exercise 2 - Pytorch to classify audio\n",
    "\n",
    "Now that we know the main components of `Pytorch` to define and optimize networks, your assignement is to define a complete classification problem from audio data, by relying on this toolbox\n",
    "\n",
    "***\n",
    "\n",
    "<div class=\"alert alert-success\" markdown=\"1\" style=\"color:white; background-color: #013220; border-color: #03C03C\">\n",
    "\n",
    "> ### Question 1.1 - Model and definition\n",
    "\n",
    ">   1. Use `Pytorch` to define a model for audio classification\n",
    ">   2. Import the audio features dataset and check that your model produces an output\n",
    "\n",
    "</div>\n",
    "\n",
    "***\n"
   ]
  },
  {
   "cell_type": "code",
   "execution_count": 238,
   "metadata": {},
   "outputs": [],
   "source": [
    "\n",
    "######################\n",
    "# YOUR CODE GOES HERE\n",
    "######################\n",
    "from matplotlib import transforms\n",
    "import torch\n",
    "from torch.utils.data import Dataset, DataLoader\n",
    "import torch.nn as nn\n",
    "import pathlib\n",
    "import librosa\n",
    "import torchaudio\n",
    "from torchaudio.transforms import Resample\n",
    "import torch.nn.functional as F\n",
    "\n",
    "NUM_FRAMES = 10000\n",
    "NUM_CLASSES = 16\n",
    "BATCH_SIZE = 32\n",
    "\n",
    "class MyDataset(Dataset):\n",
    "    def __init__(self, basedir=\"data/musclefish/\"):\n",
    "        self.class_dirs = [x for x in pathlib.Path(basedir).iterdir() if not x.name.startswith(\".\")]\n",
    "        assert len(self.class_dirs) == NUM_CLASSES\n",
    "        self.data = []\n",
    "        self.labels = []\n",
    "        self.id2str = {i: x.name for i, x in enumerate(self.class_dirs)}\n",
    "        self.str2id = {v: k for k, v in self.id2str.items()}\n",
    "\n",
    "        for d in self.class_dirs:\n",
    "            for p in d.iterdir():\n",
    "                if p.suffix != \".wav\":\n",
    "                    continue\n",
    "                self.labels.append(self.str2id[d.name])\n",
    "                self.data.append(str(p))\n",
    "    def __getitem__(self, index):\n",
    "        # limit the length to 2000\n",
    "        waveform, sample_rate = torchaudio.load(filepath=self.data[index], num_frames=NUM_FRAMES)\n",
    "        waveform = F.interpolate(waveform.unsqueeze(0), size=10000, mode='linear', align_corners=False).squeeze(0)\n",
    "        # specgram = torchaudio.transforms.Spectrogram()(waveform)\n",
    "        # print(specgram.shape)\n",
    "        # specgram = torch.nn.functional.interpolate(specgram.unsqueeze(0), size=(1000, specgram.shape[2])).squeeze(0)\n",
    "        # print(specgram.shape)\n",
    "        waveform = waveform.reshape(-1)\n",
    "        return waveform, self.labels[index]\n",
    "\n",
    "    def __len__(self):\n",
    "        return len(self.data)\n",
    "\n",
    "\n",
    "class MyNet(nn.Module):\n",
    "    def __init__(self) -> None:\n",
    "        super().__init__()\n",
    "\n",
    "        self.layer1 = nn.Linear(NUM_FRAMES, 1024)\n",
    "        self.layer2 = nn.Linear(1024, 512)\n",
    "        self.layer3 = nn.Linear(512, 256)\n",
    "        self.layer4 = nn.Linear(256, 128)\n",
    "        self.layer5 = nn.Linear(128, NUM_CLASSES)\n",
    "        self.relu = nn.ReLU()\n",
    "    \n",
    "    def forward(self, x):\n",
    "        h = self.relu(self.layer1(x))\n",
    "        h = self.relu(self.layer2(h))\n",
    "        h = self.relu(self.layer3(h))\n",
    "        h = self.relu(self.layer4(h))\n",
    "        out = self.layer5(h)\n",
    "        return out\n",
    "\n",
    "\n",
    "model = MyNet()\n",
    "ds = MyDataset()\n",
    "ds[1]\n",
    "dl = DataLoader(dataset=ds, batch_size=BATCH_SIZE, num_workers=2, shuffle=True)\n",
    "\n",
    "optimizer = torch.optim.SGD(model.parameters(), lr=1e-4)\n",
    "loss_fn = nn.CrossEntropyLoss()\n",
    "\n",
    "for x, y_label in dl:\n",
    "    y_pred = model(x)\n",
    "    break"
   ]
  },
  {
   "attachments": {},
   "cell_type": "markdown",
   "metadata": {},
   "source": [
    "\n",
    "***\n",
    "\n",
    "<div class=\"alert alert-success\" markdown=\"1\" style=\"color:white; background-color: #013220; border-color: #03C03C\">\n",
    "\n",
    "> ### Question 1.2 - Training the model\n",
    "\n",
    ">   3. Write the optimization loop (think carefully about the _loss function_\n",
    ">   4. As previously, change the set of features to assess their different accuracies\n",
    ">   5. (Optional) Think of how you could use more complex features (time series, audio, STFT) to classify your data\n",
    "\n",
    "</div>\n",
    "\n",
    "***"
   ]
  },
  {
   "cell_type": "code",
   "execution_count": 240,
   "metadata": {},
   "outputs": [
    {
     "name": "stdout",
     "output_type": "stream",
     "text": [
      "Iter 10 Acc: 0.027\r"
     ]
    }
   ],
   "source": [
    "\n",
    "######################\n",
    "# YOUR CODE GOES HERE\n",
    "######################\n",
    "\n",
    "for iter in range(10):\n",
    "    num_correct = 0\n",
    "    for x, y_label in dl:\n",
    "        y_pred = model(x)\n",
    "        loss = loss_fn(y_pred, y_label)\n",
    "        \n",
    "        optimizer.zero_grad()\n",
    "        loss.backward()\n",
    "        optimizer.step()\n",
    "\n",
    "        num_correct += (torch.argmax(y_pred, dim=-1) == y_label).sum().item()\n",
    "    print(f\"Iter {iter+1:.3g} Acc: {num_correct / len(ds):.3f}\", end=\"\\r\")"
   ]
  },
  {
   "cell_type": "code",
   "execution_count": null,
   "metadata": {},
   "outputs": [],
   "source": []
  }
 ],
 "metadata": {
  "kernelspec": {
   "display_name": "Python 3 (ipykernel)",
   "language": "python",
   "name": "python3"
  },
  "language_info": {
   "codemirror_mode": {
    "name": "ipython",
    "version": 3
   },
   "file_extension": ".py",
   "mimetype": "text/x-python",
   "name": "python",
   "nbconvert_exporter": "python",
   "pygments_lexer": "ipython3",
   "version": "3.10.11"
  }
 },
 "nbformat": 4,
 "nbformat_minor": 4
}
