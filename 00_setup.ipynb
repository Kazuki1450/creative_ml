{
 "cells": [
  {
   "cell_type": "markdown",
   "id": "bd506b52-ef84-4acf-8222-fc91792a9d33",
   "metadata": {
    "tags": []
   },
   "source": [
    "# Creative machine learning - Setup\n",
    "\n",
    "### Author: Philippe Esling (esling@ircam.fr)\n",
    "\n",
    "This notebook serves as a simple introduction and setup guide for the **Creative Machine Learning** course. Hence, we will see here\n",
    "1. How to setup your [environment](#environment) at home or online\n",
    "2. Check if you have properly installed all [requirements](#requirements)\n",
    "3. Quickly discuss our [library](#library) developed specifically for this course\n",
    "4. Provide examples of different [interactive exercises](#exercises)\n",
    "5. Guide you through the [animated](#animations) sections of the course\n",
    "6. Provide [supplementary notebooks](#supplementary-notebooks) for sharpening your skills\n",
    "7. Provide some interesting [external references](#references) for different mathematical and programming notions.\n",
    "\n",
    "*All the contents of this course are under the CC-BY-NC-SA 4.0 licence.*"
   ]
  },
  {
   "cell_type": "markdown",
   "id": "040686f5-d3c8-46b0-b4cc-c78bf2f466c0",
   "metadata": {
    "tags": []
   },
   "source": [
    "## Environment\n",
    "\n",
    "Along the tutorials, we provide a reference code for each section. \n",
    "This code contains helper functions that will alleviate you from the burden of data import and other sideline implementations. \n",
    "You will find designated spaces in each file to develop your solutions. \n",
    "The code is in Python (notebooks impending) and relies on the concept of [Jupyter Notebooks](http://www.jupyter.org), which allows you to interactively follow the course and evaluate only part of the code (to avoid running long import tasks multiple times and concentrate on the question at hand).\n",
    "\n",
    "**Although you can follow this course entirely online, we highly recommend that you rather fork the [GitHub repo](http://github.com/esling/creative_ml) and setup your own environment (see next section). This will allow you to pursue research in machine learning directly after the course.**\n",
    "\n",
    "### Dependencies\n",
    "\n",
    "#### Python installation\n",
    "\n",
    "In order to get the baseline scripts and notebooks to work, you need to have a working distribution of `Python 3.7` as a minimum (we also recommend to update your version to `Python 3.9`). We will also be using a large set of libraries (as detailed in the next section)\n",
    "\n",
    "We highly recommend that you install [Pip](https://pypi.python.org/pypi/pip/) or [Anaconda](https://www.anaconda.com/download/) that will manage the automatic installation of those Python libraries (along with their dependencies). If you are using `Pip`, you can use the following commands\n",
    "\n",
    "```\n",
    "pip install -r requirements.txt\n",
    "```\n",
    "\n",
    "If you prefer to install all the libraries by hand to check their version, you can use individual commands\n",
    "\n",
    "```\n",
    "pip install numpy\n",
    "pip install scikit-learn\n",
    "pip install torch\n",
    "pip install jax\n",
    "pip install librosa\n",
    "pip install matplotlib\n",
    "```\n",
    "\n",
    "For those of you who have never coded in Python, here are a few interesting resources to get started.\n",
    "\n",
    "- [TutorialPoint](https://www.tutorialspoint.com/python/)\n",
    "- [Programiz](https://www.programiz.com/python-programming)\n",
    "\n",
    "#### Jupyter notebooks and lab\n",
    "\n",
    "In order to ease following the exercises along with the course, we will be relying on [**Jupyter Notebooks**](https://jupyter.org/). If you have never used a notebook before, we recommend that you look at their website to understand the concept. Here we also provide the instructions to install **Jupyter Lab** which is a more integrative version of notebooks. You can install it on your computer as follows (if you use `pip`)\n",
    "\n",
    "```\n",
    "pip install jupyterlab\n",
    "```\n",
    "\n",
    "Then, once installed, you can go to the folder where you cloned this repository, and type in\n",
    "\n",
    "```\n",
    "jupyter lab\n",
    "```"
   ]
  },
  {
   "cell_type": "code",
   "execution_count": null,
   "id": "312f0859-e116-4ede-b0c8-defcb74704e6",
   "metadata": {},
   "outputs": [],
   "source": [
    "# Notebook related\n",
    "import jupyterlab\n",
    "import notebook"
   ]
  },
  {
   "cell_type": "markdown",
   "id": "723df501-0e93-4a87-841d-3b564c30bf2a",
   "metadata": {},
   "source": [
    "## Requirements\n",
    "\n",
    "Across the course, we will rely on several Python libraries that simplify our work by providing advanced functions in different domains. We list them here with a same explanation and provide imports so that you can test your environment."
   ]
  },
  {
   "cell_type": "markdown",
   "id": "5723821d-8736-40e5-bdf8-e0a545e6824c",
   "metadata": {},
   "source": [
    "### Scientific computing libraries\n",
    "\n",
    "Some of the most prominent scientific libraries for Python are NumPy, SciPy, and scikit-learn.\n",
    "\n",
    "- [NumPy](https://numpy.org/) is a fundamental library for numerical computing offering support for N-dimensional arrays and scientific computing tasks, such as linear algebra, statistical analysis, and matrix manipulation. The official NumPy website provides [tutorials](https://numpy.org/learn/) and [documentation](https://numpy.org/doc/stable/).\n",
    "- [SciPy](https://www.scipy.org/) is a library built on top of NumPy with additional tools and functions for optimization, integration, interpolation, signal and image processing, and more. The SciPy website offers[tutorials](https://www.scipy.org/getting-started.html) and [documentation](https://docs.scipy.org/doc/scipy/reference/).\n",
    "- [Scikit-learn](https://scikit-learn.org/) is a popular machine learning library for Python, featuring simple and efficient tools for a wide range of algorithms for supervised and unsupervised learning tasks. The official scikit-learn website provides [comprehensive tutorials](https://scikit-learn.org/stable/tutorial/index.html) and [documentation](https://scikit-learn.org/stable/user_guide.html)."
   ]
  },
  {
   "cell_type": "code",
   "execution_count": null,
   "id": "60b1f333-df29-4469-b0d5-147c59707c91",
   "metadata": {},
   "outputs": [],
   "source": [
    "import gin\n",
    "import einops\n",
    "import numpy\n",
    "import sklearn\n",
    "import scipy\n",
    "import seaborn\n",
    "import tqdm"
   ]
  },
  {
   "cell_type": "markdown",
   "id": "fa2ba2fe-dfd1-4352-8dd1-fb6bd2a0587c",
   "metadata": {},
   "source": [
    "### Plotting\n",
    "\n",
    "Python offers a variety of powerful plotting libraries for creating visually appealing and informative data visualizations.\n",
    "- [Matplotlib](https://matplotlib.org/) is a widely-used plotting library for creating visualizations in Python. The official Matplotlib website offers [tutorials](https://matplotlib.org/stable/tutorials/index.html) and [documentation](https://matplotlib.org/stable/contents.html).\n",
    "- [Pandas](https://pandas.pydata.org/) is a data manipulation library for Python that also includes basic plotting capabilities built on top of Matplotlib. The Pandas website provides [tutorials](https://pandas.pydata.org/docs/getting_started/intro_tutorials/index.html) and [documentation](https://pandas.pydata.org/docs/).\n",
    "- [Bokeh](https://bokeh.org/) is a library for creating interactive and web-based visualizations with complex, interactive plots and allows creating web applications and dashboards. The official Bokeh website offers a [user guide](https://docs.bokeh.org/en/latest/index.html) and various tutorials.\n",
    "- [Plotly](https://plotly.com/python/) is another library for creating interactive and web-based visualizations. The official Plotly Python website provides an extensive [collection of tutorials](https://plotly.com/python/plotly-express/) and [documentation](https://plotly.com/python-api-reference/)."
   ]
  },
  {
   "cell_type": "code",
   "execution_count": null,
   "id": "b2f7879a-c840-4f7a-ae36-dfbba333849d",
   "metadata": {},
   "outputs": [],
   "source": [
    "import bokeh\n",
    "import matplotlib\n",
    "import pandas\n",
    "import plotly"
   ]
  },
  {
   "cell_type": "markdown",
   "id": "af772af4-a88d-412b-b32c-f7d3990bdaf1",
   "metadata": {},
   "source": [
    "### Deep learning"
   ]
  },
  {
   "cell_type": "markdown",
   "id": "78a47d21-af99-4f17-a431-6b76d16a21e3",
   "metadata": {
    "tags": []
   },
   "source": [
    "#### Pytorch\n",
    "\n",
    "[PyTorch](https://pytorch.org/) is an open-source machine learning framework developed by Facebook and designed for deep learning applications. PyTorch provides a flexible and efficient platform for building and training various neural network architectures using dynamic computation graphs and automatic differentiation. It is particularly popular among researchers and developers due to its ease of use and strong community support. The official PyTorch website offers a wealth of resources, including [tutorials for beginners and advanced users](https://pytorch.org/tutorials/), as well as [extensive documentation](https://pytorch.org/docs/stable/index.html)."
   ]
  },
  {
   "cell_type": "code",
   "execution_count": null,
   "id": "5c5891d8-76a5-48b8-a9a7-b4033e1f1436",
   "metadata": {},
   "outputs": [],
   "source": [
    "import torch\n",
    "import torchaudio\n",
    "import torchvision"
   ]
  },
  {
   "cell_type": "markdown",
   "id": "b012c6f2-120f-45f0-8a63-4dfd657646ff",
   "metadata": {},
   "source": [
    "#### JAX\n",
    "\n",
    "[JAX](https://github.com/google/jax) is developed by Google and extends NumPy with autograd, and XLA, while providing a functional approach to numerical computing, allowing for easy gradient computation and just-in-time (JIT) compilation. Its ability to handle complex and custom gradients makes JAX particularly well-suited for advanced research projects. To learn more about JAX and get started, visit the official [JAX GitHub repository](https://github.com/google/jax), which provides a [comprehensive collection of examples and tutorials](https://jax.readthedocs.io/en/latest/)."
   ]
  },
  {
   "cell_type": "code",
   "execution_count": null,
   "id": "2f64126e-a77f-4284-9157-4c6b171cd0be",
   "metadata": {},
   "outputs": [],
   "source": [
    "import jax\n",
    "import jaxlib\n",
    "import flax\n",
    "import flaxmodels\n",
    "import chex\n",
    "import distrax\n",
    "import dm_aux\n",
    "import dm_pix\n",
    "import optax"
   ]
  },
  {
   "cell_type": "markdown",
   "id": "777c1d26-fbec-4b5a-a239-17d05ccfcf0b",
   "metadata": {},
   "source": [
    "#### Tensorflow\n",
    "TensorFlow is developed by Google Brain Team, designed for building and deploying machine learning and deep learning models across various platforms. The framework is mostly popular for developers and industrials as it facilitates the deployment on various plaforms. The official TensorFlow website offers numerous resources, such as [tutorials](https://www.tensorflow.org/tutorials), [documentation](https://www.tensorflow.org/guide), and [pre-built models and libraries](https://www.tensorflow.org/resources/models-datasets)."
   ]
  },
  {
   "cell_type": "code",
   "execution_count": null,
   "id": "51bcd498-d203-4faa-9147-76c6ade2eb99",
   "metadata": {},
   "outputs": [],
   "source": [
    "import tensorboard\n",
    "import tensorflow_datasets\n",
    "import tensorflow_estimator\n",
    "import tensorflow_probability"
   ]
  },
  {
   "cell_type": "markdown",
   "id": "e56a00d8-55a6-45aa-b96e-a6dc7fda0e08",
   "metadata": {},
   "source": [
    "### Audio-related\n",
    "\n",
    "Python offers several libraries for working with audio and music, enabling users to analyze, manipulate, and generate audio data.\n",
    "- [Librosa](https://librosa.org/) is a powerful library for music and audio analysis in Python. It provides feature extraction, audio segmentation, and various music information retrieval and audio processing tasks. The official Librosa website offers a comprehensive [user guide](https://librosa.org/doc/main/index.html) and [examples](https://librosa.org/doc/main/auto_examples/index.html).\n",
    "- [Pretty midi](https://github.com/craffel/pretty-midi) is a library for handling MIDI data in Python, allowing tasks such as transposing, tempo scaling, and extracting information from MIDI data. For a more detailed tutorial, users can refer to the [library documentation](https://craffel.github.io/pretty-midi/)."
   ]
  },
  {
   "cell_type": "code",
   "execution_count": null,
   "id": "82de75bf-12b1-4bc8-9199-c1989fa876fb",
   "metadata": {},
   "outputs": [],
   "source": [
    "import audioread\n",
    "import librosa\n",
    "import pretty_midi\n",
    "import pyrubberband\n",
    "import resampy"
   ]
  },
  {
   "cell_type": "markdown",
   "id": "712ceaf4-dc14-42fd-ab82-69296b21ff7d",
   "metadata": {
    "tags": []
   },
   "source": [
    "### Interactive course aspects\n",
    "\n",
    "For creating dynamic and engaging presentations, visualizations, and animations, we rely on Manim, Panel, and RISE.\n",
    "- [Manim](https://www.manim.community/) is a powerful library for creating mathematical animations using Python, developed by Grant Sanderson of [3Blue1Brown](https://www.youtube.com/c/3blue1brown). The official Manim website offers comprehensive [documentation](https://docs.manim.community/en/stable/) and a series of [tutorials](https://manim.community/en/stable/tutorials.html).\n",
    "- [Panel](https://panel.holoviz.org/) is a high-level library for creating web-based interactive applications and dashboards in Python.. The official Panel website provides a [user guide](https://panel.holoviz.org/user_guide/index.html) and a collection of [examples](https://panel.holoviz.org/gallery/index.html).\n",
    "- [RISE](https://rise.readthedocs.io/) is an extension for Jupyter Notebook that allows users to create interactive, live-coding presentations directly within their notebooks. The official [RISE](https://rise.readthedocs.io/en/stable/) offers a detailed guide on installation, usage, and customization."
   ]
  },
  {
   "cell_type": "code",
   "execution_count": null,
   "id": "7db513a6-ad14-4ae2-9a5e-83252386dbdf",
   "metadata": {},
   "outputs": [],
   "source": [
    "import holoviews\n",
    "import manim\n",
    "import panel\n",
    "import rise"
   ]
  },
  {
   "cell_type": "markdown",
   "id": "b6db4d24-8460-4526-8a02-dfa0180f4d24",
   "metadata": {},
   "source": [
    "## Library\n",
    "\n",
    "This course has been designed and ships with a specific homemade library (called *CML*) that allows to provide interactive exercises and all the baseline code to solve machine learning tasks across the proposed courses. Here, we just check if we can import this library and test some of the interactive exercises and animations."
   ]
  },
  {
   "cell_type": "code",
   "execution_count": null,
   "id": "2d406685-c614-4ce8-a4a6-c737684a8e95",
   "metadata": {},
   "outputs": [],
   "source": [
    "import cml"
   ]
  },
  {
   "cell_type": "markdown",
   "id": "4ae1f397-18a8-4d7d-94f6-de01d1fbe7c9",
   "metadata": {},
   "source": [
    "### Exercises"
   ]
  },
  {
   "cell_type": "code",
   "execution_count": null,
   "id": "472efbdf-d8e8-45ab-aa6f-4af81ac97f23",
   "metadata": {},
   "outputs": [],
   "source": [
    "from cml.plot import initialize_bokeh\n",
    "from cml.panel import initialize_panel\n",
    "# from jupyterthemes.stylefx import set_nb_theme\n",
    "initialize_bokeh()\n",
    "initialize_panel()\n",
    "# set_nb_theme(\"onedork\")"
   ]
  },
  {
   "cell_type": "markdown",
   "id": "1706067c-4be1-40d9-afbf-535f7770ad2f",
   "metadata": {},
   "source": [
    "The interactive problem explorer should appear if you evaluate the following cell. Here, we display a typical *polynomial regression* task with a given second-order polynomial. You can use the sliders to dynamically change the *number of observations*, *noise level* and *coefficients of the polynomial*. You can also add the *ground truth function* and display the *error residuals* for each point.\n",
    "\n",
    "The last part exposes the internal code that was used to define the problem itself."
   ]
  },
  {
   "cell_type": "code",
   "execution_count": null,
   "id": "462e745f-4408-4a47-bc9a-da9a8c6f1dda",
   "metadata": {},
   "outputs": [],
   "source": [
    "from cml.tasks import RegressionPolynomial\n",
    "explorer = RegressionPolynomial()\n",
    "explorer.render()"
   ]
  },
  {
   "cell_type": "markdown",
   "id": "130e198b-c792-4b16-86de-d3f415f907f6",
   "metadata": {},
   "source": [
    "We will also use the same interface principles in order to solve machine learning exercises, in which you are asked to fill in the code that performs the model definition or problem optimization."
   ]
  },
  {
   "cell_type": "code",
   "execution_count": null,
   "id": "78867593-6b0c-4960-9706-c674e20679f7",
   "metadata": {},
   "outputs": [],
   "source": [
    "import numpy as np\n",
    "import jax.numpy as jnp\n",
    "from sklearn.linear_model import LinearRegression\n",
    "from sklearn.preprocessing import PolynomialFeatures\n",
    "from sklearn.pipeline import make_pipeline\n",
    "from cml.tasks import RegressionPolynomialSolver\n",
    "explorer = RegressionPolynomialSolver()"
   ]
  },
  {
   "cell_type": "markdown",
   "id": "d9b17a56-12c1-48f9-ac76-1bb0e2f4c59f",
   "metadata": {},
   "source": [
    "As an example, here you can change the code for the solve function and re-evaluate the cell in order to test your code dynamically in a whole range of situations "
   ]
  },
  {
   "cell_type": "code",
   "execution_count": null,
   "id": "876a3a54-e123-42f1-8db7-d25dc92f1e0f",
   "metadata": {},
   "outputs": [],
   "source": [
    "def solve(x, y, degree):\n",
    "    X = x[:, np.newaxis]\n",
    "    # Create our polynomial model for regression\n",
    "    model = make_pipeline(PolynomialFeatures(degree), LinearRegression())\n",
    "    # Fit the parameters of this model\n",
    "    model.fit(X, y)\n",
    "    # Predict the values\n",
    "    x_predict = jnp.linspace(jnp.min(x), jnp.max(x), 200)[:, np.newaxis]\n",
    "    y_model = model.predict(x_predict)\n",
    "    return x_predict[:, 0], y_model #np.array(jnp.zeros(y_model.shape))\n",
    "\n",
    "explorer.solve = solve\n",
    "explorer.render()"
   ]
  },
  {
   "cell_type": "markdown",
   "id": "90f3afcf-1dc7-4e9a-8407-9b3ee1f2d217",
   "metadata": {},
   "source": [
    "## Animations\n",
    "\n",
    "The course also relies on providing interactive animations that depict intuitive understanding of otherwise complex problems. To do so, we rely on the great [Manim](https://github.com/3b1b/manim) library and make all the underlying source-code open and available to students. Note however that all this code is under the CC-BY-NC-SA 4.0 license. Here is an exemple of regenerating one of the video animation from the course."
   ]
  },
  {
   "cell_type": "code",
   "execution_count": null,
   "id": "fbd40ab2-53ec-42d6-a150-2cddf9321116",
   "metadata": {},
   "outputs": [],
   "source": [
    "%%manim -v WARNING --disable_caching -qm PolyRegression\n",
    "from cml.animation import PolyRegression"
   ]
  },
  {
   "cell_type": "markdown",
   "id": "d2d66f6e-408d-4364-a5a2-b72982205568",
   "metadata": {},
   "source": [
    "## Supplementary notebooks\n",
    "\n",
    "As the course relies on a wide set of libraries and concepts, we try to provide as much material as possible so that people can try to develop and sharpen their skills in various aspects related to the course. Introductory notebooks can be found in the tutorials/ folder for the following libraries.\n",
    "- JAX\n",
    "- Pytorch\n",
    "- Bokeh\n",
    "\n",
    "We strongly encourage students to also look for official tutorials and documentations in order to have an in-depth understanding of the different libraries and concepts."
   ]
  },
  {
   "cell_type": "markdown",
   "id": "91e79c69-ebfe-4f52-9eeb-fac922ac69cf",
   "metadata": {},
   "source": [
    "## References"
   ]
  },
  {
   "cell_type": "markdown",
   "id": "edcfb21c-e94c-4832-89a8-783202c20206",
   "metadata": {},
   "source": [
    "We provide a set of references and supplementary resources that can provide essential background knowledge, especially for aspects that are not covered in the course. \n",
    "\n",
    "#### Mathematical foundations\n",
    "- [Vector Calculus, Linear Algebra, and Differential Forms: A Unified Approach (5th edition) by John and Barbara Burke Hubbard](https://www.amazon.com/Vector-Calculus-Linear-Algebra-Differential/dp/0971576688) provides the most complete source of information over calculus and linear algebra.\n",
    "- [Foundations of the Theory of Probability Paperback by A. N. Kolmogorov](https://www.york.ac.uk/depts/maths/histstat/kolmogorov_foundations.pdf) provides an in-depth and extensive formal presentation of all concepts required in prrobability\n",
    "- The amazing video series created by [3Blue1Brown]() provide an excellent starting point to understand basic concepts\n",
    "    - [Essence of linear algebra](https://www.youtube.com/playlist?list=PLZHQObOWTQDPD3MizzM2xVFitgF8hE_ab)\n",
    "    - [Essence of calculus](https://www.youtube.com/playlist?list=PLZHQObOWTQDMsr9K-rj53DwVRMYO3t5Yr)\n",
    "\n",
    "#### Machine Learning\n",
    "- [\"Pattern Recognition and Machine Learning\" by Christopher M. Bishop](https://www.microsoft.com/en-us/research/uploads/prod/2006/01/Bishop-Pattern-Recognition-and-Machine-Learning-2006.pdf) is the most valuable resource, providing an in-depth look at the mathematical foundations of various machine learning algorithms.\n",
    "- [\"The Mathematics of Machine Learning\" by Peter D. Grünwald, Elad Hazan, and Satyen Kale](https://arxiv.org/abs/1912.13230) offers an introduction to core concepts for understanding the mathematical basis of machine learning\n",
    "\n",
    "#### Deep learning\n",
    "- [\"Deep Learning\" by Ian Goodfellow, Yoshua Bengio, and Aaron Courville](https://www.deeplearningbook.org/) - *Provides solid foundation on deep learning concepts and techniques.*\n",
    "- [\"Generative Deep Learning\" by David Foster](https://www.oreilly.com/library/view/generative-deep-learning/9781492041931/) - Broader perspective on generative models and various generative techniques, including Variational Autoencoders (VAEs) and Generative Adversarial Networks (GANs)\n",
    "\n",
    "#### Audio processing\n",
    "- [\"The Scientist and Engineer's Guide to Digital Signal Processing\" by Steven W. Smith](http://www.dspguide.com/pdfbook.htm) is an excellent resource that covers the essential mathematical concepts behind digital signal processing.\n",
    "- [\"Music and Computers\" by Phil Burk, Larry Polansky, Douglas Repetto, and Mary Roberts](https://sites.music.columbia.edu/cmc/MusicAndComputers/) - *Starting point for understanding music theory and digital audio.*\n",
    "- [\"Audio Processing in Python\" by Allen Downey](http://greenteapress.com/thinkdsp/html/) - *Practical tutorials on audio processing in Python*\n",
    "\n"
   ]
  },
  {
   "cell_type": "code",
   "execution_count": null,
   "id": "998be827-78a7-47f7-9ca0-8fbaaed724e3",
   "metadata": {},
   "outputs": [],
   "source": []
  }
 ],
 "metadata": {
  "kernelspec": {
   "display_name": "Python 3 (ipykernel)",
   "language": "python",
   "name": "python3"
  },
  "language_info": {
   "codemirror_mode": {
    "name": "ipython",
    "version": 3
   },
   "file_extension": ".py",
   "mimetype": "text/x-python",
   "name": "python",
   "nbconvert_exporter": "python",
   "pygments_lexer": "ipython3",
   "version": "3.10.11"
  }
 },
 "nbformat": 4,
 "nbformat_minor": 5
}
